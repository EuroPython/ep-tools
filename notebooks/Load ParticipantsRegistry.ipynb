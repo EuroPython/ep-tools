{
 "cells": [
  {
   "cell_type": "markdown",
   "metadata": {},
   "source": [
    "## Introduction\n",
    "\n",
    "This is a intro on how to fill the PeopleRegistry with contact details of all the conference participants and their roles.\n",
    "This will be mostly to be able to produce the conference badges correctly and send emails."
   ]
  },
  {
   "cell_type": "code",
   "execution_count": 13,
   "metadata": {
    "collapsed": false
   },
   "outputs": [],
   "source": [
    "import io\n",
    "import json\n",
    "import os.path as op\n",
    "from itertools import chain\n",
    "from collections import defaultdict\n",
    "\n",
    "from eptools.people import (ParticipantsRegistry,\n",
    "                            fetch_ticket_profiles,\n",
    "                            contact_regex2,\n",
    "                            parse_contact,\n",
    "                            )\n",
    "\n",
    "from eptools.talks import (fetch_talks_json, \n",
    "                           get_speaker_type,\n",
    "                           get_talk_code,\n",
    "                           get_type_speakers,\n",
    "                          )"
   ]
  },
  {
   "cell_type": "code",
   "execution_count": 14,
   "metadata": {
    "collapsed": false
   },
   "outputs": [],
   "source": [
    "# declare the parameters\n",
    "fetch_data = False\n",
    "conf = 'ep2016'\n",
    "host = 'europython.io'\n",
    "\n",
    "talks_status   = 'proposed' # in the final this should be 'accepted'\n",
    "talks_json     = 'talks_with_votes.json'\n",
    "profiles_json  = 'profiles.json'\n",
    "organizers_txt = 'organizers.txt'\n",
    "volunteers_txt = 'volunteers.txt'\n",
    "epsmembers_txt = 'epsmembers.txt'"
   ]
  },
  {
   "cell_type": "code",
   "execution_count": 15,
   "metadata": {
    "collapsed": false
   },
   "outputs": [],
   "source": [
    "def flatten(listOfLists):\n",
    "    \"Flatten one level of nesting\"\n",
    "    return chain.from_iterable(listOfLists)\n",
    "\n",
    "\n",
    "def load_id_json(json_path):\n",
    "    return [item for eid, item in json.load(open(json_path)).items()]\n",
    "\n",
    "\n",
    "def read_lines(txt_file):\n",
    "    with io.open(txt_file, 'rt', encoding='utf-8') as f:\n",
    "        lines = f.readlines()\n",
    "    return [l.strip() for l in lines]\n",
    "\n",
    "\n",
    "def read_names(txt_file):\n",
    "    lines = read_lines(txt_file)\n",
    "    return [(name.split(' ')[0], ' '.join(name.split(' ')[1:])) for name in lines]\n",
    "\n",
    "\n",
    "def read_contacts(txt_file=organizers_txt):\n",
    "    return [parse_contact(line, regex=contact_regex2) for line in read_lines(txt_file)]"
   ]
  },
  {
   "cell_type": "code",
   "execution_count": 16,
   "metadata": {
    "collapsed": false
   },
   "outputs": [],
   "source": [
    "# fetch the data\n",
    "if fetch_data:\n",
    "    _ = fetch_ticket_profiles(profiles_json, conf=conf)\n",
    "    _ = fetch_talks_json     (talks_json,    conf=conf, status=talks_status, host=host, with_votes=True)"
   ]
  },
  {
   "cell_type": "code",
   "execution_count": 17,
   "metadata": {
    "collapsed": false
   },
   "outputs": [],
   "source": [
    "# load the data\n",
    "talks = {}\n",
    "people = load_id_json(profiles_json)\n",
    "type_talks = dict(json.load(open(talks_json)).items())\n",
    "_ = [talks.update(talkset) for ttype, talkset in type_talks.items()]"
   ]
  },
  {
   "cell_type": "code",
   "execution_count": 18,
   "metadata": {
    "collapsed": false
   },
   "outputs": [],
   "source": [
    "# speakers and trainers\n",
    "type_speakers = get_type_speakers(talks)"
   ]
  },
  {
   "cell_type": "code",
   "execution_count": 19,
   "metadata": {
    "collapsed": false
   },
   "outputs": [],
   "source": [
    "organizers = read_contacts(organizers_txt)\n",
    "volunteers = read_contacts(volunteers_txt)\n",
    "epsmembers = read_contacts(epsmembers_txt)"
   ]
  },
  {
   "cell_type": "code",
   "execution_count": 34,
   "metadata": {
    "collapsed": false
   },
   "outputs": [],
   "source": [
    "# build the cake\n",
    "pr = ParticipantsRegistry(people)"
   ]
  },
  {
   "cell_type": "code",
   "execution_count": 35,
   "metadata": {
    "collapsed": true
   },
   "outputs": [],
   "source": [
    "for stype, emails in type_speakers.items():\n",
    "    pr.set_people_role(emails, stype)"
   ]
  },
  {
   "cell_type": "code",
   "execution_count": 36,
   "metadata": {
    "collapsed": false
   },
   "outputs": [],
   "source": [
    "pr.set_people_role([p[2] for p in organizers], 'organizer')\n",
    "pr.set_people_role([p[2] for p in volunteers], 'volunteer')\n",
    "pr.set_people_role([p[2] for p in epsmembers], 'epsmember')"
   ]
  },
  {
   "cell_type": "code",
   "execution_count": 37,
   "metadata": {
    "collapsed": false
   },
   "outputs": [
    {
     "data": {
      "text/plain": [
       "['organizer', 'speaker', 'epsmember']"
      ]
     },
     "execution_count": 37,
     "metadata": {},
     "output_type": "execute_result"
    }
   ],
   "source": [
    "list(pr.get_roles_of('alexsavio@gmail.com'))"
   ]
  }
 ],
 "metadata": {
  "kernelspec": {
   "display_name": "Python 3",
   "language": "python",
   "name": "python3"
  },
  "language_info": {
   "codemirror_mode": {
    "name": "ipython",
    "version": 3
   },
   "file_extension": ".py",
   "mimetype": "text/x-python",
   "name": "python",
   "nbconvert_exporter": "python",
   "pygments_lexer": "ipython3",
   "version": "3.5.1"
  }
 },
 "nbformat": 4,
 "nbformat_minor": 0
}
