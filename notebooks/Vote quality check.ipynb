{
 "cells": [
  {
   "cell_type": "markdown",
   "metadata": {},
   "source": [
    "### Identify the users who downvote talks"
   ]
  },
  {
   "cell_type": "code",
   "execution_count": null,
   "metadata": {
    "collapsed": true
   },
   "outputs": [],
   "source": [
    "import json\n",
    "\n",
    "from eptools.people import fetch_users"
   ]
  },
  {
   "cell_type": "code",
   "execution_count": null,
   "metadata": {
    "collapsed": true
   },
   "outputs": [],
   "source": [
    "fetch_data = False\n",
    "talks_json = 'talks_with_votes.json'\n",
    "users_json = 'users.json'\n",
    "talks      = {}"
   ]
  },
  {
   "cell_type": "code",
   "execution_count": null,
   "metadata": {
    "collapsed": true
   },
   "outputs": [],
   "source": [
    "if fetch_data:\n",
    "    _ = fetch_users     (users_json)\n",
    "    _ = fetch_talks_json(talks_json, conf=conf, status=talks_status, host=host, with_votes=True)"
   ]
  },
  {
   "cell_type": "code",
   "execution_count": null,
   "metadata": {
    "collapsed": false
   },
   "outputs": [],
   "source": [
    "users      = dict(json.load(open(users_json)).items())\n",
    "type_talks = dict(json.load(open(talks_json)).items())\n",
    "_ = [talks.update(talkset) for ttype, talkset in type_talks.items()]"
   ]
  },
  {
   "cell_type": "code",
   "execution_count": null,
   "metadata": {
    "collapsed": false
   },
   "outputs": [],
   "source": [
    "low_vote   = 3.0\n",
    "low_voters = set()\n",
    "\n",
    "for tid, talk in talks.items():\n",
    "    talk_low_voters = [uid for pair in talk['user_votes'] for uid, v in pair.items() if v < low_vote]\n",
    "    low_voters |= set(talk_low_voters)"
   ]
  },
  {
   "cell_type": "code",
   "execution_count": null,
   "metadata": {
    "collapsed": false
   },
   "outputs": [],
   "source": [
    "_ = [print(users[uid]['email']) for uid in low_voters]"
   ]
  }
 ],
 "metadata": {
  "kernelspec": {
   "display_name": "Python 3",
   "language": "python",
   "name": "python3"
  },
  "language_info": {
   "codemirror_mode": {
    "name": "ipython",
    "version": 3
   },
   "file_extension": ".py",
   "mimetype": "text/x-python",
   "name": "python",
   "nbconvert_exporter": "python",
   "pygments_lexer": "ipython3",
   "version": "3.5.1"
  }
 },
 "nbformat": 4,
 "nbformat_minor": 0
}
