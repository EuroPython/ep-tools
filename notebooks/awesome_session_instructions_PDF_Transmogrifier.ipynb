{
 "cells": [
  {
   "cell_type": "markdown",
   "metadata": {},
   "source": [
    "\n",
    "# EuroPython 2016 session instructions TRANSMOGRIFIER"
   ]
  },
  {
   "cell_type": "markdown",
   "metadata": {},
   "source": [
    "![Alt text](calvin.gif)"
   ]
  },
  {
   "cell_type": "markdown",
   "metadata": {},
   "source": [
    "# Session Chair Information\n",
    "\n",
    "## Before your session\n",
    "\n",
    "1. Plan to be in the talk room at least **10 minutes** before your session.\n",
    "2. **Double check** that you have the **schedule** with you.\n",
    "3. Walk to your room.\n",
    "4. **Check** if there is spare water bottles for the speakers and video adaptors. If something is missing kindly ask the room manager to pick it.\n",
    "5. Reach for the next speaker.\n",
    "\n",
    "## For Each Talk\n",
    "\n",
    "1. Ask the speaker how they would like to be introduced, and double check that you know how to pronounce their name.\n",
    "2. Ask the speaker about their Q&A preference (see options below) and how they want to be announced of the last 10 or 5 minutes of talk.\n",
    "3. **Make sure the talk starts on time!** At the talk's scheduled start time, get up on stage, get the microphone, make eye contact with the A/V crew to get their go-ahead, the introduce the speaker.\n",
    "4. **Watch the clock.** Announce the speaker that their talk is about to finish, they way you agreed.\n",
    "5. **Two minutes before the talk's scheduled end time**, if it doesn't seem like the speaker is going to stop on their own, quietly get up and stand to the side of the stage. Be ready to interrupt them if they do not finish on time: \"I'm very sorry but our time is almost up.\", \"Can I suggest continuing in an open space?\", or \"Let's move on to Q&A.\".\n",
    "6. If the speaker requested **Q&A, stand beside the microphone to help moderate** (see section below).\n",
    "7. When the speaker is finished: start the applause, then stand up and thank them.\n",
    "\n",
    "## After Your Session\n",
    "\n",
    "1. Go tell the coordinator or anyone in the reception desk that you finished your session.\n",
    "\n",
    "\n",
    "## Q&A\n",
    "\n",
    "Speakers might have different preferences on how they want to Q&A session to be. Please ask them. Here go 3 examples:\n",
    "1. No questions; they will speak for the duration of their talk then leave.\n",
    "2. Take a session-chair-moderated questions for the last 5 minutes of the timeslot.\n",
    "\n",
    "\n",
    "## If You Have Any Problems\n",
    "\n",
    "If you have any problems, concerns, or questions, try to contact someone on the `europython-volunteers` Telegram channel (http://bit.ly/28QF0FM).\n",
    "\n",
    "Otherwise you can contact:\n",
    "1. Christian Barra: barrachris@gmail.com / @christianbarra\n",
    "2. Alexandre Savio: +34630555357 / alexsavio@gmail.com / @alexsavio\n",
    "3. TODO Add someone else with a phone number\n",
    "4. Any conference staff member.\n",
    "\n",
    "\n",
    "## Moderating Q&A\n",
    "\n",
    "To moderate a Q&A section, please:\n",
    "\n",
    "1. Step up to the audience mic and say (something to the effect of): \"Thank you {speaker}! We've got a few minutes for questions now\".\n",
    "2. Kindly ask the speaker to repeat the question once they heard it.\n",
    "3. Questions should be kept short. If the discussion is taking too long (2 minutes), kindly ask to discuss after the talk and reach for the following question, if any."
   ]
  },
  {
   "cell_type": "code",
   "execution_count": 143,
   "metadata": {
    "ExecuteTime": {
     "end_time": "2016-06-23T23:46:27.053435",
     "start_time": "2016-06-23T23:46:27.042923"
    },
    "collapsed": false
   },
   "outputs": [
    {
     "data": {
      "application/javascript": [
       "IPython.OutputArea.auto_scroll_threshold = 99999;\n",
       "//increase max size of output area"
      ],
      "text/plain": [
       "<IPython.core.display.Javascript object>"
      ]
     },
     "metadata": {},
     "output_type": "display_data"
    }
   ],
   "source": [
    "%%javascript\n",
    "IPython.OutputArea.auto_scroll_threshold = 99999;\n",
    "//increase max size of output area"
   ]
  },
  {
   "cell_type": "code",
   "execution_count": 144,
   "metadata": {
    "ExecuteTime": {
     "end_time": "2016-06-23T23:46:27.248653",
     "start_time": "2016-06-23T23:46:27.238565"
    },
    "collapsed": false
   },
   "outputs": [],
   "source": [
    "import json\n",
    "import datetime as dt\n",
    "import pdfkit as pd\n",
    "from   operator import itemgetter\n",
    "from collections import OrderedDict\n",
    "from operator import itemgetter\n",
    "\n",
    "from IPython.display import display, HTML\n",
    "from nbconvert.filters.markdown import markdown2html"
   ]
  },
  {
   "cell_type": "code",
   "execution_count": 145,
   "metadata": {
    "ExecuteTime": {
     "end_time": "2016-06-23T23:46:27.431983",
     "start_time": "2016-06-23T23:46:27.414679"
    },
    "collapsed": false
   },
   "outputs": [],
   "source": [
    "talk_sessions = json.load(open('accepted_talks.json'))\n",
    "talks_admin_url = 'https://ep2016.europython.eu/admin/conference/talk'"
   ]
  },
  {
   "cell_type": "code",
   "execution_count": 146,
   "metadata": {
    "ExecuteTime": {
     "end_time": "2016-06-23T23:46:27.640851",
     "start_time": "2016-06-23T23:46:27.583638"
    },
    "collapsed": false
   },
   "outputs": [],
   "source": [
    "show = lambda s: display(HTML(s))\n",
    "\n",
    "def ordinal(n):\n",
    "    if 10 <= n % 100 < 20:\n",
    "        return str(n) + 'th'\n",
    "    else:\n",
    "        return  str(n) + {1 : 'st', 2 : 'nd', 3 : 'rd'}.get(n % 10, \"th\")\n",
    "\n",
    "\n",
    "def talk_schedule(start, end):\n",
    "    input_format  = \"%Y-%m-%d %H:%M:%S\"\n",
    "    output_format_day = \"%A, %B\"\n",
    "    output_format_time = \"%H:%M\"\n",
    "    \n",
    "    output_date = lambda d: \"{} {} at {}\".format(d.strftime(output_format_day), \n",
    "                                                 ordinal(int(d.strftime('%d'))),\n",
    "                                                 d.strftime(output_format_time))\n",
    "    start_date = dt.datetime.strptime(start, input_format)\n",
    "    end_date   = dt.datetime.strptime(end  , input_format)\n",
    "\n",
    "    return output_date(start_date), output_date(end_date)\n",
    "\n",
    "\n",
    "def show_talk(talk, show_duration=True, show_link_to_admin=True):\n",
    "    \n",
    "    speakers  = talk['speakers']\n",
    "    title     = talk['title']\n",
    "    abstract  = talk['abstract_long'][0]\n",
    "    room      = talk.get('track_title', '').split(', ')[0]\n",
    "    timerange = talk.get('timerange', '').split(';')[0]\n",
    "    \n",
    "    pdf = ''\n",
    "    pdf += '<h2>{}</h2>\\n'.format(title)\n",
    "    \n",
    "    if show_link_to_admin:\n",
    "        pdf += talks_admin_url + '/{}'.format(talk['id'])\n",
    "        pdf += '<a href={0}>{0}</a>\\n'.format(talk_admin_url)\n",
    "    \n",
    "    if show_duration:\n",
    "        pdf += '{} mins.'.format(talk['duration'])\n",
    "    else:\n",
    "        pdf += ''\n",
    "\n",
    "    timerange = talk['timerange'].split(';')[0]\n",
    "    try:\n",
    "        start, end = talk_schedule(*timerange.split(', '))\n",
    "    except:\n",
    "        start, end = ('', '')\n",
    "\n",
    "    if start:\n",
    "        pdf += '<p>'\n",
    "        pdf += '{} in {}'.format(start, room)\n",
    "        if show_duration:\n",
    "            pdf += ' ({})'.format(duration)\n",
    "        pdf += '</p>\\n'\n",
    "\n",
    "        #show(schedule)\n",
    "    \n",
    "    pdf += '<h3><i>{}</i></h2>\\n'.format(speakers)\n",
    "    pdf += '<p>{}</p>\\n'.format(markdown2html(abstract))\n",
    "    pdf += '<br/>\\n'\n",
    "    return pdf"
   ]
  },
  {
   "cell_type": "code",
   "execution_count": 147,
   "metadata": {
    "ExecuteTime": {
     "end_time": "2016-06-23T23:46:27.749081",
     "start_time": "2016-06-23T23:46:27.733324"
    },
    "collapsed": false
   },
   "outputs": [],
   "source": [
    "#session_names = ['Keynotes', 'Talks', 'Trainings', 'Help desks',\n",
    "#                 'EuroPython sessions', 'Other sessions', 'Poster sessions']\n",
    "\n",
    "session_names = [('Keynote',            'Keynotes'),\n",
    "                 ('talk',               'Talks'),\n",
    "                 ('training',           'Tutorials'), \n",
    "                 ('poster',             'Posters'),\n",
    "                 ('helpdesk',           'Helpdesks'),\n",
    "                 ('EPS session',        'EuroPython Society Sessions'),\n",
    "                 ('Recruiting session', 'Recruiting'),\n",
    "                 ('interactive',        'Interactive sessions'),\n",
    "                 ('Reserved slot',      'TALKS'),\n",
    "                 ('Lightning talk',     'TALKS'),\n",
    "                 ('Closing session',    'Closing session'),                 \n",
    "                ]\n",
    "session_names = OrderedDict(session_names)"
   ]
  },
  {
   "cell_type": "code",
   "execution_count": 148,
   "metadata": {
    "ExecuteTime": {
     "end_time": "2016-06-23T23:51:04.195936",
     "start_time": "2016-06-23T23:51:04.170495"
    },
    "collapsed": false
   },
   "outputs": [],
   "source": [
    "sessions_talks = OrderedDict()\n",
    "\n",
    "# remove the IDs from the talks\n",
    "for name, sess in talk_sessions.items():\n",
    "    sessions_talks[name] = [talk for tid, talk in sess.items()]\n",
    "\n",
    "\n",
    "# add 'start' time for each talk\n",
    "for name, talks in sessions_talks.items():\n",
    "    for talk in talks:\n",
    "        tr = talk['timerange']\n",
    "        if not tr:\n",
    "            talk['start'] = dt.datetime.now()\n",
    "        else:\n",
    "            talk['start'] = dt.datetime.strptime(tr.split(',')[0].strip(), \"%Y-%m-%d %H:%M:%S\")\n",
    "\n",
    "# sort by\n",
    "keys = ('start', 'track_title')\n",
    "\n",
    "for sess, talks in sessions_talks.items():\n",
    "    sessions_talks[sess] = sorted(talks, key=itemgetter(*keys))\n",
    "    \n",
    "# get weekdays\n",
    "#for talktype, talks in sessions_talks.items():???"
   ]
  },
  {
   "cell_type": "code",
   "execution_count": 149,
   "metadata": {
    "ExecuteTime": {
     "end_time": "2016-06-12T19:54:47.418444",
     "start_time": "2016-06-12T19:54:46.181375"
    },
    "collapsed": false
   },
   "outputs": [
    {
     "ename": "TypeError",
     "evalue": "descriptor 'weekday' of 'datetime.date' object needs an argument",
     "output_type": "error",
     "traceback": [
      "\u001b[1;31m---------------------------------------------------------------------------\u001b[0m",
      "\u001b[1;31mTypeError\u001b[0m                                 Traceback (most recent call last)",
      "\u001b[1;32m<ipython-input-149-409b9bccbf24>\u001b[0m in \u001b[0;36m<module>\u001b[1;34m()\u001b[0m\n\u001b[0;32m      1\u001b[0m \u001b[1;32mfor\u001b[0m \u001b[0mtalktype\u001b[0m\u001b[1;33m,\u001b[0m \u001b[0mtalks\u001b[0m \u001b[1;32min\u001b[0m \u001b[0msessions_talks\u001b[0m\u001b[1;33m.\u001b[0m\u001b[0mitems\u001b[0m\u001b[1;33m(\u001b[0m\u001b[1;33m)\u001b[0m\u001b[1;33m:\u001b[0m\u001b[1;33m\u001b[0m\u001b[0m\n\u001b[0;32m      2\u001b[0m     \u001b[0mheader\u001b[0m \u001b[1;33m=\u001b[0m \u001b[1;34m''\u001b[0m\u001b[1;33m\u001b[0m\u001b[0m\n\u001b[1;32m----> 3\u001b[1;33m     \u001b[0msession_name\u001b[0m \u001b[1;33m=\u001b[0m \u001b[1;34m'Session {} {} {}'\u001b[0m\u001b[1;33m.\u001b[0m\u001b[0mformat\u001b[0m\u001b[1;33m(\u001b[0m\u001b[0mdt\u001b[0m\u001b[1;33m.\u001b[0m\u001b[0mdatetime\u001b[0m\u001b[1;33m.\u001b[0m\u001b[0mweekday\u001b[0m\u001b[1;33m(\u001b[0m\u001b[1;33m)\u001b[0m\u001b[1;33m)\u001b[0m \u001b[1;31m# needs an argment 0o'\u001b[0m\u001b[1;33m\u001b[0m\u001b[0m\n\u001b[0m\u001b[0;32m      4\u001b[0m     \u001b[0mheader\u001b[0m \u001b[1;33m+=\u001b[0m \u001b[1;34m'Session {} {} {}\\n'\u001b[0m\u001b[1;33m.\u001b[0m\u001b[0mformat\u001b[0m\u001b[1;33m(\u001b[0m\u001b[0mdt\u001b[0m\u001b[1;33m.\u001b[0m\u001b[0mdatetime\u001b[0m\u001b[1;33m.\u001b[0m\u001b[0mweekday\u001b[0m\u001b[1;33m(\u001b[0m\u001b[1;33m)\u001b[0m\u001b[1;33m)\u001b[0m\u001b[1;33m\u001b[0m\u001b[0m\n\u001b[0;32m      5\u001b[0m     \u001b[0mheader\u001b[0m \u001b[1;33m+=\u001b[0m \u001b[1;34m'<h1>{}</h1>\\n'\u001b[0m\u001b[1;33m.\u001b[0m\u001b[0mformat\u001b[0m\u001b[1;33m(\u001b[0m\u001b[1;34m'Session '\u001b[0m\u001b[1;33m)\u001b[0m\u001b[1;33m\u001b[0m\u001b[0m\n",
      "\u001b[1;31mTypeError\u001b[0m: descriptor 'weekday' of 'datetime.date' object needs an argument"
     ]
    }
   ],
   "source": [
    "for talktype, talks in sessions_talks.items():\n",
    "    header = ''\n",
    "    session_name = 'Session {} {} {}'.format(dt.datetime.weekday()) # needs an argment 0o'\n",
    "    header += 'Session {} {} {}\\n'.format(dt.datetime.weekday())\n",
    "    header += '<h1>{}</h1>\\n'.format('Session ')\n",
    "    \n",
    "    to_pdf = header\n",
    "    \n",
    "    talks = talk_sessions[key] # I don't know where this 'key' came from\n",
    "    talks = [talks[talk_id] for talk_id in talks]\n",
    "    talks = sorted(talks, key=itemgetter('title'))\n",
    "    \n",
    "    for talk in talks:\n",
    "        room = talk.get('track_title', '').split(', ')[0]\n",
    "        to_pdf += show_talk(talk, show_duration=False, show_link_to_admin=False)\n",
    "        \n",
    "    pd.from_string(to_pdf, \"session_pdfs/\"+ session_name +\".pdf\")"
   ]
  }
 ],
 "metadata": {
  "kernelspec": {
   "display_name": "Python 3",
   "language": "python",
   "name": "python3"
  },
  "language_info": {
   "codemirror_mode": {
    "name": "ipython",
    "version": 3
   },
   "file_extension": ".py",
   "mimetype": "text/x-python",
   "name": "python",
   "nbconvert_exporter": "python",
   "pygments_lexer": "ipython3",
   "version": "3.4.3"
  },
  "latex_envs": {
   "bibliofile": "biblio.bib",
   "cite_by": "apalike",
   "current_citInitial": 1,
   "eqLabelWithNumbers": true,
   "eqNumInitial": 0
  },
  "widgets": {
   "state": {},
   "version": "1.1.2"
  }
 },
 "nbformat": 4,
 "nbformat_minor": 0
}
