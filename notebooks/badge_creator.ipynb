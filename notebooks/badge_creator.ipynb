{
 "cells": [
  {
   "cell_type": "code",
   "execution_count": null,
   "metadata": {
    "ExecuteTime": {
     "end_time": "2017-06-16T21:06:39.115023Z",
     "start_time": "2017-06-16T21:06:38.951334Z"
    },
    "collapsed": true
   },
   "outputs": [],
   "source": [
    "import shutil\n",
    "import os\n",
    "import os.path as op\n",
    "from collections import OrderedDict\n",
    "\n",
    "from eptools.people import (get_profiles_registry,\n",
    "                            fetch_profiles_files,\n",
    "                            contact_from_dict)\n",
    "\n",
    "from eptools.badges.factory import (BadgeFactory, \n",
    "                                    get_badge_role,\n",
    "                                    prepare_badge_pdf,\n",
    "                                    get_badge_template_file)"
   ]
  },
  {
   "cell_type": "code",
   "execution_count": null,
   "metadata": {
    "ExecuteTime": {
     "end_time": "2017-06-16T21:06:40.073067Z",
     "start_time": "2017-06-16T21:06:40.055027Z"
    }
   },
   "outputs": [],
   "source": [
    "#INKSCAPE_BINPATH = '/Applications/Inkscape.app/Contents/Resources/bin/inkscape-bin'\n",
    "\n",
    "output_dir = op.expanduser('/vagrant/eps_badges2')\n",
    "os.makedirs(output_dir, exist_ok=True)\n",
    "\n",
    "CURRENT_EUROPYTHON_FIRST_TICKET_ID = 3732\n",
    "\n",
    "factory = BadgeFactory(output_dir)"
   ]
  },
  {
   "cell_type": "code",
   "execution_count": null,
   "metadata": {
    "ExecuteTime": {
     "end_time": "2017-06-16T21:06:53.679012Z",
     "start_time": "2017-06-16T21:06:40.668437Z"
    }
   },
   "outputs": [],
   "source": [
    "fetch_data = False\n",
    "\n",
    "# fetch the data from the DB\n",
    "if fetch_data:\n",
    "    profiles_file, talks_file = fetch_profiles_files()\n",
    "    print(profiles_file, talks_file)"
   ]
  },
  {
   "cell_type": "code",
   "execution_count": null,
   "metadata": {
    "ExecuteTime": {
     "end_time": "2016-07-14T14:55:30.363979",
     "start_time": "2016-07-14T14:55:30.337151"
    }
   },
   "outputs": [],
   "source": [
    "def create_badge(contact, roles, factory):\n",
    "\n",
    "    # create the SVG file\n",
    "    svg_file = factory.generate_badge_svg(contact, roles)\n",
    "\n",
    "    # convert the SVG to PDF\n",
    "    pdf_file = prepare_badge_pdf(svg_file, doublepages=False)\n",
    "\n",
    "    # make both badge faces and save the result in its place\n",
    "    outdir = op.join(factory.out_dir, get_badge_role(roles).name)\n",
    "    os.makedirs(outdir, exist_ok=True)\n",
    "    \n",
    "    return outdir, pdf_file\n",
    "\n",
    "\n",
    "import hashlib\n",
    "\n",
    "def file_cmp(file1, file2, hash_func=hashlib.sha224):\n",
    "    os.utime(file1)\n",
    "    os.utime(file2) # touch\n",
    "    \n",
    "    hash1 = hash_func(open(file1, 'rb').read()).hexdigest()\n",
    "    hash2 = hash_func(open(file2, 'rb').read()).hexdigest()\n",
    "    return hash1 == hash2"
   ]
  },
  {
   "cell_type": "code",
   "execution_count": null,
   "metadata": {
    "ExecuteTime": {
     "end_time": "2016-07-14T14:55:29.915147",
     "start_time": "2016-07-14T14:55:29.884079"
    }
   },
   "outputs": [],
   "source": [
    "# load and prepared the profiles\n",
    "profiles = get_profiles_registry()"
   ]
  },
  {
   "cell_type": "code",
   "execution_count": null,
   "metadata": {
    "ExecuteTime": {
     "end_time": "2016-07-14T15:13:49.729524",
     "start_time": "2016-07-14T14:55:31.342197"
    },
    "scrolled": true
   },
   "outputs": [],
   "source": [
    "new_badges = []\n",
    "for profile in profiles:\n",
    "   \n",
    "    if profile.pop('frozen'):\n",
    "        continue\n",
    "\n",
    "    if profile['id'] < CURRENT_EUROPYTHON_FIRST_TICKET_ID:\n",
    "        continue\n",
    "    \n",
    "    contact = contact_from_dict(profile)\n",
    "\n",
    "    roles   = list(profiles.get_roles_of(contact.email, \n",
    "                                         name=contact.name, \n",
    "                                         surname=contact.surname))\n",
    "       \n",
    "    outdir, pdf_file = create_badge(contact, roles, factory)\n",
    "    \n",
    "    result_file = op.join(outdir, op.basename(pdf_file))\n",
    "\n",
    "    move = False\n",
    "    #if op.exists(result_file):\n",
    "    #    if not file_cmp(pdf_file, result_file): # not equal\n",
    "    #        move = True\n",
    "    #else:\n",
    "    #    move = True\n",
    "    if not op.exists(result_file):\n",
    "        move = True\n",
    "\n",
    "    if move:\n",
    "        _ = shutil.move(pdf_file, result_file)\n",
    "        new_badges.append(result_file)\n",
    "        print(' ✓')\n",
    "    else:\n",
    "        print(' X')"
   ]
  },
  {
   "cell_type": "code",
   "execution_count": null,
   "metadata": {},
   "outputs": [],
   "source": [
    "import subprocess\n",
    "from glob import glob\n",
    "from itertools import zip_longest\n",
    "\n",
    "def grouper(iterable, n, fillvalue=None):\n",
    "    \"Collect data into fixed-length chunks or blocks\"\n",
    "    # grouper('ABCDEFG', 3, 'x') --> ABC DEF Gxx\"\n",
    "    args = [iter(iterable)] * n\n",
    "    return zip_longest(*args, fillvalue=fillvalue)"
   ]
  },
  {
   "cell_type": "code",
   "execution_count": null,
   "metadata": {},
   "outputs": [],
   "source": [
    "len(list(grouper(badge_files, 4)))"
   ]
  },
  {
   "cell_type": "code",
   "execution_count": null,
   "metadata": {},
   "outputs": [],
   "source": [
    "badge_files = glob(op.join(output_dir, 'out', '**', '*.pdf'))\n",
    "\n",
    "cmd = 'pdfjam {input} --nup 2x2 --papersize \"{{23cm,33cm}}\" --noautoscale true -o {output}'\n",
    "\n",
    "output_template = op.join(output_dir, 'to_print', 'profiles', 'ep2017_badges_{}.pdf')\n",
    "\n",
    "for idx, badges in enumerate(grouper(badge_files, 1, fillvalue='')):\n",
    "    \n",
    "    output = output_template.format(idx)\n",
    "    \n",
    "    make_badge = cmd.format(input=' '.join(badges), output=output)\n",
    "    \n",
    "    print(make_badge)\n",
    "    subprocess.call(make_badge, shell=True)"
   ]
  },
  {
   "cell_type": "code",
   "execution_count": null,
   "metadata": {},
   "outputs": [],
   "source": [
    "badge_files = glob(op.join(output_dir, 'out', '**', '*.pdf'))\n",
    "\n",
    "cmd = 'pdfjam {input} --nup 1x1 --doublepages true --papersize \"{{23cm,33cm}}\" --noautoscale true -o {output}'\n",
    "\n",
    "output_template = op.join(output_dir, 'to_print_1x1_big', 'profiles', '{}')\n",
    "\n",
    "for idx, badge in enumerate(badge_files): \n",
    "    \n",
    "    output = output_template.format(op.basename(badge))\n",
    "    \n",
    "    make_badge = cmd.format(input=badge, output=output)\n",
    "    \n",
    "    print(make_badge)\n",
    "    subprocess.call(make_badge, shell=True)"
   ]
  },
  {
   "cell_type": "code",
   "execution_count": null,
   "metadata": {},
   "outputs": [],
   "source": [
    "badge_files = glob('/home/alexandre/Projects/ep-tools/eptools/badges/data/ep2017/blanks/*.pdf')\n",
    "\n",
    "cmd = 'pdfjam {input} --nup 1x1 --doublepages true --papersize \"{{23cm,33cm}}\" --noautoscale true -o {output}'\n",
    "\n",
    "output_template = op.join(output_dir, 'to_print_1x1_big', 'blanks', '{}')\n",
    "\n",
    "for idx, badge in enumerate(badge_files): \n",
    "    \n",
    "    output = output_template.format(op.basename(badge))\n",
    "    \n",
    "    make_badge = cmd.format(input=badge, output=output)\n",
    "    \n",
    "    print(make_badge)\n",
    "    subprocess.call(make_badge, shell=True)"
   ]
  },
  {
   "cell_type": "code",
   "execution_count": null,
   "metadata": {},
   "outputs": [],
   "source": []
  }
 ],
 "metadata": {
  "kernelspec": {
   "display_name": "Python 3",
   "language": "python",
   "name": "python3"
  },
  "language_info": {
   "codemirror_mode": {
    "name": "ipython",
    "version": 3
   },
   "file_extension": ".py",
   "mimetype": "text/x-python",
   "name": "python",
   "nbconvert_exporter": "python",
   "pygments_lexer": "ipython3",
   "version": "3.6.2"
  },
  "latex_envs": {
   "bibliofile": "biblio.bib",
   "cite_by": "apalike",
   "current_citInitial": 1,
   "eqLabelWithNumbers": true,
   "eqNumInitial": 0
  },
  "toc": {
   "toc_cell": false,
   "toc_number_sections": true,
   "toc_section_display": "block",
   "toc_threshold": 6,
   "toc_window_display": false
  },
  "widgets": {
   "state": {},
   "version": "1.1.2"
  }
 },
 "nbformat": 4,
 "nbformat_minor": 1
}
