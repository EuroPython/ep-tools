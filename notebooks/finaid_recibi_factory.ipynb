{
 "cells": [
  {
   "cell_type": "markdown",
   "metadata": {},
   "source": [
    "# EuroPython 2015 Financial Aid RECIBI factory\n",
    "\n",
    "Spreadsheet: https://docs.google.com/spreadsheets/d/1-T8o4Twh3OLvPX_Sv5L1-NeEyTuhYltsULicGFbB4YI/edit#gid=1784691601"
   ]
  },
  {
   "cell_type": "code",
   "execution_count": null,
   "metadata": {
    "collapsed": false
   },
   "outputs": [],
   "source": [
    "%%javascript\n",
    "IPython.OutputArea.auto_scroll_threshold = 99999;\n",
    "//increase max size of output area"
   ]
  },
  {
   "cell_type": "markdown",
   "metadata": {},
   "source": [
    "## Connection"
   ]
  },
  {
   "cell_type": "code",
   "execution_count": null,
   "metadata": {
    "collapsed": true
   },
   "outputs": [],
   "source": [
    "from   collections import OrderedDict"
   ]
  },
  {
   "cell_type": "code",
   "execution_count": null,
   "metadata": {
    "collapsed": true
   },
   "outputs": [],
   "source": [
    "import json\n",
    "import gspread\n",
    "from   oauth2client.client import SignedJwtAssertionCredentials\n",
    "\n",
    "json_key = json.load(open('google_api_key.json'))\n",
    "scope = [\"https://spreadsheets.google.com/feeds\"]\n",
    "sheetdoc_key = \"1--NeEyTuhYltsULicGFbB4YI\""
   ]
  },
  {
   "cell_type": "code",
   "execution_count": null,
   "metadata": {
    "collapsed": true
   },
   "outputs": [],
   "source": [
    "# authenticate\n",
    "credentials = SignedJwtAssertionCredentials(json_key[\"client_email\"], json_key[\"private_key\"].encode(\"utf-8\"), scope)\n",
    "gc = gspread.authorize(credentials)"
   ]
  },
  {
   "cell_type": "markdown",
   "metadata": {},
   "source": [
    "## Read data"
   ]
  },
  {
   "cell_type": "code",
   "execution_count": null,
   "metadata": {
    "collapsed": true
   },
   "outputs": [],
   "source": [
    "#Go to Google Sheets and share your spreadsheet with an email you have in your json_key['client_email']. \n",
    "#Otherwise you’ll get a SpreadsheetNotFound exception when trying to open it.\n",
    "doc = gc.open_by_key(sheetdoc_key)\n",
    "wks = doc.get_worksheet(1)"
   ]
  },
  {
   "cell_type": "code",
   "execution_count": null,
   "metadata": {
    "collapsed": true
   },
   "outputs": [],
   "source": [
    "def get_rows_data(wks, header='', start_row=1):\n",
    "    all_rows = wks.get_all_values()\n",
    "    if not header:\n",
    "        header = all_rows[0]\n",
    "\n",
    "    #print(list(zip(header, all_rows)))\n",
    "    #[dict(zip(header, values)) for values in all_rows[1:]]\n",
    "    return [dict(zip(header, values)) for values in all_rows[start_row:]]"
   ]
  },
  {
   "cell_type": "code",
   "execution_count": null,
   "metadata": {
    "collapsed": true
   },
   "outputs": [],
   "source": [
    "header = ['full_name', 'amount', 'amount_script', 'expense_docs', 'address']\n",
    "data = get_rows_data(wks, header=header)"
   ]
  },
  {
   "cell_type": "markdown",
   "metadata": {},
   "source": [
    "## Show information"
   ]
  },
  {
   "cell_type": "code",
   "execution_count": null,
   "metadata": {
    "collapsed": false
   },
   "outputs": [],
   "source": [
    "import pandas as pd\n",
    "df = pd.DataFrame(data)\n",
    "df"
   ]
  },
  {
   "cell_type": "markdown",
   "metadata": {},
   "source": [
    "## Generate CSV file"
   ]
  },
  {
   "cell_type": "code",
   "execution_count": null,
   "metadata": {
    "collapsed": true
   },
   "outputs": [],
   "source": [
    "doclist_items = lambda row: '\\n'.join(['\\item {}'.format(doc) for doc in row['expense_docs'].split('\\n')])\n",
    "itemize_doclist = lambda row: '{}\\n{}\\n{}'.format('\\\\begin{enumerate}', doclist_items(row), '\\\\end{enumerate}')\n",
    "\n",
    "df['expense_docs'] = df.apply(itemize_doclist, axis=1)"
   ]
  },
  {
   "cell_type": "code",
   "execution_count": null,
   "metadata": {
    "collapsed": true
   },
   "outputs": [],
   "source": [
    "responses_filepath = 'finaid_recibis.csv'\n",
    "df.to_csv(responses_filepath)"
   ]
  },
  {
   "cell_type": "code",
   "execution_count": null,
   "metadata": {
    "collapsed": true
   },
   "outputs": [],
   "source": [
    "row_idx = 4\n",
    "\n",
    "template_filepath  = 'acpyss_recibi_spa.tex'\n",
    "fileid_field       = 'full_name'\n",
    "row_id             = data[row_idx][fileid_field].replace(' ', '_')"
   ]
  },
  {
   "cell_type": "code",
   "execution_count": null,
   "metadata": {
    "collapsed": false
   },
   "outputs": [],
   "source": [
    "!docstamp -i $responses_filepath -t $template_filepath -f $fileid_field -c xelatex --idx $row_idx -v"
   ]
  },
  {
   "cell_type": "code",
   "execution_count": null,
   "metadata": {
    "collapsed": true
   },
   "outputs": [],
   "source": [
    "!open stamped/acpyss_recibi_spa.tex_FernandoMasanoriAshikaga.pdf"
   ]
  },
  {
   "cell_type": "code",
   "execution_count": null,
   "metadata": {
    "collapsed": true
   },
   "outputs": [],
   "source": []
  }
 ],
 "metadata": {
  "kernelspec": {
   "display_name": "Python 3",
   "language": "python",
   "name": "python3"
  },
  "language_info": {
   "codemirror_mode": {
    "name": "ipython",
    "version": 3
   },
   "file_extension": ".py",
   "mimetype": "text/x-python",
   "name": "python",
   "nbconvert_exporter": "python",
   "pygments_lexer": "ipython3",
   "version": "3.5.1"
  }
 },
 "nbformat": 4,
 "nbformat_minor": 0
}
