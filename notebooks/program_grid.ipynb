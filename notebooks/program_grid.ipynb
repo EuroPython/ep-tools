{
 "cells": [
  {
   "cell_type": "markdown",
   "metadata": {},
   "source": [
    "# EuroPython program grid"
   ]
  },
  {
   "cell_type": "code",
   "execution_count": 86,
   "metadata": {
    "collapsed": false
   },
   "outputs": [
    {
     "data": {
      "application/javascript": [
       "IPython.OutputArea.auto_scroll_threshold = 99999;\n",
       "//increase max size of output area"
      ],
      "text/plain": [
       "<IPython.core.display.Javascript object>"
      ]
     },
     "metadata": {},
     "output_type": "display_data"
    }
   ],
   "source": [
    "%%javascript\n",
    "IPython.OutputArea.auto_scroll_threshold = 99999;\n",
    "//increase max size of output area"
   ]
  },
  {
   "cell_type": "code",
   "execution_count": 87,
   "metadata": {
    "collapsed": true
   },
   "outputs": [],
   "source": [
    "import json\n",
    "import datetime as dt\n",
    "from random import choice, randrange, shuffle\n",
    "from copy import deepcopy\n",
    "from itertools import zip_longest\n",
    "from functools import partial\n",
    "from operator import itemgetter\n",
    "\n",
    "from IPython.display import display, HTML\n",
    "show = lambda s: display(HTML(s))"
   ]
  },
  {
   "cell_type": "code",
   "execution_count": 88,
   "metadata": {
    "collapsed": true
   },
   "outputs": [],
   "source": [
    "talk_sessions = json.load(open('accepted_talks.json'))\n",
    "\n",
    "#all talks\n",
    "all_talks = []\n",
    "for s in talk_sessions.values():\n",
    "    all_talks.extend(list(s.values()))"
   ]
  },
  {
   "cell_type": "code",
   "execution_count": 89,
   "metadata": {
    "collapsed": false
   },
   "outputs": [
    {
     "data": {
      "text/plain": [
       "['Opening session',\n",
       " 'Lightning talk',\n",
       " 'talk',\n",
       " 'Closing session',\n",
       " 'training',\n",
       " 'poster',\n",
       " 'EPS session']"
      ]
     },
     "execution_count": 89,
     "metadata": {},
     "output_type": "execute_result"
    }
   ],
   "source": [
    "list(talk_sessions.keys())"
   ]
  },
  {
   "cell_type": "code",
   "execution_count": 90,
   "metadata": {
    "collapsed": true
   },
   "outputs": [],
   "source": [
    "#the talks worth for scheduling\n",
    "grid_talks = []\n",
    "sessions = talk_sessions.copy()\n",
    "general_grid_sessions = ['talk', 'EPS session', 'training']\n",
    "for session_name in general_grid_sessions:\n",
    "    grid_talks.extend(sessions[session_name].values())\n",
    "    \n",
    "# remove unused fields\n",
    "fields2pop = ['abstract_extra', \n",
    "              'abstract_long',\n",
    "              'abstract_short',\n",
    "              'twitters',\n",
    "              'emails',\n",
    "              'status',\n",
    "              'url',\n",
    "              'companies',\n",
    "              'adm_type',\n",
    "              'tags',\n",
    "              'have_tickets',\n",
    "             ]\n",
    "for talk in grid_talks:\n",
    "    for f in fields2pop:\n",
    "        talk.pop(f)"
   ]
  },
  {
   "cell_type": "code",
   "execution_count": 91,
   "metadata": {
    "collapsed": true
   },
   "outputs": [],
   "source": [
    "# TODO: create a program grid with query-able conditions\n",
    "from tinydb import TinyDB, Query\n",
    "\n",
    "tdb = TinyDB('talks_for_grid_db.json')\n",
    "for talk in grid_talks:\n",
    "    tdb.insert(talk)"
   ]
  },
  {
   "cell_type": "code",
   "execution_count": 54,
   "metadata": {
    "collapsed": false
   },
   "outputs": [],
   "source": [
    "# remove talks that I know I will schedule by hand later\n",
    "conditions = [('language', 'Spanish'),\n",
    "              ('language', 'Basque'),\n",
    "             ]\n",
    "\n",
    "remaining_talks = []\n",
    "talks2pop = []\n",
    "for idx, talk in enumerate(grid_talks):\n",
    "    for field, val in conditions:\n",
    "        if talk[field] == val:\n",
    "            remaining_talks.append(talk)\n",
    "            talks2pop.append(idx)\n",
    "            break\n",
    "\n",
    "grid_talks = [talk for idx, talk in enumerate(grid_talks) if idx not in talks2pop]"
   ]
  },
  {
   "cell_type": "code",
   "execution_count": 55,
   "metadata": {
    "collapsed": true
   },
   "outputs": [],
   "source": [
    "import datetime\n",
    "from   collections import OrderedDict\n",
    "from   functools   import partial\n",
    "\n",
    "tags_field = 'tag_categories'\n",
    "\n",
    "weekday_names = [(0, 'Monday, July 18th'), \n",
    "                 (1, 'Tuesday, July 19th'),\n",
    "                 (2, 'Wednesday, July 20th'),\n",
    "                 (3, 'Thursday, July 21st'),\n",
    "                 (4, 'Friday, July 22nd'),\n",
    "                ]\n",
    "weekday_names = OrderedDict(weekday_names)\n",
    "\n",
    "room_names = [(0, 'A1' ),\n",
    "              (1, 'A3' ),\n",
    "              (2, 'A2' ),\n",
    "              (3, 'Ba1'),\n",
    "              (4, 'Ba2'),\n",
    "              (5, 'E'  ),\n",
    "              (6, 'A4' ),\n",
    "             ]\n",
    "room_names = OrderedDict(room_names)\n",
    "\n",
    "# talk rooms\n",
    "# ((h, m), conditions)\n",
    "type1_schedule = [((11,  0), [('duration', 45)]), \n",
    "                  ((11, 45), [('duration', 45)]),\n",
    "                  ((12, 30), [('duration', 45)]),\n",
    "                  ((14, 30), [('duration', 45)]),\n",
    "                  ((15, 15), [('duration', 30)]),\n",
    "                  ((15, 45), [('duration', 30)]),\n",
    "                  ((17,  0), [('duration', 30)]),]\n",
    "\n",
    "type2_schedule = [((11,  0), [('duration', 45)]), \n",
    "                  ((11, 45), [('duration', 45)]),\n",
    "                  ((12, 30), [('duration', 45)]),\n",
    "                  ((14, 30), [('duration', 45)]),\n",
    "                  ((15, 15), [('duration', 60)]),\n",
    "                  ((17,  0), [('duration', 30)]),]\n",
    "\n",
    "type3_schedule = [((11,  0), [('duration', 45)]), \n",
    "                  ((11, 45), [('duration', 45)]),\n",
    "                  ((12, 30), [('duration', 30)]),\n",
    "                  ((14, 30), [('duration', 60)]),\n",
    "                  ((15, 15), [('duration', 30)]),\n",
    "                  ((15, 45), [('duration', 30)]),\n",
    "                  ((17,  0), [('duration', 30)]),]\n",
    "\n",
    "#tutorials\n",
    "type4_schedule = [((11,  0), [('duration', 180), ('type', 'Training (180 mins)')]),\n",
    "                  ((13, 30), [('duration', 180), ('type', 'Training (180 mins)')])]\n",
    "\n",
    "start_time = (9, 0) # 9:00\n",
    "keynote_time   = (( 9, 15), 45)\n",
    "lightning_time = ((17, 30), 60) \n",
    "lunch_time     = ((13,  0), 90) \n",
    "am_coffee_time = ((10, 30), 30)\n",
    "pm_coffee_time = ((16, 15), 45) \n",
    "\n",
    "breaks = [(keynote_time,   'Keynote speech'),\n",
    "          (lunch_time,     'Lunch'),\n",
    "          (am_coffee_time, 'Coffee break'),\n",
    "          (pm_coffee_time, 'Coffee break'),\n",
    "          (lightning_time, 'Lightning talks')]\n",
    "\n",
    "daily_timegrid = lambda schedule: OrderedDict([(datetime.time(*slot[0]), slot[1]) for slot in schedule])\n",
    "\n",
    "room1_schedule = daily_timegrid(type1_schedule) \n",
    "room2_schedule = daily_timegrid(type2_schedule) \n",
    "room3_schedule = daily_timegrid(type3_schedule) \n",
    "room4_schedule = daily_timegrid(type3_schedule) \n",
    "room5_schedule = daily_timegrid(type3_schedule) \n",
    "\n",
    "room6_schedule = daily_timegrid(type4_schedule) \n",
    "room7_schedule = daily_timegrid(type4_schedule) \n",
    "\n",
    "daily_schedule = OrderedDict([(0, room1_schedule), \n",
    "                              (1, room2_schedule),\n",
    "                              (2, room3_schedule),\n",
    "                              (3, room4_schedule),\n",
    "                              (4, room5_schedule),\n",
    "                              (5, room6_schedule),\n",
    "                              (6, room7_schedule)])\n",
    "\n",
    "# [day][room] -> condition\n",
    "default_condition = [('language', 'English')]\n",
    "daily_conditions = {0: {5: [],\n",
    "                        6: [],},\n",
    "                    1: {5: [],\n",
    "                        6: [],},\n",
    "                    2: {3: ['language': 'Spanish'],\n",
    "                        5: [],\n",
    "                        6: ['language': 'Spanish'],},\n",
    "                    3: {3: ['language': 'Basque']\n",
    "                        5: [],\n",
    "                        6: [],},\n",
    "                    4: {5: [],\n",
    "                        6: [],},\n",
    "                   }\n",
    "\n",
    "room_names = list(daily_schedule.keys())\n",
    "\n",
    "# slots_durations\n",
    "slots_durations = [list(slots.values()) for slots in list(daily_schedule.values())]\n",
    "slots = [val for sublist in slots_durations for val in sublist]"
   ]
  },
  {
   "cell_type": "code",
   "execution_count": 56,
   "metadata": {
    "collapsed": false
   },
   "outputs": [
    {
     "data": {
      "text/plain": [
       "[{'duration': 45,\n",
       "  'id': 463,\n",
       "  'language': 'Spanish',\n",
       "  'level': 'Advanced',\n",
       "  'speakers': 'Jose Manuel Ortega',\n",
       "  'sub_community': '',\n",
       "  'sub_title': 'Pentesting con python',\n",
       "  'tag_categories': ['Security',\n",
       "   'Security',\n",
       "   '>>> Suggested Track',\n",
       "   'Programming',\n",
       "   'Security'],\n",
       "  'timerange': '',\n",
       "  'title': 'Hacking ético con herramientas Python',\n",
       "  'track_title': '',\n",
       "  'type': 'Talk (45 mins)'}]"
      ]
     },
     "execution_count": 56,
     "metadata": {},
     "output_type": "execute_result"
    }
   ],
   "source": [
    "def find_talk(talk_title):\n",
    "    talks = []\n",
    "    for talk in all_talks:\n",
    "        if talk_title in talk['title']:\n",
    "            talks.append(talk)\n",
    "    return talks\n",
    "\n",
    "find_talk(\"Hacking ético con herramientas Python\")"
   ]
  },
  {
   "cell_type": "code",
   "execution_count": 57,
   "metadata": {
    "collapsed": true
   },
   "outputs": [],
   "source": [
    "tags = {}\n",
    "text = []\n",
    "for talk in all_talks:\n",
    "    for t in talk[tags_field]:\n",
    "        if t.lower() == 'python':\n",
    "            continue\n",
    "        if not t.lower() in tags:\n",
    "            tags[t.lower()] = 0\n",
    "        tags[t.lower()] += 1\n",
    "        text.append(t.lower())\n",
    "tags_sorted = sorted(tags.items(), key=itemgetter(1), reverse=True)"
   ]
  },
  {
   "cell_type": "code",
   "execution_count": 58,
   "metadata": {
    "collapsed": true
   },
   "outputs": [],
   "source": [
    "def pick_talk(talks, tags, duration):\n",
    "    if not talks:\n",
    "        raise IndexError('The list of talks is empty!')\n",
    "\n",
    "    while tags:\n",
    "        randidx = randrange(0, len(tags))\n",
    "        atag    = tags.pop(randidx)[0]\n",
    "        for tlkidx, talk in enumerate(talks):\n",
    "            talk_tags = [t.lower() for t in talk[tags_field]]\n",
    "            if talk['duration'] == duration and atag in talk_tags:\n",
    "                atalk = talks.pop(tlkidx)\n",
    "                return atalk\n",
    "\n",
    "    return pick_talk_by_duration(talks, duration)\n",
    "\n",
    "\n",
    "def pick_talk_by_duration(talks, duration):\n",
    "    if not talks:\n",
    "        raise IndexError('The list of talks is empty!')\n",
    "\n",
    "    for tlkidx, talk in enumerate(talks):\n",
    "        if talk['duration'] == duration:\n",
    "            atalk = talks.pop(tlkidx)\n",
    "            return atalk\n",
    "    return {}"
   ]
  },
  {
   "cell_type": "code",
   "execution_count": 59,
   "metadata": {
    "collapsed": false
   },
   "outputs": [],
   "source": [
    "talks = grid_talks.copy()\n",
    "shuffle(talks)\n",
    "\n",
    "# random pick talks\n",
    "week_talks = []\n",
    "n_days = 5\n",
    "for d in range(n_days):\n",
    "    day_talks = []\n",
    "    for slot in slots:\n",
    "        day_tags = tags_sorted.copy()\n",
    "        try:\n",
    "            day_talks.append(pick_talk(talks, day_tags, slot))\n",
    "        except:\n",
    "            print('No talks left.')\n",
    "            break\n",
    "                    \n",
    "    week_talks.append(day_talks)"
   ]
  },
  {
   "cell_type": "code",
   "execution_count": 60,
   "metadata": {
    "collapsed": false
   },
   "outputs": [],
   "source": [
    "weekly_schedule = OrderedDict()\n",
    "\n",
    "for d in range(n_days):\n",
    "    weekly_schedule[d] = deepcopy(daily_schedule)\n",
    "    day_talks          = week_talks[d].copy()\n",
    "    for room in daily_schedule:\n",
    "        for slot in daily_schedule[room]:\n",
    "            #print(weekly_schedule[d][room].keys())\n",
    "            weekly_schedule[d][room][slot] = day_talks.pop(0)\n",
    "            #print(day_talks)"
   ]
  },
  {
   "cell_type": "code",
   "execution_count": 66,
   "metadata": {
    "collapsed": true
   },
   "outputs": [],
   "source": [
    "class ListTable(list):\n",
    "    \"\"\" Overridden list class which takes a 2-dimensional list of \n",
    "        the form [[1,2,3],[4,5,6]], and renders an HTML Table in \n",
    "        IPython Notebook. \"\"\"\n",
    "    \n",
    "    def _repr_html_(self):\n",
    "        html = [\"<table>\"]\n",
    "        for row in self:\n",
    "            html.append(\"<tr>\")\n",
    "            \n",
    "            for col in row:\n",
    "                html.append(\"<td>{0}</td>\".format(col))\n",
    "            \n",
    "            html.append(\"</tr>\")\n",
    "        html.append(\"</table>\")\n",
    "        return ''.join(html)\n",
    "\n",
    "\n",
    "def tabulate(time_list, header=''):\n",
    "    table = ListTable()\n",
    "    table.append(header)\n",
    "    for slot in time_list:\n",
    "        table.append([slot] + time_list[slot])\n",
    "    return table\n",
    "\n",
    "\n",
    "def get_room_schedule(weekly_schedule, room_name, field='title'):\n",
    "    slots = list(daily_schedule[room_name].keys())\n",
    "    daily_slots = []\n",
    "    for slot in slots:\n",
    "        talks = [weekly_schedule[d][room_name][slot].get(field, '-') for d in range(n_days)]\n",
    "        daily_slots.append((slot, talks))\n",
    "    room_schedule = OrderedDict(daily_slots)\n",
    "    return room_schedule\n",
    "\n",
    "\n",
    "def get_day_schedule(weekly_schedule, day_num, field='title'):\n",
    "    day_schedule = weekly_schedule[day_num]\n",
    "    nslots = max([len(slots) for room, slots in day_schedule.items()])\n",
    "    room_slots = []\n",
    "    for room, talk_slots in day_schedule.items():\n",
    "        room_talks = [talk.get(field, '-') for slot, talk in talk_slots.items()]\n",
    "        room_slots.append(room_talks)\n",
    "    schedule = OrderedDict(list(enumerate(list(map(list, zip_longest(*room_slots, fillvalue='-'))))))\n",
    "    return schedule"
   ]
  },
  {
   "cell_type": "code",
   "execution_count": 67,
   "metadata": {
    "collapsed": false
   },
   "outputs": [
    {
     "data": {
      "text/html": [
       "<h1>Not scheduled talks</h1>"
      ],
      "text/plain": [
       "<IPython.core.display.HTML object>"
      ]
     },
     "metadata": {},
     "output_type": "display_data"
    },
    {
     "name": "stdout",
     "output_type": "stream",
     "text": [
      "{'tag_categories': ['>>> Suggested Track', '>>> Suggested Track', 'Community', 'Data Science', 'Data Science'], 'track_title': '', 'timerange': '', 'language': 'Spanish', 'type': 'Talk (45 mins)', 'level': 'Intermediate', 'sub_community': 'pydata', 'title': 'Un vector por tu palabra', 'duration': 45, 'speakers': 'Mai Giménez', 'sub_title': '“Nuevas” aproximaciones a la representación de texto para el procesamiento del lenguaje natural', 'id': 644}\n",
      "{'tag_categories': ['', ''], 'track_title': '', 'timerange': '', 'language': 'Basque', 'type': 'Talk (30 mins)', 'level': 'Beginner', 'sub_community': '', 'title': 'Datu bistaratze soluzioen garapena Smartcity proiektuetan', 'duration': 30, 'speakers': 'Iker Martinez de Agirre Mendia', 'sub_title': '', 'id': 693}\n",
      "{'tag_categories': ['Best Practice and Use Cases', 'Programming', 'Case Study', 'Testing', 'Testing'], 'track_title': '', 'timerange': '', 'language': 'Spanish', 'type': 'Talk (30 mins)', 'level': 'Beginner', 'sub_community': '', 'title': 'Pytest desde las trincheras', 'duration': 30, 'speakers': 'Pau Ruŀlan Ferragut', 'sub_title': 'O como un framework de testing puede substituir las píldoras para dormir', 'id': 607}\n",
      "{'tag_categories': ['Educational', 'Best Practice and Use Cases', 'Programming'], 'track_title': '', 'timerange': '', 'language': 'Spanish', 'type': 'Talk (45 mins)', 'level': 'Intermediate', 'sub_community': '', 'title': 'Kung Fu al amanecer con itertools', 'duration': 45, 'speakers': 'Víctor Terrón', 'sub_title': 'Aumentando la letalidad y elegancia de nuestro código gracias al módulo itertools.', 'id': 488}\n",
      "{'tag_categories': ['Python', 'Python', 'Python'], 'track_title': '', 'timerange': '', 'language': 'Spanish', 'type': 'Talk (30 mins)', 'level': 'Intermediate', 'sub_community': '', 'title': 'Entendiendo Unicode', 'duration': 30, 'speakers': 'Facundo Batista', 'sub_title': 'Cansados de los UnicodeDecodeEncodeErrors? Frenen ese desastre! Vengan y entiendan Unicode :)', 'id': 531}\n",
      "{'tag_categories': ['Programming', 'Other Programming Languages', 'Programming'], 'track_title': '', 'timerange': '', 'language': 'Spanish', 'type': 'Talk (60 mins)', 'level': 'Intermediate', 'sub_community': '', 'title': 'APIs and Microservices With Go', 'duration': 60, 'speakers': 'Vinicius Feitosa', 'sub_title': '', 'id': 562}\n",
      "{'tag_categories': ['Security', 'Security', '>>> Suggested Track', 'Programming', 'Security'], 'track_title': '', 'timerange': '', 'language': 'Spanish', 'type': 'Talk (45 mins)', 'level': 'Advanced', 'sub_community': '', 'title': 'Hacking ético con herramientas Python', 'duration': 45, 'speakers': 'Jose Manuel Ortega', 'sub_title': 'Pentesting con python', 'id': 463}\n",
      "{'tag_categories': ['Web', 'Web', 'Application Frameworks'], 'track_title': '', 'timerange': '', 'language': 'Basque', 'type': 'Talk (30 mins)', 'level': 'Intermediate', 'sub_community': '', 'title': 'EITB Nahieran: askatu bideoak API honen bidez', 'duration': 30, 'speakers': 'Mikel Larreategi', 'sub_title': 'EITB Nahieran datuak erabiltzeko API erabilterraz bat nola egin dudan azalduko dut', 'id': 484}\n",
      "{'tag_categories': ['Application Frameworks'], 'track_title': '', 'timerange': '', 'language': 'Basque', 'type': 'Talk (30 mins)', 'level': 'Beginner', 'sub_community': '', 'title': 'Buildout Django eta Fabric. Kasu praktikoa euskarazko tokiko hedabideetan', 'duration': 30, 'speakers': 'Jatsu Argarate', 'sub_title': '', 'id': 517}\n",
      "{'tag_categories': ['Educational', 'Hardware', 'Hardware'], 'track_title': '', 'timerange': '', 'language': 'Basque', 'type': 'Talk (30 mins)', 'level': 'Intermediate', 'sub_community': '', 'title': 'Endor, ipuinak kontatzen zituen Nao robota.', 'duration': 30, 'speakers': 'Leire Ozaeta', 'sub_title': 'Pertsona-robot interakzioan lehenego pausuak Choreographe erabilita.', 'id': 604}\n",
      "{'tag_categories': ['Case Study', 'Best Practice and Use Cases', 'Open Source', 'Data Science', 'Databases'], 'track_title': '', 'timerange': '', 'language': 'Spanish', 'type': 'Talk (30 mins)', 'level': 'Intermediate', 'sub_community': '', 'title': 'Implementación de un Identificador de Sonido en Python', 'duration': 30, 'speakers': 'Cameron Macleod', 'sub_title': '', 'id': 458}\n"
     ]
    }
   ],
   "source": [
    "if talks or remaining_talks:\n",
    "    show('<h1>Not scheduled talks</h1>')\n",
    "    for talk in talks + remaining_talks:\n",
    "        print(talk)"
   ]
  },
  {
   "cell_type": "markdown",
   "metadata": {},
   "source": [
    "# TALKS"
   ]
  },
  {
   "cell_type": "code",
   "execution_count": 68,
   "metadata": {
    "collapsed": false
   },
   "outputs": [
    {
     "data": {
      "text/html": [
       "<h1>Monday, July 18th</h1>"
      ],
      "text/plain": [
       "<IPython.core.display.HTML object>"
      ]
     },
     "metadata": {},
     "output_type": "display_data"
    },
    {
     "data": {
      "text/html": [
       "<table><tr><td>Slot</td><td>A1</td><td>A3</td><td>A2</td><td>Ba1</td><td>Ba2</td><td>E</td><td>A4</td></tr><tr><td>0</td><td>Building Service interfaces with OpenAPI / Swagger</td><td>Against the silos: usable encrypted email & the quest for privacy-aware services</td><td>Efficient Django</td><td>Infrastructure as Code: \"pip install\" your environment</td><td>Beyond scraping, getting data from dynamic, heavily javascript driven, websites</td><td>So, what's all the fuss about Docker?</td><td>The Stupid Python Workshop</td></tr><tr><td>1</td><td>Brainwaves for hackers 3</td><td>Profiling the unprofilable</td><td>A Gentle Introduction to Neural Networks (with Python)</td><td>Python in Astronomy</td><td>CloudABI: Capability based security on Linux/UNIX</td><td>Efficient Python for High-Performance Parallel Computing</td><td>Guide to make a real contribution to an open source project for novice</td></tr><tr><td>2</td><td>How to improve your diet and save money with Python</td><td>Effective Code Review</td><td>RESTful API - Best Practises.</td><td>Is that spam in my ham?</td><td>Writing faster Python</td><td>-</td><td>-</td></tr><tr><td>3</td><td>Operating on Encrypted Data with ZeroDB</td><td>TDD of Python microservices</td><td>An Introduction to Deep Learning</td><td>Modern OpenGL with Python</td><td>PSF Meeting</td><td>-</td><td>-</td></tr><tr><td>4</td><td>Protect your users with Circuit Breakers</td><td>A deep dive into the Pymongo MongoDB driver</td><td>Dynamic Class Generation in Python</td><td>Python Descriptors for Better Data Structures</td><td>Keeping the Lights on with Python</td><td>-</td><td>-</td></tr><tr><td>5</td><td>EuroPython 2017: Help us build the next edition!</td><td>Simplifying Computer Art in Python</td><td>Game Theory to the Rescue When Hard Decisions Are to Be Made</td><td>Sponsored Talk</td><td>Python, Data & Rock'n'Roll</td><td>-</td><td>-</td></tr><tr><td>6</td><td>Implementing a Sound Identifier in Python</td><td>-</td><td>Writing unit tests for C code in Python</td><td>Clean code in Python</td><td>Create secure production environment using Docker</td><td>-</td><td>-</td></tr></table>"
      ],
      "text/plain": [
       "<IPython.core.display.HTML object>"
      ]
     },
     "metadata": {},
     "output_type": "display_data"
    },
    {
     "data": {
      "text/html": [
       "<h1>Tuesday, July 19th</h1>"
      ],
      "text/plain": [
       "<IPython.core.display.HTML object>"
      ]
     },
     "metadata": {},
     "output_type": "display_data"
    },
    {
     "data": {
      "text/html": [
       "<table><tr><td>Slot</td><td>A1</td><td>A3</td><td>A2</td><td>Ba1</td><td>Ba2</td><td>E</td><td>A4</td></tr><tr><td>0</td><td>Raspberry Pi GPIO Zero</td><td>Jupyter for everything else</td><td>Building your own AI</td><td>Towards More Secure Emailing</td><td>Moving away from NodeJS to a pure python solution for assets</td><td>(Machine-)Learning Chinese, with Python!</td><td>Blender: much visual, very 3d, many python.</td></tr><tr><td>1</td><td>Introduction to aiohttp</td><td>How OpenStack makes Python better (and vice-versa)</td><td>Fast Async Code with Cython and AsyncIO</td><td>Kung Fu at Dawn with Itertools</td><td>What is the best full text search engine for Python?</td><td>Test-driven code search and the art of writing implementation-agnostic tests</td><td>Faster Python Programs - Measure, don't Guess</td></tr><tr><td>2</td><td>Do I need to switch to Go(lang) ?</td><td>Handling GPS Data with Python</td><td>Building a mBaaS framework using Django</td><td>Writing Python Native Extensions in Rust</td><td>Building a reasonably popular web application for the first time.</td><td>-</td><td>-</td></tr><tr><td>3</td><td>What's the point of Object Orientation?</td><td>Scaling Microservices with Crossbar.io</td><td>Nipy on functional brain MRI</td><td>-</td><td>-</td><td>-</td><td>-</td></tr><tr><td>4</td><td>CFFI: calling C from Python</td><td>EPS General Assembly</td><td>Ingesting 35 million hotel images with python in the cloud.</td><td>Effectively test your webapp with Python and Selenium</td><td>System Testing with pytest and docker-py</td><td>-</td><td>-</td></tr><tr><td>5</td><td>Behind Closed Doors: Managing Passwords in a Dangerous World</td><td>The Journey from Python Developer to Python Company Owner</td><td>MicroPython on the BBC micro:bit</td><td>MiniBrew: Brewing beer with Python</td><td>Python and Async programming</td><td>-</td><td>-</td></tr><tr><td>6</td><td>Making robots walk with Python</td><td>-</td><td>Python as the keystone of building and testing C++ applications</td><td>Sponsored Talk</td><td>async/await in Python 3.5 and why it is awesome</td><td>-</td><td>-</td></tr></table>"
      ],
      "text/plain": [
       "<IPython.core.display.HTML object>"
      ]
     },
     "metadata": {},
     "output_type": "display_data"
    },
    {
     "data": {
      "text/html": [
       "<h1>Wednesday, July 20th</h1>"
      ],
      "text/plain": [
       "<IPython.core.display.HTML object>"
      ]
     },
     "metadata": {},
     "output_type": "display_data"
    },
    {
     "data": {
      "text/html": [
       "<table><tr><td>Slot</td><td>A1</td><td>A3</td><td>A2</td><td>Ba1</td><td>Ba2</td><td>E</td><td>A4</td></tr><tr><td>0</td><td>Asynchronous network requests in a web application</td><td>Ethical hacking with Python tools</td><td>FAT Python: a new static optimizer for Python 3.6</td><td>Analyzing Data with Python & Docker</td><td>SQLAlchemy as the backbone of a Data Science company</td><td>OpenStack Cloud Native Deployment for Application Developers</td><td>uWSGI: the full stack application server</td></tr><tr><td>1</td><td>Data Formats for Data Science</td><td>The Joy of Simulation: for Fun and Profit</td><td>Implementing Parallel Programming Design Patterns using EFL for Python</td><td>Things I wish I knew before starting using Python for Data Processing</td><td>Metaclasses for fun and profit: Making a declarative GUI implementation</td><td>Introduction to Deep Learning for Natural Language Processing</td><td>Python for System Administrators</td></tr><tr><td>2</td><td>What Python can learn from Haskell packaging</td><td>High Performance Networking in Python</td><td>Building beautiful RESTful APIs using Flask</td><td>Test Driven Deployment with Ansible 2.0</td><td>Using and abusing Python’s double-underscore methods and attributes</td><td>-</td><td>-</td></tr><tr><td>3</td><td>Python in Gravitational Waves Research Communities</td><td>OMG, Bokeh is better than ever!</td><td>-</td><td>-</td><td>-</td><td>-</td><td>-</td></tr><tr><td>4</td><td>Learn Python The Fun Way</td><td>-</td><td>So you think your Python startup is worth $10 million...</td><td>Music transcription with Python</td><td>Writing Redis in Python with asyncio</td><td>-</td><td>-</td></tr><tr><td>5</td><td>Server for IoT devices and Mobile devices using Wifi Network,</td><td>Go for Python Programmers</td><td>AWS lambda & Python</td><td>Managing Mocks</td><td>The right way to write documentation</td><td>-</td><td>-</td></tr><tr><td>6</td><td>Pygame Zero</td><td>-</td><td>AFP: secure cloud authentication for machines and humans.</td><td>Developing a real-time automated trading platform with Python</td><td>Pure Data and a Clean Architecture</td><td>-</td><td>-</td></tr></table>"
      ],
      "text/plain": [
       "<IPython.core.display.HTML object>"
      ]
     },
     "metadata": {},
     "output_type": "display_data"
    },
    {
     "data": {
      "text/html": [
       "<h1>Thursday, July 21st</h1>"
      ],
      "text/plain": [
       "<IPython.core.display.HTML object>"
      ]
     },
     "metadata": {},
     "output_type": "display_data"
    },
    {
     "data": {
      "text/html": [
       "<table><tr><td>Slot</td><td>A1</td><td>A3</td><td>A2</td><td>Ba1</td><td>Ba2</td><td>E</td><td>A4</td></tr><tr><td>0</td><td>The Report Of Twisted’s Death</td><td>Deep Learning with Python & TensorFlow</td><td>Get Instrumented!</td><td>-</td><td>-</td><td>Introduction to Data Wrangling</td><td>Productive Coding with PyCharm</td></tr><tr><td>1</td><td>I Hate You, NLP... ;)</td><td>Automate, contribute, repeat.</td><td>It's not magic: descriptors exposed</td><td>-</td><td>-</td><td>Present-day Async Web development training: from Twisted to Tornado and AsyncIO</td><td>Manage your Python packages professionally with devpi</td></tr><tr><td>2</td><td>Using Service Discovery to build dynamic python applications</td><td>Designing a Pythonic Interface</td><td>Real virtual environments without virtualenv</td><td>import community</td><td>Wrestling Python into LLVM Intermediate Representation</td><td>-</td><td>-</td></tr><tr><td>3</td><td>Build your first OpenStack application with OpenStack PythonSDK</td><td>Performant Python</td><td>-</td><td>-</td><td>-</td><td>-</td><td>-</td></tr><tr><td>4</td><td>Another pair of eyes: Reviewing code well</td><td>-</td><td>How to use Metaclasses to improve your Software Design</td><td>Monkey-patching: a magic trick or a powerful tool?</td><td>Grocker, a Python build chain for Docker</td><td>-</td><td>-</td></tr><tr><td>5</td><td>Iteration, iteration, iteration</td><td>NetworkX Visualization Powered by Bokeh</td><td>Peeking into Python’s C API</td><td>Optimize Thyself</td><td>Build your Microservices with ZeroMQ</td><td>-</td><td>-</td></tr><tr><td>6</td><td>Get in control of your workflows with Airflow</td><td>-</td><td>Machine Learning for dummies with Python</td><td>Testing the untestable: a beginner’s guide to mock objects</td><td>Hands-on with nilearn for Neuroimaging</td><td>-</td><td>-</td></tr></table>"
      ],
      "text/plain": [
       "<IPython.core.display.HTML object>"
      ]
     },
     "metadata": {},
     "output_type": "display_data"
    },
    {
     "data": {
      "text/html": [
       "<h1>Friday, July 22nd</h1>"
      ],
      "text/plain": [
       "<IPython.core.display.HTML object>"
      ]
     },
     "metadata": {},
     "output_type": "display_data"
    },
    {
     "data": {
      "text/html": [
       "<table><tr><td>Slot</td><td>A1</td><td>A3</td><td>A2</td><td>Ba1</td><td>Ba2</td><td>E</td><td>A4</td></tr><tr><td>0</td><td>-</td><td>-</td><td>-</td><td>-</td><td>-</td><td>Property-based testing with Hypothesis</td><td>pytest - simple, rapid and fun testing with Python</td></tr><tr><td>1</td><td>-</td><td>-</td><td>-</td><td>-</td><td>-</td><td>NumPy with Cython</td><td>IPython in Depth</td></tr><tr><td>2</td><td>-</td><td>-</td><td>re-Discovering Python's Regular Expressions</td><td>-</td><td>-</td><td>-</td><td>-</td></tr><tr><td>3</td><td>-</td><td>-</td><td>-</td><td>-</td><td>-</td><td>-</td><td>-</td></tr><tr><td>4</td><td>Machine Learning: Power of Ensembles</td><td>-</td><td>Exploring our Python Interpreter</td><td>-</td><td>-</td><td>-</td><td>-</td></tr><tr><td>5</td><td>Predicting Oscar Winners & Box Office Hits with Scikit Learn</td><td>Conda - Easier Installs and Simpler Builds</td><td>Exploring Python Bytecode</td><td>-</td><td>-</td><td>-</td><td>-</td></tr><tr><td>6</td><td>The value of mindfulness and how it has arrived at Google</td><td>-</td><td>-</td><td>-</td><td>-</td><td>-</td><td>-</td></tr></table>"
      ],
      "text/plain": [
       "<IPython.core.display.HTML object>"
      ]
     },
     "metadata": {},
     "output_type": "display_data"
    }
   ],
   "source": [
    "for day in weekday_names:\n",
    "    show('<h1>{}</h1>'.format(weekday_names[day]))\n",
    "    show(tabulate(get_day_schedule(weekly_schedule, day), header=['Slot'] + room_names)._repr_html_())"
   ]
  },
  {
   "cell_type": "markdown",
   "metadata": {},
   "source": [
    "# TRAININGS"
   ]
  },
  {
   "cell_type": "markdown",
   "metadata": {},
   "source": [
    "### Room E"
   ]
  },
  {
   "cell_type": "code",
   "execution_count": 69,
   "metadata": {
    "collapsed": false
   },
   "outputs": [
    {
     "data": {
      "text/html": [
       "<table><tr><td>E Room</td><td>Monday, July 18th</td><td>Tuesday, July 19th</td><td>Wednesday, July 20th</td><td>Thursday, July 21st</td><td>Friday, July 22nd</td></tr><tr><td>11:00:00</td><td>So, what's all the fuss about Docker?</td><td>(Machine-)Learning Chinese, with Python!</td><td>OpenStack Cloud Native Deployment for Application Developers</td><td>Introduction to Data Wrangling</td><td>Property-based testing with Hypothesis</td></tr><tr><td>13:30:00</td><td>Efficient Python for High-Performance Parallel Computing</td><td>Test-driven code search and the art of writing implementation-agnostic tests</td><td>Introduction to Deep Learning for Natural Language Processing</td><td>Present-day Async Web development training: from Twisted to Tornado and AsyncIO</td><td>NumPy with Cython</td></tr></table>"
      ],
      "text/plain": [
       "[['E Room',\n",
       "  'Monday, July 18th',\n",
       "  'Tuesday, July 19th',\n",
       "  'Wednesday, July 20th',\n",
       "  'Thursday, July 21st',\n",
       "  'Friday, July 22nd'],\n",
       " [datetime.time(11, 0),\n",
       "  \"So, what's all the fuss about Docker?\",\n",
       "  '(Machine-)Learning Chinese, with Python!',\n",
       "  'OpenStack Cloud Native Deployment for Application Developers',\n",
       "  'Introduction to Data Wrangling',\n",
       "  'Property-based testing with Hypothesis'],\n",
       " [datetime.time(13, 30),\n",
       "  'Efficient Python for High-Performance Parallel Computing',\n",
       "  'Test-driven code search and the art of writing implementation-agnostic tests',\n",
       "  'Introduction to Deep Learning for Natural Language Processing',\n",
       "  'Present-day Async Web development training: from Twisted to Tornado and AsyncIO',\n",
       "  'NumPy with Cython']]"
      ]
     },
     "execution_count": 69,
     "metadata": {},
     "output_type": "execute_result"
    }
   ],
   "source": [
    "tabulate(get_room_schedule(weekly_schedule, 'E'), header=['E Room'] + list(weekday_names.values()))"
   ]
  },
  {
   "cell_type": "markdown",
   "metadata": {},
   "source": [
    "### Room A4"
   ]
  },
  {
   "cell_type": "code",
   "execution_count": 70,
   "metadata": {
    "collapsed": false
   },
   "outputs": [
    {
     "data": {
      "text/html": [
       "<table><tr><td>A4 Room</td><td>Monday, July 18th</td><td>Tuesday, July 19th</td><td>Wednesday, July 20th</td><td>Thursday, July 21st</td><td>Friday, July 22nd</td></tr><tr><td>11:00:00</td><td>The Stupid Python Workshop</td><td>Blender: much visual, very 3d, many python.</td><td>uWSGI: the full stack application server</td><td>Productive Coding with PyCharm</td><td>pytest - simple, rapid and fun testing with Python</td></tr><tr><td>13:30:00</td><td>Guide to make a real contribution to an open source project for novice</td><td>Faster Python Programs - Measure, don't Guess</td><td>Python for System Administrators</td><td>Manage your Python packages professionally with devpi</td><td>IPython in Depth</td></tr></table>"
      ],
      "text/plain": [
       "[['A4 Room',\n",
       "  'Monday, July 18th',\n",
       "  'Tuesday, July 19th',\n",
       "  'Wednesday, July 20th',\n",
       "  'Thursday, July 21st',\n",
       "  'Friday, July 22nd'],\n",
       " [datetime.time(11, 0),\n",
       "  'The Stupid Python Workshop',\n",
       "  'Blender: much visual, very 3d, many python.',\n",
       "  'uWSGI: the full stack application server',\n",
       "  'Productive Coding with PyCharm',\n",
       "  'pytest - simple, rapid and fun testing with Python'],\n",
       " [datetime.time(13, 30),\n",
       "  'Guide to make a real contribution to an open source project for novice',\n",
       "  \"Faster Python Programs - Measure, don't Guess\",\n",
       "  'Python for System Administrators',\n",
       "  'Manage your Python packages professionally with devpi',\n",
       "  'IPython in Depth']]"
      ]
     },
     "execution_count": 70,
     "metadata": {},
     "output_type": "execute_result"
    }
   ],
   "source": [
    "tabulate(get_room_schedule(weekly_schedule, 'A4'), header=['A4 Room'] + list(weekday_names.values()))"
   ]
  },
  {
   "cell_type": "markdown",
   "metadata": {},
   "source": [
    "## Snippets"
   ]
  },
  {
   "cell_type": "code",
   "execution_count": 71,
   "metadata": {
    "collapsed": true
   },
   "outputs": [],
   "source": [
    "## schedules by room\n",
    "# tabulate(get_room_schedule(weekly_schedule, 'A1'),  header=['A1'] + list(weekday_names.values()))\n",
    "# tabulate(get_room_schedule(weekly_schedule, 'A2'),  header=['A2'] + list(weekday_names.values()))\n",
    "# tabulate(get_room_schedule(weekly_schedule, 'A3'),  header=['A3'] + list(weekday_names.values()))\n",
    "# tabulate(get_room_schedule(weekly_schedule, 'Ba1'), header=['Barria 1'] + list(weekday_names.values()))\n",
    "# tabulate(get_room_schedule(weekly_schedule, 'Ba2'), header=['Barria 2'] + list(weekday_names.values()))"
   ]
  },
  {
   "cell_type": "code",
   "execution_count": null,
   "metadata": {
    "collapsed": true
   },
   "outputs": [],
   "source": []
  }
 ],
 "metadata": {
  "kernelspec": {
   "display_name": "Python 3",
   "language": "python",
   "name": "python3"
  },
  "language_info": {
   "codemirror_mode": {
    "name": "ipython",
    "version": 3
   },
   "file_extension": ".py",
   "mimetype": "text/x-python",
   "name": "python",
   "nbconvert_exporter": "python",
   "pygments_lexer": "ipython3",
   "version": "3.5.1"
  }
 },
 "nbformat": 4,
 "nbformat_minor": 0
}
