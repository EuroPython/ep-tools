{
 "cells": [
  {
   "cell_type": "markdown",
   "metadata": {},
   "source": [
    "# EuroPython 2015 program grid"
   ]
  },
  {
   "cell_type": "code",
   "execution_count": null,
   "metadata": {
    "collapsed": false
   },
   "outputs": [],
   "source": [
    "%%javascript\n",
    "IPython.OutputArea.auto_scroll_threshold = 99999;\n",
    "//increase max size of output area"
   ]
  },
  {
   "cell_type": "code",
   "execution_count": null,
   "metadata": {
    "collapsed": true
   },
   "outputs": [],
   "source": [
    "import json\n",
    "import datetime as dt\n",
    "from random import choice, randrange, shuffle\n",
    "from copy import deepcopy\n",
    "\n",
    "from functools import partial\n",
    "from operator import itemgetter\n",
    "\n",
    "from IPython.display import display, HTML\n",
    "show = lambda s: display(HTML(s))"
   ]
  },
  {
   "cell_type": "code",
   "execution_count": null,
   "metadata": {
    "collapsed": true
   },
   "outputs": [],
   "source": [
    "talk_sessions = json.load(open('talk_abstracts.json'))"
   ]
  },
  {
   "cell_type": "code",
   "execution_count": null,
   "metadata": {
    "collapsed": false
   },
   "outputs": [],
   "source": [
    "list(talk_sessions.keys())"
   ]
  },
  {
   "cell_type": "code",
   "execution_count": null,
   "metadata": {
    "collapsed": true
   },
   "outputs": [],
   "source": [
    "#all talks\n",
    "all_talks = []\n",
    "for s in talk_sessions.values():\n",
    "    all_talks.extend(list(s.values()))\n",
    "\n",
    "#the talks worth for scheduling\n",
    "grid_talks = []\n",
    "sessions = talk_sessions.copy()\n",
    "general_grid_sessions = ['Talks', 'EuroPython sessions', 'Other sessions', 'Trainings']\n",
    "for session_name in general_grid_sessions:\n",
    "    grid_talks.extend(sessions[session_name].values())\n",
    "    \n",
    "for talk in grid_talks:\n",
    "    talk.pop('abstracts')"
   ]
  },
  {
   "cell_type": "code",
   "execution_count": null,
   "metadata": {
    "collapsed": true
   },
   "outputs": [],
   "source": [
    "import datetime\n",
    "from   collections import OrderedDict\n",
    "from   functools   import partial\n",
    "\n",
    "# talk rooms\n",
    "# ((h, m), duration)\n",
    "type1_schedule = [((11,  0), 45), \n",
    "                  ((11, 45), 45),\n",
    "                  ((12, 30), 45),\n",
    "                  ((14, 30), 45),\n",
    "                  ((15, 15), 30),\n",
    "                  ((15, 45), 30),\n",
    "                  ((17,  0), 30)]\n",
    "\n",
    "type2_schedule = [((11,  0), 45), \n",
    "                  ((11, 45), 45),\n",
    "                  ((12, 30), 45),\n",
    "                  ((14, 30), 45),\n",
    "                  ((15, 15), 60),\n",
    "                  ((17,  0), 30)]\n",
    "\n",
    "type3_schedule = [((11,  0), 45), \n",
    "                  ((11, 45), 45),\n",
    "                  ((12, 30), 30),\n",
    "                  ((14, 30), 45),\n",
    "                  ((15, 15), 30),\n",
    "                  ((15, 45), 30),\n",
    "                  ((17,  0), 30)]\n",
    "\n",
    "#tutorials\n",
    "type4_schedule = [((11,  0), 150),\n",
    "                  ((13, 30), 180)]\n",
    "\n",
    "keynote_time   = (( 9, 30), 60)\n",
    "lightning_time = ((17, 30), 60) \n",
    "lunch_time     = ((13,  0), 90) \n",
    "am_coffee_time = ((10, 30), 30)\n",
    "pm_coffee_time = ((16, 15), 45) \n",
    "\n",
    "breaks = [(keynote_time,   'Keynote speech'),\n",
    "          (lunch_time,     'Lunch'),\n",
    "          (am_coffee_time, 'Coffee break'),\n",
    "          (pm_coffee_time, 'Coffee break'),\n",
    "          (lightning_time, 'Lightning talks')]\n",
    "\n",
    "daily_timegrid = lambda schedule: OrderedDict([(datetime.time(*slot[0]), slot[1]) for slot in schedule])\n",
    "\n",
    "room1_schedule = daily_timegrid(type1_schedule) # A1, the google room\n",
    "room2_schedule = daily_timegrid(type2_schedule) # A3, pythonanywhere room\n",
    "room3_schedule = daily_timegrid(type3_schedule) # A2\n",
    "room4_schedule = daily_timegrid(type3_schedule) # Barria1\n",
    "room5_schedule = daily_timegrid(type3_schedule) # Barria2\n",
    "\n",
    "room6_schedule = daily_timegrid(type4_schedule) # Room E\n",
    "room7_schedule = daily_timegrid(type4_schedule) # Room A4\n",
    "\n",
    "daily_schedule = OrderedDict([('A1' , room1_schedule), \n",
    "                              ('A3' , room2_schedule),\n",
    "                              ('A2' , room3_schedule),\n",
    "                              ('Ba1', room4_schedule),\n",
    "                              ('Ba2', room5_schedule),\n",
    "                              ('E'  , room6_schedule),\n",
    "                              ('A4' , room7_schedule)])\n",
    "\n",
    "# slots_durations\n",
    "slots_durations = [list(slots.values()) for slots in list(daily_schedule.values())]\n",
    "slots = [val for sublist in slots_durations for val in sublist]"
   ]
  },
  {
   "cell_type": "code",
   "execution_count": null,
   "metadata": {
    "collapsed": false
   },
   "outputs": [],
   "source": [
    "def find_talk(talk_title):\n",
    "    talks = []\n",
    "    for talk in all_talks:\n",
    "        if talk_title in talk['title']:\n",
    "            talks.append(talk)\n",
    "    return talks\n",
    "\n",
    "find_talk('Python and PyPy performance')"
   ]
  },
  {
   "cell_type": "code",
   "execution_count": null,
   "metadata": {
    "collapsed": true
   },
   "outputs": [],
   "source": [
    "tags = {}\n",
    "text = []\n",
    "for talk in all_talks:\n",
    "    for t in talk['tags']:\n",
    "        if t.lower() == 'python':\n",
    "            continue\n",
    "        if not t.lower() in tags:\n",
    "            tags[t.lower()] = 0\n",
    "        tags[t.lower()] += 1\n",
    "        text.append(t.lower())\n",
    "tags_sorted = sorted(tags.items(), key=itemgetter(1), reverse=True)"
   ]
  },
  {
   "cell_type": "code",
   "execution_count": null,
   "metadata": {
    "collapsed": true
   },
   "outputs": [],
   "source": [
    "def pick_talk(talks, tags, duration):\n",
    "    if not talks:\n",
    "        raise IndexError('The list of talks is empty!')\n",
    "\n",
    "    while tags:\n",
    "        randidx = randrange(0, len(tags))\n",
    "        atag    = tags.pop(randidx)[0]\n",
    "        for tlkidx, talk in enumerate(talks):\n",
    "            talk_tags = [t.lower() for t in talk['tags']]\n",
    "            if talk['duration'] == duration and atag in talk_tags:\n",
    "                atalk = talks.pop(tlkidx)\n",
    "                return atalk\n",
    "\n",
    "    return pick_talk_by_duration(talks, duration)\n",
    "\n",
    "\n",
    "def pick_talk_by_duration(talks, duration):\n",
    "    if not talks:\n",
    "        raise IndexError('The list of talks is empty!')\n",
    "\n",
    "    for tlkidx, talk in enumerate(talks):\n",
    "        if talk['duration'] == duration:\n",
    "                atalk = talks.pop(tlkidx)\n",
    "                return atalk\n",
    "    return {}"
   ]
  },
  {
   "cell_type": "code",
   "execution_count": null,
   "metadata": {
    "collapsed": true
   },
   "outputs": [],
   "source": [
    "talks = grid_talks.copy()\n",
    "shuffle(talks)\n",
    "\n",
    "# random pick talks\n",
    "week_talks = []\n",
    "n_days = 5\n",
    "for d in range(n_days):\n",
    "    day_talks = []\n",
    "    for slot in slots:\n",
    "        day_tags = tags_sorted.copy()\n",
    "        try:\n",
    "            day_talks.append(pick_talk(talks, day_tags, slot))\n",
    "        except:\n",
    "            print('No talks left.')\n",
    "                    \n",
    "    week_talks.append(day_talks)"
   ]
  },
  {
   "cell_type": "code",
   "execution_count": null,
   "metadata": {
    "collapsed": true
   },
   "outputs": [],
   "source": [
    "weekly_schedule = OrderedDict()\n",
    "\n",
    "for d in range(n_days):\n",
    "    weekly_schedule[d] = deepcopy(daily_schedule)\n",
    "    day_talks          = week_talks[d].copy()\n",
    "    for room in daily_schedule:\n",
    "        for slot in daily_schedule[room]:\n",
    "            #print(weekly_schedule[d][room].keys())\n",
    "            weekly_schedule[d][room][slot] = day_talks.pop(0)\n",
    "            #print(day_talks)"
   ]
  },
  {
   "cell_type": "code",
   "execution_count": null,
   "metadata": {
    "collapsed": true
   },
   "outputs": [],
   "source": [
    "class ListTable(list):\n",
    "    \"\"\" Overridden list class which takes a 2-dimensional list of \n",
    "        the form [[1,2,3],[4,5,6]], and renders an HTML Table in \n",
    "        IPython Notebook. \"\"\"\n",
    "    \n",
    "    def _repr_html_(self):\n",
    "        html = [\"<table>\"]\n",
    "        for row in self:\n",
    "            html.append(\"<tr>\")\n",
    "            \n",
    "            for col in row:\n",
    "                html.append(\"<td>{0}</td>\".format(col))\n",
    "            \n",
    "            html.append(\"</tr>\")\n",
    "        html.append(\"</table>\")\n",
    "        return ''.join(html)\n",
    "\n",
    "\n",
    "def make_daily_schedule(time_list, header=''):\n",
    "    table = ListTable()\n",
    "    table.append(header)\n",
    "    for slot in time_list:\n",
    "        table.append([slot] + time_list[slot])\n",
    "    return table\n",
    "\n",
    "\n",
    "def get_room_schedule(weekly_schedule, room_name):\n",
    "    slots = list(daily_schedule[room_name].keys())\n",
    "    daily_slots = []\n",
    "    for slot in slots:\n",
    "        talks = [weekly_schedule[d][room_name][slot].get('id', '-') for d in range(n_days)]\n",
    "        daily_slots.append((slot, talks))\n",
    "    room_schedule = OrderedDict(daily_slots)\n",
    "    return room_schedule\n",
    "\n",
    "\n",
    "weekday_names = ['Monday, June 20th', \n",
    "                 'Tuesday, June 21st',\n",
    "                 'Wednesday, June 22nd',\n",
    "                 'Thursday, June 23rd',\n",
    "                 'Friday, June 24th']"
   ]
  },
  {
   "cell_type": "code",
   "execution_count": null,
   "metadata": {
    "collapsed": false
   },
   "outputs": [],
   "source": [
    "show('<h1>Non-schedules talks</h1>')\n",
    "show('<p>Move this to a 1-hour slot instead of the EPS meeting</p>')\n",
    "\n",
    "for talk in talks:\n",
    "    print(talks)"
   ]
  },
  {
   "cell_type": "markdown",
   "metadata": {},
   "source": [
    "# TALKS"
   ]
  },
  {
   "cell_type": "markdown",
   "metadata": {},
   "source": [
    "### The Google Room"
   ]
  },
  {
   "cell_type": "code",
   "execution_count": null,
   "metadata": {
    "collapsed": true
   },
   "outputs": [],
   "source": [
    "make_daily_schedule(get_room_schedule(weekly_schedule, 'A1'), header=['Google Room'] + weekday_names)"
   ]
  },
  {
   "cell_type": "markdown",
   "metadata": {},
   "source": [
    "### Room A2"
   ]
  },
  {
   "cell_type": "code",
   "execution_count": null,
   "metadata": {
    "collapsed": true
   },
   "outputs": [],
   "source": [
    "make_daily_schedule(get_room_schedule(weekly_schedule, 'A2'), header=['A2'] + weekday_names)"
   ]
  },
  {
   "cell_type": "markdown",
   "metadata": {},
   "source": [
    "### The PythonAnywhere Room"
   ]
  },
  {
   "cell_type": "code",
   "execution_count": null,
   "metadata": {
    "collapsed": true
   },
   "outputs": [],
   "source": [
    "make_daily_schedule(get_room_schedule(weekly_schedule, 'A3'), header=['PythonAnywhere Room'] + weekday_names)"
   ]
  },
  {
   "cell_type": "markdown",
   "metadata": {},
   "source": [
    "### Room Barria1"
   ]
  },
  {
   "cell_type": "code",
   "execution_count": null,
   "metadata": {
    "collapsed": true
   },
   "outputs": [],
   "source": [
    "make_daily_schedule(get_room_schedule(weekly_schedule, 'Ba1'), header=['Barria1 Room'] + weekday_names)"
   ]
  },
  {
   "cell_type": "markdown",
   "metadata": {},
   "source": [
    "### Room Barria2"
   ]
  },
  {
   "cell_type": "code",
   "execution_count": null,
   "metadata": {
    "collapsed": true
   },
   "outputs": [],
   "source": [
    "make_daily_schedule(get_room_schedule(weekly_schedule, 'Ba2'), header=['Barria2 Room'] + weekday_names)"
   ]
  },
  {
   "cell_type": "markdown",
   "metadata": {},
   "source": [
    "# TRAININGS"
   ]
  },
  {
   "cell_type": "markdown",
   "metadata": {},
   "source": [
    "### Room E"
   ]
  },
  {
   "cell_type": "code",
   "execution_count": null,
   "metadata": {
    "collapsed": true
   },
   "outputs": [],
   "source": [
    "make_daily_schedule(get_room_schedule(weekly_schedule, 'E'), header=['E Room'] + weekday_names)"
   ]
  },
  {
   "cell_type": "markdown",
   "metadata": {},
   "source": [
    "### Room A4"
   ]
  },
  {
   "cell_type": "code",
   "execution_count": null,
   "metadata": {
    "collapsed": true
   },
   "outputs": [],
   "source": [
    "make_daily_schedule(get_room_schedule(weekly_schedule, 'A4'), header=['A4 Room'] + weekday_names)"
   ]
  }
 ],
 "metadata": {
  "kernelspec": {
   "display_name": "Python 3",
   "language": "python",
   "name": "python3"
  },
  "language_info": {
   "codemirror_mode": {
    "name": "ipython",
    "version": 3
   },
   "file_extension": ".py",
   "mimetype": "text/x-python",
   "name": "python",
   "nbconvert_exporter": "python",
   "pygments_lexer": "ipython3",
   "version": "3.5.1"
  }
 },
 "nbformat": 4,
 "nbformat_minor": 0
}
