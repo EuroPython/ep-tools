{
 "cells": [
  {
   "cell_type": "markdown",
   "metadata": {},
   "source": [
    "# EuroPython program grid"
   ]
  },
  {
   "cell_type": "code",
   "execution_count": 1,
   "metadata": {
    "collapsed": false
   },
   "outputs": [
    {
     "data": {
      "application/javascript": [
       "IPython.OutputArea.auto_scroll_threshold = 99999;\n",
       "//increase max size of output area"
      ],
      "text/plain": [
       "<IPython.core.display.Javascript object>"
      ]
     },
     "metadata": {},
     "output_type": "display_data"
    }
   ],
   "source": [
    "%%javascript\n",
    "IPython.OutputArea.auto_scroll_threshold = 99999;\n",
    "//increase max size of output area"
   ]
  },
  {
   "cell_type": "code",
   "execution_count": 3,
   "metadata": {
    "collapsed": true
   },
   "outputs": [],
   "source": [
    "import json\n",
    "import datetime as dt\n",
    "from random import choice, randrange, shuffle\n",
    "from copy import deepcopy\n",
    "\n",
    "from functools import partial\n",
    "from operator import itemgetter\n",
    "\n",
    "from IPython.display import display, HTML\n",
    "show = lambda s: display(HTML(s))"
   ]
  },
  {
   "cell_type": "code",
   "execution_count": 121,
   "metadata": {
    "collapsed": false
   },
   "outputs": [],
   "source": [
    "talk_sessions = json.load(open('accepted_talks.json'))"
   ]
  },
  {
   "cell_type": "code",
   "execution_count": 122,
   "metadata": {
    "collapsed": false
   },
   "outputs": [
    {
     "data": {
      "text/plain": [
       "['training',\n",
       " 'poster',\n",
       " 'EPS session',\n",
       " 'Opening session',\n",
       " 'Lightning talk',\n",
       " 'Closing session',\n",
       " 'talk']"
      ]
     },
     "execution_count": 122,
     "metadata": {},
     "output_type": "execute_result"
    }
   ],
   "source": [
    "list(talk_sessions.keys())"
   ]
  },
  {
   "cell_type": "code",
   "execution_count": 123,
   "metadata": {
    "collapsed": false
   },
   "outputs": [],
   "source": [
    "#all talks\n",
    "all_talks = []\n",
    "for s in talk_sessions.values():\n",
    "    all_talks.extend(list(s.values()))\n",
    "\n",
    "#the talks worth for scheduling\n",
    "grid_talks = []\n",
    "sessions = talk_sessions.copy()\n",
    "general_grid_sessions = ['talk', 'EPS session', 'training']\n",
    "for session_name in general_grid_sessions:\n",
    "    grid_talks.extend(sessions[session_name].values())\n",
    "\n",
    "fields2pop = ['abstract_extra', \n",
    "              'abstract_long',\n",
    "              'abstract_short',\n",
    "              'twitters',\n",
    "              'emails',\n",
    "              'status',\n",
    "              'url',\n",
    "              'companies',\n",
    "              'adm_type',\n",
    "              'tag_categories',\n",
    "              'have_tickets',\n",
    "             ]\n",
    "for talk in grid_talks:\n",
    "    for f in fields2pop:\n",
    "        talk.pop(f)"
   ]
  },
  {
   "cell_type": "code",
   "execution_count": 240,
   "metadata": {
    "collapsed": true
   },
   "outputs": [],
   "source": [
    "import datetime\n",
    "from   collections import OrderedDict\n",
    "from   functools   import partial\n",
    "\n",
    "\n",
    "weekday_names = ['Monday, July 18th', \n",
    "                 'Tuesday, July 19th',\n",
    "                 'Wednesday, July 20th',\n",
    "                 'Thursday, July 21st',\n",
    "                 'Friday, July 22nd']\n",
    "\n",
    "\n",
    "# talk rooms\n",
    "# ((h, m), duration)\n",
    "type1_schedule = [((11,  0), 45), \n",
    "                  ((11, 45), 45),\n",
    "                  ((12, 30), 45),\n",
    "                  ((14, 30), 45),\n",
    "                  ((15, 15), 30),\n",
    "                  ((15, 45), 30),\n",
    "                  ((17,  0), 30)]\n",
    "\n",
    "type2_schedule = [((11,  0), 45), \n",
    "                  ((11, 45), 45),\n",
    "                  ((12, 30), 45),\n",
    "                  ((14, 30), 45),\n",
    "                  ((15, 15), 60),\n",
    "                  ((17,  0), 30)]\n",
    "\n",
    "type3_schedule = [((11,  0), 45), \n",
    "                  ((11, 45), 45),\n",
    "                  ((12, 30), 30),\n",
    "                  ((14, 30), 60),\n",
    "                  ((15, 15), 30),\n",
    "                  ((15, 45), 30),\n",
    "                  ((17,  0), 30)]\n",
    "\n",
    "#tutorials\n",
    "type4_schedule = [((11,  0), 180),\n",
    "                  ((13, 30), 180)]\n",
    "\n",
    "keynote_time   = (( 9, 30), 60)\n",
    "lightning_time = ((17, 30), 60) \n",
    "lunch_time     = ((13,  0), 90) \n",
    "am_coffee_time = ((10, 30), 30)\n",
    "pm_coffee_time = ((16, 15), 45) \n",
    "\n",
    "breaks = [(keynote_time,   'Keynote speech'),\n",
    "          (lunch_time,     'Lunch'),\n",
    "          (am_coffee_time, 'Coffee break'),\n",
    "          (pm_coffee_time, 'Coffee break'),\n",
    "          (lightning_time, 'Lightning talks')]\n",
    "\n",
    "daily_timegrid = lambda schedule: OrderedDict([(datetime.time(*slot[0]), slot[1]) for slot in schedule])\n",
    "\n",
    "room1_schedule = daily_timegrid(type1_schedule) # A1, the google room\n",
    "room2_schedule = daily_timegrid(type2_schedule) # A3, pythonanywhere room\n",
    "room3_schedule = daily_timegrid(type3_schedule) # A2\n",
    "room4_schedule = daily_timegrid(type3_schedule) # Barria1\n",
    "room5_schedule = daily_timegrid(type3_schedule) # Barria2\n",
    "\n",
    "room6_schedule = daily_timegrid(type4_schedule) # Room E\n",
    "room7_schedule = daily_timegrid(type4_schedule) # Room A4\n",
    "\n",
    "daily_schedule = OrderedDict([('A1' , room1_schedule), \n",
    "                              ('A3' , room2_schedule),\n",
    "                              ('A2' , room3_schedule),\n",
    "                              ('Ba1', room4_schedule),\n",
    "                              ('Ba2', room5_schedule),\n",
    "                              ('E'  , room6_schedule),\n",
    "                              ('A4' , room7_schedule)])\n",
    "\n",
    "room_names = list(daily_schedule.keys())\n",
    "\n",
    "# slots_durations\n",
    "slots_durations = [list(slots.values()) for slots in list(daily_schedule.values())]\n",
    "slots = [val for sublist in slots_durations for val in sublist]\n"
   ]
  },
  {
   "cell_type": "code",
   "execution_count": 192,
   "metadata": {
    "collapsed": false
   },
   "outputs": [
    {
     "data": {
      "text/plain": [
       "[{'duration': 180,\n",
       "  'id': 643,\n",
       "  'language': 'English',\n",
       "  'level': 'Intermediate',\n",
       "  'speakers': 'Daniele Procida',\n",
       "  'sub_community': '',\n",
       "  'sub_title': 'A hands-on workshop to familiarise Django developers with key Docker concepts and techniques',\n",
       "  'tags': ['Django', 'Docker'],\n",
       "  'timerange': '2016-07-22 14:00:00, 2016-07-22 17:00:00',\n",
       "  'title': \"So, what's all the fuss about Docker?\",\n",
       "  'track_title': 'A4',\n",
       "  'type': 'Training (180 mins)'}]"
      ]
     },
     "execution_count": 192,
     "metadata": {},
     "output_type": "execute_result"
    }
   ],
   "source": [
    "def find_talk(talk_title):\n",
    "    talks = []\n",
    "    for talk in all_talks:\n",
    "        if talk_title in talk['title']:\n",
    "            talks.append(talk)\n",
    "    return talks\n",
    "\n",
    "find_talk(\"So, what's all the fuss about Docker?\")"
   ]
  },
  {
   "cell_type": "code",
   "execution_count": 134,
   "metadata": {
    "collapsed": true
   },
   "outputs": [],
   "source": [
    "tags = {}\n",
    "text = []\n",
    "for talk in all_talks:\n",
    "    for t in talk['tags']:\n",
    "        if t.lower() == 'python':\n",
    "            continue\n",
    "        if not t.lower() in tags:\n",
    "            tags[t.lower()] = 0\n",
    "        tags[t.lower()] += 1\n",
    "        text.append(t.lower())\n",
    "tags_sorted = sorted(tags.items(), key=itemgetter(1), reverse=True)"
   ]
  },
  {
   "cell_type": "code",
   "execution_count": 135,
   "metadata": {
    "collapsed": true
   },
   "outputs": [],
   "source": [
    "def pick_talk(talks, tags, duration):\n",
    "    if not talks:\n",
    "        raise IndexError('The list of talks is empty!')\n",
    "\n",
    "    while tags:\n",
    "        randidx = randrange(0, len(tags))\n",
    "        atag    = tags.pop(randidx)[0]\n",
    "        for tlkidx, talk in enumerate(talks):\n",
    "            talk_tags = [t.lower() for t in talk['tags']]\n",
    "            if talk['duration'] == duration and atag in talk_tags:\n",
    "                atalk = talks.pop(tlkidx)\n",
    "                return atalk\n",
    "\n",
    "    return pick_talk_by_duration(talks, duration)\n",
    "\n",
    "\n",
    "def pick_talk_by_duration(talks, duration):\n",
    "    if not talks:\n",
    "        raise IndexError('The list of talks is empty!')\n",
    "\n",
    "    for tlkidx, talk in enumerate(talks):\n",
    "        if talk['duration'] == duration:\n",
    "                atalk = talks.pop(tlkidx)\n",
    "                return atalk\n",
    "    return {}"
   ]
  },
  {
   "cell_type": "code",
   "execution_count": 136,
   "metadata": {
    "collapsed": true
   },
   "outputs": [],
   "source": [
    "talks = grid_talks.copy()\n",
    "shuffle(talks)\n",
    "\n",
    "# random pick talks\n",
    "week_talks = []\n",
    "n_days = 5\n",
    "for d in range(n_days):\n",
    "    day_talks = []\n",
    "    for slot in slots:\n",
    "        day_tags = tags_sorted.copy()\n",
    "        try:\n",
    "            day_talks.append(pick_talk(talks, day_tags, slot))\n",
    "        except:\n",
    "            print('No talks left.')\n",
    "                    \n",
    "    week_talks.append(day_talks)"
   ]
  },
  {
   "cell_type": "code",
   "execution_count": 137,
   "metadata": {
    "collapsed": true
   },
   "outputs": [],
   "source": [
    "weekly_schedule = OrderedDict()\n",
    "\n",
    "for d in range(n_days):\n",
    "    weekly_schedule[d] = deepcopy(daily_schedule)\n",
    "    day_talks          = week_talks[d].copy()\n",
    "    for room in daily_schedule:\n",
    "        for slot in daily_schedule[room]:\n",
    "            #print(weekly_schedule[d][room].keys())\n",
    "            weekly_schedule[d][room][slot] = day_talks.pop(0)\n",
    "            #print(day_talks)"
   ]
  },
  {
   "cell_type": "code",
   "execution_count": 248,
   "metadata": {
    "collapsed": true
   },
   "outputs": [],
   "source": [
    "class ListTable(list):\n",
    "    \"\"\" Overridden list class which takes a 2-dimensional list of \n",
    "        the form [[1,2,3],[4,5,6]], and renders an HTML Table in \n",
    "        IPython Notebook. \"\"\"\n",
    "    \n",
    "    def _repr_html_(self):\n",
    "        html = [\"<table>\"]\n",
    "        for row in self:\n",
    "            html.append(\"<tr>\")\n",
    "            \n",
    "            for col in row:\n",
    "                html.append(\"<td>{0}</td>\".format(col))\n",
    "            \n",
    "            html.append(\"</tr>\")\n",
    "        html.append(\"</table>\")\n",
    "        return ''.join(html)\n",
    "\n",
    "\n",
    "def tabulate(time_list, header=''):\n",
    "    table = ListTable()\n",
    "    table.append(header)\n",
    "    for slot in time_list:\n",
    "        table.append([slot] + time_list[slot])\n",
    "    return table\n",
    "\n",
    "\n",
    "def get_room_schedule(weekly_schedule, room_name, field='title'):\n",
    "    slots = list(daily_schedule[room_name].keys())\n",
    "    daily_slots = []\n",
    "    for slot in slots:\n",
    "        talks = [weekly_schedule[d][room_name][slot].get(field, '-') for d in range(n_days)]\n",
    "        daily_slots.append((slot, talks))\n",
    "    room_schedule = OrderedDict(daily_slots)\n",
    "    return room_schedule\n",
    "\n",
    "from itertools import zip_longest\n",
    "def get_day_schedule(weekly_schedule, day_num, field='title'):\n",
    "    day_schedule = weekly_schedule[day_num]\n",
    "    nslots = max([len(slots) for room, slots in ds.items()])\n",
    "    room_slots = []\n",
    "    for room, talk_slots in day_schedule.items():\n",
    "        room_talks = [talk.get(field, '-') for slot, talk in talk_slots.items()]\n",
    "        room_slots.append(room_talks)\n",
    "    schedule = OrderedDict(list(enumerate(list(map(list, zip_longest(*room_slots))))))\n",
    "    return schedule"
   ]
  },
  {
   "cell_type": "code",
   "execution_count": 249,
   "metadata": {
    "collapsed": false
   },
   "outputs": [
    {
     "data": {
      "text/html": [
       "<h1>Not scheduled talks</h1>"
      ],
      "text/plain": [
       "<IPython.core.display.HTML object>"
      ]
     },
     "metadata": {},
     "output_type": "display_data"
    }
   ],
   "source": [
    "show('<h1>Not scheduled talks</h1>')\n",
    "\n",
    "for talk in talks:\n",
    "    print(talk)"
   ]
  },
  {
   "cell_type": "markdown",
   "metadata": {},
   "source": [
    "# TALKS"
   ]
  },
  {
   "cell_type": "code",
   "execution_count": 259,
   "metadata": {
    "collapsed": false
   },
   "outputs": [
    {
     "data": {
      "text/html": [
       "<h1>Monday, July 18th</h1>"
      ],
      "text/plain": [
       "<IPython.core.display.HTML object>"
      ]
     },
     "metadata": {},
     "output_type": "display_data"
    },
    {
     "data": {
      "text/html": [
       "<table><tr><td>Slot</td><td>A1</td><td>A3</td><td>A2</td><td>Ba1</td><td>Ba2</td><td>E</td><td>A4</td></tr><tr><td>0</td><td>Introduction to aiohttp</td><td>Un vector por tu palabra</td><td>CloudABI: Capability based security on Linux/UNIX</td><td>OMG, Bokeh is better than ever!</td><td>FAT Python: a new static optimizer for Python 3.6</td><td>uWSGI: the full stack application server</td><td>The Stupid Python Workshop</td></tr><tr><td>1</td><td>Against the silos: usable encrypted email & the quest for privacy-aware services</td><td>High Performance Networking in Python</td><td>Things I wish I knew before starting using Python for Data Processing</td><td>Beyond scraping, getting data from dynamic, heavily javascript driven, websites</td><td>Building your own AI</td><td>Python for System Administrators</td><td>Introduction to Deep Learning for Natural Language Processing</td></tr><tr><td>2</td><td>What is the best full text search engine for Python?</td><td>Get Instrumented!</td><td>Endor, ipuinak kontatzen zituen Nao robota.</td><td>Python, Data & Rock'n'Roll</td><td>Conda - Easier Installs and Simpler Builds</td><td>None</td><td>None</td></tr><tr><td>3</td><td>Hacking ético con herramientas Python</td><td>Jupyter for everything else</td><td>APIs and Microservices With Go</td><td>EPS General Assembly</td><td>A deep dive into the Pymongo MongoDB driver</td><td>None</td><td>None</td></tr><tr><td>4</td><td>Using and abusing Python’s double-underscore methods and attributes</td><td>An Introduction to Deep Learning</td><td>Python as the keystone of building and testing C++ applications</td><td>System Testing with pytest and docker-py</td><td>MicroPython on the BBC micro:bit</td><td>None</td><td>None</td></tr><tr><td>5</td><td>Real virtual environments without virtualenv</td><td>Test Driven Deployment with Ansible 2.0</td><td>Behind Closed Doors: Managing Passwords in a Dangerous World</td><td>Create secure production environment using Docker</td><td>Clean code in Python</td><td>None</td><td>None</td></tr><tr><td>6</td><td>Go for Python Programmers</td><td>None</td><td>The Journey from Python Developer to Python Company Owner</td><td>Implementación de un Identificador de Sonido en Python</td><td>Monkey-patching: a magic trick or a powerful tool?</td><td>None</td><td>None</td></tr></table>"
      ],
      "text/plain": [
       "<IPython.core.display.HTML object>"
      ]
     },
     "metadata": {},
     "output_type": "display_data"
    },
    {
     "data": {
      "text/html": [
       "<h1>Tuesday, July 19th</h1>"
      ],
      "text/plain": [
       "<IPython.core.display.HTML object>"
      ]
     },
     "metadata": {},
     "output_type": "display_data"
    },
    {
     "data": {
      "text/html": [
       "<table><tr><td>Slot</td><td>A1</td><td>A3</td><td>A2</td><td>Ba1</td><td>Ba2</td><td>E</td><td>A4</td></tr><tr><td>0</td><td>Moving away from NodeJS to a pure python solution for assets</td><td>Kung Fu at Dawn with Itertools</td><td>Do I need to switch to Go(lang) ?</td><td>The Joy of Simulation: for Fun and Profit</td><td>Raspberry Pi GPIO Zero</td><td>Present-day Async Web development training: from Twisted to Tornado and AsyncIO</td><td>Efficient Python for High-Performance Parallel Computing</td></tr><tr><td>1</td><td>Using Service Discovery to build dynamic python applications</td><td>Effective Code Review</td><td>TDD of Python microservices</td><td>How OpenStack makes Python better (and vice-versa)</td><td>Data Formats for Data Science</td><td>Guide to make a real contribution to an open source project for novice</td><td>So, what's all the fuss about Docker?</td></tr><tr><td>2</td><td>Profiling the unprofilable</td><td>Infrastructure as Code: \"pip install\" your environment</td><td>EITB Nahieran: askatu bideoak API honen bidez</td><td>Simplifying Computer Art in Python</td><td>Python and Async programming</td><td>None</td><td>None</td></tr><tr><td>3</td><td>Scaling Microservices with Crossbar.io</td><td>How to improve your diet and save money with Python</td><td>Modern OpenGL with Python</td><td>Nipy on functional brain MRI</td><td>-</td><td>None</td><td>None</td></tr><tr><td>4</td><td>Writing Redis in Python with asyncio</td><td>PSF Meeting</td><td>Hands-on with nilearn for Neuroimaging</td><td>Building beautiful RESTful APIs using Flask</td><td>Peeking into Python’s C API</td><td>None</td><td>None</td></tr><tr><td>5</td><td>Server for IoT devices and Mobile devices using Wifi Network,</td><td>Ingesting 35 million hotel images with python in the cloud.</td><td>Iteration, iteration, iteration</td><td>Datu bistaratze soluzioen garapena Smartcity proiektuetan</td><td>How to use Metaclasses to improve your Software Design</td><td>None</td><td>None</td></tr><tr><td>6</td><td>Machine Learning: Power of Ensembles</td><td>None</td><td>Writing faster Python</td><td>Entendiendo Unicode</td><td>Effectively test your webapp with Python and Selenium</td><td>None</td><td>None</td></tr></table>"
      ],
      "text/plain": [
       "<IPython.core.display.HTML object>"
      ]
     },
     "metadata": {},
     "output_type": "display_data"
    },
    {
     "data": {
      "text/html": [
       "<h1>Wednesday, July 20th</h1>"
      ],
      "text/plain": [
       "<IPython.core.display.HTML object>"
      ]
     },
     "metadata": {},
     "output_type": "display_data"
    },
    {
     "data": {
      "text/html": [
       "<table><tr><td>Slot</td><td>A1</td><td>A3</td><td>A2</td><td>Ba1</td><td>Ba2</td><td>E</td><td>A4</td></tr><tr><td>0</td><td>What Python can learn from Haskell packaging</td><td>Ethical hacking with Python tools</td><td>Analyzing Data with Python & Docker</td><td>I Hate You, NLP... ;)</td><td>Building Service interfaces with OpenAPI / Swagger</td><td>OpenStack Cloud Native Deployment for Application Developers</td><td>(Machine-)Learning Chinese, with Python!</td></tr><tr><td>1</td><td>Python in Astronomy</td><td>Operating on Encrypted Data with ZeroDB</td><td>Towards More Secure Emailing</td><td>Automate, contribute, repeat.</td><td>Deep Learning with Python & TensorFlow</td><td>NumPy with Cython</td><td>Introduction to Data Wrangling</td></tr><tr><td>2</td><td>It's not magic: descriptors exposed</td><td>What's the point of Object Orientation?</td><td>Machine Learning for dummies with Python</td><td>So you think your Python startup is worth $10 million...</td><td>Pure Data and a Clean Architecture</td><td>None</td><td>None</td></tr><tr><td>3</td><td>SQLAlchemy as the backbone of a Data Science company</td><td>Metaclasses for fun and profit: Making a declarative GUI implementation</td><td>-</td><td>-</td><td>-</td><td>None</td><td>None</td></tr><tr><td>4</td><td>Learn Python The Fun Way</td><td>-</td><td>Music transcription with Python</td><td>import community</td><td>Developing a real-time automated trading platform with Python</td><td>None</td><td>None</td></tr><tr><td>5</td><td>AFP: secure cloud authentication for machines and humans.</td><td>async/await in Python 3.5 and why it is awesome</td><td>Is that spam in my ham?</td><td>Buildout Django eta Fabric. Kasu praktikoa euskarazko tokiko hedabideetan</td><td>Pytest desde las trincheras</td><td>None</td><td>None</td></tr><tr><td>6</td><td>NetworkX Visualization Powered by Bokeh</td><td>None</td><td>Managing Mocks</td><td>Dynamic Class Generation in Python</td><td>Build your Microservices with ZeroMQ</td><td>None</td><td>None</td></tr></table>"
      ],
      "text/plain": [
       "<IPython.core.display.HTML object>"
      ]
     },
     "metadata": {},
     "output_type": "display_data"
    },
    {
     "data": {
      "text/html": [
       "<h1>Thursday, July 21st</h1>"
      ],
      "text/plain": [
       "<IPython.core.display.HTML object>"
      ]
     },
     "metadata": {},
     "output_type": "display_data"
    },
    {
     "data": {
      "text/html": [
       "<table><tr><td>Slot</td><td>A1</td><td>A3</td><td>A2</td><td>Ba1</td><td>Ba2</td><td>E</td><td>A4</td></tr><tr><td>0</td><td>Efficient Django</td><td>Handling GPS Data with Python</td><td>Designing a Pythonic Interface</td><td>Kung Fu al amanecer con itertools</td><td>Build your first OpenStack application with OpenStack PythonSDK</td><td>Faster Python Programs - Measure, don't Guess</td><td>Blender: much visual, very 3d, many python.</td></tr><tr><td>1</td><td>Asynchronous network requests in a web application</td><td>Python in Gravitational Waves Research Communities</td><td>The Report Of Twisted’s Death</td><td>Fast Async Code with Cython and AsyncIO</td><td>-</td><td>Test-driven code search and the art of writing implementation-agnostic tests</td><td>pytest - simple, rapid and fun testing with Python</td></tr><tr><td>2</td><td>Brainwaves for hackers 3</td><td>Performant Python</td><td>Writing Python Native Extensions in Rust</td><td>Building a reasonably popular web application for the first time.</td><td>Game Theory to the Rescue When Hard Decisions Are to Be Made</td><td>None</td><td>None</td></tr><tr><td>3</td><td>A Gentle Introduction to Neural Networks (with Python)</td><td>Implementing Parallel Programming Design Patterns using EFL for Python</td><td>-</td><td>-</td><td>-</td><td>None</td><td>None</td></tr><tr><td>4</td><td>Get in control of your workflows with Airflow</td><td>-</td><td>AWS lambda & Python</td><td>CFFI: calling C from Python</td><td>re-Discovering Python's Regular Expressions</td><td>None</td><td>None</td></tr><tr><td>5</td><td>Building a mBaaS framework using Django</td><td>Pygame Zero</td><td>Predicting Oscar Winners & Box Office Hits with Scikit Learn</td><td>MiniBrew: Brewing beer with Python</td><td>Another pair of eyes: Reviewing code well</td><td>None</td><td>None</td></tr><tr><td>6</td><td>Making robots walk with Python</td><td>None</td><td>The right way to write documentation</td><td>Keeping the Lights on with Python</td><td>EuroPython 2017: Help us build the next edition!</td><td>None</td><td>None</td></tr></table>"
      ],
      "text/plain": [
       "<IPython.core.display.HTML object>"
      ]
     },
     "metadata": {},
     "output_type": "display_data"
    },
    {
     "data": {
      "text/html": [
       "<h1>Friday, July 22nd</h1>"
      ],
      "text/plain": [
       "<IPython.core.display.HTML object>"
      ]
     },
     "metadata": {},
     "output_type": "display_data"
    },
    {
     "data": {
      "text/html": [
       "<table><tr><td>Slot</td><td>A1</td><td>A3</td><td>A2</td><td>Ba1</td><td>Ba2</td><td>E</td><td>A4</td></tr><tr><td>0</td><td>-</td><td>-</td><td>-</td><td>-</td><td>-</td><td>Productive Coding with PyCharm</td><td>Property-based testing with Hypothesis</td></tr><tr><td>1</td><td>-</td><td>-</td><td>-</td><td>-</td><td>-</td><td>Manage your Python packages professionally with devpi</td><td>IPython in Depth</td></tr><tr><td>2</td><td>-</td><td>-</td><td>Wrestling Python into LLVM Intermediate Representation</td><td>Python Descriptors for Better Data Structures</td><td>Sponsored Talk</td><td>None</td><td>None</td></tr><tr><td>3</td><td>-</td><td>-</td><td>-</td><td>-</td><td>-</td><td>None</td><td>None</td></tr><tr><td>4</td><td>Protect your users with Circuit Breakers</td><td>-</td><td>Optimize Thyself</td><td>Writing unit tests for C code in Python</td><td>Sponsored Talk</td><td>None</td><td>None</td></tr><tr><td>5</td><td>Implementing a Sound Identifier in Python</td><td>RESTful API - Best Practises.</td><td>Exploring our Python Interpreter</td><td>Exploring Python Bytecode</td><td>-</td><td>None</td><td>None</td></tr><tr><td>6</td><td>Testing the untestable: a beginner’s guide to mock objects</td><td>None</td><td>Grocker, a Python build chain for Docker</td><td>The value of mindfulness and how it has arrived at Google</td><td>-</td><td>None</td><td>None</td></tr></table>"
      ],
      "text/plain": [
       "<IPython.core.display.HTML object>"
      ]
     },
     "metadata": {},
     "output_type": "display_data"
    }
   ],
   "source": [
    "for day, _ in enumerate(weekday_names):\n",
    "    show('<h1>{}</h1>'.format(weekday_names[day]))\n",
    "    show(tabulate(get_day_schedule(weekly_schedule, day), header=['Slot'] + room_names)._repr_html_())"
   ]
  },
  {
   "cell_type": "markdown",
   "metadata": {},
   "source": [
    "# TRAININGS"
   ]
  },
  {
   "cell_type": "markdown",
   "metadata": {},
   "source": [
    "### Room E"
   ]
  },
  {
   "cell_type": "code",
   "execution_count": 228,
   "metadata": {
    "collapsed": false
   },
   "outputs": [
    {
     "data": {
      "text/html": [
       "<table><tr><td>E Room</td><td>Monday, July 18th</td><td>Tuesday, July 19th</td><td>Wednesday, July 20th</td><td>Thursday, July 21st</td><td>Friday, July 22nd</td></tr><tr><td>11:00:00</td><td>uWSGI: the full stack application server</td><td>Present-day Async Web development training: from Twisted to Tornado and AsyncIO</td><td>OpenStack Cloud Native Deployment for Application Developers</td><td>Faster Python Programs - Measure, don't Guess</td><td>Productive Coding with PyCharm</td></tr><tr><td>13:30:00</td><td>Python for System Administrators</td><td>Guide to make a real contribution to an open source project for novice</td><td>NumPy with Cython</td><td>Test-driven code search and the art of writing implementation-agnostic tests</td><td>Manage your Python packages professionally with devpi</td></tr></table>"
      ],
      "text/plain": [
       "[['E Room',\n",
       "  'Monday, July 18th',\n",
       "  'Tuesday, July 19th',\n",
       "  'Wednesday, July 20th',\n",
       "  'Thursday, July 21st',\n",
       "  'Friday, July 22nd'],\n",
       " [datetime.time(11, 0),\n",
       "  'uWSGI: the full stack application server',\n",
       "  'Present-day Async Web development training: from Twisted to Tornado and AsyncIO',\n",
       "  'OpenStack Cloud Native Deployment for Application Developers',\n",
       "  \"Faster Python Programs - Measure, don't Guess\",\n",
       "  'Productive Coding with PyCharm'],\n",
       " [datetime.time(13, 30),\n",
       "  'Python for System Administrators',\n",
       "  'Guide to make a real contribution to an open source project for novice',\n",
       "  'NumPy with Cython',\n",
       "  'Test-driven code search and the art of writing implementation-agnostic tests',\n",
       "  'Manage your Python packages professionally with devpi']]"
      ]
     },
     "execution_count": 228,
     "metadata": {},
     "output_type": "execute_result"
    }
   ],
   "source": [
    "tabulate(get_room_schedule(weekly_schedule, 'E'), header=['E Room'] + weekday_names)"
   ]
  },
  {
   "cell_type": "markdown",
   "metadata": {},
   "source": [
    "### Room A4"
   ]
  },
  {
   "cell_type": "code",
   "execution_count": 164,
   "metadata": {
    "collapsed": false
   },
   "outputs": [
    {
     "data": {
      "text/html": [
       "<table><tr><td>A4 Room</td><td>Monday, July 18th</td><td>Tuesday, July 19th</td><td>Wednesday, July 20th</td><td>Thursday, July 21st</td><td>Friday, July 22nd</td></tr><tr><td>11:00:00</td><td>The Stupid Python Workshop</td><td>Efficient Python for High-Performance Parallel Computing</td><td>(Machine-)Learning Chinese, with Python!</td><td>Blender: much visual, very 3d, many python.</td><td>Property-based testing with Hypothesis</td></tr><tr><td>13:30:00</td><td>Introduction to Deep Learning for Natural Language Processing</td><td>So, what's all the fuss about Docker?</td><td>Introduction to Data Wrangling</td><td>pytest - simple, rapid and fun testing with Python</td><td>IPython in Depth</td></tr></table>"
      ],
      "text/plain": [
       "[['A4 Room',\n",
       "  'Monday, July 18th',\n",
       "  'Tuesday, July 19th',\n",
       "  'Wednesday, July 20th',\n",
       "  'Thursday, July 21st',\n",
       "  'Friday, July 22nd'],\n",
       " [datetime.time(11, 0),\n",
       "  'The Stupid Python Workshop',\n",
       "  'Efficient Python for High-Performance Parallel Computing',\n",
       "  '(Machine-)Learning Chinese, with Python!',\n",
       "  'Blender: much visual, very 3d, many python.',\n",
       "  'Property-based testing with Hypothesis'],\n",
       " [datetime.time(13, 30),\n",
       "  'Introduction to Deep Learning for Natural Language Processing',\n",
       "  \"So, what's all the fuss about Docker?\",\n",
       "  'Introduction to Data Wrangling',\n",
       "  'pytest - simple, rapid and fun testing with Python',\n",
       "  'IPython in Depth']]"
      ]
     },
     "execution_count": 164,
     "metadata": {},
     "output_type": "execute_result"
    }
   ],
   "source": [
    "tabulate(get_room_schedule(weekly_schedule, 'A4'), header=['A4 Room'] + weekday_names)"
   ]
  },
  {
   "cell_type": "code",
   "execution_count": 190,
   "metadata": {
    "collapsed": false
   },
   "outputs": [
    {
     "data": {
      "text/plain": [
       "OrderedDict([(datetime.time(11, 0),\n",
       "              ['Introduction to aiohttp',\n",
       "               'Moving away from NodeJS to a pure python solution for assets',\n",
       "               'What Python can learn from Haskell packaging',\n",
       "               'Efficient Django',\n",
       "               '-']),\n",
       "             (datetime.time(11, 45),\n",
       "              ['Against the silos: usable encrypted email & the quest for privacy-aware services',\n",
       "               'Using Service Discovery to build dynamic python applications',\n",
       "               'Python in Astronomy',\n",
       "               'Asynchronous network requests in a web application',\n",
       "               '-']),\n",
       "             (datetime.time(12, 30),\n",
       "              ['What is the best full text search engine for Python?',\n",
       "               'Profiling the unprofilable',\n",
       "               \"It's not magic: descriptors exposed\",\n",
       "               'Brainwaves for hackers 3',\n",
       "               '-']),\n",
       "             (datetime.time(14, 30),\n",
       "              ['Hacking ético con herramientas Python',\n",
       "               'Scaling Microservices with Crossbar.io',\n",
       "               'SQLAlchemy as the backbone of a Data Science company',\n",
       "               'A Gentle Introduction to Neural Networks (with Python)',\n",
       "               '-']),\n",
       "             (datetime.time(15, 15),\n",
       "              ['Using and abusing Python’s double-underscore methods and attributes',\n",
       "               'Writing Redis in Python with asyncio',\n",
       "               'Learn Python The Fun Way',\n",
       "               'Get in control of your workflows with Airflow',\n",
       "               'Protect your users with Circuit Breakers']),\n",
       "             (datetime.time(15, 45),\n",
       "              ['Real virtual environments without virtualenv',\n",
       "               'Server for IoT devices and Mobile devices using Wifi Network,',\n",
       "               'AFP: secure cloud authentication for machines and humans.',\n",
       "               'Building a mBaaS framework using Django',\n",
       "               'Implementing a Sound Identifier in Python']),\n",
       "             (datetime.time(17, 0),\n",
       "              ['Go for Python Programmers',\n",
       "               'Machine Learning: Power of Ensembles',\n",
       "               'NetworkX Visualization Powered by Bokeh',\n",
       "               'Making robots walk with Python',\n",
       "               'Testing the untestable: a beginner’s guide to mock objects'])])"
      ]
     },
     "execution_count": 190,
     "metadata": {},
     "output_type": "execute_result"
    }
   ],
   "source": [
    "get_room_schedule(weekly_schedule, 'A1')"
   ]
  },
  {
   "cell_type": "markdown",
   "metadata": {},
   "source": [
    "## Snippets"
   ]
  },
  {
   "cell_type": "code",
   "execution_count": null,
   "metadata": {
    "collapsed": true
   },
   "outputs": [],
   "source": [
    "## schedules by room\n",
    "# tabulate(get_room_schedule(weekly_schedule, 'A1'),  header=['A1'] + weekday_names)\n",
    "# tabulate(get_room_schedule(weekly_schedule, 'A2'),  header=['A2'] + weekday_names)\n",
    "# tabulate(get_room_schedule(weekly_schedule, 'A3'),  header=['A3'] + weekday_names)\n",
    "# tabulate(get_room_schedule(weekly_schedule, 'Ba1'), header=['Barria 1'] + weekday_names)\n",
    "# tabulate(get_room_schedule(weekly_schedule, 'Ba2'), header=['Barria 2'] + weekday_names)"
   ]
  }
 ],
 "metadata": {
  "kernelspec": {
   "display_name": "Python 3",
   "language": "python",
   "name": "python3"
  },
  "language_info": {
   "codemirror_mode": {
    "name": "ipython",
    "version": 3
   },
   "file_extension": ".py",
   "mimetype": "text/x-python",
   "name": "python",
   "nbconvert_exporter": "python",
   "pygments_lexer": "ipython3",
   "version": "3.5.1"
  }
 },
 "nbformat": 4,
 "nbformat_minor": 0
}
