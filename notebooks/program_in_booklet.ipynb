{
 "cells": [
  {
   "cell_type": "markdown",
   "metadata": {},
   "source": [
    "# EuroPython 2015 booklet program listing"
   ]
  },
  {
   "cell_type": "code",
   "execution_count": 1,
   "metadata": {
    "collapsed": false
   },
   "outputs": [
    {
     "data": {
      "application/javascript": [
       "IPython.OutputArea.auto_scroll_threshold = 99999;\n",
       "//increase max size of output area"
      ],
      "text/plain": [
       "<IPython.core.display.Javascript object>"
      ]
     },
     "metadata": {},
     "output_type": "display_data"
    }
   ],
   "source": [
    "%%javascript\n",
    "IPython.OutputArea.auto_scroll_threshold = 99999;\n",
    "//increase max size of output area"
   ]
  },
  {
   "cell_type": "code",
   "execution_count": 2,
   "metadata": {
    "collapsed": false
   },
   "outputs": [],
   "source": [
    "import json\n",
    "import datetime as dt\n",
    "from   operator import itemgetter\n",
    "\n",
    "from IPython.display import display, HTML\n",
    "from IPython.nbconvert.filters.markdown import markdown2html"
   ]
  },
  {
   "cell_type": "code",
   "execution_count": 3,
   "metadata": {
    "collapsed": false
   },
   "outputs": [],
   "source": [
    "talk_sessions = json.load(open('talk_abstracts.json'))\n",
    "talks_admin_url = 'https://ep2015.europython.eu/admin/conference/talk'"
   ]
  },
  {
   "cell_type": "code",
   "execution_count": 4,
   "metadata": {
    "collapsed": false
   },
   "outputs": [],
   "source": [
    "show = lambda s: display(HTML(s))\n",
    "\n",
    "def ordinal(n):\n",
    "    if 10 <= n % 100 < 20:\n",
    "        return str(n) + 'th'\n",
    "    else:\n",
    "        return  str(n) + {1 : 'st', 2 : 'nd', 3 : 'rd'}.get(n % 10, \"th\")\n",
    "\n",
    "def talk_schedule(start, end):\n",
    "\n",
    "    input_format  = \"%Y-%m-%d %H:%M:%S\"\n",
    "    output_format_day = \"%A, %B\"\n",
    "    output_format_time = \"%H:%M\"\n",
    "    \n",
    "    output_date = lambda d: \"{} {} at {}\".format(d.strftime(output_format_day), \n",
    "                                                 ordinal(int(d.strftime('%d'))),\n",
    "                                                 d.strftime(output_format_time))\n",
    "    \n",
    "    start_date = dt.datetime.strptime(start, input_format)\n",
    "    end_date   = dt.datetime.strptime(end  , input_format)\n",
    "\n",
    "    return output_date(start_date), output_date(end_date)\n",
    "\n",
    "\n",
    "def show_talk(talk, show_duration=True, show_link_to_admin=True):\n",
    "    \n",
    "    speakers  = talk['speakers']\n",
    "    title     = talk['title']\n",
    "    abstract  = talk['abstracts'][0]\n",
    "    room      = talk.get('track_title', '').split(', ')[0]\n",
    "    timerange = talk.get('timerange', '').split(';')[0]\n",
    "    \n",
    "    show('<h2>{}</h2>'.format(title))\n",
    "    \n",
    "    if show_link_to_admin:\n",
    "        talk_admin_url = talks_admin_url + '/{}'.format(talk['id'])\n",
    "        show('<a href={0}>{0}</a>'.format(talk_admin_url))\n",
    "    \n",
    "    if show_duration:\n",
    "        duration = '{} mins.'.format(talk['duration'])\n",
    "    else:\n",
    "        duration = ''\n",
    "\n",
    "    timerange = talk['timerange'].split(';')[0]\n",
    "    try:\n",
    "        start, end = talk_schedule(*timerange.split(', '))\n",
    "    except:\n",
    "        start, end = ('', '')\n",
    "\n",
    "    if start:\n",
    "        schedule  = '<p>'\n",
    "        schedule += '{} in {}'.format(start, room)\n",
    "        if show_duration:\n",
    "            schedule += ' ({})'.format(duration)\n",
    "        schedule += '</p>'\n",
    "\n",
    "        show(schedule)\n",
    "    \n",
    "    show('<h3><i>{}</i></h2>'.format(speakers))\n",
    "    show('<p>{}</p>'.format(markdown2html(abstract)))\n",
    "    show('<br/>')"
   ]
  },
  {
   "cell_type": "code",
   "execution_count": 5,
   "metadata": {
    "collapsed": false
   },
   "outputs": [],
   "source": [
    "session_names = ['Keynotes', 'Talks', 'Trainings', 'Help desks',\n",
    "                 'EuroPython sessions', 'Other sessions', 'Poster sessions']"
   ]
  },
  {
   "cell_type": "code",
   "execution_count": 6,
   "metadata": {
    "collapsed": false
   },
   "outputs": [
    {
     "data": {
      "text/html": [
       "<h1>Keynotes</h1>"
      ],
      "text/plain": [
       "<IPython.core.display.HTML object>"
      ]
     },
     "metadata": {},
     "output_type": "display_data"
    },
    {
     "data": {
      "text/html": [
       "<h2>Keynote: Designed for Education: A Python Solution</h2>"
      ],
      "text/plain": [
       "<IPython.core.display.HTML object>"
      ]
     },
     "metadata": {},
     "output_type": "display_data"
    },
    {
     "data": {
      "text/html": [
       "<p>Thursday, July 23rd at 09:30 in Google Room</p>"
      ],
      "text/plain": [
       "<IPython.core.display.HTML object>"
      ]
     },
     "metadata": {},
     "output_type": "display_data"
    },
    {
     "data": {
      "text/html": [
       "<h3><i>Carrie Anne Philbin</i></h2>"
      ],
      "text/plain": [
       "<IPython.core.display.HTML object>"
      ]
     },
     "metadata": {},
     "output_type": "display_data"
    },
    {
     "data": {
      "text/html": [
       "<p><p>The problem of introducing children to programming and computer science has\n",
       "seen growing attention in the past few years. Initiatives like Raspberry\n",
       "Pi, Code Club, code.org, (and many more) have been created to help solve\n",
       "this problem. With the introduction of a national computing curriculum in\n",
       "the UK, teachers have been searching for a text based programming language\n",
       "to help teach computational thinking as a follow on from visual languages\n",
       "like Scratch.</p>\n",
       "<p>The educational community has been served well by Python, benefiting from\n",
       "its straight-forward syntax, large selection of libraries, and supportive\n",
       "community. Education-focused summits are now a major part of most major\n",
       "Python Conferences. Assistance in terms of documentation and training is\n",
       "invaluable, but perhaps there are technical means of improving the\n",
       "experience of those using Python in education. Clearly the needs of\n",
       "teachers and their students are different to those of the seasoned\n",
       "programmer. Children are unlikely to come to their teachers with\n",
       "frustrations about the Global Interpreter Lock! But issues such as\n",
       "usability of IDEs or comprehensibility of error messages are of utmost\n",
       "importance.</p>\n",
       "<p>In this keynote, Carrie Anne will discuss existing barriers to Python\n",
       "becoming the premier language of choice for teaching computer science, and\n",
       "how learning Python could be helped immensely through tooling and further\n",
       "support from the Python developer community.</p>\n",
       "</p>"
      ],
      "text/plain": [
       "<IPython.core.display.HTML object>"
      ]
     },
     "metadata": {},
     "output_type": "display_data"
    },
    {
     "data": {
      "text/html": [
       "<br/>"
      ],
      "text/plain": [
       "<IPython.core.display.HTML object>"
      ]
     },
     "metadata": {},
     "output_type": "display_data"
    },
    {
     "data": {
      "text/html": [
       "<h2>Keynote: It's Dangerous To Go Alone, Take This: The Power of a Community</h2>"
      ],
      "text/plain": [
       "<IPython.core.display.HTML object>"
      ]
     },
     "metadata": {},
     "output_type": "display_data"
    },
    {
     "data": {
      "text/html": [
       "<p>Monday, July 20th at 09:30 in Google Room</p>"
      ],
      "text/plain": [
       "<IPython.core.display.HTML object>"
      ]
     },
     "metadata": {},
     "output_type": "display_data"
    },
    {
     "data": {
      "text/html": [
       "<h3><i>Ola Sitarska, Ola Sendecka</i></h2>"
      ],
      "text/plain": [
       "<IPython.core.display.HTML object>"
      ]
     },
     "metadata": {},
     "output_type": "display_data"
    },
    {
     "data": {
      "text/html": [
       "<p><p>In this keynote, Ola and Ola will take you on a fantastic journey to the magical world of little Liz, who is totally enchanted by technology. The story of Liz will show that with a little bit of magic, curiosity, courage and hard work, you can defeat all the obstacles standing in your way. You'll discover with her that making big and scary things is easier when you're not doing them alone. Because sometimes, one magical spell, the helpful hand of a friend or this shiny sparkle is all it takes to make a dent in one's universe.</p>\n",
       "</p>"
      ],
      "text/plain": [
       "<IPython.core.display.HTML object>"
      ]
     },
     "metadata": {},
     "output_type": "display_data"
    },
    {
     "data": {
      "text/html": [
       "<br/>"
      ],
      "text/plain": [
       "<IPython.core.display.HTML object>"
      ]
     },
     "metadata": {},
     "output_type": "display_data"
    },
    {
     "data": {
      "text/html": [
       "<h2>Keynote: Python now and in the future</h2>"
      ],
      "text/plain": [
       "<IPython.core.display.HTML object>"
      ]
     },
     "metadata": {},
     "output_type": "display_data"
    },
    {
     "data": {
      "text/html": [
       "<p>Tuesday, July 21st at 09:30 in Google Room</p>"
      ],
      "text/plain": [
       "<IPython.core.display.HTML object>"
      ]
     },
     "metadata": {},
     "output_type": "display_data"
    },
    {
     "data": {
      "text/html": [
       "<h3><i>Guido van Rossum</i></h2>"
      ],
      "text/plain": [
       "<IPython.core.display.HTML object>"
      ]
     },
     "metadata": {},
     "output_type": "display_data"
    },
    {
     "data": {
      "text/html": [
       "<p><p>This is <em>your</em> keynote! I will have some prepared remarks on the state of the Python community and Python's future directions, but first and foremost this will be an interactive Q&amp;A session.</p>\n",
       "</p>"
      ],
      "text/plain": [
       "<IPython.core.display.HTML object>"
      ]
     },
     "metadata": {},
     "output_type": "display_data"
    },
    {
     "data": {
      "text/html": [
       "<br/>"
      ],
      "text/plain": [
       "<IPython.core.display.HTML object>"
      ]
     },
     "metadata": {},
     "output_type": "display_data"
    },
    {
     "data": {
      "text/html": [
       "<h2>Keynote: So, I have all these Docker containers, now what?</h2>"
      ],
      "text/plain": [
       "<IPython.core.display.HTML object>"
      ]
     },
     "metadata": {},
     "output_type": "display_data"
    },
    {
     "data": {
      "text/html": [
       "<p>Friday, July 24th at 09:30 in Google Room</p>"
      ],
      "text/plain": [
       "<IPython.core.display.HTML object>"
      ]
     },
     "metadata": {},
     "output_type": "display_data"
    },
    {
     "data": {
      "text/html": [
       "<h3><i>Mandy Waite</i></h2>"
      ],
      "text/plain": [
       "<IPython.core.display.HTML object>"
      ]
     },
     "metadata": {},
     "output_type": "display_data"
    },
    {
     "data": {
      "text/html": [
       "<p><p>You've solved the issue of process-level reproducibility by packaging up\n",
       "your apps and execution environments into a number of Docker containers.\n",
       "But once you have a lot of containers running, you'll probably need to\n",
       "coordinate them across a cluster of machines while keeping them healthy and\n",
       "making sure they can find each other. Trying to do this imperatively can\n",
       "quickly turn into an unmanageable mess! Wouldn't it be helpful if you could\n",
       "declare to your cluster what you want it to do, and then have the cluster\n",
       "assign the resources to get it done and to recover from failures and scale\n",
       "on demand?\n",
       "&gt;\n",
       "Kubernetes (<a href=\"http://kubernetes.io\">http://kubernetes.io</a>) is an open source, cross platform cluster\n",
       "management and container orchestration platform that simplifies the complex\n",
       "tasks of deploying and managing your applications in Docker containers. You\n",
       "declare a desired state, and Kubernetes does all the work needed to create\n",
       "and maintain it. In this talk, we’ll look at the basics of Kubernetes and\n",
       "at how to map common applications to these concepts. This will include a\n",
       "hands-on demonstration and visualization of the steps involved in getting\n",
       "an application up and running on Kubernetes.</p>\n",
       "</p>"
      ],
      "text/plain": [
       "<IPython.core.display.HTML object>"
      ]
     },
     "metadata": {},
     "output_type": "display_data"
    },
    {
     "data": {
      "text/html": [
       "<br/>"
      ],
      "text/plain": [
       "<IPython.core.display.HTML object>"
      ]
     },
     "metadata": {},
     "output_type": "display_data"
    },
    {
     "data": {
      "text/html": [
       "<h2>Keynote: Towards a more effective, decentralized web</h2>"
      ],
      "text/plain": [
       "<IPython.core.display.HTML object>"
      ]
     },
     "metadata": {},
     "output_type": "display_data"
    },
    {
     "data": {
      "text/html": [
       "<p>Wednesday, July 22nd at 09:30 in Google Room</p>"
      ],
      "text/plain": [
       "<IPython.core.display.HTML object>"
      ]
     },
     "metadata": {},
     "output_type": "display_data"
    },
    {
     "data": {
      "text/html": [
       "<h3><i>Holger Krekel</i></h2>"
      ],
      "text/plain": [
       "<IPython.core.display.HTML object>"
      ]
     },
     "metadata": {},
     "output_type": "display_data"
    },
    {
     "data": {
      "text/html": [
       "<p><p>Many would like to see more decentralization but what does it mean, really?  In this talk, I'll discuss the recent rise of immutable state concepts in languages and network protocols.  And how the advent of hash-based data structures and replication strategies are shaking the client/server web service paradigm which rests on managing mutable state through http.  By contrast, building on git, bittorrent and other content addressed data structures provides for a more secure, efficient decentralized communication topology.   There are projects, thoughts and talk to create new web standards to bring such technologies to mass deployment and fuel a new wave of decentralization.  What can Python bring to the table?</p>\n",
       "</p>"
      ],
      "text/plain": [
       "<IPython.core.display.HTML object>"
      ]
     },
     "metadata": {},
     "output_type": "display_data"
    },
    {
     "data": {
      "text/html": [
       "<br/>"
      ],
      "text/plain": [
       "<IPython.core.display.HTML object>"
      ]
     },
     "metadata": {},
     "output_type": "display_data"
    },
    {
     "data": {
      "text/html": [
       "<h1>Talks</h1>"
      ],
      "text/plain": [
       "<IPython.core.display.HTML object>"
      ]
     },
     "metadata": {},
     "output_type": "display_data"
    },
    {
     "data": {
      "text/html": [
       "<h2>\"It's about time to take your medication!\" or how to write a friendly reminder bot ;-)</h2>"
      ],
      "text/plain": [
       "<IPython.core.display.HTML object>"
      ]
     },
     "metadata": {},
     "output_type": "display_data"
    },
    {
     "data": {
      "text/html": [
       "<p>Friday, July 24th at 11:45 in Barria2 Room</p>"
      ],
      "text/plain": [
       "<IPython.core.display.HTML object>"
      ]
     },
     "metadata": {},
     "output_type": "display_data"
    },
    {
     "data": {
      "text/html": [
       "<h3><i>Florian Wilhelm</i></h2>"
      ],
      "text/plain": [
       "<IPython.core.display.HTML object>"
      ]
     },
     "metadata": {},
     "output_type": "display_data"
    },
    {
     "data": {
      "text/html": [
       "<p><p>The author  shows how to use the <a href=\"http://sleekxmpp.readthedocs.org/\">SleekXMPP</a> library in order to write a small chatbot that connects to Google Hangouts and reminds you or someone else to take medication for instance.  The secure and recommended OAuth2  protocol is used to authorize the bot application in the <a href=\"https://console.developers.google.com/\">Google Developers Console</a>  in order to access the Google+ Hangouts API. The author will elaborate then on how to use an event-driven library to write a bot that sends scheduled messages, waits for a proper reply and repeats the question if need be. Thereby, a primer on event-driven architectures will be given.</p>\n",
       "</p>"
      ],
      "text/plain": [
       "<IPython.core.display.HTML object>"
      ]
     },
     "metadata": {},
     "output_type": "display_data"
    },
    {
     "data": {
      "text/html": [
       "<br/>"
      ],
      "text/plain": [
       "<IPython.core.display.HTML object>"
      ]
     },
     "metadata": {},
     "output_type": "display_data"
    },
    {
     "data": {
      "text/html": [
       "<h2>12 years of Pylint (or How I learned to stop worrying about bugs)</h2>"
      ],
      "text/plain": [
       "<IPython.core.display.HTML object>"
      ]
     },
     "metadata": {},
     "output_type": "display_data"
    },
    {
     "data": {
      "text/html": [
       "<p>Wednesday, July 22nd at 14:30 in Google Room</p>"
      ],
      "text/plain": [
       "<IPython.core.display.HTML object>"
      ]
     },
     "metadata": {},
     "output_type": "display_data"
    },
    {
     "data": {
      "text/html": [
       "<h3><i>Claudiu Popa</i></h2>"
      ],
      "text/plain": [
       "<IPython.core.display.HTML object>"
      ]
     },
     "metadata": {},
     "output_type": "display_data"
    },
    {
     "data": {
      "text/html": [
       "<p><p>Given the dynamic nature of Python, some bugs tend to creep in our codebases. Innocents NameErrors or hard-to-find bugs with variables used in a closure, but defined in a loop, they all stand no chance in front of Pylint (<a href=\"http://pylint.org/\">http://pylint.org/</a>).\n",
       "In this talk, I'll present one of the oldest static analysis tools for Python, with emphasis on what it can do to understand your Python code.  Pylint is both a style checker, enforcing PEP 8 rules, as well as a code checker in the vein of pyflakes and the likes, but its true power isn't always obvious to the eye of beholder.  It can detect simple bugs such as unused variables and imports, but it can also detect more complicated cases such as invalid arguments passed to functions, it understands the method resolution order of your classes and what special methods aren't implemented correctly. Starting from abstract syntax trees, we'll go through its inference engine and we'll see how Pylint understands the logical flow of your program and what sort of type hinting techniques are used to improve its inference, including PEP 484 type hints. As a bonus, I'll show how it can be used to help you port your long-forgotten library to Python 3, using its new --py3k mode.</p>\n",
       "</p>"
      ],
      "text/plain": [
       "<IPython.core.display.HTML object>"
      ]
     },
     "metadata": {},
     "output_type": "display_data"
    },
    {
     "data": {
      "text/html": [
       "<br/>"
      ],
      "text/plain": [
       "<IPython.core.display.HTML object>"
      ]
     },
     "metadata": {},
     "output_type": "display_data"
    },
    {
     "data": {
      "text/html": [
       "<h2>A Deep Look at Logging</h2>"
      ],
      "text/plain": [
       "<IPython.core.display.HTML object>"
      ]
     },
     "metadata": {},
     "output_type": "display_data"
    },
    {
     "data": {
      "text/html": [
       "<p>Tuesday, July 21st at 15:15 in Room A2</p>"
      ],
      "text/plain": [
       "<IPython.core.display.HTML object>"
      ]
     },
     "metadata": {},
     "output_type": "display_data"
    },
    {
     "data": {
      "text/html": [
       "<h3><i>Stefan Baerisch</i></h2>"
      ],
      "text/plain": [
       "<IPython.core.display.HTML object>"
      ]
     },
     "metadata": {},
     "output_type": "display_data"
    },
    {
     "data": {
      "text/html": [
       "<p><p>Do you know what your application did last night? Python logging can help you.</p>\n",
       "<p>This talk you will show you how to implement a systematic logging approach without boilerplate code and how to set up the Python logging module for different needs in production systems.  We will see how to  work with log files and other logging endpoints.  We will address the data protection concerns that come up when logging  from application with personal  information. We will also look at the performance implications of logging. We will then cover best practices - how to structure logging, what to include in a log message, and how to configure logging for different use cases.</p>\n",
       "<p>We will use the Python standard logging module to implement logging.  This talk is useful to beginners with some experience.  An understanding of decorators is useful, but not required.  Some experience in web programming is a plus.</p>\n",
       "</p>"
      ],
      "text/plain": [
       "<IPython.core.display.HTML object>"
      ]
     },
     "metadata": {},
     "output_type": "display_data"
    },
    {
     "data": {
      "text/html": [
       "<br/>"
      ],
      "text/plain": [
       "<IPython.core.display.HTML object>"
      ]
     },
     "metadata": {},
     "output_type": "display_data"
    },
    {
     "data": {
      "text/html": [
       "<h2>A Pythonic Approach to Continuous Delivery</h2>"
      ],
      "text/plain": [
       "<IPython.core.display.HTML object>"
      ]
     },
     "metadata": {},
     "output_type": "display_data"
    },
    {
     "data": {
      "text/html": [
       "<p>Wednesday, July 22nd at 11:00 in Room A2</p>"
      ],
      "text/plain": [
       "<IPython.core.display.HTML object>"
      ]
     },
     "metadata": {},
     "output_type": "display_data"
    },
    {
     "data": {
      "text/html": [
       "<h3><i>Sebastian Neubauer</i></h2>"
      ],
      "text/plain": [
       "<IPython.core.display.HTML object>"
      ]
     },
     "metadata": {},
     "output_type": "display_data"
    },
    {
     "data": {
      "text/html": [
       "<p><p>Software development is all about writing code that delivers additional value to a customer. Following the agile and lean approach this value created by code changes should be continuously delivered as fast, as early and as often as possible without any compromise on the quality. \n",
       "Remarkably, there is a huge gap between the development of the application code and the reliable and scalable operation of the application. As an example, most of the tutorials about web development with Flask or Django end by starting a local “dummy” server, missing out all the steps needed for production ready operation of the web service. Furthermore, as there is no “rocket science” in-between, many proposals to bridge that gap from both sides, operations and developers start with sentences like: “you just have to...”, a clear indication that it will cause problems later on and also a symptom of a cultural gap between developers and operations staff.\n",
       "In this talk I will go through the complete delivery pipeline from application development to the industrial grade operation, clearly biased towards the “DevOps” mindset. Instead of presenting a sophisticated enterprise solution, I will outline the necessary building blocks for continuous delivery and fill them up with simple but working poor man's solutions, so that it is equally useful for professional and non-professional developers and operations engineers. After the talk you will know how to build such a continuous delivery pipeline with open-source tools like “Ansible”, “Devpi” and “Jenkins” and I will share some of my day-to-day experiences with automation in general. Although many of the concepts are language agnostic I will focus on the ins and outs in a python universe and outline the pythonic way of “get this thing running”.</p>\n",
       "</p>"
      ],
      "text/plain": [
       "<IPython.core.display.HTML object>"
      ]
     },
     "metadata": {},
     "output_type": "display_data"
    },
    {
     "data": {
      "text/html": [
       "<br/>"
      ],
      "text/plain": [
       "<IPython.core.display.HTML object>"
      ]
     },
     "metadata": {},
     "output_type": "display_data"
    },
    {
     "data": {
      "text/html": [
       "<h2>Activity Map from space: supporting mine clearance with Python</h2>"
      ],
      "text/plain": [
       "<IPython.core.display.HTML object>"
      ]
     },
     "metadata": {},
     "output_type": "display_data"
    },
    {
     "data": {
      "text/html": [
       "<p>Wednesday, July 22nd at 16:45 in Room A2</p>"
      ],
      "text/plain": [
       "<IPython.core.display.HTML object>"
      ]
     },
     "metadata": {},
     "output_type": "display_data"
    },
    {
     "data": {
      "text/html": [
       "<h3><i>Giuseppe Cammarota</i></h2>"
      ],
      "text/plain": [
       "<IPython.core.display.HTML object>"
      ]
     },
     "metadata": {},
     "output_type": "display_data"
    },
    {
     "data": {
      "text/html": [
       "<p><p>Removing UneXploded Ordnance (UXO) from minefields at the end of a conflict is a very time-consuming and expensive operation. Advanced satellite image processing can detect changes and activities on the ground and represent them on a map that can be used by operators to classify more dangerous zones and safer areas, potentially reducing the time spent on field surveys.</p>\n",
       "<p>We exploit space-borne radar Earth images together with thematic data for mapping activities on the ground using numpy, scipy and gdal. The Activity Map generation process to be shown will be implemented using IPython Notebook.</p>\n",
       "</p>"
      ],
      "text/plain": [
       "<IPython.core.display.HTML object>"
      ]
     },
     "metadata": {},
     "output_type": "display_data"
    },
    {
     "data": {
      "text/html": [
       "<br/>"
      ],
      "text/plain": [
       "<IPython.core.display.HTML object>"
      ]
     },
     "metadata": {},
     "output_type": "display_data"
    },
    {
     "data": {
      "text/html": [
       "<h2>Advanced Web Scraping</h2>"
      ],
      "text/plain": [
       "<IPython.core.display.HTML object>"
      ]
     },
     "metadata": {},
     "output_type": "display_data"
    },
    {
     "data": {
      "text/html": [
       "<p>Tuesday, July 21st at 11:00 in Google Room</p>"
      ],
      "text/plain": [
       "<IPython.core.display.HTML object>"
      ]
     },
     "metadata": {},
     "output_type": "display_data"
    },
    {
     "data": {
      "text/html": [
       "<h3><i>Shane Evans</i></h2>"
      ],
      "text/plain": [
       "<IPython.core.display.HTML object>"
      ]
     },
     "metadata": {},
     "output_type": "display_data"
    },
    {
     "data": {
      "text/html": [
       "<p><p>Python is a fantastic language for writing web scrapers. There is a large ecosystem of useful projects and a great developer community. However, it can be confusing once you go beyond the simpler scrapers typically covered in tutorials.</p>\n",
       "<p>In this talk, we will explore some common real-world scraping tasks. You will learn best practises and get a deeper understanding of what tools and techniques can be used.</p>\n",
       "<p>Topics covered will include:</p>\n",
       "<ul>\n",
       "<li>Crawling - single pages, websites, focussed crawlers, etc.</li>\n",
       "<li>Data extraction - techniques for “scraping” data from from web pages (e.g. regular expressions, xpath, machine learning).</li>\n",
       "<li>Deployment - how to run and maintain different kinds of web scrapers</li>\n",
       "<li>Real world examples</li>\n",
       "</ul>\n",
       "</p>"
      ],
      "text/plain": [
       "<IPython.core.display.HTML object>"
      ]
     },
     "metadata": {},
     "output_type": "display_data"
    },
    {
     "data": {
      "text/html": [
       "<br/>"
      ],
      "text/plain": [
       "<IPython.core.display.HTML object>"
      ]
     },
     "metadata": {},
     "output_type": "display_data"
    },
    {
     "data": {
      "text/html": [
       "<h2>Antipatterns for Diversity</h2>"
      ],
      "text/plain": [
       "<IPython.core.display.HTML object>"
      ]
     },
     "metadata": {},
     "output_type": "display_data"
    },
    {
     "data": {
      "text/html": [
       "<p>Thursday, July 23rd at 16:45 in Room A2</p>"
      ],
      "text/plain": [
       "<IPython.core.display.HTML object>"
      ]
     },
     "metadata": {},
     "output_type": "display_data"
    },
    {
     "data": {
      "text/html": [
       "<h3><i>Naomi Ceder</i></h2>"
      ],
      "text/plain": [
       "<IPython.core.display.HTML object>"
      ]
     },
     "metadata": {},
     "output_type": "display_data"
    },
    {
     "data": {
      "text/html": [
       "<p><p><strong>Stop doing the same thing but expecting different results</strong></p>\n",
       "<p>As developers we put considerable effort into optimisation. We are always tinkering, trying to make things better, and striving to remove antipatterns from our code and our development processes.</p>\n",
       "<p>Yet for some reason we have not been as good at applying this spirit of optimisation to the problem of increasing diversity, even though most people these days agree that, like good tests, agile methodologies, and virtual environments, diversity is a \"good thing\".</p>\n",
       "<p>My position is that just as there is no single easy way to write good code there is no single easy way to increasing diversity. There are, however, several things that companies and organisations do which actually work against diversity. This talk will explore these antipatterns for diversity, including uncritical belief in meritocracy, lack of understanding of the realities of marginalisation, null processes, misunderstanding of \"culture fit\", and an unwillingness to change, as well as some ways that teams, companies, and organisations might work to combat them.</p>\n",
       "</p>"
      ],
      "text/plain": [
       "<IPython.core.display.HTML object>"
      ]
     },
     "metadata": {},
     "output_type": "display_data"
    },
    {
     "data": {
      "text/html": [
       "<br/>"
      ],
      "text/plain": [
       "<IPython.core.display.HTML object>"
      ]
     },
     "metadata": {},
     "output_type": "display_data"
    },
    {
     "data": {
      "text/html": [
       "<h2>Architecture of a cloud hosting service using python technologies: django, ansible and celery</h2>"
      ],
      "text/plain": [
       "<IPython.core.display.HTML object>"
      ]
     },
     "metadata": {},
     "output_type": "display_data"
    },
    {
     "data": {
      "text/html": [
       "<p>Thursday, July 23rd at 11:00 in PythonAnywhere Room</p>"
      ],
      "text/plain": [
       "<IPython.core.display.HTML object>"
      ]
     },
     "metadata": {},
     "output_type": "display_data"
    },
    {
     "data": {
      "text/html": [
       "<h3><i>Dr A. Martin-Campillo</i></h2>"
      ],
      "text/plain": [
       "<IPython.core.display.HTML object>"
      ]
     },
     "metadata": {},
     "output_type": "display_data"
    },
    {
     "data": {
      "text/html": [
       "<p><p>The talk will show the architecture and inners of a cloud hosting service we are developing in the University of Cambridge based on python technologies, mainly django, ansible, and celery.</p>\n",
       "<p>The users manage their hosts using a web panel, developed in django, with common options: ability to create a vhost, associate domain names to vhosts, install packages, recover from backups, make snapshots, etc. Interaction between the panel and the hosts are made using ansible playbooks launched asynchronously by celery tasks. The VM architecture has been designed to be VM platform agnostic and to provide disk replication and high availability.</p>\n",
       "<p>The University of Cambridge central IT services (<a href=\"http://www.ucs.cam.ac.uk/\">http://www.ucs.cam.ac.uk/</a>) also provides other services to the rest of the university like domain name registration, authentication, authorisation, TLS certificates, etc. We link all these other services with the hosting service by using APIs while keeping a microservices architecture approach. Thus, enabling the use/link of other services  within the same hosting service web application.</p>\n",
       "</p>"
      ],
      "text/plain": [
       "<IPython.core.display.HTML object>"
      ]
     },
     "metadata": {},
     "output_type": "display_data"
    },
    {
     "data": {
      "text/html": [
       "<br/>"
      ],
      "text/plain": [
       "<IPython.core.display.HTML object>"
      ]
     },
     "metadata": {},
     "output_type": "display_data"
    },
    {
     "data": {
      "text/html": [
       "<h2>Argus - the omniscient CI</h2>"
      ],
      "text/plain": [
       "<IPython.core.display.HTML object>"
      ]
     },
     "metadata": {},
     "output_type": "display_data"
    },
    {
     "data": {
      "text/html": [
       "<p>Tuesday, July 21st at 12:30 in Room A2</p>"
      ],
      "text/plain": [
       "<IPython.core.display.HTML object>"
      ]
     },
     "metadata": {},
     "output_type": "display_data"
    },
    {
     "data": {
      "text/html": [
       "<h3><i>Cosmin Poieana</i></h2>"
      ],
      "text/plain": [
       "<IPython.core.display.HTML object>"
      ]
     },
     "metadata": {},
     "output_type": "display_data"
    },
    {
     "data": {
      "text/html": [
       "<p><p>Bring the continuous integration to a new level, through a platform/project independent framework able to give you unittest-like reports. Argus is a scenario-based application written in Python, driven by custom recipes under configurable environments, that can be used for testing a wide variety of small and big projects, with the ability of querying live data from the in-test application.</p>\n",
       "<p>Until now, it's successfully used with <a href=\"https://github.com/stackforge/cloudbase-init\">cloudbase-init</a> (a robust cloud initialization service for instances) under OpenStack and not only, due to its extensiveness and the ability to mimic different infrastructures. More details can be found on the package page: <a href=\"https://github.com/PCManticore/argus-ci\">https://github.com/PCManticore/argus-ci</a>.</p>\n",
       "<p>The goals of this talk are to show its generic scalability, how simple is to create such kind of recipes, the relationship between scenarios, introspection and tests and, but not last, the unlimited freedom of creating very custom aspects of these entities which lead to relevant and in-depth ready for analysis logs. There are no major prerequisites to understand it, just to be familiar with Python and optionally have a focus on cloud infrastructures.</p>\n",
       "</p>"
      ],
      "text/plain": [
       "<IPython.core.display.HTML object>"
      ]
     },
     "metadata": {},
     "output_type": "display_data"
    },
    {
     "data": {
      "text/html": [
       "<br/>"
      ],
      "text/plain": [
       "<IPython.core.display.HTML object>"
      ]
     },
     "metadata": {},
     "output_type": "display_data"
    },
    {
     "data": {
      "text/html": [
       "<h2>Arrested Development - surviving the awkward adolescence of a microservices-based application</h2>"
      ],
      "text/plain": [
       "<IPython.core.display.HTML object>"
      ]
     },
     "metadata": {},
     "output_type": "display_data"
    },
    {
     "data": {
      "text/html": [
       "<p>Friday, July 24th at 11:00 in PythonAnywhere Room</p>"
      ],
      "text/plain": [
       "<IPython.core.display.HTML object>"
      ]
     },
     "metadata": {},
     "output_type": "display_data"
    },
    {
     "data": {
      "text/html": [
       "<h3><i>Scott Triglia</i></h2>"
      ],
      "text/plain": [
       "<IPython.core.display.HTML object>"
      ]
     },
     "metadata": {},
     "output_type": "display_data"
    },
    {
     "data": {
      "text/html": [
       "<p><p>The potential upside of microservices is significant and exciting. So much so that Yelp's Transaction Platform committed from the start to an architecture of small, cooperative microservices. This talk explores the inevitable complications that arise for Python developers in as the services grow larger and stretch both their own architecture and the developers responsible for them. Come hear tales of terror (tight coupling! low test coverage!), stories which will warm your heart (agility! strong interfaces!), and everything in between as we follow the adventures of our plucky team.</p>\n",
       "<p>The talk will be focused on the functional, cultural, and reliability challenges which occur as a microservices-based project evolves and expands over time. Particular attention will be paid to where these diverge from the utopian way microservices are often described, and to the particular difficulties faced by Python developers trying to implement such systems. My goal is to share with attendees some mistakes we've made, some successful methods for growing gracefully, and Python-specific tools/libraries which can help with these problems.</p>\n",
       "<p>To enjoy this talk, you should be aware of the basic vocabulary and concepts of HTTP-based services. Any additional awareness of distributed systems (and their failure modes) will be helpful.</p>\n",
       "</p>"
      ],
      "text/plain": [
       "<IPython.core.display.HTML object>"
      ]
     },
     "metadata": {},
     "output_type": "display_data"
    },
    {
     "data": {
      "text/html": [
       "<br/>"
      ],
      "text/plain": [
       "<IPython.core.display.HTML object>"
      ]
     },
     "metadata": {},
     "output_type": "display_data"
    },
    {
     "data": {
      "text/html": [
       "<h2>Asyncio Stack & React.js or Development on the Edge</h2>"
      ],
      "text/plain": [
       "<IPython.core.display.HTML object>"
      ]
     },
     "metadata": {},
     "output_type": "display_data"
    },
    {
     "data": {
      "text/html": [
       "<p>Monday, July 20th at 11:00 in Google Room</p>"
      ],
      "text/plain": [
       "<IPython.core.display.HTML object>"
      ]
     },
     "metadata": {},
     "output_type": "display_data"
    },
    {
     "data": {
      "text/html": [
       "<h3><i>Igor Davydenko</i></h2>"
      ],
      "text/plain": [
       "<IPython.core.display.HTML object>"
      ]
     },
     "metadata": {},
     "output_type": "display_data"
    },
    {
     "data": {
      "text/html": [
       "<p><p>Times changed, with introducing asyncio to Python standard library many and many developers think about switching from previous solutions to aio stack. Talk will introduce aiohttp, aioredis &amp; aiopg - cornerstones for building modern Python backends and show common problems &amp; solutions while switching to aio stack.</p>\n",
       "<p>But not only Python changed. In second part, I'll talk about what new happened in frontend development, how new ES6 features modified JavaScript, and what React.js &amp; Flux means for Python developers.</p>\n",
       "<p>Talk will cover real-world web application, which used aio stack on backend and React.js &amp; Flux approach on frontend and provide useful observations for other developers interested in these topics.</p>\n",
       "</p>"
      ],
      "text/plain": [
       "<IPython.core.display.HTML object>"
      ]
     },
     "metadata": {},
     "output_type": "display_data"
    },
    {
     "data": {
      "text/html": [
       "<br/>"
      ],
      "text/plain": [
       "<IPython.core.display.HTML object>"
      ]
     },
     "metadata": {},
     "output_type": "display_data"
    },
    {
     "data": {
      "text/html": [
       "<h2>BDD: You’re doing it wrong!</h2>"
      ],
      "text/plain": [
       "<IPython.core.display.HTML object>"
      ]
     },
     "metadata": {},
     "output_type": "display_data"
    },
    {
     "data": {
      "text/html": [
       "<p>Thursday, July 23rd at 12:30 in Barria1 Room</p>"
      ],
      "text/plain": [
       "<IPython.core.display.HTML object>"
      ]
     },
     "metadata": {},
     "output_type": "display_data"
    },
    {
     "data": {
      "text/html": [
       "<h3><i>Rafał Nowicki</i></h2>"
      ],
      "text/plain": [
       "<IPython.core.display.HTML object>"
      ]
     },
     "metadata": {},
     "output_type": "display_data"
    },
    {
     "data": {
      "text/html": [
       "<p><p>Talk about mistakes we made and best practises we have elaborated while implementation Behave Driven Development into one of the projects. Great idea to coverage whole application with functional tests fall down in development chaos and reborn on new better foundations.</p>\n",
       "<p>Project referred is web-based big data management which main features are transcoding and file sharing. Thanks to Django and many Python frameworks we have web interface for it and we are able to run automation tests with Selenium.</p>\n",
       "</p>"
      ],
      "text/plain": [
       "<IPython.core.display.HTML object>"
      ]
     },
     "metadata": {},
     "output_type": "display_data"
    },
    {
     "data": {
      "text/html": [
       "<br/>"
      ],
      "text/plain": [
       "<IPython.core.display.HTML object>"
      ]
     },
     "metadata": {},
     "output_type": "display_data"
    },
    {
     "data": {
      "text/html": [
       "<h2>Better asynchronous code with Tornado and Python 3</h2>"
      ],
      "text/plain": [
       "<IPython.core.display.HTML object>"
      ]
     },
     "metadata": {},
     "output_type": "display_data"
    },
    {
     "data": {
      "text/html": [
       "<p>Thursday, July 23rd at 11:00 in Barria1 Room</p>"
      ],
      "text/plain": [
       "<IPython.core.display.HTML object>"
      ]
     },
     "metadata": {},
     "output_type": "display_data"
    },
    {
     "data": {
      "text/html": [
       "<h3><i>Anton Caceres</i></h2>"
      ],
      "text/plain": [
       "<IPython.core.display.HTML object>"
      ]
     },
     "metadata": {},
     "output_type": "display_data"
    },
    {
     "data": {
      "text/html": [
       "<p><p>The asyncio module introduced in Python 3.4 is a game-changer for I/O management and event-driven network programming in Python. Aiming to be a lower-level implementation of an asynchronous event loop, it intends that higher level frameworks like Tornado, Twisted or Gevent will build on top of it, taking advantage of the shared interface for writing concurrent event-driven code across different Python frameworks.</p>\n",
       "<p>This talk connects theory with practice, presenting how Tornado can run in the asyncio event loop and take advantage of the subgenerator delegation syntax (yield from) to provide a high degree of concurrency while keeping the simplicity of sequential code. It explains the concept of coroutines, futures and ioloop, exposing Python 3 code for sample web tasks. The talk completes with a basic demo of running this code on Tornado, comparing its syntax and performance with popular asynchronous frameworks from other languages.</p>\n",
       "</p>"
      ],
      "text/plain": [
       "<IPython.core.display.HTML object>"
      ]
     },
     "metadata": {},
     "output_type": "display_data"
    },
    {
     "data": {
      "text/html": [
       "<br/>"
      ],
      "text/plain": [
       "<IPython.core.display.HTML object>"
      ]
     },
     "metadata": {},
     "output_type": "display_data"
    },
    {
     "data": {
      "text/html": [
       "<h2>Beyond grep: Practical Logging and Metrics</h2>"
      ],
      "text/plain": [
       "<IPython.core.display.HTML object>"
      ]
     },
     "metadata": {},
     "output_type": "display_data"
    },
    {
     "data": {
      "text/html": [
       "<p>Tuesday, July 21st at 11:45 in PythonAnywhere Room</p>"
      ],
      "text/plain": [
       "<IPython.core.display.HTML object>"
      ]
     },
     "metadata": {},
     "output_type": "display_data"
    },
    {
     "data": {
      "text/html": [
       "<h3><i>Hynek Schlawack</i></h2>"
      ],
      "text/plain": [
       "<IPython.core.display.HTML object>"
      ]
     },
     "metadata": {},
     "output_type": "display_data"
    },
    {
     "data": {
      "text/html": [
       "<p><p>Knowing that your application is up and running is great. However in order to make informed decisions about the future, you also need to know in what state your application currently is and how its state is developing over time.</p>\n",
       "<p>This talk combines two topics that are usually discussed separately. However I do believe that they have a lot of overlap and ultimately a similar goal: giving you vital insights about your system in production.</p>\n",
       "<p>We'll have a look at their commonalities, differences, popular tools, and how to apply everything in your own systems while avoiding some common pitfalls.</p>\n",
       "</p>"
      ],
      "text/plain": [
       "<IPython.core.display.HTML object>"
      ]
     },
     "metadata": {},
     "output_type": "display_data"
    },
    {
     "data": {
      "text/html": [
       "<br/>"
      ],
      "text/plain": [
       "<IPython.core.display.HTML object>"
      ]
     },
     "metadata": {},
     "output_type": "display_data"
    },
    {
     "data": {
      "text/html": [
       "<h2>Beyond the basics with Elasticsearch</h2>"
      ],
      "text/plain": [
       "<IPython.core.display.HTML object>"
      ]
     },
     "metadata": {},
     "output_type": "display_data"
    },
    {
     "data": {
      "text/html": [
       "<p>Friday, July 24th at 12:30 in Google Room</p>"
      ],
      "text/plain": [
       "<IPython.core.display.HTML object>"
      ]
     },
     "metadata": {},
     "output_type": "display_data"
    },
    {
     "data": {
      "text/html": [
       "<h3><i>Honza Král</i></h2>"
      ],
      "text/plain": [
       "<IPython.core.display.HTML object>"
      ]
     },
     "metadata": {},
     "output_type": "display_data"
    },
    {
     "data": {
      "text/html": [
       "<p><p>Elasticsearch has many use cases, some of them fairly obvious and widely used, like plain searching through documents or analytics. In this talk I would like to go through some of the more advanced scenarios we have seen in the wild. Some examples of what we will cover:</p>\n",
       "<p>Trend detection - how you can use the aggregation framework to go beyond simple \"counting\" and make use of the full-text properties of Elasticsearch.</p>\n",
       "<p>Percolator - percolator is reversed search and many people use it as such to drive alerts or \"stored search\" functionality for their website, let's look at how we can use it to detect languages, geo locations or drive live search.</p>\n",
       "<p>If we end up with some time to spare we can explore some other ideas about how we can utilize the features of a search engine to drive non-trivial data analysis including Geo-enabled search with relevancy.</p>\n",
       "</p>"
      ],
      "text/plain": [
       "<IPython.core.display.HTML object>"
      ]
     },
     "metadata": {},
     "output_type": "display_data"
    },
    {
     "data": {
      "text/html": [
       "<br/>"
      ],
      "text/plain": [
       "<IPython.core.display.HTML object>"
      ]
     },
     "metadata": {},
     "output_type": "display_data"
    },
    {
     "data": {
      "text/html": [
       "<h2>Big Data with Python & Hadoop</h2>"
      ],
      "text/plain": [
       "<IPython.core.display.HTML object>"
      ]
     },
     "metadata": {},
     "output_type": "display_data"
    },
    {
     "data": {
      "text/html": [
       "<p>Friday, July 24th at 11:45 in Google Room</p>"
      ],
      "text/plain": [
       "<IPython.core.display.HTML object>"
      ]
     },
     "metadata": {},
     "output_type": "display_data"
    },
    {
     "data": {
      "text/html": [
       "<h3><i>Max Tepkeev</i></h2>"
      ],
      "text/plain": [
       "<IPython.core.display.HTML object>"
      ]
     },
     "metadata": {},
     "output_type": "display_data"
    },
    {
     "data": {
      "text/html": [
       "<p><p>Big Data - these two words are heard so often nowadays. But what exactly is Big Data ? Can we, Pythonistas, enter the wonder world of Big Data ? The answer is definitely \"Yes\".</p>\n",
       "<p>This talk is an introduction to the big data processing using Apache Hadoop and Python. We'll talk about Apache Hadoop, it's concepts, infrastructure and how one can use Python with it. We'll compare the speed of Python jobs under different Python implementations, including CPython, PyPy and Jython and also discuss what Python libraries are available out there to work with Apache Hadoop.</p>\n",
       "<p>This talk is intended for beginners who want to know about Hadoop and Python or those who are already working with Hadoop but are wondering how to use it with Python or how to speed up their Python jobs.</p>\n",
       "</p>"
      ],
      "text/plain": [
       "<IPython.core.display.HTML object>"
      ]
     },
     "metadata": {},
     "output_type": "display_data"
    },
    {
     "data": {
      "text/html": [
       "<br/>"
      ],
      "text/plain": [
       "<IPython.core.display.HTML object>"
      ]
     },
     "metadata": {},
     "output_type": "display_data"
    },
    {
     "data": {
      "text/html": [
       "<h2>Big data beautiful visualization on the browser with Bokeh</h2>"
      ],
      "text/plain": [
       "<IPython.core.display.HTML object>"
      ]
     },
     "metadata": {},
     "output_type": "display_data"
    },
    {
     "data": {
      "text/html": [
       "<p>Monday, July 20th at 15:15 in PythonAnywhere Room</p>"
      ],
      "text/plain": [
       "<IPython.core.display.HTML object>"
      ]
     },
     "metadata": {},
     "output_type": "display_data"
    },
    {
     "data": {
      "text/html": [
       "<h3><i>Fabio Pliger</i></h2>"
      ],
      "text/plain": [
       "<IPython.core.display.HTML object>"
      ]
     },
     "metadata": {},
     "output_type": "display_data"
    },
    {
     "data": {
      "text/html": [
       "<p><p>Bokeh is a Python interactive visualization library for large datasets that natively uses the latest web technologies. Its goal is to provide elegant, concise construction of novel graphics in the style of Protovis/D3, while delivering high-performance interactivity over large data to thin clients.</p>\n",
       "<p>The talk will go through it’s design providing details of the different API layers (bottom to top) concluding with a comprehensive showcase of examples to expose many of the features that make Bokeh so powerful and easy.</p>\n",
       "</p>"
      ],
      "text/plain": [
       "<IPython.core.display.HTML object>"
      ]
     },
     "metadata": {},
     "output_type": "display_data"
    },
    {
     "data": {
      "text/html": [
       "<br/>"
      ],
      "text/plain": [
       "<IPython.core.display.HTML object>"
      ]
     },
     "metadata": {},
     "output_type": "display_data"
    },
    {
     "data": {
      "text/html": [
       "<h2>Brainwaves for Hackers 2.0</h2>"
      ],
      "text/plain": [
       "<IPython.core.display.HTML object>"
      ]
     },
     "metadata": {},
     "output_type": "display_data"
    },
    {
     "data": {
      "text/html": [
       "<p>Monday, July 20th at 16:45 in PythonAnywhere Room</p>"
      ],
      "text/plain": [
       "<IPython.core.display.HTML object>"
      ]
     },
     "metadata": {},
     "output_type": "display_data"
    },
    {
     "data": {
      "text/html": [
       "<h3><i>Andreas Klostermann</i></h2>"
      ],
      "text/plain": [
       "<IPython.core.display.HTML object>"
      ]
     },
     "metadata": {},
     "output_type": "display_data"
    },
    {
     "data": {
      "text/html": [
       "<p><p>This talk is a sequel to \"Brainwaves for Hackers\" and illustrates some experiments you can do with a Neurosky Mindwave headset, a bluetooth enabled EEG device.</p>\n",
       "<p>I'll also talk some more about how to integrate the device with the IPython\n",
       "Notebook for real time viewing and how to use the Mindwave with the Raspberry Pi.</p>\n",
       "</p>"
      ],
      "text/plain": [
       "<IPython.core.display.HTML object>"
      ]
     },
     "metadata": {},
     "output_type": "display_data"
    },
    {
     "data": {
      "text/html": [
       "<br/>"
      ],
      "text/plain": [
       "<IPython.core.display.HTML object>"
      ]
     },
     "metadata": {},
     "output_type": "display_data"
    },
    {
     "data": {
      "text/html": [
       "<h2>Bringing PostgreSQL towards zero downtime migration with Python</h2>"
      ],
      "text/plain": [
       "<IPython.core.display.HTML object>"
      ]
     },
     "metadata": {},
     "output_type": "display_data"
    },
    {
     "data": {
      "text/html": [
       "<p>Friday, July 24th at 15:45 in Room A2</p>"
      ],
      "text/plain": [
       "<IPython.core.display.HTML object>"
      ]
     },
     "metadata": {},
     "output_type": "display_data"
    },
    {
     "data": {
      "text/html": [
       "<h3><i>Matthieu Rigal</i></h2>"
      ],
      "text/plain": [
       "<IPython.core.display.HTML object>"
      ]
     },
     "metadata": {},
     "output_type": "display_data"
    },
    {
     "data": {
      "text/html": [
       "<p><p>Using an SQL database offers a bunch of advantages; first of all its maturity and that it is understood by almost every software developer. But it has at least one main disadvantage. As the data is structured, if you want to modify the structure, for example on a long-running project, you need a migration and therefore almost for sure, a downtime.</p>\n",
       "<p>When you have to make a migration, to modify the structure of data for a small amount of records, it is so fast that it never gets problematic. But if you think to modify the structure of tables containing millions or billions of records, the time required to simply apply the structural change is problematic.</p>\n",
       "<p>Here are some changes we are working on at orderbird to go towards zero downtime migrations using some of the latest improvements of PostgreSQL 9.4, mainly logical replication and mixing in a little magic of some python scripting with psycopg.</p>\n",
       "</p>"
      ],
      "text/plain": [
       "<IPython.core.display.HTML object>"
      ]
     },
     "metadata": {},
     "output_type": "display_data"
    },
    {
     "data": {
      "text/html": [
       "<br/>"
      ],
      "text/plain": [
       "<IPython.core.display.HTML object>"
      ]
     },
     "metadata": {},
     "output_type": "display_data"
    },
    {
     "data": {
      "text/html": [
       "<h2>Building a RESTful real-time analytics system with Pyramid</h2>"
      ],
      "text/plain": [
       "<IPython.core.display.HTML object>"
      ]
     },
     "metadata": {},
     "output_type": "display_data"
    },
    {
     "data": {
      "text/html": [
       "<p>Thursday, July 23rd at 16:45 in PythonAnywhere Room</p>"
      ],
      "text/plain": [
       "<IPython.core.display.HTML object>"
      ]
     },
     "metadata": {},
     "output_type": "display_data"
    },
    {
     "data": {
      "text/html": [
       "<h3><i>Andrii Chaichenko</i></h2>"
      ],
      "text/plain": [
       "<IPython.core.display.HTML object>"
      ]
     },
     "metadata": {},
     "output_type": "display_data"
    },
    {
     "data": {
      "text/html": [
       "<p><p>CeleraOne tries to bring its vision to Big Data by developing a unique platform for real-time Big Data processing. The platform is capable of personalizing multi-channel user flows, right-in time targeting and analytics while seamlessly scaling to billions of page impression. It is currently tailored to the needs of content providers, but of course not limited to.</p>\n",
       "<ul>\n",
       "<li>The platform’s architecture is based on four main layers:</li>\n",
       "<li>Proxy/Distribution -- OpenResty/LUA for dynamic request forwarding</li>\n",
       "<li>RESTful API -- several Python applications written using Pyramid web framework running under uWSGI server, which serve as an integration point for third party systems;</li>\n",
       "<li>Analytics -- Python API for Big Data querying and distributed workers performing heavy data collection.</li>\n",
       "<li>In-memory Engine -- CeleraOne’s NoSql database which provides both data storage and fast business logic.</li>\n",
       "</ul>\n",
       "<p>In the talk I would like to give insights on how we use Python in the architecture, which tools and technologies were chosen, and share experiences deploying and running the system in production.</p>\n",
       "</p>"
      ],
      "text/plain": [
       "<IPython.core.display.HTML object>"
      ]
     },
     "metadata": {},
     "output_type": "display_data"
    },
    {
     "data": {
      "text/html": [
       "<br/>"
      ],
      "text/plain": [
       "<IPython.core.display.HTML object>"
      ]
     },
     "metadata": {},
     "output_type": "display_data"
    },
    {
     "data": {
      "text/html": [
       "<h2>Building a multi-purpose platform for bulk data using sqlalchemy</h2>"
      ],
      "text/plain": [
       "<IPython.core.display.HTML object>"
      ]
     },
     "metadata": {},
     "output_type": "display_data"
    },
    {
     "data": {
      "text/html": [
       "<p>Thursday, July 23rd at 16:45 in Barria1 Room</p>"
      ],
      "text/plain": [
       "<IPython.core.display.HTML object>"
      ]
     },
     "metadata": {},
     "output_type": "display_data"
    },
    {
     "data": {
      "text/html": [
       "<h3><i>Christian Trebing</i></h2>"
      ],
      "text/plain": [
       "<IPython.core.display.HTML object>"
      ]
     },
     "metadata": {},
     "output_type": "display_data"
    },
    {
     "data": {
      "text/html": [
       "<p><p>At Blue Yonder, we've built a platform that can accept and process bulk amounts of data for multiple business domains (e.g. handling retail store location and sales data) using SQLAlchemy as a database abstraction layer.\n",
       "We wanted to use as much of SQLAlchemy as possible, but we quickly found that the ORM (Object Relational Mapper) is not suitable for handling large amounts of data at once. At the same time, we did not want each team of developers working on individual business domains to have to handcraft their own SQL statements. To solve this problem, we built an application configuration that closely resembles an SQLAlchemy model, but also contains application-specific logic settings.</p>\n",
       "<p>In this talk I will demonstrate:</p>\n",
       "<ul>\n",
       "<li><p>an application architecture for multiple business domains</p>\n",
       "</li>\n",
       "<li><p>the structure of the domain configuration utilized in the generation of the SQLAlchemy model, SQLAlchemy core statements, and other application functionality</p>\n",
       "</li>\n",
       "<li><p>how the domain configuration is used throughout the application (consuming and parsing incoming data, storing it in a database and ensuring data quality)</p>\n",
       "</li>\n",
       "</ul>\n",
       "</p>"
      ],
      "text/plain": [
       "<IPython.core.display.HTML object>"
      ]
     },
     "metadata": {},
     "output_type": "display_data"
    },
    {
     "data": {
      "text/html": [
       "<br/>"
      ],
      "text/plain": [
       "<IPython.core.display.HTML object>"
      ]
     },
     "metadata": {},
     "output_type": "display_data"
    },
    {
     "data": {
      "text/html": [
       "<h2>Building mobile APIs with services at Yelp</h2>"
      ],
      "text/plain": [
       "<IPython.core.display.HTML object>"
      ]
     },
     "metadata": {},
     "output_type": "display_data"
    },
    {
     "data": {
      "text/html": [
       "<p>Tuesday, July 21st at 11:45 in Barria2 Room</p>"
      ],
      "text/plain": [
       "<IPython.core.display.HTML object>"
      ]
     },
     "metadata": {},
     "output_type": "display_data"
    },
    {
     "data": {
      "text/html": [
       "<h3><i>Stephan Jaensch</i></h2>"
      ],
      "text/plain": [
       "<IPython.core.display.HTML object>"
      ]
     },
     "metadata": {},
     "output_type": "display_data"
    },
    {
     "data": {
      "text/html": [
       "<p><p>At Yelp, we ship code multiple times a day and have maintained this pace as our team has grown to 300+ and our codebase to several million lines of Python code. This talk explores the pain points we experienced along the ways, how our service-oriented architecture alleviates them, and the infrastructure we built to develop, test, and deploy in this highly-distributed environment. As a case study, we’ll be looking at the backend powering the new Yelp Business Owner Android and iOS apps.</p>\n",
       "<p>At the start, most of the development at Yelp occurred in a single, monolithic web application, creatively named “yelp-main” (naming is hard!). As the company grew, our developers were spending increasing amounts of time trying to ship code. After recognizing this pain point, we started experimenting with a service oriented architecture to scale the development process, and so far it’s been a resounding success. Over the course of the last three years, we’ve gone from writing our first service to having over seventy production services. Along the way, we’ve dabbled with Docker containers, Pyramid, SQLAlchemy, uWSGI, gevent, and virtualenv in an effort to build the next-generation service platform for our engineers.</p>\n",
       "</p>"
      ],
      "text/plain": [
       "<IPython.core.display.HTML object>"
      ]
     },
     "metadata": {},
     "output_type": "display_data"
    },
    {
     "data": {
      "text/html": [
       "<br/>"
      ],
      "text/plain": [
       "<IPython.core.display.HTML object>"
      ]
     },
     "metadata": {},
     "output_type": "display_data"
    },
    {
     "data": {
      "text/html": [
       "<h2>Building nice command line interfaces - a look beyond the stdlib</h2>"
      ],
      "text/plain": [
       "<IPython.core.display.HTML object>"
      ]
     },
     "metadata": {},
     "output_type": "display_data"
    },
    {
     "data": {
      "text/html": [
       "<p>Wednesday, July 22nd at 15:45 in Google Room</p>"
      ],
      "text/plain": [
       "<IPython.core.display.HTML object>"
      ]
     },
     "metadata": {},
     "output_type": "display_data"
    },
    {
     "data": {
      "text/html": [
       "<h3><i>Patrick Mühlbauer</i></h2>"
      ],
      "text/plain": [
       "<IPython.core.display.HTML object>"
      ]
     },
     "metadata": {},
     "output_type": "display_data"
    },
    {
     "data": {
      "text/html": [
       "<p><p>One of the problems programmers are most often faced with is the parsing and validation of command-line arguments. If you're new to Python or programming in general, you might start by parsing sys.argv. Or perhaps you might've already come across standard library solutions such as getopt, optparse or argparse in the official documentation. \n",
       "While these modules are probably preferable to parsing sys.argv yourself, you might wonder if there are more satisfactory solutions outside of the standard library. Well, yes there are!</p>\n",
       "<p>This talk will give you an overview of some popular alternatives to the standard library solutions (e.g. click, docopt and cliff), explain their basic concepts and differences and show how you can test your CLIs.</p>\n",
       "</p>"
      ],
      "text/plain": [
       "<IPython.core.display.HTML object>"
      ]
     },
     "metadata": {},
     "output_type": "display_data"
    },
    {
     "data": {
      "text/html": [
       "<br/>"
      ],
      "text/plain": [
       "<IPython.core.display.HTML object>"
      ]
     },
     "metadata": {},
     "output_type": "display_data"
    },
    {
     "data": {
      "text/html": [
       "<h2>Can Rust make Python shine?</h2>"
      ],
      "text/plain": [
       "<IPython.core.display.HTML object>"
      ]
     },
     "metadata": {},
     "output_type": "display_data"
    },
    {
     "data": {
      "text/html": [
       "<p>Monday, July 20th at 14:30 in Barria1 Room</p>"
      ],
      "text/plain": [
       "<IPython.core.display.HTML object>"
      ]
     },
     "metadata": {},
     "output_type": "display_data"
    },
    {
     "data": {
      "text/html": [
       "<h3><i>Dmitry Trofimov</i></h2>"
      ],
      "text/plain": [
       "<IPython.core.display.HTML object>"
      ]
     },
     "metadata": {},
     "output_type": "display_data"
    },
    {
     "data": {
      "text/html": [
       "<p><p>Rust is a new programming language from Mozilla. It is fast, safe and beautiful. It is also a very good option when needing performance. In this talk we're going to look at Rust and see what it offers and how we can leverage it as Python developers. And we'll do it with a case study: a statistical profiler for Python.</p>\n",
       "</p>"
      ],
      "text/plain": [
       "<IPython.core.display.HTML object>"
      ]
     },
     "metadata": {},
     "output_type": "display_data"
    },
    {
     "data": {
      "text/html": [
       "<br/>"
      ],
      "text/plain": [
       "<IPython.core.display.HTML object>"
      ]
     },
     "metadata": {},
     "output_type": "display_data"
    },
    {
     "data": {
      "text/html": [
       "<h2>Citizen Science: Tracking Aliens with Python!</h2>"
      ],
      "text/plain": [
       "<IPython.core.display.HTML object>"
      ]
     },
     "metadata": {},
     "output_type": "display_data"
    },
    {
     "data": {
      "text/html": [
       "<p>Tuesday, July 21st at 15:15 in Barria2 Room</p>"
      ],
      "text/plain": [
       "<IPython.core.display.HTML object>"
      ]
     },
     "metadata": {},
     "output_type": "display_data"
    },
    {
     "data": {
      "text/html": [
       "<h3><i>Alessio Siniscalchi</i></h2>"
      ],
      "text/plain": [
       "<IPython.core.display.HTML object>"
      ]
     },
     "metadata": {},
     "output_type": "display_data"
    },
    {
     "data": {
      "text/html": [
       "<p><p>The talk discusses the challenges of implementing a Citizen Science Paradigm in a Python-centric platform, and the solutions devised for the System for observation and monitoring of Marine Alien Species, currently used by the italian Institute for Environmental Protection and Research (ISPRA). \"Alien\" Species means species introduced into a natural environment where they are not normally found.\n",
       "Topics includes strategies for crowd-friendly forms, work-flow definition for collected data, choice of the best technologies for its components: app for android devices, web application for citizens and experts, webGIS for data browsing and web services for data exporting.</p>\n",
       "</p>"
      ],
      "text/plain": [
       "<IPython.core.display.HTML object>"
      ]
     },
     "metadata": {},
     "output_type": "display_data"
    },
    {
     "data": {
      "text/html": [
       "<br/>"
      ],
      "text/plain": [
       "<IPython.core.display.HTML object>"
      ]
     },
     "metadata": {},
     "output_type": "display_data"
    },
    {
     "data": {
      "text/html": [
       "<h2>CityBikes: bike sharing networks around the world</h2>"
      ],
      "text/plain": [
       "<IPython.core.display.HTML object>"
      ]
     },
     "metadata": {},
     "output_type": "display_data"
    },
    {
     "data": {
      "text/html": [
       "<p>Wednesday, July 22nd at 11:00 in PythonAnywhere Room</p>"
      ],
      "text/plain": [
       "<IPython.core.display.HTML object>"
      ]
     },
     "metadata": {},
     "output_type": "display_data"
    },
    {
     "data": {
      "text/html": [
       "<h3><i>Lluís Esquerda</i></h2>"
      ],
      "text/plain": [
       "<IPython.core.display.HTML object>"
      ]
     },
     "metadata": {},
     "output_type": "display_data"
    },
    {
     "data": {
      "text/html": [
       "<p><p>CityBikes [1] started on 2010 as a FOSS alternative endpoint (and Android client) to gather information for Barcelona's Bicing bike sharing service. Later evolved as an open API [2] providing bike sharing data of any (mostly) service worldwide.</p>\n",
       "<p>Fast forward today and after some C&amp;D letters, there's support for more than 200 cities, more than 170M historical entries have been gathered for analysis (in approx. a year) and the CityBikes API is the main source for open bike share data worldwide. This talk will tour about how we got there with the help of python and the community [3].</p>\n",
       "<p>PS: We have a realtime map, it is awesome [4].</p>\n",
       "\n",
       "<pre><code>[1]: http://citybik.es\n",
       "[2]: http://api.citybik.es\n",
       "[3]: http://github.com/eskerda/pybikes\n",
       "[4]: http://upcoming.citybik.es</code></pre>\n",
       "</p>"
      ],
      "text/plain": [
       "<IPython.core.display.HTML object>"
      ]
     },
     "metadata": {},
     "output_type": "display_data"
    },
    {
     "data": {
      "text/html": [
       "<br/>"
      ],
      "text/plain": [
       "<IPython.core.display.HTML object>"
      ]
     },
     "metadata": {},
     "output_type": "display_data"
    },
    {
     "data": {
      "text/html": [
       "<h2>Code Quality in Python - tools and reasons</h2>"
      ],
      "text/plain": [
       "<IPython.core.display.HTML object>"
      ]
     },
     "metadata": {},
     "output_type": "display_data"
    },
    {
     "data": {
      "text/html": [
       "<p>Tuesday, July 21st at 16:45 in Barria2 Room</p>"
      ],
      "text/plain": [
       "<IPython.core.display.HTML object>"
      ]
     },
     "metadata": {},
     "output_type": "display_data"
    },
    {
     "data": {
      "text/html": [
       "<h3><i>Radosław Jan Ganczarek</i></h2>"
      ],
      "text/plain": [
       "<IPython.core.display.HTML object>"
      ]
     },
     "metadata": {},
     "output_type": "display_data"
    },
    {
     "data": {
      "text/html": [
       "<p><p>Beginner's guide to Python code quality. I'll talk about the tools for code analysis, differences between them, extending them with new features and ways to running them automatically. In the end, I'll talk about reasons behind all of these tools and try to convince you to using them in your projects (but if you are against it - I'll gladly listen to your arguments).</p>\n",
       "</p>"
      ],
      "text/plain": [
       "<IPython.core.display.HTML object>"
      ]
     },
     "metadata": {},
     "output_type": "display_data"
    },
    {
     "data": {
      "text/html": [
       "<br/>"
      ],
      "text/plain": [
       "<IPython.core.display.HTML object>"
      ]
     },
     "metadata": {},
     "output_type": "display_data"
    },
    {
     "data": {
      "text/html": [
       "<h2>Code is not text! How graph technologies can help us to understand our code better.</h2>"
      ],
      "text/plain": [
       "<IPython.core.display.HTML object>"
      ]
     },
     "metadata": {},
     "output_type": "display_data"
    },
    {
     "data": {
      "text/html": [
       "<p>Tuesday, July 21st at 11:00 in PythonAnywhere Room</p>"
      ],
      "text/plain": [
       "<IPython.core.display.HTML object>"
      ]
     },
     "metadata": {},
     "output_type": "display_data"
    },
    {
     "data": {
      "text/html": [
       "<h3><i>Andreas Dewes</i></h2>"
      ],
      "text/plain": [
       "<IPython.core.display.HTML object>"
      ]
     },
     "metadata": {},
     "output_type": "display_data"
    },
    {
     "data": {
      "text/html": [
       "<p><p>Today, we almost exclusively think of code in software projects as a collection of text files. The tools that we use (version control systems, IDEs, code analyzers) also use text as the primary storage format for code. In fact, the belief that \"code is text\" is so deeply ingrained in our heads that we never question its validity or even become aware of the fact that there are other ways to look at code.</p>\n",
       "<p>In my talk I will explain why treating code as text is a very bad idea which actively holds back our understanding and creates a range of problems in large software projects. I will then show how we can overcome (some of) these problems by treating and storing code as data, and more specifically as a graph. I will show specific examples of how we can use this approach to improve our understanding of large code bases, increase code quality and automate certain aspects of software development.</p>\n",
       "<p>Finally, I will outline my personal vision of the future of programming, which is a future where we no longer primarily interact with code bases using simple text editors. I will also give some ideas on how we might get to that future.</p>\n",
       "<p>More information about me:</p>\n",
       "<ul>\n",
       "<li>Github: <a href=\"https://github.com/adewes\">https://github.com/adewes</a></li>\n",
       "<li>Twitter: <a href=\"https://twitter.com/japh44\">https://twitter.com/japh44</a></li>\n",
       "<li>Website: <a href=\"http://www.andreas-dewes.de/en\">http://www.andreas-dewes.de/en</a></li>\n",
       "</ul>\n",
       "</p>"
      ],
      "text/plain": [
       "<IPython.core.display.HTML object>"
      ]
     },
     "metadata": {},
     "output_type": "display_data"
    },
    {
     "data": {
      "text/html": [
       "<br/>"
      ],
      "text/plain": [
       "<IPython.core.display.HTML object>"
      ]
     },
     "metadata": {},
     "output_type": "display_data"
    },
    {
     "data": {
      "text/html": [
       "<h2>Come to the Dark Side! We have a whole bunch of Cookiecutters!</h2>"
      ],
      "text/plain": [
       "<IPython.core.display.HTML object>"
      ]
     },
     "metadata": {},
     "output_type": "display_data"
    },
    {
     "data": {
      "text/html": [
       "<p>Thursday, July 23rd at 11:45 in Google Room</p>"
      ],
      "text/plain": [
       "<IPython.core.display.HTML object>"
      ]
     },
     "metadata": {},
     "output_type": "display_data"
    },
    {
     "data": {
      "text/html": [
       "<h3><i>Raphael Pierzina</i></h2>"
      ],
      "text/plain": [
       "<IPython.core.display.HTML object>"
      ]
     },
     "metadata": {},
     "output_type": "display_data"
    },
    {
     "data": {
      "text/html": [
       "<p><p><em>(This talk is intended for intermediate-level participants who have a basic understanding of the Python language and contains quotes from Darth Vader that some attendees may find hilarious)</em></p>\n",
       "<p>Writing a Python script from scratch is fairly easy and you get on with very little boilerplate code in general. However starting a new Python project can be tiring if you decide to stick to best practices and plan on submitting it to PyPI. It requires great diligence and occasionally gets pretty cumbersome if you start new tools on a regular basis.</p>\n",
       "<h2 id=\"You-underestimate-the-power-of-a-good-template\">You underestimate the power of a good template<a class=\"anchor-link\" href=\"#You-underestimate-the-power-of-a-good-template\">&#182;</a></h2><p>Why not just use a template for it? Cookiecutter is a CLI tool written in pure Python that enables you to do so. Not only is it working for Python code, but also markdown formats and even other programming languages. We will talk about the ideas behind Cookiecutter and go over how you can create your very own template, so you and others can benefit from your experience.</p>\n",
       "<p>I would like to briefly go into the technologies used and how you can get involved in the Cookiecutter GitHub project. There are already plenty of Cookiecutter templates, or Cookiecutters as we call them, available online. Most of them target Python projects, but others can be used to create C++, LaTeX or Javascript projects.</p>\n",
       "<h2 id=\"The-ability-to-destroy-a-planet-is-insignificant-next-to-the-power-of-Cookiecutter.\">The ability to destroy a planet is insignificant next to the power of Cookiecutter.<a class=\"anchor-link\" href=\"#The-ability-to-destroy-a-planet-is-insignificant-next-to-the-power-of-Cookiecutter.\">&#182;</a></h2><p>I will show you how to use Cookiecutter and highlight some of the amazing templates created by the community. More importantly we will create a Cookiecutter template from scratch using the example of a simple Kivy app and make use of advanced features such as post-gen hooks, copy-without-render and templates in context values.</p>\n",
       "<p>Finally I will recommend resources on how to follow up on this talk and how to get in touch in case of any queries.</p>\n",
       "<p>GitHub: <a href=\"https://github.com/hackebrot\">https://github.com/hackebrot</a></p>\n",
       "<p>Twitter: <a href=\"https://twitter.com/hackebrot\">https://twitter.com/hackebrot</a></p>\n",
       "<p>Blog: <a href=\"http://www.hackebrot.de/\">http://www.hackebrot.de/</a></p>\n",
       "</p>"
      ],
      "text/plain": [
       "<IPython.core.display.HTML object>"
      ]
     },
     "metadata": {},
     "output_type": "display_data"
    },
    {
     "data": {
      "text/html": [
       "<br/>"
      ],
      "text/plain": [
       "<IPython.core.display.HTML object>"
      ]
     },
     "metadata": {},
     "output_type": "display_data"
    },
    {
     "data": {
      "text/html": [
       "<h2>Continuous Deployment for webapps based on Django</h2>"
      ],
      "text/plain": [
       "<IPython.core.display.HTML object>"
      ]
     },
     "metadata": {},
     "output_type": "display_data"
    },
    {
     "data": {
      "text/html": [
       "<p>Friday, July 24th at 11:00 in Room A2</p>"
      ],
      "text/plain": [
       "<IPython.core.display.HTML object>"
      ]
     },
     "metadata": {},
     "output_type": "display_data"
    },
    {
     "data": {
      "text/html": [
       "<h3><i>Wojciech Lichota</i></h2>"
      ],
      "text/plain": [
       "<IPython.core.display.HTML object>"
      ]
     },
     "metadata": {},
     "output_type": "display_data"
    },
    {
     "data": {
      "text/html": [
       "<p><p>When you see users starting to use your feature, you feel very proud and fulfilled. So why feel this only once every few weeks, why not feel it every day? In this talk I will show how we changed our workflow to automate deployment of code changes to production every time a feature is ready - sometimes even few times per day. I will present how to successfully combine open-source tools like Git, Jenkins, Buildout, Fabric, uWSGI, and South, in order to simplify the process and make it more reliable. I will discuss challenges that we faced implementing this workflow in a real project based on Django and how we resolved them. During this talk you will gain the knowledge required to implement Continuous Deployment in your own project.</p>\n",
       "</p>"
      ],
      "text/plain": [
       "<IPython.core.display.HTML object>"
      ]
     },
     "metadata": {},
     "output_type": "display_data"
    },
    {
     "data": {
      "text/html": [
       "<br/>"
      ],
      "text/plain": [
       "<IPython.core.display.HTML object>"
      ]
     },
     "metadata": {},
     "output_type": "display_data"
    },
    {
     "data": {
      "text/html": [
       "<h2>Data Analysis and Map-Reduce with mongoDB and pymongo</h2>"
      ],
      "text/plain": [
       "<IPython.core.display.HTML object>"
      ]
     },
     "metadata": {},
     "output_type": "display_data"
    },
    {
     "data": {
      "text/html": [
       "<p>Wednesday, July 22nd at 11:00 in Google Room</p>"
      ],
      "text/plain": [
       "<IPython.core.display.HTML object>"
      ]
     },
     "metadata": {},
     "output_type": "display_data"
    },
    {
     "data": {
      "text/html": [
       "<h3><i>Alexander Hendorf</i></h2>"
      ],
      "text/plain": [
       "<IPython.core.display.HTML object>"
      ]
     },
     "metadata": {},
     "output_type": "display_data"
    },
    {
     "data": {
      "text/html": [
       "<p><p>The MongoDB aggregation framework provides a means to calculate aggregated values without having to use map-reduce. While map-reduce is powerful, it is often more difficult than necessary for many simple aggregation tasks, such as totaling or averaging field values.</p>\n",
       "<p>See how to use the build-in data-aggregation-pipelines for averages, summation, grouping, reshaping. See how to work with documents, sub-documents, grouping by year, month, day, etc.</p>\n",
       "<p>This talk will give many (live) examples how to make the most of your data with pymongo with a few lines of code.</p>\n",
       "</p>"
      ],
      "text/plain": [
       "<IPython.core.display.HTML object>"
      ]
     },
     "metadata": {},
     "output_type": "display_data"
    },
    {
     "data": {
      "text/html": [
       "<br/>"
      ],
      "text/plain": [
       "<IPython.core.display.HTML object>"
      ]
     },
     "metadata": {},
     "output_type": "display_data"
    },
    {
     "data": {
      "text/html": [
       "<h2>Data Structures with Python</h2>"
      ],
      "text/plain": [
       "<IPython.core.display.HTML object>"
      ]
     },
     "metadata": {},
     "output_type": "display_data"
    },
    {
     "data": {
      "text/html": [
       "<p>Thursday, July 23rd at 16:45 in Barria2 Room (Education Summit)</p>"
      ],
      "text/plain": [
       "<IPython.core.display.HTML object>"
      ]
     },
     "metadata": {},
     "output_type": "display_data"
    },
    {
     "data": {
      "text/html": [
       "<h3><i>Fernando Masanori Ashikaga</i></h2>"
      ],
      "text/plain": [
       "<IPython.core.display.HTML object>"
      ]
     },
     "metadata": {},
     "output_type": "display_data"
    },
    {
     "data": {
      "text/html": [
       "<p><p>Data Structures is traditionally a “bogeyman” discipline in Computer Science courses and has a high degree of failure. In FATEC São José dos Campos we are adopting a hybrid approach, with C and Python languages. The failure rate decreased from 85% (2008) to 12% (2014). The talk will be extensively illustrated with code in C and Python, addressing the various concepts taught in this course: recursion, linked lists, queues, stacks, sorting algorithms.</p>\n",
       "</p>"
      ],
      "text/plain": [
       "<IPython.core.display.HTML object>"
      ]
     },
     "metadata": {},
     "output_type": "display_data"
    },
    {
     "data": {
      "text/html": [
       "<br/>"
      ],
      "text/plain": [
       "<IPython.core.display.HTML object>"
      ]
     },
     "metadata": {},
     "output_type": "display_data"
    },
    {
     "data": {
      "text/html": [
       "<h2>Data-visualisation with Python and Javascript: crafting a data-viz toolchain for the web</h2>"
      ],
      "text/plain": [
       "<IPython.core.display.HTML object>"
      ]
     },
     "metadata": {},
     "output_type": "display_data"
    },
    {
     "data": {
      "text/html": [
       "<p>Tuesday, July 21st at 14:30 in PythonAnywhere Room</p>"
      ],
      "text/plain": [
       "<IPython.core.display.HTML object>"
      ]
     },
     "metadata": {},
     "output_type": "display_data"
    },
    {
     "data": {
      "text/html": [
       "<h3><i>Kyran Dale</i></h2>"
      ],
      "text/plain": [
       "<IPython.core.display.HTML object>"
      ]
     },
     "metadata": {},
     "output_type": "display_data"
    },
    {
     "data": {
      "text/html": [
       "<p><p>To accompany an upcoming O'Reilly book 'Data-visualisation with Python and Javascript: crafting a dataviz toolchain for the web' (see <a href=\"http://kyrandale.com/blog/data-visualization-python-javascript/\">here</a>) this talk aims to sketch out the toolchain by transforming some dry Wikipedia data (Nobel prize-winners) into a far more engaging and insightful web-visualisation. This transformative cycle uses Python big-hitters such as Scrapy, Pandas and Flask, the latter delivering data to Javascript's D3.</p>\n",
       "<p>While Python is fast becoming the goto language for data-processing/science, the visual fruits of that labour hit the wall of the web, where there is only one first-class language, Javascript. To develop a data-viz toolchain for the modern world, where web-presentation is increasingly mandated, making Python and Javascript play nicely is fundamental. This talk aims to show that the perceived wall between the two languages is actually a thin, permeable membrane and that, with a bare minimum of web-dev, one can get on with programming seamlessly in both.</p>\n",
       "</p>"
      ],
      "text/plain": [
       "<IPython.core.display.HTML object>"
      ]
     },
     "metadata": {},
     "output_type": "display_data"
    },
    {
     "data": {
      "text/html": [
       "<br/>"
      ],
      "text/plain": [
       "<IPython.core.display.HTML object>"
      ]
     },
     "metadata": {},
     "output_type": "display_data"
    },
    {
     "data": {
      "text/html": [
       "<h2>Decorators demystified</h2>"
      ],
      "text/plain": [
       "<IPython.core.display.HTML object>"
      ]
     },
     "metadata": {},
     "output_type": "display_data"
    },
    {
     "data": {
      "text/html": [
       "<p>Thursday, July 23rd at 11:45 in Room A2</p>"
      ],
      "text/plain": [
       "<IPython.core.display.HTML object>"
      ]
     },
     "metadata": {},
     "output_type": "display_data"
    },
    {
     "data": {
      "text/html": [
       "<h3><i>Pablo Enfedaque</i></h2>"
      ],
      "text/plain": [
       "<IPython.core.display.HTML object>"
      ]
     },
     "metadata": {},
     "output_type": "display_data"
    },
    {
     "data": {
      "text/html": [
       "<p><p>Do you know what happens every time you use the <strong>@</strong> symbol in Python?</p>\n",
       "<p>In this talk we will see the magic behind the <em>syntactic sugar</em> of the decorators. To understand how they internally work we will see in detail Python's <strong>scopes</strong>, <strong>namespaces</strong> and <strong>closures</strong>, and finally we will manually apply our own handcrafted decorator.</p>\n",
       "<p>This talk is an improved version (in English) of the talk I delivered at PyConES 2013 (the feedback was pretty positive): <a href=\"https://www.youtube.com/watch?v=d9-yTnJgcg4\">https://www.youtube.com/watch?v=d9-yTnJgcg4 </a></p>\n",
       "<p>Level:\n",
       "Intermediate. Attendees must have previous knowledge of Python and should be somehow familiar with the <strong>'@'</strong> notation to decorate a function.</p>\n",
       "</p>"
      ],
      "text/plain": [
       "<IPython.core.display.HTML object>"
      ]
     },
     "metadata": {},
     "output_type": "display_data"
    },
    {
     "data": {
      "text/html": [
       "<br/>"
      ],
      "text/plain": [
       "<IPython.core.display.HTML object>"
      ]
     },
     "metadata": {},
     "output_type": "display_data"
    },
    {
     "data": {
      "text/html": [
       "<h2>Deja de pegarte con tus servicios; import lymph</h2>"
      ],
      "text/plain": [
       "<IPython.core.display.HTML object>"
      ]
     },
     "metadata": {},
     "output_type": "display_data"
    },
    {
     "data": {
      "text/html": [
       "<p>Wednesday, July 22nd at 14:30 in Barria2 Room (Local Track)</p>"
      ],
      "text/plain": [
       "<IPython.core.display.HTML object>"
      ]
     },
     "metadata": {},
     "output_type": "display_data"
    },
    {
     "data": {
      "text/html": [
       "<h3><i>Alejandro Castillo</i></h2>"
      ],
      "text/plain": [
       "<IPython.core.display.HTML object>"
      ]
     },
     "metadata": {},
     "output_type": "display_data"
    },
    {
     "data": {
      "text/html": [
       "<p><p>¿Y si pudieras centrarte en la funcionalidad de tus\n",
       "servicios en lugar de programar la integración entre ellos?</p>\n",
       "<p>lymph es un framework con personalidad propia para escribir\n",
       "servicios en Python que te permite hacer justo eso. Incluye\n",
       "descubrimiento de servicios extensible,  comunicación vía\n",
       "petición-respuesta, comunicación vía publicación-subscripción\n",
       "extensible y gestión de procesos.</p>\n",
       "<p>A medida que crecen nuestros equipos de desarrollo, nos alejamos\n",
       "cada vez más de una arquitectura monolítica. Queremos empezar a\n",
       "escribir servicios sin tener que preocuparnos de los requisitos de\n",
       "infraestructura. Queremos desarrollar de forma rápida, centrándonos\n",
       "en nuestro trabajo.</p>\n",
       "<p>En esta charla os enseñaremos lo fácil que es desarrollar y\n",
       "ejecutar servicios con lymph.</p>\n",
       "<p>Echad un ojo a <a href=\"http://lymph.io\">http://lymph.io</a>. Esperamos vuestros pull requests.</p>\n",
       "</p>"
      ],
      "text/plain": [
       "<IPython.core.display.HTML object>"
      ]
     },
     "metadata": {},
     "output_type": "display_data"
    },
    {
     "data": {
      "text/html": [
       "<br/>"
      ],
      "text/plain": [
       "<IPython.core.display.HTML object>"
      ]
     },
     "metadata": {},
     "output_type": "display_data"
    },
    {
     "data": {
      "text/html": [
       "<h2>Demystifying Mixins with Django</h2>"
      ],
      "text/plain": [
       "<IPython.core.display.HTML object>"
      ]
     },
     "metadata": {},
     "output_type": "display_data"
    },
    {
     "data": {
      "text/html": [
       "<p>Friday, July 24th at 12:30 in Barria2 Room</p>"
      ],
      "text/plain": [
       "<IPython.core.display.HTML object>"
      ]
     },
     "metadata": {},
     "output_type": "display_data"
    },
    {
     "data": {
      "text/html": [
       "<h3><i>Ana Balica</i></h2>"
      ],
      "text/plain": [
       "<IPython.core.display.HTML object>"
      ]
     },
     "metadata": {},
     "output_type": "display_data"
    },
    {
     "data": {
      "text/html": [
       "<p><p>Mixins are a great way to keep an application decoupled. This talk is about building mixins and dissecting what's behing the mixin \"magic\" and that, in fact, there is no magic involved at all. The main focus will be on Django framework while digging into mixins. When using Django class-based views, mixins feel very natural.</p>\n",
       "<p><strong>Goal</strong>: by the end of this talk, every developer should be confident about creating his or her own custom mixins.</p>\n",
       "<p><strong>Prerequisites:</strong></p>\n",
       "<ul>\n",
       "<li>basic understanding of OOP principles and their application in Python</li>\n",
       "<li>Django web framework</li>\n",
       "</ul>\n",
       "<p>Generally mixins in Python are pretty straight-forward, easy to create and use. Nevertheless a lot of developers stay away from them. I think attendees of this talk will be interested to learn that mixins are not that complex and their benefit is tremendous.</p>\n",
       "</p>"
      ],
      "text/plain": [
       "<IPython.core.display.HTML object>"
      ]
     },
     "metadata": {},
     "output_type": "display_data"
    },
    {
     "data": {
      "text/html": [
       "<br/>"
      ],
      "text/plain": [
       "<IPython.core.display.HTML object>"
      ]
     },
     "metadata": {},
     "output_type": "display_data"
    },
    {
     "data": {
      "text/html": [
       "<h2>Designing a scalable and distributed application</h2>"
      ],
      "text/plain": [
       "<IPython.core.display.HTML object>"
      ]
     },
     "metadata": {},
     "output_type": "display_data"
    },
    {
     "data": {
      "text/html": [
       "<p>Wednesday, July 22nd at 15:15 in PythonAnywhere Room</p>"
      ],
      "text/plain": [
       "<IPython.core.display.HTML object>"
      ]
     },
     "metadata": {},
     "output_type": "display_data"
    },
    {
     "data": {
      "text/html": [
       "<h3><i>Alexys Jacob</i></h2>"
      ],
      "text/plain": [
       "<IPython.core.display.HTML object>"
      ]
     },
     "metadata": {},
     "output_type": "display_data"
    },
    {
     "data": {
      "text/html": [
       "<p><p>One of the key aspect to keep in mind when developing a scalable application is its faculty to grow easily. But while we're used to take advantage of scalable backend technologies such as mongodb or couchbase, <strong>scaling automatically our own application</strong> core is usually another story.</p>\n",
       "<p>In this talk I will <strong>explain and showcase</strong> a distributed web application design based on <strong>consul</strong> and <strong>uWSGI</strong> and its consul plugin. This design will cover the key components of a distributed and scalable application:</p>\n",
       "<ul>\n",
       "<li><p><strong>Automatic service registration and discovery</strong> will allow your application to grow itself automatically.</p>\n",
       "</li>\n",
       "<li><p><strong>Health checking and service unregistration</strong> will allow your application to be fault tolerant, highly available and to shrink itself automatically.</p>\n",
       "</li>\n",
       "<li><p>A <strong>distributed Key/Value storage</strong> will allow you to (re)configure your distributed application nodes at once.</p>\n",
       "</li>\n",
       "<li><p><strong>Multi-Datacenter awareness</strong> will allow your application to scale around the world easily.</p>\n",
       "</li>\n",
       "</ul>\n",
       "</p>"
      ],
      "text/plain": [
       "<IPython.core.display.HTML object>"
      ]
     },
     "metadata": {},
     "output_type": "display_data"
    },
    {
     "data": {
      "text/html": [
       "<br/>"
      ],
      "text/plain": [
       "<IPython.core.display.HTML object>"
      ]
     },
     "metadata": {},
     "output_type": "display_data"
    },
    {
     "data": {
      "text/html": [
       "<h2>Distributed Workflows with Flowy</h2>"
      ],
      "text/plain": [
       "<IPython.core.display.HTML object>"
      ]
     },
     "metadata": {},
     "output_type": "display_data"
    },
    {
     "data": {
      "text/html": [
       "<p>Monday, July 20th at 11:45 in Barria2 Room</p>"
      ],
      "text/plain": [
       "<IPython.core.display.HTML object>"
      ]
     },
     "metadata": {},
     "output_type": "display_data"
    },
    {
     "data": {
      "text/html": [
       "<h3><i>Sever Banesiu</i></h2>"
      ],
      "text/plain": [
       "<IPython.core.display.HTML object>"
      ]
     },
     "metadata": {},
     "output_type": "display_data"
    },
    {
     "data": {
      "text/html": [
       "<p><p>This presentation introduces Flowy, a library for building and running distributed, asynchronous workflows built on top of different backends (such as Amazon’s SWF). Flowy deals away with the spaghetti code that often crops up from orchestrating complex workflows. It is ideal for applications that do multi-phased batch processing, media encoding, long-running tasks, and/or background processing.</p>\n",
       "<p>We'll start by discussing Flowy's unique execution model and see how different execution topologies can be implemented on top of it. During the talk we'll run and visualize workflows using a local backend. We'll then take a look at what it takes to scale beyond a single machine by using an external service like SWF.</p>\n",
       "</p>"
      ],
      "text/plain": [
       "<IPython.core.display.HTML object>"
      ]
     },
     "metadata": {},
     "output_type": "display_data"
    },
    {
     "data": {
      "text/html": [
       "<br/>"
      ],
      "text/plain": [
       "<IPython.core.display.HTML object>"
      ]
     },
     "metadata": {},
     "output_type": "display_data"
    },
    {
     "data": {
      "text/html": [
       "<h2>Distributed locks with Python and Redis</h2>"
      ],
      "text/plain": [
       "<IPython.core.display.HTML object>"
      ]
     },
     "metadata": {},
     "output_type": "display_data"
    },
    {
     "data": {
      "text/html": [
       "<p>Wednesday, July 22nd at 15:15 in Google Room</p>"
      ],
      "text/plain": [
       "<IPython.core.display.HTML object>"
      ]
     },
     "metadata": {},
     "output_type": "display_data"
    },
    {
     "data": {
      "text/html": [
       "<h3><i>Sebastian Buczyński</i></h2>"
      ],
      "text/plain": [
       "<IPython.core.display.HTML object>"
      ]
     },
     "metadata": {},
     "output_type": "display_data"
    },
    {
     "data": {
      "text/html": [
       "<p><p>Traditional methods of coping with concurrent programming problems are well-known and described in literature. Many programming languages, including Python, contain in their standard libraries tools and primitives such as semaphores and can spawn threads or subprocesses.</p>\n",
       "<p>However, in the face of increasing interest in service oriented architecture and building distributed systems, that span across many independent server nodes, emerges a need to adapt traditional solutions, so they can be applied in the new environment.</p>\n",
       "<p>In this talk I will share my experiences gathered during building a modern contact center - highly concurrent system, which requires certain resources to be accessed exclusively by several self-contained components.</p>\n",
       "</p>"
      ],
      "text/plain": [
       "<IPython.core.display.HTML object>"
      ]
     },
     "metadata": {},
     "output_type": "display_data"
    },
    {
     "data": {
      "text/html": [
       "<br/>"
      ],
      "text/plain": [
       "<IPython.core.display.HTML object>"
      ]
     },
     "metadata": {},
     "output_type": "display_data"
    },
    {
     "data": {
      "text/html": [
       "<h2>Dive into Scrapy</h2>"
      ],
      "text/plain": [
       "<IPython.core.display.HTML object>"
      ]
     },
     "metadata": {},
     "output_type": "display_data"
    },
    {
     "data": {
      "text/html": [
       "<p>Tuesday, July 21st at 11:45 in Google Room</p>"
      ],
      "text/plain": [
       "<IPython.core.display.HTML object>"
      ]
     },
     "metadata": {},
     "output_type": "display_data"
    },
    {
     "data": {
      "text/html": [
       "<h3><i>Juan Riaza</i></h2>"
      ],
      "text/plain": [
       "<IPython.core.display.HTML object>"
      ]
     },
     "metadata": {},
     "output_type": "display_data"
    },
    {
     "data": {
      "text/html": [
       "<p><p>Scrapy is a fast high-level screen scraping and web crawling framework, used to crawl websites and extract structured data from their pages. It can be used for a wide range of purposes, from data mining to monitoring and automated testing.</p>\n",
       "<p>In this talk some advanced techniques will be shown based on how Scrapy is used at Scrapinghub.</p>\n",
       "<p>Goals:</p>\n",
       "<ul>\n",
       "<li>Understand why its necessary to <em>Scrapy-ify</em> early on.</li>\n",
       "<li>Anatomy of a Scrapy Spider.</li>\n",
       "<li>Using the interactive shell.</li>\n",
       "<li>What are items and how to use item loaders.</li>\n",
       "<li>Examples of pipelines and middlewares.</li>\n",
       "<li>Techniques to avoid getting banned.</li>\n",
       "<li>How to deploy Scrapy projects.</li>\n",
       "</ul>\n",
       "</p>"
      ],
      "text/plain": [
       "<IPython.core.display.HTML object>"
      ]
     },
     "metadata": {},
     "output_type": "display_data"
    },
    {
     "data": {
      "text/html": [
       "<br/>"
      ],
      "text/plain": [
       "<IPython.core.display.HTML object>"
      ]
     },
     "metadata": {},
     "output_type": "display_data"
    },
    {
     "data": {
      "text/html": [
       "<h2>Diversity: We are not done yet</h2>"
      ],
      "text/plain": [
       "<IPython.core.display.HTML object>"
      ]
     },
     "metadata": {},
     "output_type": "display_data"
    },
    {
     "data": {
      "text/html": [
       "<p>Thursday, July 23rd at 14:30 in Barria2 Room (Education Summit)</p>"
      ],
      "text/plain": [
       "<IPython.core.display.HTML object>"
      ]
     },
     "metadata": {},
     "output_type": "display_data"
    },
    {
     "data": {
      "text/html": [
       "<h3><i>Lynn Root</i></h2>"
      ],
      "text/plain": [
       "<IPython.core.display.HTML object>"
      ]
     },
     "metadata": {},
     "output_type": "display_data"
    },
    {
     "data": {
      "text/html": [
       "<p><p>The past few years, we have made large strides to welcome more diverse people into our community.  You see better gender ratios in attendance numbers at Python conferences, the billed speakers, the amount of women-centric programs.  We can see the benefits of outreach.  But we're not done yet.</p>\n",
       "<p>While a lot of the Python community embraces the importance of being diverse, we haven't taken that mindset to our workplace.  From recruiting, we still hear, \"sure, we wanted to recruit women, but we couldn't find them\" and \"we only focus on quality here, not gender!\"  Within company cultures, we hear \"gender equality isn't a problem here!\" or \"women don't ask for a higher salary\" and to \"just lean in!\"</p>\n",
       "<p>This talk will recount the diversity efforts of the past few years and quantify the effects on the Python community.  But this talk will also address the not-so-low-hanging fruit; the  deeper-rooted problems that still plague the community from inside where we work.  And it will talk the audience through actionable items to improve one's work place that welcomes more diversity.</p>\n",
       "</p>"
      ],
      "text/plain": [
       "<IPython.core.display.HTML object>"
      ]
     },
     "metadata": {},
     "output_type": "display_data"
    },
    {
     "data": {
      "text/html": [
       "<br/>"
      ],
      "text/plain": [
       "<IPython.core.display.HTML object>"
      ]
     },
     "metadata": {},
     "output_type": "display_data"
    },
    {
     "data": {
      "text/html": [
       "<h2>DumbDev -- eight rules for dumb development</h2>"
      ],
      "text/plain": [
       "<IPython.core.display.HTML object>"
      ]
     },
     "metadata": {},
     "output_type": "display_data"
    },
    {
     "data": {
      "text/html": [
       "<p>Friday, July 24th at 11:45 in PythonAnywhere Room</p>"
      ],
      "text/plain": [
       "<IPython.core.display.HTML object>"
      ]
     },
     "metadata": {},
     "output_type": "display_data"
    },
    {
     "data": {
      "text/html": [
       "<h3><i>Rob Collins</i></h2>"
      ],
      "text/plain": [
       "<IPython.core.display.HTML object>"
      ]
     },
     "metadata": {},
     "output_type": "display_data"
    },
    {
     "data": {
      "text/html": [
       "<p><p>So often, we've been encouraged to be smart in our development. \"Work smarter not harder!\" say the encouraging posters. But the desire to be smart, and be seen to be smart, is hurting. The design suffers, the code suffers, and it's hard to recruit developers smart enough to cope with the problems caused.</p>\n",
       "<p>In this talk, I'm proposing an alternative to being smart: <strong><em>DumbDev</em></strong>. Let's use our brains for enjoyable, interesting things, rather than wrestling with code written for smart developers.</p>\n",
       "<p><strong>So what do I mean by <em>dumb</em>?</strong></p>\n",
       "<p>Well, I don't mean 'ignorant'. A clever person can be ignorant of some important information, and learn it. With ignorance, there is hope. I'm also not talking about its opposite, 'stupidity'. This occurs when someone is given the information or advice, and chooses to ignore it. Dumb isn't stupid. Nor is it silent, as in someone who can't speak.</p>\n",
       "<p>Instead, the picture I have is of one of the early computers: very small RAM, disk space measured in KB, and a woefully inadequate CPU. In other words, slow, with very little working memory and limited persistent storage. Hey, this describes my brain -- and I realise that's an asset! I will write better software if I take this into account.</p>\n",
       "<p>Here's the first <strong><em>DumbDev</em></strong> rule, putting a sensible limit on complexity:</p>\n",
       "<blockquote><p><strong>1. All diagrams must fit on a Noughts and Crosses (Tic-tac-toe) board</strong>.</p>\n",
       "<p><em>One central class/concept and up to eight things linked. Larger structures need to be subdivided.</em></p>\n",
       "</blockquote>\n",
       "</p>"
      ],
      "text/plain": [
       "<IPython.core.display.HTML object>"
      ]
     },
     "metadata": {},
     "output_type": "display_data"
    },
    {
     "data": {
      "text/html": [
       "<br/>"
      ],
      "text/plain": [
       "<IPython.core.display.HTML object>"
      ]
     },
     "metadata": {},
     "output_type": "display_data"
    },
    {
     "data": {
      "text/html": [
       "<h2>Easy FullStack Deployments</h2>"
      ],
      "text/plain": [
       "<IPython.core.display.HTML object>"
      ]
     },
     "metadata": {},
     "output_type": "display_data"
    },
    {
     "data": {
      "text/html": [
       "<p>Thursday, July 23rd at 15:15 in Room A2</p>"
      ],
      "text/plain": [
       "<IPython.core.display.HTML object>"
      ]
     },
     "metadata": {},
     "output_type": "display_data"
    },
    {
     "data": {
      "text/html": [
       "<h3><i>Alvaro Aguirre</i></h2>"
      ],
      "text/plain": [
       "<IPython.core.display.HTML object>"
      ]
     },
     "metadata": {},
     "output_type": "display_data"
    },
    {
     "data": {
      "text/html": [
       "<p><p>During this talk we will discuss  how to manage your full stack development life cycle using python technologies plus Docker.</p>\n",
       "<p>We will cover from, the project creation (using Pyramid web framework), to maintaining a consistent deployment  infrastructure using buildout and docker containers.</p>\n",
       "</p>"
      ],
      "text/plain": [
       "<IPython.core.display.HTML object>"
      ]
     },
     "metadata": {},
     "output_type": "display_data"
    },
    {
     "data": {
      "text/html": [
       "<br/>"
      ],
      "text/plain": [
       "<IPython.core.display.HTML object>"
      ]
     },
     "metadata": {},
     "output_type": "display_data"
    },
    {
     "data": {
      "text/html": [
       "<h2>Everyone can do Data Science in Python</h2>"
      ],
      "text/plain": [
       "<IPython.core.display.HTML object>"
      ]
     },
     "metadata": {},
     "output_type": "display_data"
    },
    {
     "data": {
      "text/html": [
       "<p>Monday, July 20th at 12:30 in Google Room</p>"
      ],
      "text/plain": [
       "<IPython.core.display.HTML object>"
      ]
     },
     "metadata": {},
     "output_type": "display_data"
    },
    {
     "data": {
      "text/html": [
       "<h3><i>Ignacio Elola</i></h2>"
      ],
      "text/plain": [
       "<IPython.core.display.HTML object>"
      ]
     },
     "metadata": {},
     "output_type": "display_data"
    },
    {
     "data": {
      "text/html": [
       "<p><p>Data Science is a hot topic, and most data scientist use either Python or R to do their jobs as main scripting language. \n",
       "Being import.io data scientist for the last 2 years, all of them using Python, I've come across many different problems and needs on how to wrangle data, clean data, report on it and make predictions.\n",
       "In this talk I will cover all main analytics and data science needs of a start-up using Python, numpy, pandas, and sklearn.  For every use case I will show snippets of code using IPython notebooks and run some of them as live demos.</p>\n",
       "</p>"
      ],
      "text/plain": [
       "<IPython.core.display.HTML object>"
      ]
     },
     "metadata": {},
     "output_type": "display_data"
    },
    {
     "data": {
      "text/html": [
       "<br/>"
      ],
      "text/plain": [
       "<IPython.core.display.HTML object>"
      ]
     },
     "metadata": {},
     "output_type": "display_data"
    },
    {
     "data": {
      "text/html": [
       "<h2>Extending and embedding Ansible with Python</h2>"
      ],
      "text/plain": [
       "<IPython.core.display.HTML object>"
      ]
     },
     "metadata": {},
     "output_type": "display_data"
    },
    {
     "data": {
      "text/html": [
       "<p>Thursday, July 23rd at 11:00 in Room A2</p>"
      ],
      "text/plain": [
       "<IPython.core.display.HTML object>"
      ]
     },
     "metadata": {},
     "output_type": "display_data"
    },
    {
     "data": {
      "text/html": [
       "<h3><i>Alejandro Guirao Rodríguez</i></h2>"
      ],
      "text/plain": [
       "<IPython.core.display.HTML object>"
      ]
     },
     "metadata": {},
     "output_type": "display_data"
    },
    {
     "data": {
      "text/html": [
       "<p><p><a href=\"http://www.ansible.com/home\">Ansible </a>is the <em>new cool kid in town</em> in the configuration management world. It is easy to learn, fast to setup and works great! In the first part of the talk, I will do a super-fast introduction to Ansible for the newcomers.</p>\n",
       "<p>If you are a Pythonista, you can hack and leverage Ansible in many ways. In the second part of the talk, I will describe some options to extend and embed Ansible with Python:</p>\n",
       "<ul>\n",
       "<li>Embedding Ansible with the Python API</li>\n",
       "<li>Extending Ansible: creating modules, plugins and callbacks</li>\n",
       "</ul>\n",
       "<p>Previous experience with Ansible is advised in order to get the most of this talk, but beginners to the tool will also get an overview of the capabilities of this kind of integration.</p>\n",
       "</p>"
      ],
      "text/plain": [
       "<IPython.core.display.HTML object>"
      ]
     },
     "metadata": {},
     "output_type": "display_data"
    },
    {
     "data": {
      "text/html": [
       "<br/>"
      ],
      "text/plain": [
       "<IPython.core.display.HTML object>"
      ]
     },
     "metadata": {},
     "output_type": "display_data"
    },
    {
     "data": {
      "text/html": [
       "<h2>External authentication for Django projects</h2>"
      ],
      "text/plain": [
       "<IPython.core.display.HTML object>"
      ]
     },
     "metadata": {},
     "output_type": "display_data"
    },
    {
     "data": {
      "text/html": [
       "<p>Friday, July 24th at 14:30 in Barria2 Room</p>"
      ],
      "text/plain": [
       "<IPython.core.display.HTML object>"
      ]
     },
     "metadata": {},
     "output_type": "display_data"
    },
    {
     "data": {
      "text/html": [
       "<h3><i>Jan Pazdziora</i></h2>"
      ],
      "text/plain": [
       "<IPython.core.display.HTML object>"
      ]
     },
     "metadata": {},
     "output_type": "display_data"
    },
    {
     "data": {
      "text/html": [
       "<p><p>When applications get deployed in enterprise environment or in large organizations, they need to support user accounts and groups that are managed externally, in existing directory services like FreeIPA or Active Directory, or federated via protocols like SAML. While it is possible to  add support for these individual setups and protocols directly to application code or to Web frameworks or libraries, often it is better to delegate the authentication and identity operations to a frontend server and just assume that the application has to be able to consume results of the external authentication and identity lookups.</p>\n",
       "<p>In this talk, we will look at Django Web framework and how with few small changes to the framework and to the application we can extend the functionality of existing RemoteUserMiddleware and RemoteUserBackend to consume users coming from enterprise identity management systems. We will focus on using proven OS-level components such as SSSD for Web applications, but will also show setup using federation.</p>\n",
       "</p>"
      ],
      "text/plain": [
       "<IPython.core.display.HTML object>"
      ]
     },
     "metadata": {},
     "output_type": "display_data"
    },
    {
     "data": {
      "text/html": [
       "<br/>"
      ],
      "text/plain": [
       "<IPython.core.display.HTML object>"
      ]
     },
     "metadata": {},
     "output_type": "display_data"
    },
    {
     "data": {
      "text/html": [
       "<h2>FOSS DOCS 101 (keep it simple, present!)</h2>"
      ],
      "text/plain": [
       "<IPython.core.display.HTML object>"
      ]
     },
     "metadata": {},
     "output_type": "display_data"
    },
    {
     "data": {
      "text/html": [
       "<p>Friday, July 24th at 14:30 in Google Room</p>"
      ],
      "text/plain": [
       "<IPython.core.display.HTML object>"
      ]
     },
     "metadata": {},
     "output_type": "display_data"
    },
    {
     "data": {
      "text/html": [
       "<h3><i>Mikey Ariel</i></h2>"
      ],
      "text/plain": [
       "<IPython.core.display.HTML object>"
      ]
     },
     "metadata": {},
     "output_type": "display_data"
    },
    {
     "data": {
      "text/html": [
       "<p><p>Does your open source project need better documentation? Do you wish that new users could get started with your software more easily? Do you feel that your code contribution workflow isn't documented well enough, or that contributors are discouraged from documenting their code? How can you give your project docs the love they deserve?</p>\n",
       "<p>This high-level talk aims to introduce the main principles of technical communication in the context of FOSS projects. It is intended for anyone who interacts with docs, whether your project is fresh off the dev environment or has been around since the dawn of Git. Topics include tone, style, process management, structure, and contribution workflow.</p>\n",
       "</p>"
      ],
      "text/plain": [
       "<IPython.core.display.HTML object>"
      ]
     },
     "metadata": {},
     "output_type": "display_data"
    },
    {
     "data": {
      "text/html": [
       "<br/>"
      ],
      "text/plain": [
       "<IPython.core.display.HTML object>"
      ]
     },
     "metadata": {},
     "output_type": "display_data"
    },
    {
     "data": {
      "text/html": [
       "<h2>Faking It - The Art of Testing Using Verified Fakes</h2>"
      ],
      "text/plain": [
       "<IPython.core.display.HTML object>"
      ]
     },
     "metadata": {},
     "output_type": "display_data"
    },
    {
     "data": {
      "text/html": [
       "<p>Thursday, July 23rd at 12:30 in Room A2</p>"
      ],
      "text/plain": [
       "<IPython.core.display.HTML object>"
      ]
     },
     "metadata": {},
     "output_type": "display_data"
    },
    {
     "data": {
      "text/html": [
       "<h3><i>Richard Wall</i></h2>"
      ],
      "text/plain": [
       "<IPython.core.display.HTML object>"
      ]
     },
     "metadata": {},
     "output_type": "display_data"
    },
    {
     "data": {
      "text/html": [
       "<p><p>Have you ever worried that your tests aren't as good because they're running against a fake or mock instead of the real thing?\n",
       "Verified fakes solve this problem.\n",
       "Verified fakes allow for simplified testing using fakes while still providing the assurance that code tested using a fake implementation will behave the same way when used with a real implementation.</p>\n",
       "<p>The talk will begin with a case-study, demonstrating what it means to write a \"verified fake\" implementation of a public API.\n",
       "I will show how to write tests that verify a fake implementation of a well defined API\n",
       "and I will show how those same tests can be re-used to verify and test real implementations of the same API.</p>\n",
       "</p>"
      ],
      "text/plain": [
       "<IPython.core.display.HTML object>"
      ]
     },
     "metadata": {},
     "output_type": "display_data"
    },
    {
     "data": {
      "text/html": [
       "<br/>"
      ],
      "text/plain": [
       "<IPython.core.display.HTML object>"
      ]
     },
     "metadata": {},
     "output_type": "display_data"
    },
    {
     "data": {
      "text/html": [
       "<h2>From basic distance search to a complex multi criteria search</h2>"
      ],
      "text/plain": [
       "<IPython.core.display.HTML object>"
      ]
     },
     "metadata": {},
     "output_type": "display_data"
    },
    {
     "data": {
      "text/html": [
       "<p>Wednesday, July 22nd at 12:30 in Room A2</p>"
      ],
      "text/plain": [
       "<IPython.core.display.HTML object>"
      ]
     },
     "metadata": {},
     "output_type": "display_data"
    },
    {
     "data": {
      "text/html": [
       "<h3><i>Antonin Lacombe</i></h2>"
      ],
      "text/plain": [
       "<IPython.core.display.HTML object>"
      ]
     },
     "metadata": {},
     "output_type": "display_data"
    },
    {
     "data": {
      "text/html": [
       "<p><p>This case study show how to start from a simple distance search on elasticsearch and haystack and implement a production ready search like airbnb. \n",
       "The talk will explain decay functions works with the different curves (linear, exponential, gauss) and how to send them with query scores to elasticsearch. With that you will be able to mix the distance, the price, the user activity, the number of picture and whatever you want.</p>\n",
       "<p>Additionally I will show how to write a custom ElasticsearchSearchQuery and ElasticsearchSearchBackend because this is not yet supported by haybtacksearch.</p>\n",
       "<p>All the code will be available on github soon</p>\n",
       "</p>"
      ],
      "text/plain": [
       "<IPython.core.display.HTML object>"
      ]
     },
     "metadata": {},
     "output_type": "display_data"
    },
    {
     "data": {
      "text/html": [
       "<br/>"
      ],
      "text/plain": [
       "<IPython.core.display.HTML object>"
      ]
     },
     "metadata": {},
     "output_type": "display_data"
    },
    {
     "data": {
      "text/html": [
       "<h2>Frontera: open source large-scale web crawling framework</h2>"
      ],
      "text/plain": [
       "<IPython.core.display.HTML object>"
      ]
     },
     "metadata": {},
     "output_type": "display_data"
    },
    {
     "data": {
      "text/html": [
       "<p>Monday, July 20th at 15:15 in Room A2</p>"
      ],
      "text/plain": [
       "<IPython.core.display.HTML object>"
      ]
     },
     "metadata": {},
     "output_type": "display_data"
    },
    {
     "data": {
      "text/html": [
       "<h3><i>Alexander Sibiryakov</i></h2>"
      ],
      "text/plain": [
       "<IPython.core.display.HTML object>"
      ]
     },
     "metadata": {},
     "output_type": "display_data"
    },
    {
     "data": {
      "text/html": [
       "<p><p>In this talk I'm going to introduce Scrapinghub's new open source framework <a href=\"https://github.com/scrapinghub/frontera\">Frontera</a>.  Frontera allows to build real-time distributed web crawlers and website focused ones.</p>\n",
       "<p>Offering:</p>\n",
       "<ul>\n",
       "<li>customizable URL metadata storage (RDBMS or Key-Value based),</li>\n",
       "<li>crawling strategies management,</li>\n",
       "<li>transport layer abstraction.</li>\n",
       "<li>fetcher abstraction.</li>\n",
       "</ul>\n",
       "<p>Along with framework description I'll demonstrate how to build a distributed crawler using <a href=\"http://scrapy.org/\">Scrapy</a>, Kafka and HBase, and hopefully present some statistics of Spanish internet collected with newly built crawler.  Happy EuroPythoning!</p>\n",
       "</p>"
      ],
      "text/plain": [
       "<IPython.core.display.HTML object>"
      ]
     },
     "metadata": {},
     "output_type": "display_data"
    },
    {
     "data": {
      "text/html": [
       "<br/>"
      ],
      "text/plain": [
       "<IPython.core.display.HTML object>"
      ]
     },
     "metadata": {},
     "output_type": "display_data"
    },
    {
     "data": {
      "text/html": [
       "<h2>Functional Python with Mochi</h2>"
      ],
      "text/plain": [
       "<IPython.core.display.HTML object>"
      ]
     },
     "metadata": {},
     "output_type": "display_data"
    },
    {
     "data": {
      "text/html": [
       "<p>Tuesday, July 21st at 16:45 in PythonAnywhere Room</p>"
      ],
      "text/plain": [
       "<IPython.core.display.HTML object>"
      ]
     },
     "metadata": {},
     "output_type": "display_data"
    },
    {
     "data": {
      "text/html": [
       "<h3><i>Mike Müller</i></h2>"
      ],
      "text/plain": [
       "<IPython.core.display.HTML object>"
      ]
     },
     "metadata": {},
     "output_type": "display_data"
    },
    {
     "data": {
      "text/html": [
       "<p><p>While Python supports procedural, object-oriented, and functional programming, its functional features are not fully developed. Mochi is a Python-like functional language that compiles to Python 3 and PyPy 3 bytecode. It can use Python libraries and can be used from Python.</p>\n",
       "<p>Mochi adds functional features such as tail recursion optimization, no re-assignments in function definitions, persistent data structures, pattern matching, algebraic data types, a pipeline operator, better anonymous functions, Erlang-style actors, Lisp-style macros as well as many useful builtin functions.</p>\n",
       "<p>This talk presents what Mochi is, how it works, and what you can do with it. Functional programming can help to solve certain kind of problems elegantly. Done right, functional programs can be easily tested and provide more confidence that you program is really doing what you want. Mochi could be another tool in your toolbox. Functional programming can expand your horizon and can be a lot of fun. Mochi offers easy access to this new world because you can leverage your existing Python knowledge and libraries whenever needed.</p>\n",
       "</p>"
      ],
      "text/plain": [
       "<IPython.core.display.HTML object>"
      ]
     },
     "metadata": {},
     "output_type": "display_data"
    },
    {
     "data": {
      "text/html": [
       "<br/>"
      ],
      "text/plain": [
       "<IPython.core.display.HTML object>"
      ]
     },
     "metadata": {},
     "output_type": "display_data"
    },
    {
     "data": {
      "text/html": [
       "<h2>Get native with Cython</h2>"
      ],
      "text/plain": [
       "<IPython.core.display.HTML object>"
      ]
     },
     "metadata": {},
     "output_type": "display_data"
    },
    {
     "data": {
      "text/html": [
       "<p>Tuesday, July 21st at 14:30 in Barria1 Room</p>"
      ],
      "text/plain": [
       "<IPython.core.display.HTML object>"
      ]
     },
     "metadata": {},
     "output_type": "display_data"
    },
    {
     "data": {
      "text/html": [
       "<h3><i>Stefan Behnel</i></h2>"
      ],
      "text/plain": [
       "<IPython.core.display.HTML object>"
      ]
     },
     "metadata": {},
     "output_type": "display_data"
    },
    {
     "data": {
      "text/html": [
       "<p><p><a href=\"http://cython.org/\">Cython</a> is not only an excellent and widely used tool to speed up computational Python code, it's also a very comfortable way to talk to native code and libraries. The Cython compiler translates Python code to C or C++ code, and supports static type annotations to allow direct use of C/C++ data types and functions. The tight integration of all three languages makes it possible to freely mix Python features like generators and comprehensions with C/C++ features like native data types, pointer arithmetic or manually tuned memory management in the same code.</p>\n",
       "<p>This talk by a core developer introduces the Cython compiler by interactive code examples and presents recent enhancements in the language that continue to make Cython the best choice for the development of fast and portable Python extensions.</p>\n",
       "</p>"
      ],
      "text/plain": [
       "<IPython.core.display.HTML object>"
      ]
     },
     "metadata": {},
     "output_type": "display_data"
    },
    {
     "data": {
      "text/html": [
       "<br/>"
      ],
      "text/plain": [
       "<IPython.core.display.HTML object>"
      ]
     },
     "metadata": {},
     "output_type": "display_data"
    },
    {
     "data": {
      "text/html": [
       "<h2>Getting started with Bokeh / Let's build an interactive data visualization for the web..in Python!</h2>"
      ],
      "text/plain": [
       "<IPython.core.display.HTML object>"
      ]
     },
     "metadata": {},
     "output_type": "display_data"
    },
    {
     "data": {
      "text/html": [
       "<p>Monday, July 20th at 11:00 in Barria2 Room</p>"
      ],
      "text/plain": [
       "<IPython.core.display.HTML object>"
      ]
     },
     "metadata": {},
     "output_type": "display_data"
    },
    {
     "data": {
      "text/html": [
       "<h3><i>Sarah Bird</i></h2>"
      ],
      "text/plain": [
       "<IPython.core.display.HTML object>"
      ]
     },
     "metadata": {},
     "output_type": "display_data"
    },
    {
     "data": {
      "text/html": [
       "<p><p>As a web developer, I find myself being asked to make increasing numbers of data visualizations, interactive infographics, and more. d3.js is great, as are many other javascript toolkits that are out there. But if I can write more Python and less JavaScript... well, that makes me happy!</p>\n",
       "<p>Bokeh is a new Python library for interactive visualization. Its origins are in the data science community, but it has a lot to offer web developers. In this mini-tutorial, I'll run through how to build a data visualization in Bokeh and how to hook it into your web application. This will be a real-world example, that was previously built in d3.js.</p>\n",
       "<p>Along the way, I'll provide tips and tricks that I've discovered in my experience including how Bokeh works wonderfully with the iPython notebook which I use to prototype my visualizations, and many data science people use as their native way to explore data.</p>\n",
       "<p>For those of you who already know a little Bokeh, I'll be covering the new \"actions framework\" that lets you write JS callbacks in your python code so you can do lots of interactions all on the client side.</p>\n",
       "</p>"
      ],
      "text/plain": [
       "<IPython.core.display.HTML object>"
      ]
     },
     "metadata": {},
     "output_type": "display_data"
    },
    {
     "data": {
      "text/html": [
       "<br/>"
      ],
      "text/plain": [
       "<IPython.core.display.HTML object>"
      ]
     },
     "metadata": {},
     "output_type": "display_data"
    },
    {
     "data": {
      "text/html": [
       "<h2>How to GIS with Python</h2>"
      ],
      "text/plain": [
       "<IPython.core.display.HTML object>"
      ]
     },
     "metadata": {},
     "output_type": "display_data"
    },
    {
     "data": {
      "text/html": [
       "<p>Friday, July 24th at 11:00 in Barria1 Room</p>"
      ],
      "text/plain": [
       "<IPython.core.display.HTML object>"
      ]
     },
     "metadata": {},
     "output_type": "display_data"
    },
    {
     "data": {
      "text/html": [
       "<h3><i>Anders Lehmann</i></h2>"
      ],
      "text/plain": [
       "<IPython.core.display.HTML object>"
      ]
     },
     "metadata": {},
     "output_type": "display_data"
    },
    {
     "data": {
      "text/html": [
       "<p><p>In this talk I will present some tools for working with Geographic Information Systems in Python.</p>\n",
       "<p>Geographic information Systems are widely used for managing geographic (map) data. As an example I will present how to use Open Street Map data (<a href=\"http://openstreetmap.org/\">http://openstreetmap.org/</a>), in routing, traffic planning and estimation of pollution emission.</p>\n",
       "<p>For the purpose of the project EcoSense (<a href=\"http://ecosense.au.dk\">http://ecosense.au.dk</a>), GPS data from users smartphones are mapped to OSM roads. The map matching algorithm is written in Python and uses data from the database PostgreSQL, with the PostGIS extension.</p>\n",
       "<p>One of the goals of the EcoSense project is to devise methods to improve the estimation of air quality in urban environments.</p>\n",
       "</p>"
      ],
      "text/plain": [
       "<IPython.core.display.HTML object>"
      ]
     },
     "metadata": {},
     "output_type": "display_data"
    },
    {
     "data": {
      "text/html": [
       "<br/>"
      ],
      "text/plain": [
       "<IPython.core.display.HTML object>"
      ]
     },
     "metadata": {},
     "output_type": "display_data"
    },
    {
     "data": {
      "text/html": [
       "<h2>How to build a spreadsheet with Python</h2>"
      ],
      "text/plain": [
       "<IPython.core.display.HTML object>"
      ]
     },
     "metadata": {},
     "output_type": "display_data"
    },
    {
     "data": {
      "text/html": [
       "<p>Wednesday, July 22nd at 16:45 in PythonAnywhere Room</p>"
      ],
      "text/plain": [
       "<IPython.core.display.HTML object>"
      ]
     },
     "metadata": {},
     "output_type": "display_data"
    },
    {
     "data": {
      "text/html": [
       "<h3><i>Harry Percival</i></h2>"
      ],
      "text/plain": [
       "<IPython.core.display.HTML object>"
      ]
     },
     "metadata": {},
     "output_type": "display_data"
    },
    {
     "data": {
      "text/html": [
       "<p><p>Do you know how a spreadsheet works?  Can you imagine building one, from scratch, in Python?  This talk will be a whirlwind overview of how to do just that.  Based on the source code of Dirigible, a short-lived experiment in building a cloud-based Pythonic spreadsheet (now <a href=\"https://github.com/pythonanywhere/dirigible-spreadsheet\">open-sourced</a>, for the curious).</p>\n",
       "<p>We'll start from scratch, with a simple data representation for a two-by-two grid, and then gradually build up the functionality of our spreadsheet:</p>\n",
       "<ul>\n",
       "<li>Cell objects, and the formula/value distinction</li>\n",
       "<li>Evaluating cells, from simple arithmetic up to an Excel-like dialect</li>\n",
       "<li>Building up the dependency graph, and the ensuing fun times with recursion (arg!)</li>\n",
       "<li>Integrating custom functions and user-defined code.</li>\n",
       "</ul>\n",
       "<p>Showing and explaining code examples, and alternating with  live demos (don't worry, I've done this before!)</p>\n",
       "<p>And it's all in Python!  You'll be surprised at how easy it turns out to be, when you go step-by-step, each building on the last... And I promise you'll be at least a couple of  moderately mind-blowing moments :)</p>\n",
       "</p>"
      ],
      "text/plain": [
       "<IPython.core.display.HTML object>"
      ]
     },
     "metadata": {},
     "output_type": "display_data"
    },
    {
     "data": {
      "text/html": [
       "<br/>"
      ],
      "text/plain": [
       "<IPython.core.display.HTML object>"
      ]
     },
     "metadata": {},
     "output_type": "display_data"
    },
    {
     "data": {
      "text/html": [
       "<h2>How you can benefit from type hints</h2>"
      ],
      "text/plain": [
       "<IPython.core.display.HTML object>"
      ]
     },
     "metadata": {},
     "output_type": "display_data"
    },
    {
     "data": {
      "text/html": [
       "<p>Friday, July 24th at 11:45 in Room A2</p>"
      ],
      "text/plain": [
       "<IPython.core.display.HTML object>"
      ]
     },
     "metadata": {},
     "output_type": "display_data"
    },
    {
     "data": {
      "text/html": [
       "<h3><i>Andrey Vlasovskikh</i></h2>"
      ],
      "text/plain": [
       "<IPython.core.display.HTML object>"
      ]
     },
     "metadata": {},
     "output_type": "display_data"
    },
    {
     "data": {
      "text/html": [
       "<p><p>PEP 484 introduces type hints for Python 3. Type hints can increase readability of our code for both humans and tools and lead to better and safer outcomes. And we'll prove it in this talk!</p>\n",
       "<p>We're going to take a closer look at type hints, see practical examples of where they can be used and the value they provide.  We'll see that simple class types and built-in collection types are often enough for our public API's. We'll also discuss how you can benefit from type hinting stubs for third-party libraries and briefly cover more advanced scenarios like generic types.</p>\n",
       "</p>"
      ],
      "text/plain": [
       "<IPython.core.display.HTML object>"
      ]
     },
     "metadata": {},
     "output_type": "display_data"
    },
    {
     "data": {
      "text/html": [
       "<br/>"
      ],
      "text/plain": [
       "<IPython.core.display.HTML object>"
      ]
     },
     "metadata": {},
     "output_type": "display_data"
    },
    {
     "data": {
      "text/html": [
       "<h2>How-To: Build a local Python community</h2>"
      ],
      "text/plain": [
       "<IPython.core.display.HTML object>"
      ]
     },
     "metadata": {},
     "output_type": "display_data"
    },
    {
     "data": {
      "text/html": [
       "<p>Friday, July 24th at 15:15 in Google Room</p>"
      ],
      "text/plain": [
       "<IPython.core.display.HTML object>"
      ]
     },
     "metadata": {},
     "output_type": "display_data"
    },
    {
     "data": {
      "text/html": [
       "<h3><i>Jyrki Pulliainen</i></h2>"
      ],
      "text/plain": [
       "<IPython.core.display.HTML object>"
      ]
     },
     "metadata": {},
     "output_type": "display_data"
    },
    {
     "data": {
      "text/html": [
       "<p><p>Do you like visiting Python conferences like the EuroPython? Does it\n",
       "make you to want something similar where you live too? This talk looks\n",
       "into the effort, practical things and some good tips on how to\n",
       "bootstrap your own Python community where you live!</p>\n",
       "<p>If you already run a local Python community, join this talk to share\n",
       "your views and give your comments to those interested in building\n",
       "their first Python community.</p>\n",
       "<p>After the talk you have a good idea of what it takes to run your local\n",
       "Python community (spoiler: not much!) and how can you take it even further!</p>\n",
       "</p>"
      ],
      "text/plain": [
       "<IPython.core.display.HTML object>"
      ]
     },
     "metadata": {},
     "output_type": "display_data"
    },
    {
     "data": {
      "text/html": [
       "<br/>"
      ],
      "text/plain": [
       "<IPython.core.display.HTML object>"
      ]
     },
     "metadata": {},
     "output_type": "display_data"
    },
    {
     "data": {
      "text/html": [
       "<h2>Image recognition and camera positioning with OpenCV. A tourist guide application.</h2>"
      ],
      "text/plain": [
       "<IPython.core.display.HTML object>"
      ]
     },
     "metadata": {},
     "output_type": "display_data"
    },
    {
     "data": {
      "text/html": [
       "<p>Tuesday, July 21st at 12:30 in Barria1 Room</p>"
      ],
      "text/plain": [
       "<IPython.core.display.HTML object>"
      ]
     },
     "metadata": {},
     "output_type": "display_data"
    },
    {
     "data": {
      "text/html": [
       "<h3><i>Francesco Nazzaro</i></h2>"
      ],
      "text/plain": [
       "<IPython.core.display.HTML object>"
      ]
     },
     "metadata": {},
     "output_type": "display_data"
    },
    {
     "data": {
      "text/html": [
       "<p><p>OpenCV Python bindings provide several ready to use tools for camera calibration, image recognition and camera position estimation. This talk will show how to recognize a picture, from a library of known paintings, and compute the camera position with respect to the recognized picture using OpenCV and numpy. This is applied to a tourist guide application for Google Glass through the recognition of the paintings exposed in the museum.</p>\n",
       "</p>"
      ],
      "text/plain": [
       "<IPython.core.display.HTML object>"
      ]
     },
     "metadata": {},
     "output_type": "display_data"
    },
    {
     "data": {
      "text/html": [
       "<br/>"
      ],
      "text/plain": [
       "<IPython.core.display.HTML object>"
      ]
     },
     "metadata": {},
     "output_type": "display_data"
    },
    {
     "data": {
      "text/html": [
       "<h2>Import Deep Dive</h2>"
      ],
      "text/plain": [
       "<IPython.core.display.HTML object>"
      ]
     },
     "metadata": {},
     "output_type": "display_data"
    },
    {
     "data": {
      "text/html": [
       "<p>Friday, July 24th at 15:45 in Barria1 Room</p>"
      ],
      "text/plain": [
       "<IPython.core.display.HTML object>"
      ]
     },
     "metadata": {},
     "output_type": "display_data"
    },
    {
     "data": {
      "text/html": [
       "<h3><i>Petr Viktorin</i></h2>"
      ],
      "text/plain": [
       "<IPython.core.display.HTML object>"
      ]
     },
     "metadata": {},
     "output_type": "display_data"
    },
    {
     "data": {
      "text/html": [
       "<p><p>Whatever you need to do with Python, you can probably import a library for it. But what exactly happens when you use that import statement? How does a source file that you've installed or written become a Python module\n",
       "object, providing functions or classes for you to play with?</p>\n",
       "<p>While the import mechanism is relatively well-documented in the reference and dozens of PEPs, sometimes even Python veterans are caught by surprise. And some details are little-known: did you know you can import from zip archives? Write CPython modules in C, or even a dialect of Lisp? Or import from URLs (which might not be a good idea)?</p>\n",
       "<p>This talk explains exactly what can happen when you use the import statement – from the mundane machinery of searching PYTHONPATH through subtle details of packages and import loops, to deep internals of custom importers and C extension loading.</p>\n",
       "</p>"
      ],
      "text/plain": [
       "<IPython.core.display.HTML object>"
      ]
     },
     "metadata": {},
     "output_type": "display_data"
    },
    {
     "data": {
      "text/html": [
       "<br/>"
      ],
      "text/plain": [
       "<IPython.core.display.HTML object>"
      ]
     },
     "metadata": {},
     "output_type": "display_data"
    },
    {
     "data": {
      "text/html": [
       "<h2>Incorporando administrado repositorios de información para generar documentación on-demand</h2>"
      ],
      "text/plain": [
       "<IPython.core.display.HTML object>"
      ]
     },
     "metadata": {},
     "output_type": "display_data"
    },
    {
     "data": {
      "text/html": [
       "<p>Wednesday, July 22nd at 12:30 in Barria2 Room (Local Track)</p>"
      ],
      "text/plain": [
       "<IPython.core.display.HTML object>"
      ]
     },
     "metadata": {},
     "output_type": "display_data"
    },
    {
     "data": {
      "text/html": [
       "<h3><i>Todd Waits</i></h2>"
      ],
      "text/plain": [
       "<IPython.core.display.HTML object>"
      ]
     },
     "metadata": {},
     "output_type": "display_data"
    },
    {
     "data": {
      "text/html": [
       "<p><p>Generar  documentación de forma dinámica es relevante para los ingenieros de software porque ellos interactúan con la data en el  mismo donde está localizada.  Es también relevante para los clientes porque la documentación se puede presentar en un formato organizado y claro.  En esta presentación, hablaremos de cómo usar un proceso unificado para generar dinámicamente la documentación de diversas fuentes de data incluyendo los wikis y los sistemas de rastreo de incidencias.</p>\n",
       "<p>Idealmente, nosotros como ingenieros deberíamos interactuar  solamente con una Fuente de información que nos dara como resultado una  documentación vigente y correspondiente al estado actual de un sistema.  En el Presente, el cliente recibe documentos incompletos y sin actualización dando una incorrecta impresión del estado vigente de un Sistema.  Usando un proceso unificado para generar documentación de solo una Fuente de data permite presentar al cliente lo que se merece: artefactos actualizados y completos dando el real y mas reciente estado de un Sistema.  El resto de esta presentación se enfocara en cómo lograr este Sistema.</p>\n",
       "</p>"
      ],
      "text/plain": [
       "<IPython.core.display.HTML object>"
      ]
     },
     "metadata": {},
     "output_type": "display_data"
    },
    {
     "data": {
      "text/html": [
       "<br/>"
      ],
      "text/plain": [
       "<IPython.core.display.HTML object>"
      ]
     },
     "metadata": {},
     "output_type": "display_data"
    },
    {
     "data": {
      "text/html": [
       "<h2>Introduction to Baserock</h2>"
      ],
      "text/plain": [
       "<IPython.core.display.HTML object>"
      ]
     },
     "metadata": {},
     "output_type": "display_data"
    },
    {
     "data": {
      "text/html": [
       "<p>Tuesday, July 21st at 14:30 in Barria2 Room</p>"
      ],
      "text/plain": [
       "<IPython.core.display.HTML object>"
      ]
     },
     "metadata": {},
     "output_type": "display_data"
    },
    {
     "data": {
      "text/html": [
       "<h3><i>Sam Thursfield</i></h2>"
      ],
      "text/plain": [
       "<IPython.core.display.HTML object>"
      ]
     },
     "metadata": {},
     "output_type": "display_data"
    },
    {
     "data": {
      "text/html": [
       "<p><p>The Baserock project is about creating system images from source code in a clean, reproducible way. All of the tooling is written in Python.</p>\n",
       "<p>In this talk I'll explain a bit about the core idea of Baserock: declarative system definitions (expressed in YAML) that can be built and deployed in various ways.</p>\n",
       "<p>Then I'll go into more detail about the tools available, and some of the cool things that they can do: distributed building, atomic system updates, creating custom container images, and more.</p>\n",
       "<p>Find out more about the Baserock project at <a href=\"http://www.baserock.org/\">http://www.baserock.org/</a></p>\n",
       "</p>"
      ],
      "text/plain": [
       "<IPython.core.display.HTML object>"
      ]
     },
     "metadata": {},
     "output_type": "display_data"
    },
    {
     "data": {
      "text/html": [
       "<br/>"
      ],
      "text/plain": [
       "<IPython.core.display.HTML object>"
      ]
     },
     "metadata": {},
     "output_type": "display_data"
    },
    {
     "data": {
      "text/html": [
       "<h2>It Works on My Machine: Writing Python Code for Any Environment</h2>"
      ],
      "text/plain": [
       "<IPython.core.display.HTML object>"
      ]
     },
     "metadata": {},
     "output_type": "display_data"
    },
    {
     "data": {
      "text/html": [
       "<p>Monday, July 20th at 12:30 in Barria2 Room</p>"
      ],
      "text/plain": [
       "<IPython.core.display.HTML object>"
      ]
     },
     "metadata": {},
     "output_type": "display_data"
    },
    {
     "data": {
      "text/html": [
       "<h3><i>Kyle Knapp</i></h2>"
      ],
      "text/plain": [
       "<IPython.core.display.HTML object>"
      ]
     },
     "metadata": {},
     "output_type": "display_data"
    },
    {
     "data": {
      "text/html": [
       "<p><p>Have you ever developed a nice, well-working python program on one environment, only to have it blow up with exceptions and tracebacks when you run it on a different environment? Have no fear! This talk will show you how to write and maintain python code that is compatible across environments that may differ by python versions and/or operating systems.</p>\n",
       "<p>Techniques and tips will be drawn from lessons and experiences gained from making the AWS CLI, a python-based command line tool to manage AWS resources, compatible across a wide range of environments. In a case-study-like format, real-life compatibility issues encountered while developing the AWS CLI will be presented along with how we resolved each of them. These real-life examples will encompass, but will not be limited to, the following topics:</p>\n",
       "<p>• How to use functions and classes that may differ across python versions and/or operating systems</p>\n",
       "<p>• How to handle version-specific bugs</p>\n",
       "<p>• How to handle strings, bytes, and Unicode across python versions</p>\n",
       "<p>• How to handle differing locale settings</p>\n",
       "<p>• How to handle file operations across operating systems</p>\n",
       "<p>• How and when to vendor dependencies</p>\n",
       "<p>• How to write tests that are compatible across python versions and operating systems</p>\n",
       "<p>• How to create a testing environment that monitors compatibility of code across various environments</p>\n",
       "<p>Ultimately, the goal of these examples is introduce to you some effective, real-world programming practices to overcome your current or next compatibility issue.</p>\n",
       "</p>"
      ],
      "text/plain": [
       "<IPython.core.display.HTML object>"
      ]
     },
     "metadata": {},
     "output_type": "display_data"
    },
    {
     "data": {
      "text/html": [
       "<br/>"
      ],
      "text/plain": [
       "<IPython.core.display.HTML object>"
      ]
     },
     "metadata": {},
     "output_type": "display_data"
    },
    {
     "data": {
      "text/html": [
       "<h2>Just Because You Can, Doesn't Mean You Should</h2>"
      ],
      "text/plain": [
       "<IPython.core.display.HTML object>"
      ]
     },
     "metadata": {},
     "output_type": "display_data"
    },
    {
     "data": {
      "text/html": [
       "<p>Friday, July 24th at 12:30 in PythonAnywhere Room</p>"
      ],
      "text/plain": [
       "<IPython.core.display.HTML object>"
      ]
     },
     "metadata": {},
     "output_type": "display_data"
    },
    {
     "data": {
      "text/html": [
       "<h3><i>Julian Berman</i></h2>"
      ],
      "text/plain": [
       "<IPython.core.display.HTML object>"
      ]
     },
     "metadata": {},
     "output_type": "display_data"
    },
    {
     "data": {
      "text/html": [
       "<p><p>Python is a powerful language that provides many tools for creating highly dynamic programs. It offers tools all across the complexity spectrum that library authors can use to make their libraries seem convenient to use for users.</p>\n",
       "<p>While it's true that there are a wealth of techniques with huge positive benefits, there are a number of common antipatterns which can deceptively cause a net-loss in flexibility, readability, and predictability for users.</p>\n",
       "<p>We'll explore a few specific commonalities in this area of library and object API design, and talk about the ramifications they have on each of these programmer concerns.</p>\n",
       "</p>"
      ],
      "text/plain": [
       "<IPython.core.display.HTML object>"
      ]
     },
     "metadata": {},
     "output_type": "display_data"
    },
    {
     "data": {
      "text/html": [
       "<br/>"
      ],
      "text/plain": [
       "<IPython.core.display.HTML object>"
      ]
     },
     "metadata": {},
     "output_type": "display_data"
    },
    {
     "data": {
      "text/html": [
       "<h2>Karakate magaletik EuroPythoneko tontorrera</h2>"
      ],
      "text/plain": [
       "<IPython.core.display.HTML object>"
      ]
     },
     "metadata": {},
     "output_type": "display_data"
    },
    {
     "data": {
      "text/html": [
       "<p>Wednesday, July 22nd at 15:45 in Barria2 Room (Local Track)</p>"
      ],
      "text/plain": [
       "<IPython.core.display.HTML object>"
      ]
     },
     "metadata": {},
     "output_type": "display_data"
    },
    {
     "data": {
      "text/html": [
       "<h3><i>Oier Echaniz</i></h2>"
      ],
      "text/plain": [
       "<IPython.core.display.HTML object>"
      ]
     },
     "metadata": {},
     "output_type": "display_data"
    },
    {
     "data": {
      "text/html": [
       "<p><p>Orain dela urte batzuk asi genuen bidea azalduko dut, Python San Sebastian elkartea nola sotu genuen eta hortik pixkanaka pixkanaka nola sortzen joan den EuroPython sortzeko grina.</p>\n",
       "<p>Gendeari nahi izan eskero eta lan egin eskero EuroPython bezelako kongresu bat antolatzea posible dela erakustea du helburu hitzaldi honek.</p>\n",
       "</p>"
      ],
      "text/plain": [
       "<IPython.core.display.HTML object>"
      ]
     },
     "metadata": {},
     "output_type": "display_data"
    },
    {
     "data": {
      "text/html": [
       "<br/>"
      ],
      "text/plain": [
       "<IPython.core.display.HTML object>"
      ]
     },
     "metadata": {},
     "output_type": "display_data"
    },
    {
     "data": {
      "text/html": [
       "<h2>Killer REST APIs for rich JS applications</h2>"
      ],
      "text/plain": [
       "<IPython.core.display.HTML object>"
      ]
     },
     "metadata": {},
     "output_type": "display_data"
    },
    {
     "data": {
      "text/html": [
       "<p>Thursday, July 23rd at 14:30 in PythonAnywhere Room</p>"
      ],
      "text/plain": [
       "<IPython.core.display.HTML object>"
      ]
     },
     "metadata": {},
     "output_type": "display_data"
    },
    {
     "data": {
      "text/html": [
       "<h3><i>Adam Byrtek</i></h2>"
      ],
      "text/plain": [
       "<IPython.core.display.HTML object>"
      ]
     },
     "metadata": {},
     "output_type": "display_data"
    },
    {
     "data": {
      "text/html": [
       "<p><p>The popularity of Single Page Applications build with modern JavaScript frameworks is increasing, and more and more teams work on projects with separate frontend and backend components communicating over the network. At the same time, complex projects are evolving their architecture towards containerized microservices. However, most traditional batteries-included web frameworks are not designed for this paradigm.</p>\n",
       "<p>This talk covers some best practices for building REST APIs for private use (in contrast to public ones), focusing on issues like authentication, error handling, validation, and serialization. It will also try to convince you that this might be a good moment to reconsider microframeworks like Flask instead of your favourite opinionated web framework.</p>\n",
       "</p>"
      ],
      "text/plain": [
       "<IPython.core.display.HTML object>"
      ]
     },
     "metadata": {},
     "output_type": "display_data"
    },
    {
     "data": {
      "text/html": [
       "<br/>"
      ],
      "text/plain": [
       "<IPython.core.display.HTML object>"
      ]
     },
     "metadata": {},
     "output_type": "display_data"
    },
    {
     "data": {
      "text/html": [
       "<h2>Knowing your garbage collector</h2>"
      ],
      "text/plain": [
       "<IPython.core.display.HTML object>"
      ]
     },
     "metadata": {},
     "output_type": "display_data"
    },
    {
     "data": {
      "text/html": [
       "<p>Monday, July 20th at 14:30 in Barria2 Room</p>"
      ],
      "text/plain": [
       "<IPython.core.display.HTML object>"
      ]
     },
     "metadata": {},
     "output_type": "display_data"
    },
    {
     "data": {
      "text/html": [
       "<h3><i>Francisco Fernández Castaño</i></h2>"
      ],
      "text/plain": [
       "<IPython.core.display.HTML object>"
      ]
     },
     "metadata": {},
     "output_type": "display_data"
    },
    {
     "data": {
      "text/html": [
       "<p><p>As Python programmers we're used to program without taking care about allocating\n",
       "memory for our objects and later on freeing them, Python garbage collector\n",
       "takes care of this task automatically for us.</p>\n",
       "<p>Garbage collection is one of the most challenging topics in computer science,\n",
       "there are a lot of research around the topic and different ways to tackle\n",
       "the problem.</p>\n",
       "<p>Knowing how our language does this process give us a better understanding\n",
       "of underlying interpreter and allow us to know why problems like cycles\n",
       "can happen in CPython interpreters.</p>\n",
       "<p>So, this talk aims to be and introduction to the topic and a walkaround\n",
       "through different approaches followed in CPython and PyPy:</p>\n",
       "<ul>\n",
       "<li>Generational Reference counting with cycles detector on CPython.</li>\n",
       "<li>Incremental version of the MiniMark GC on PyPy.</li>\n",
       "</ul>\n",
       "</p>"
      ],
      "text/plain": [
       "<IPython.core.display.HTML object>"
      ]
     },
     "metadata": {},
     "output_type": "display_data"
    },
    {
     "data": {
      "text/html": [
       "<br/>"
      ],
      "text/plain": [
       "<IPython.core.display.HTML object>"
      ]
     },
     "metadata": {},
     "output_type": "display_data"
    },
    {
     "data": {
      "text/html": [
       "<h2>Learnt lessons in a big Django Project</h2>"
      ],
      "text/plain": [
       "<IPython.core.display.HTML object>"
      ]
     },
     "metadata": {},
     "output_type": "display_data"
    },
    {
     "data": {
      "text/html": [
       "<p>Friday, July 24th at 15:15 in Barria1 Room</p>"
      ],
      "text/plain": [
       "<IPython.core.display.HTML object>"
      ]
     },
     "metadata": {},
     "output_type": "display_data"
    },
    {
     "data": {
      "text/html": [
       "<h3><i>Yamila Moreno</i></h2>"
      ],
      "text/plain": [
       "<IPython.core.display.HTML object>"
      ]
     },
     "metadata": {},
     "output_type": "display_data"
    },
    {
     "data": {
      "text/html": [
       "<p><p>A Django project, developed for 2 years is a valuable source of anecdotes and wisdom. This talk is a review on the decissions, about human and tech, that my team took during the project. I'll point out the good decissions as well as the bad ones, those which made us learn \"the hard way\".</p>\n",
       "<p>Both good and bad decissions taught us a lot, and here I compile them, together with a handful of tips which can amuse and, hopefully, inspire the audience, specially those who are facing for the first time a big project.</p>\n",
       "</p>"
      ],
      "text/plain": [
       "<IPython.core.display.HTML object>"
      ]
     },
     "metadata": {},
     "output_type": "display_data"
    },
    {
     "data": {
      "text/html": [
       "<br/>"
      ],
      "text/plain": [
       "<IPython.core.display.HTML object>"
      ]
     },
     "metadata": {},
     "output_type": "display_data"
    },
    {
     "data": {
      "text/html": [
       "<h2>Lecciones aprendidas en un proyecto grande de Django</h2>"
      ],
      "text/plain": [
       "<IPython.core.display.HTML object>"
      ]
     },
     "metadata": {},
     "output_type": "display_data"
    },
    {
     "data": {
      "text/html": [
       "<p>Wednesday, July 22nd at 16:45 in Barria2 Room (Local Track)</p>"
      ],
      "text/plain": [
       "<IPython.core.display.HTML object>"
      ]
     },
     "metadata": {},
     "output_type": "display_data"
    },
    {
     "data": {
      "text/html": [
       "<h3><i>Yamila Moreno</i></h2>"
      ],
      "text/plain": [
       "<IPython.core.display.HTML object>"
      ]
     },
     "metadata": {},
     "output_type": "display_data"
    },
    {
     "data": {
      "text/html": [
       "<p><p>Un proyecto hecho en Django durante dos años da para muchas anécdotas y mucho aprendizaje.  Esta charla es un repaso por las decisiones sobre lo humano y lo técnico que fuimos tomando durante el desarrollo del proyecto.</p>\n",
       "<p>Señalaré las buenas decisiones que tomamos en el equipo, y también las que no nos salieron bien y nos hicieron aprender por las malas.</p>\n",
       "<p>Tanto las buenas como las malas decisiones nos enseñaron muchísimo y aquí las compilo junto con unos cuantos tips que pueden divertir y, ojalá, inspirar a la audiencia, especialmente a aquellas personas que se enfrentan por primera vez a un proyecto grande.</p>\n",
       "</p>"
      ],
      "text/plain": [
       "<IPython.core.display.HTML object>"
      ]
     },
     "metadata": {},
     "output_type": "display_data"
    },
    {
     "data": {
      "text/html": [
       "<br/>"
      ],
      "text/plain": [
       "<IPython.core.display.HTML object>"
      ]
     },
     "metadata": {},
     "output_type": "display_data"
    },
    {
     "data": {
      "text/html": [
       "<h2>Less known packaging features and tricks</h2>"
      ],
      "text/plain": [
       "<IPython.core.display.HTML object>"
      ]
     },
     "metadata": {},
     "output_type": "display_data"
    },
    {
     "data": {
      "text/html": [
       "<p>Monday, July 20th at 12:30 in PythonAnywhere Room</p>"
      ],
      "text/plain": [
       "<IPython.core.display.HTML object>"
      ]
     },
     "metadata": {},
     "output_type": "display_data"
    },
    {
     "data": {
      "text/html": [
       "<h3><i>Ionel Cristian Mărieș</i></h2>"
      ],
      "text/plain": [
       "<IPython.core.display.HTML object>"
      ]
     },
     "metadata": {},
     "output_type": "display_data"
    },
    {
     "data": {
      "text/html": [
       "<p><p>You've been making packages for a while now. Everything works almost fine, however, lots of new features and tools have been developed recently. Some are really obscure. And there's a chance they can save you time and help you avoid <em>packaging-induced-pain</em>. I'm willing to bet couple of beers you haven't seen these features and/or tools before.</p>\n",
       "<p>This talk is going to show you:</p>\n",
       "<ul>\n",
       "<li>Patterns and tricks you can use in your <code>setup.py</code>.</li>\n",
       "<li>Obscure pip/setuptools/virtualenv/python features you can use to improve your packaging experience (be it as a user of packages or a package author).</li>\n",
       "<li>Fledgeling alternative tools.</li>\n",
       "</ul>\n",
       "</p>"
      ],
      "text/plain": [
       "<IPython.core.display.HTML object>"
      ]
     },
     "metadata": {},
     "output_type": "display_data"
    },
    {
     "data": {
      "text/html": [
       "<br/>"
      ],
      "text/plain": [
       "<IPython.core.display.HTML object>"
      ]
     },
     "metadata": {},
     "output_type": "display_data"
    },
    {
     "data": {
      "text/html": [
       "<h2>Lessons learned about testing and TDD</h2>"
      ],
      "text/plain": [
       "<IPython.core.display.HTML object>"
      ]
     },
     "metadata": {},
     "output_type": "display_data"
    },
    {
     "data": {
      "text/html": [
       "<p>Tuesday, July 21st at 11:45 in Room A2</p>"
      ],
      "text/plain": [
       "<IPython.core.display.HTML object>"
      ]
     },
     "metadata": {},
     "output_type": "display_data"
    },
    {
     "data": {
      "text/html": [
       "<h3><i>Marco Buttu</i></h2>"
      ],
      "text/plain": [
       "<IPython.core.display.HTML object>"
      ]
     },
     "metadata": {},
     "output_type": "display_data"
    },
    {
     "data": {
      "text/html": [
       "<p><p>One day our software will go in production, and so shortly we will pay dearly for our youthful mistakes. Without regression tests, we will be in deep trouble. If we have regression tests, but we did not have performed TDD, we should probably increase the effort in bug fixing and\n",
       "maintenance, since we do not have enough code coverage and our tests come out complex.</p>\n",
       "<p>By retracing the author youthful mistakes, we will see a complete development workflow, from the user story to the low-level tests, in order to highlight the differences between functional, integration and unit tests, the best practices, and the lessons learned by the author during the development of the <a href=\"https://www.youtube.com/watch?v=zCL_tSMqsRg\">Sardinia Radio Telescope</a>  control software.</p>\n",
       "</p>"
      ],
      "text/plain": [
       "<IPython.core.display.HTML object>"
      ]
     },
     "metadata": {},
     "output_type": "display_data"
    },
    {
     "data": {
      "text/html": [
       "<br/>"
      ],
      "text/plain": [
       "<IPython.core.display.HTML object>"
      ]
     },
     "metadata": {},
     "output_type": "display_data"
    },
    {
     "data": {
      "text/html": [
       "<h2>Lessons learned with asyncio (\"Look ma, I wrote a distributed hash table!\")</h2>"
      ],
      "text/plain": [
       "<IPython.core.display.HTML object>"
      ]
     },
     "metadata": {},
     "output_type": "display_data"
    },
    {
     "data": {
      "text/html": [
       "<p>Wednesday, July 22nd at 15:15 in Room A2</p>"
      ],
      "text/plain": [
       "<IPython.core.display.HTML object>"
      ]
     },
     "metadata": {},
     "output_type": "display_data"
    },
    {
     "data": {
      "text/html": [
       "<h3><i>Nicholas Tollervey</i></h2>"
      ],
      "text/plain": [
       "<IPython.core.display.HTML object>"
      ]
     },
     "metadata": {},
     "output_type": "display_data"
    },
    {
     "data": {
      "text/html": [
       "<p><p>This talk introduces the asyncio module. I'll cover what it's for, how it works and describe how I used it to write a real-world networked application (a distributed hash table). We'll explore the event loop, coroutines, futures and networking with examples from my code. This won't be an exhaustive exposition. Rather, attendees will grasp enough of asyncio to continue with their own studies.</p>\n",
       "<p>By the end of this introductory talk I hope attendees will want to learn more about asyncio and perhaps give it a try in their own projects.</p>\n",
       "</p>"
      ],
      "text/plain": [
       "<IPython.core.display.HTML object>"
      ]
     },
     "metadata": {},
     "output_type": "display_data"
    },
    {
     "data": {
      "text/html": [
       "<br/>"
      ],
      "text/plain": [
       "<IPython.core.display.HTML object>"
      ]
     },
     "metadata": {},
     "output_type": "display_data"
    },
    {
     "data": {
      "text/html": [
       "<h2>MAX: Realtime messaging and activity stream engine</h2>"
      ],
      "text/plain": [
       "<IPython.core.display.HTML object>"
      ]
     },
     "metadata": {},
     "output_type": "display_data"
    },
    {
     "data": {
      "text/html": [
       "<p>Wednesday, July 22nd at 11:45 in PythonAnywhere Room</p>"
      ],
      "text/plain": [
       "<IPython.core.display.HTML object>"
      ]
     },
     "metadata": {},
     "output_type": "display_data"
    },
    {
     "data": {
      "text/html": [
       "<h3><i>Carles Bruguera</i></h2>"
      ],
      "text/plain": [
       "<IPython.core.display.HTML object>"
      ]
     },
     "metadata": {},
     "output_type": "display_data"
    },
    {
     "data": {
      "text/html": [
       "<p><p>What if I told you that we’ve built an open source “WhatsApp”-like RESTful API on the top of Pyramid? We've developed MAX: a real-time messaging service and activity stream that has become the key feature for a social intranet at the BarcelonaTech University</p>\n",
       "<p>We will show how we designed and built MAX with performance in mind using state of the art Python technologies like Gevent, WSGI, and multi-threaded queue processing. We will also show you how we've managed to design a simple architecture guaranteeing both high scalability and performance, achieving connecting ratios over 30.000 students, teachers, and university staff.</p>\n",
       "<p>The API is secured using oAuth 2.0 resource owner password credentials flow powered by our own oAuth server implementation (Osiris) also Pyramid-based. We are using MongoDB as general storage backend and RabbitMQ over websockets to support realtime and messaging.</p>\n",
       "</p>"
      ],
      "text/plain": [
       "<IPython.core.display.HTML object>"
      ]
     },
     "metadata": {},
     "output_type": "display_data"
    },
    {
     "data": {
      "text/html": [
       "<br/>"
      ],
      "text/plain": [
       "<IPython.core.display.HTML object>"
      ]
     },
     "metadata": {},
     "output_type": "display_data"
    },
    {
     "data": {
      "text/html": [
       "<h2>Machine Learning Under Test</h2>"
      ],
      "text/plain": [
       "<IPython.core.display.HTML object>"
      ]
     },
     "metadata": {},
     "output_type": "display_data"
    },
    {
     "data": {
      "text/html": [
       "<p>Monday, July 20th at 11:45 in Room A2</p>"
      ],
      "text/plain": [
       "<IPython.core.display.HTML object>"
      ]
     },
     "metadata": {},
     "output_type": "display_data"
    },
    {
     "data": {
      "text/html": [
       "<h3><i>Valerio Maggio</i></h2>"
      ],
      "text/plain": [
       "<IPython.core.display.HTML object>"
      ]
     },
     "metadata": {},
     "output_type": "display_data"
    },
    {
     "data": {
      "text/html": [
       "<p><p>One point usually underestimated or omitted when dealing with \n",
       "machine learning algorithms is how to write <em>good quality</em> code.\n",
       "The obvious way to face this issue is to apply automated testing, which aims at implementing (likely) less-buggy and higher quality code.</p>\n",
       "<p>However, testing machine learning code introduces additional concerns that has to be considered. On the one hand, some constraints are imposed by the domain, and the risks intrinsically related to machine learning methods, such as handling unstable data, or avoid under/overfitting. On the other hand,  testing scientific code requires additional testing tools (e.g., <code>numpy.testing</code>), specifically suited to handle numerical data.</p>\n",
       "<p>In this talk, some of the most famous machine learning techniques will be discudded and analysed from the <code>testing</code> point of view, emphasizing that testing would also allow for a better understanding of how the whole learning model works under the hood.</p>\n",
       "<p>The talk is intended for an <em>intermediate</em> audience.\n",
       "The content of the talk is intended to be mostly practical, and code\n",
       "oriented. Thus a good proficiency with the Python language is <strong>required</strong>.\n",
       "Conversely, <strong>no prior knowledge</strong> about testing nor Machine Learning \n",
       "algorithms is necessary to attend this talk.</p>\n",
       "</p>"
      ],
      "text/plain": [
       "<IPython.core.display.HTML object>"
      ]
     },
     "metadata": {},
     "output_type": "display_data"
    },
    {
     "data": {
      "text/html": [
       "<br/>"
      ],
      "text/plain": [
       "<IPython.core.display.HTML object>"
      ]
     },
     "metadata": {},
     "output_type": "display_data"
    },
    {
     "data": {
      "text/html": [
       "<h2>Mashing up py.test, coverage.py and ast.py to take TDD to a new level</h2>"
      ],
      "text/plain": [
       "<IPython.core.display.HTML object>"
      ]
     },
     "metadata": {},
     "output_type": "display_data"
    },
    {
     "data": {
      "text/html": [
       "<p>Tuesday, July 21st at 15:45 in Barria2 Room</p>"
      ],
      "text/plain": [
       "<IPython.core.display.HTML object>"
      ]
     },
     "metadata": {},
     "output_type": "display_data"
    },
    {
     "data": {
      "text/html": [
       "<h3><i>Tibor Arpas</i></h2>"
      ],
      "text/plain": [
       "<IPython.core.display.HTML object>"
      ]
     },
     "metadata": {},
     "output_type": "display_data"
    },
    {
     "data": {
      "text/html": [
       "<p><p>Users and developers especially, hate waiting. Computing has adapted and we almost never wait for the computer for more then 10 seconds. One big exception is runnig a test suite which takes MINUTES on many projects. That is incredibly distracting, frustrating and dragging the whole concept of automated tests down.</p>\n",
       "<p>I present a technique and a tool (py.test plugin called \"testmon\") which automatically selects only tests affected by recent changes. Does it sound too good to be true? Python developers rightfully have a suspecting attitude towards any tool which tries to be too clever about their source code. Code completion and symbol searching doesn't need to be 100% reliable but messing with the test suite execution? I show that we can cut test suite execution time significantly but maintain it's reliability.</p>\n",
       "</p>"
      ],
      "text/plain": [
       "<IPython.core.display.HTML object>"
      ]
     },
     "metadata": {},
     "output_type": "display_data"
    },
    {
     "data": {
      "text/html": [
       "<br/>"
      ],
      "text/plain": [
       "<IPython.core.display.HTML object>"
      ]
     },
     "metadata": {},
     "output_type": "display_data"
    },
    {
     "data": {
      "text/html": [
       "<h2>Metaprogramación en Python</h2>"
      ],
      "text/plain": [
       "<IPython.core.display.HTML object>"
      ]
     },
     "metadata": {},
     "output_type": "display_data"
    },
    {
     "data": {
      "text/html": [
       "<p>Wednesday, July 22nd at 11:00 in Barria2 Room (Local Track)</p>"
      ],
      "text/plain": [
       "<IPython.core.display.HTML object>"
      ]
     },
     "metadata": {},
     "output_type": "display_data"
    },
    {
     "data": {
      "text/html": [
       "<h3><i>Raúl Cumplido</i></h2>"
      ],
      "text/plain": [
       "<IPython.core.display.HTML object>"
      ]
     },
     "metadata": {},
     "output_type": "display_data"
    },
    {
     "data": {
      "text/html": [
       "<p><p>Según wikipedia:\n",
       "\"La metaprogramación consiste en escribir programas que escriben o manipulan otros programas (o a sí mismos) como datos, o que hacen en tiempo de compilación parte del trabajo que, de otra forma, se haría en tiempo de ejecución. Esto permite al programador ahorrar tiempo en la producción de código.\"\n",
       "En esta charla veremos diferentes mecanismos que Python proporciona como:</p>\n",
       "<ul>\n",
       "<li>Decoradores</li>\n",
       "<li>Metaclasses</li>\n",
       "<li>Descriptors\n",
       "A través de varios ejemplos veremos como reutilizar código en varias funciones y clases, como modificar como nuestras clases se generan, como se genera una clase (que funciones se llaman cuando una clase se crea) o como se genera una instancia.\n",
       "Veremos también que fácilmente se nos puede ir de las manos y como utilizar con cuidado las herramientas que Python nos proporciona.</li>\n",
       "</ul>\n",
       "</p>"
      ],
      "text/plain": [
       "<IPython.core.display.HTML object>"
      ]
     },
     "metadata": {},
     "output_type": "display_data"
    },
    {
     "data": {
      "text/html": [
       "<br/>"
      ],
      "text/plain": [
       "<IPython.core.display.HTML object>"
      ]
     },
     "metadata": {},
     "output_type": "display_data"
    },
    {
     "data": {
      "text/html": [
       "<h2>Metrics-driven development</h2>"
      ],
      "text/plain": [
       "<IPython.core.display.HTML object>"
      ]
     },
     "metadata": {},
     "output_type": "display_data"
    },
    {
     "data": {
      "text/html": [
       "<p>Monday, July 20th at 15:15 in Google Room</p>"
      ],
      "text/plain": [
       "<IPython.core.display.HTML object>"
      ]
     },
     "metadata": {},
     "output_type": "display_data"
    },
    {
     "data": {
      "text/html": [
       "<h3><i>Lynn Root</i></h2>"
      ],
      "text/plain": [
       "<IPython.core.display.HTML object>"
      ]
     },
     "metadata": {},
     "output_type": "display_data"
    },
    {
     "data": {
      "text/html": [
       "<p><p>At Spotify, my team struggled to be awesome.  We had a very loose understanding of what product/service our squad was responsible for, and even less so of the expectations our internal and external customers had for those services.  Other than “does our Facebook login work?”, we had no understanding of how our services we’re responsible for were doing.  How many users actually sign up or log in with Facebook? How many users have connected their Spotify account with their Uber account?  Do folks even use Spotify with Uber?</p>\n",
       "<p>With a 2-month challenge period, my squad and I focused inward to establish those unanswered questions and to establish feedback loops and always-on dashboards.  This talk will tell the story of how we chose which metrics are important for us to focus on, what technologies we have used and are using, and how we’ve iterated over our feedback loops to fine-tune what metrics we care about.</p>\n",
       "</p>"
      ],
      "text/plain": [
       "<IPython.core.display.HTML object>"
      ]
     },
     "metadata": {},
     "output_type": "display_data"
    },
    {
     "data": {
      "text/html": [
       "<br/>"
      ],
      "text/plain": [
       "<IPython.core.display.HTML object>"
      ]
     },
     "metadata": {},
     "output_type": "display_data"
    },
    {
     "data": {
      "text/html": [
       "<h2>MkDocs: Documenting projects with Markdown</h2>"
      ],
      "text/plain": [
       "<IPython.core.display.HTML object>"
      ]
     },
     "metadata": {},
     "output_type": "display_data"
    },
    {
     "data": {
      "text/html": [
       "<p>Thursday, July 23rd at 15:15 in Barria1 Room</p>"
      ],
      "text/plain": [
       "<IPython.core.display.HTML object>"
      ]
     },
     "metadata": {},
     "output_type": "display_data"
    },
    {
     "data": {
      "text/html": [
       "<h3><i>Dougal Matthews</i></h2>"
      ],
      "text/plain": [
       "<IPython.core.display.HTML object>"
      ]
     },
     "metadata": {},
     "output_type": "display_data"
    },
    {
     "data": {
      "text/html": [
       "<p><p>MkDocs is a Python library for creating documentation with\n",
       "Markdown. The primary goal of the project is to lower the barrier\n",
       "for documentation writers and to help enable high quality prose\n",
       "based documentation.</p>\n",
       "<p>The primary maintainer of MkDocs will cover the following topics:</p>\n",
       "<ul>\n",
       "<li><p>An introduction to MkDocs and the project goals.</p>\n",
       "<ul>\n",
       "<li>How and why did the project start?</li>\n",
       "<li>Who uses MkDocs today?</li>\n",
       "</ul>\n",
       "</li>\n",
       "<li><p>Discuss what we need to do to create great documentation and\n",
       "how MkDocs can help.</p>\n",
       "</li>\n",
       "<li><p>A tour of the key features currently in MkDocs</p>\n",
       "<ul>\n",
       "<li>Adding MkDocs to your project.</li>\n",
       "<li>Using themes in the documentation and making customisations</li>\n",
       "<li>Publishing your documentation with ReadTheDocs and GitHub\n",
       "pages.</li>\n",
       "</ul>\n",
       "</li>\n",
       "<li><p>A look at the up and coming features in MkDocs and how you can\n",
       "help make these happen.</p>\n",
       "</li>\n",
       "<li><p>A comparison with Sphinx and why you should consider MkDocs.</p>\n",
       "</li>\n",
       "</ul>\n",
       "</p>"
      ],
      "text/plain": [
       "<IPython.core.display.HTML object>"
      ]
     },
     "metadata": {},
     "output_type": "display_data"
    },
    {
     "data": {
      "text/html": [
       "<br/>"
      ],
      "text/plain": [
       "<IPython.core.display.HTML object>"
      ]
     },
     "metadata": {},
     "output_type": "display_data"
    },
    {
     "data": {
      "text/html": [
       "<h2>Multibody Simulation using sympy, scipy and vpython</h2>"
      ],
      "text/plain": [
       "<IPython.core.display.HTML object>"
      ]
     },
     "metadata": {},
     "output_type": "display_data"
    },
    {
     "data": {
      "text/html": [
       "<p>Monday, July 20th at 11:00 in PythonAnywhere Room</p>"
      ],
      "text/plain": [
       "<IPython.core.display.HTML object>"
      ]
     },
     "metadata": {},
     "output_type": "display_data"
    },
    {
     "data": {
      "text/html": [
       "<h3><i>Oliver Braun</i></h2>"
      ],
      "text/plain": [
       "<IPython.core.display.HTML object>"
      ]
     },
     "metadata": {},
     "output_type": "display_data"
    },
    {
     "data": {
      "text/html": [
       "<p><p>The talk is about the implementation of multibody simulation in the scientific python world on the way to a stage usefull for engineering and educational purposes.\n",
       "Multibody simulation (MBS) requires two major steps: first the formulation of the specific mechanical problem. Second step is the integration of the resulting equations.\n",
       "For the first step we use the package sympy which is on a very advanced level to perform symbolic calculation and which supports already Lagrange's and Kane's formalism. The extensions we made are such that a complex mechanical setup can be formulated easily with several lines of python code. The functionality is analogous to well known MBS-tools, with that you can assemble bodies, joints, forces and constraints. Also external forces even in a cosimulation model can be added on top. The second step, the integration is done via ode-integrators implemented in scipy.\n",
       "Finally for visual validation the results are visualized with the vpython package and for further analytics with matplotlib.</p>\n",
       "<p>Conclusion: not only highly constrained pendulums with many rods and springs but also driving simulation of passenger cars an be performed with our new extension using python packages off the shelf.</p>\n",
       "</p>"
      ],
      "text/plain": [
       "<IPython.core.display.HTML object>"
      ]
     },
     "metadata": {},
     "output_type": "display_data"
    },
    {
     "data": {
      "text/html": [
       "<br/>"
      ],
      "text/plain": [
       "<IPython.core.display.HTML object>"
      ]
     },
     "metadata": {},
     "output_type": "display_data"
    },
    {
     "data": {
      "text/html": [
       "<h2>Nameko for Microservices</h2>"
      ],
      "text/plain": [
       "<IPython.core.display.HTML object>"
      ]
     },
     "metadata": {},
     "output_type": "display_data"
    },
    {
     "data": {
      "text/html": [
       "<p>Tuesday, July 21st at 12:30 in Google Room</p>"
      ],
      "text/plain": [
       "<IPython.core.display.HTML object>"
      ]
     },
     "metadata": {},
     "output_type": "display_data"
    },
    {
     "data": {
      "text/html": [
       "<h3><i>Matt Bennett</i></h2>"
      ],
      "text/plain": [
       "<IPython.core.display.HTML object>"
      ]
     },
     "metadata": {},
     "output_type": "display_data"
    },
    {
     "data": {
      "text/html": [
       "<p><p>Microservices are popping up everywhere. This talk will explain what this fashionable new architecture is, including the pros and cons of adopting it, and then discuss an open-source framework that can help you do so -- <a href=\"https://nameko.readthedocs.org\">https://nameko.readthedocs.org</a>.</p>\n",
       "<p>Nameko assists you in writing services with well-defined boundaries that are easy to test. By leveraging some neat design patterns and providing test helpers, it also encourages good service structure and clean code.</p>\n",
       "</p>"
      ],
      "text/plain": [
       "<IPython.core.display.HTML object>"
      ]
     },
     "metadata": {},
     "output_type": "display_data"
    },
    {
     "data": {
      "text/html": [
       "<br/>"
      ],
      "text/plain": [
       "<IPython.core.display.HTML object>"
      ]
     },
     "metadata": {},
     "output_type": "display_data"
    },
    {
     "data": {
      "text/html": [
       "<h2>New Trends In Storing Large Data Silos With Python</h2>"
      ],
      "text/plain": [
       "<IPython.core.display.HTML object>"
      ]
     },
     "metadata": {},
     "output_type": "display_data"
    },
    {
     "data": {
      "text/html": [
       "<p>Monday, July 20th at 16:45 in Barria1 Room</p>"
      ],
      "text/plain": [
       "<IPython.core.display.HTML object>"
      ]
     },
     "metadata": {},
     "output_type": "display_data"
    },
    {
     "data": {
      "text/html": [
       "<h3><i>Francesc Alted</i></h2>"
      ],
      "text/plain": [
       "<IPython.core.display.HTML object>"
      ]
     },
     "metadata": {},
     "output_type": "display_data"
    },
    {
     "data": {
      "text/html": [
       "<p><p>My talk is meant to provide an overview of our current set of tools for storing data and how we arrived to these.  Then, in the light of the current bottlenecks, and how hardware and software are evolving, provide a brief overview of the emerging technologies that will be important for handling Big Data within Python.  Although I expect my talk to be a bit prospective, I won't certainly be trying to predict the future, but rather showing a glimpse on what I expect we would be doing in the next couple of years for properly leveraging modern architectures (bar unexpected revolutions ;).</p>\n",
       "<p>As an example of library adapting to recent trends in hardware, I will be showing bcolz (<a href=\"https://github.com/Blosc/bcolz\">https://github.com/Blosc/bcolz</a>), which implements a couple of data containers (and specially a chunked, columnar 'ctable') meant for storing large datasets efficiently.</p>\n",
       "</p>"
      ],
      "text/plain": [
       "<IPython.core.display.HTML object>"
      ]
     },
     "metadata": {},
     "output_type": "display_data"
    },
    {
     "data": {
      "text/html": [
       "<br/>"
      ],
      "text/plain": [
       "<IPython.core.display.HTML object>"
      ]
     },
     "metadata": {},
     "output_type": "display_data"
    },
    {
     "data": {
      "text/html": [
       "<h2>NumPy: vectorize your brain</h2>"
      ],
      "text/plain": [
       "<IPython.core.display.HTML object>"
      ]
     },
     "metadata": {},
     "output_type": "display_data"
    },
    {
     "data": {
      "text/html": [
       "<p>Thursday, July 23rd at 12:30 in Google Room</p>"
      ],
      "text/plain": [
       "<IPython.core.display.HTML object>"
      ]
     },
     "metadata": {},
     "output_type": "display_data"
    },
    {
     "data": {
      "text/html": [
       "<h3><i>Ekaterina Tuzova</i></h2>"
      ],
      "text/plain": [
       "<IPython.core.display.HTML object>"
      ]
     },
     "metadata": {},
     "output_type": "display_data"
    },
    {
     "data": {
      "text/html": [
       "<p><p>NumPy is the fundamental Python package for scientific computing. However, being efficient with NumPy might require slightly changing how you write Python code.</p>\n",
       "<p>I’m going to show you the basic idioms essential for fast numerical computations in Python with NumPy. We'll see why Python loops are slow and why vectorizing these operations with NumPy can often be good.</p>\n",
       "<p>Topics covered in this talk will be array creation, broadcasting, universal functions, aggregations, slicing and indexing.\n",
       "Even if you're not using NumPy you'll benefit from this talk.</p>\n",
       "</p>"
      ],
      "text/plain": [
       "<IPython.core.display.HTML object>"
      ]
     },
     "metadata": {},
     "output_type": "display_data"
    },
    {
     "data": {
      "text/html": [
       "<br/>"
      ],
      "text/plain": [
       "<IPython.core.display.HTML object>"
      ]
     },
     "metadata": {},
     "output_type": "display_data"
    },
    {
     "data": {
      "text/html": [
       "<h2>Numba, a JIT compiler for fast numerical code</h2>"
      ],
      "text/plain": [
       "<IPython.core.display.HTML object>"
      ]
     },
     "metadata": {},
     "output_type": "display_data"
    },
    {
     "data": {
      "text/html": [
       "<p>Monday, July 20th at 14:30 in Google Room</p>"
      ],
      "text/plain": [
       "<IPython.core.display.HTML object>"
      ]
     },
     "metadata": {},
     "output_type": "display_data"
    },
    {
     "data": {
      "text/html": [
       "<h3><i>Antoine Pitrou</i></h2>"
      ],
      "text/plain": [
       "<IPython.core.display.HTML object>"
      ]
     },
     "metadata": {},
     "output_type": "display_data"
    },
    {
     "data": {
      "text/html": [
       "<p><p>This talk will be a general introduction to Numba. Numba is an open source just­-in-­time Python compiler that allows you to speed up numerical algorithms for which fast linear algebra (i.e. Numpy array operations) is not enough. It has backends for the CPU and for NVidia GPUs. After the talk, the audience should be able to understand for which use cases Numba is adequate, what level of performance to expect, and have a general notion of its inner working.</p>\n",
       "<p>A bit of familiarity with scientific computing and/or Numpy is recommended for optimal understanding, but the talk should otherwise be accessible to the average Python programmer. It should also be of interest to people who are curious about attempts at high-­performance Python.</p>\n",
       "</p>"
      ],
      "text/plain": [
       "<IPython.core.display.HTML object>"
      ]
     },
     "metadata": {},
     "output_type": "display_data"
    },
    {
     "data": {
      "text/html": [
       "<br/>"
      ],
      "text/plain": [
       "<IPython.core.display.HTML object>"
      ]
     },
     "metadata": {},
     "output_type": "display_data"
    },
    {
     "data": {
      "text/html": [
       "<h2>Odoo the underdog python killer app. A python framework for web based business apps.</h2>"
      ],
      "text/plain": [
       "<IPython.core.display.HTML object>"
      ]
     },
     "metadata": {},
     "output_type": "display_data"
    },
    {
     "data": {
      "text/html": [
       "<p>Wednesday, July 22nd at 12:30 in Google Room</p>"
      ],
      "text/plain": [
       "<IPython.core.display.HTML object>"
      ]
     },
     "metadata": {},
     "output_type": "display_data"
    },
    {
     "data": {
      "text/html": [
       "<h3><i>Antony Lesuisse</i></h2>"
      ],
      "text/plain": [
       "<IPython.core.display.HTML object>"
      ]
     },
     "metadata": {},
     "output_type": "display_data"
    },
    {
     "data": {
      "text/html": [
       "<p><p>Odoo is used by 2 millions of users, although relatively unknown in the python community, it has a vibrant community and is one of the most active python open source project.</p>\n",
       "<p>I will present you the Odoo framework and how it can help to be more productive when building web based business apps.  I will highlight its advantages compared to more popular framework such as django.</p>\n",
       "</p>"
      ],
      "text/plain": [
       "<IPython.core.display.HTML object>"
      ]
     },
     "metadata": {},
     "output_type": "display_data"
    },
    {
     "data": {
      "text/html": [
       "<br/>"
      ],
      "text/plain": [
       "<IPython.core.display.HTML object>"
      ]
     },
     "metadata": {},
     "output_type": "display_data"
    },
    {
     "data": {
      "text/html": [
       "<h2>Online Education: challenges and opportunities for Staff and Students</h2>"
      ],
      "text/plain": [
       "<IPython.core.display.HTML object>"
      ]
     },
     "metadata": {},
     "output_type": "display_data"
    },
    {
     "data": {
      "text/html": [
       "<p>Thursday, July 23rd at 15:45 in Barria2 Room (Education Summit)</p>"
      ],
      "text/plain": [
       "<IPython.core.display.HTML object>"
      ]
     },
     "metadata": {},
     "output_type": "display_data"
    },
    {
     "data": {
      "text/html": [
       "<h3><i>Anders Lehmann</i></h2>"
      ],
      "text/plain": [
       "<IPython.core.display.HTML object>"
      ]
     },
     "metadata": {},
     "output_type": "display_data"
    },
    {
     "data": {
      "text/html": [
       "<p><p>From september 2015 Aarhus School of Engineering will offer the education Bachelor of Electronic Engineering, as a combined online  and on campus education. In the talk I will describe the technical and pedagogical setup, we are working at to meet the challenges of having both on-site and remote students.</p>\n",
       "<p>I will also touch on how IPython Notebook, will be part of the technical setup, and how it can be incorporated into the teaching.</p>\n",
       "</p>"
      ],
      "text/plain": [
       "<IPython.core.display.HTML object>"
      ]
     },
     "metadata": {},
     "output_type": "display_data"
    },
    {
     "data": {
      "text/html": [
       "<br/>"
      ],
      "text/plain": [
       "<IPython.core.display.HTML object>"
      ]
     },
     "metadata": {},
     "output_type": "display_data"
    },
    {
     "data": {
      "text/html": [
       "<h2>PIP Internals</h2>"
      ],
      "text/plain": [
       "<IPython.core.display.HTML object>"
      ]
     },
     "metadata": {},
     "output_type": "display_data"
    },
    {
     "data": {
      "text/html": [
       "<p>Monday, July 20th at 12:30 in Barria1 Room</p>"
      ],
      "text/plain": [
       "<IPython.core.display.HTML object>"
      ]
     },
     "metadata": {},
     "output_type": "display_data"
    },
    {
     "data": {
      "text/html": [
       "<h3><i>Xavier Fernandez</i></h2>"
      ],
      "text/plain": [
       "<IPython.core.display.HTML object>"
      ]
     },
     "metadata": {},
     "output_type": "display_data"
    },
    {
     "data": {
      "text/html": [
       "<p><p>pip is certainly one of the most used package in the Python ecosystem, but what actualy happens when you pip install foo ?</p>\n",
       "<ul>\n",
       "<li><ul>\n",
       "<li>how does it perform an installation and resolve dependencies ?</li>\n",
       "</ul>\n",
       "</li>\n",
       "<li><ul>\n",
       "<li>how does pip find installation candidates and select the 'best' ?</li>\n",
       "</ul>\n",
       "</li>\n",
       "<li><ul>\n",
       "<li>Some sneak peek on the (possible) plans for the future of pip (wheel caching, setup_requires control, etc)</li>\n",
       "</ul>\n",
       "</li>\n",
       "</ul>\n",
       "</p>"
      ],
      "text/plain": [
       "<IPython.core.display.HTML object>"
      ]
     },
     "metadata": {},
     "output_type": "display_data"
    },
    {
     "data": {
      "text/html": [
       "<br/>"
      ],
      "text/plain": [
       "<IPython.core.display.HTML object>"
      ]
     },
     "metadata": {},
     "output_type": "display_data"
    },
    {
     "data": {
      "text/html": [
       "<h2>Parallelism Shootout: threads vs asyncio vs multiple processes</h2>"
      ],
      "text/plain": [
       "<IPython.core.display.HTML object>"
      ]
     },
     "metadata": {},
     "output_type": "display_data"
    },
    {
     "data": {
      "text/html": [
       "<p>Friday, July 24th at 12:30 in Room A2</p>"
      ],
      "text/plain": [
       "<IPython.core.display.HTML object>"
      ]
     },
     "metadata": {},
     "output_type": "display_data"
    },
    {
     "data": {
      "text/html": [
       "<h3><i>Shahriar Tajbakhsh</i></h2>"
      ],
      "text/plain": [
       "<IPython.core.display.HTML object>"
      ]
     },
     "metadata": {},
     "output_type": "display_data"
    },
    {
     "data": {
      "text/html": [
       "<p><p>You need to download data from lots and lots of URLs stored in a text file and then save them on your machine. Sure, you could write a loop and get each URL in sequence, but imagine that there are so many URLs that the sun may burn out before that loop is finished; or, you're just too impatient.</p>\n",
       "<p>For the sake of making this instructive, pretend you can only use one box. So, what do you do? Here are some typical solutions: Use a single process that creates lots of threads. Use many processes. Use a single process and a library like asyncio, gevent or eventlet to yield between coroutines when the OS blocks on IO.</p>\n",
       "<p>The talk will walk through the mechanics of each approach, and then show benchmarks of the three different approaches.</p>\n",
       "</p>"
      ],
      "text/plain": [
       "<IPython.core.display.HTML object>"
      ]
     },
     "metadata": {},
     "output_type": "display_data"
    },
    {
     "data": {
      "text/html": [
       "<br/>"
      ],
      "text/plain": [
       "<IPython.core.display.HTML object>"
      ]
     },
     "metadata": {},
     "output_type": "display_data"
    },
    {
     "data": {
      "text/html": [
       "<h2>Physical computing with Python and Raspberry Pi</h2>"
      ],
      "text/plain": [
       "<IPython.core.display.HTML object>"
      ]
     },
     "metadata": {},
     "output_type": "display_data"
    },
    {
     "data": {
      "text/html": [
       "<p>Thursday, July 23rd at 11:00 in Barria2 Room (Education Summit)</p>"
      ],
      "text/plain": [
       "<IPython.core.display.HTML object>"
      ]
     },
     "metadata": {},
     "output_type": "display_data"
    },
    {
     "data": {
      "text/html": [
       "<h3><i>Ben Nuttall</i></h2>"
      ],
      "text/plain": [
       "<IPython.core.display.HTML object>"
      ]
     },
     "metadata": {},
     "output_type": "display_data"
    },
    {
     "data": {
      "text/html": [
       "<p><p>With the Raspberry Pi, it's easy to do physical computing directly from Python code - rather than usual embedded hardware engineering in C or Assembler.</p>\n",
       "<p>In this talk I'll show examples of physical computing projects that use Python on Raspberry Pi and demonstrate the sort of code  used in such projects.</p>\n",
       "<p>Physical computing with Python is very popular in education - as it's so engaging, and more interesting than printing to the screen.</p>\n",
       "<p>This will be an informative session with learning possibilities to give those new to physical computing a change to get started.</p>\n",
       "</p>"
      ],
      "text/plain": [
       "<IPython.core.display.HTML object>"
      ]
     },
     "metadata": {},
     "output_type": "display_data"
    },
    {
     "data": {
      "text/html": [
       "<br/>"
      ],
      "text/plain": [
       "<IPython.core.display.HTML object>"
      ]
     },
     "metadata": {},
     "output_type": "display_data"
    },
    {
     "data": {
      "text/html": [
       "<h2>Playing with CPython Objects Internals</h2>"
      ],
      "text/plain": [
       "<IPython.core.display.HTML object>"
      ]
     },
     "metadata": {},
     "output_type": "display_data"
    },
    {
     "data": {
      "text/html": [
       "<p>Wednesday, July 22nd at 14:30 in PythonAnywhere Room</p>"
      ],
      "text/plain": [
       "<IPython.core.display.HTML object>"
      ]
     },
     "metadata": {},
     "output_type": "display_data"
    },
    {
     "data": {
      "text/html": [
       "<h3><i>Jesús Espino</i></h2>"
      ],
      "text/plain": [
       "<IPython.core.display.HTML object>"
      ]
     },
     "metadata": {},
     "output_type": "display_data"
    },
    {
     "data": {
      "text/html": [
       "<p><p>I will explain how CPython objects are built, from simple objects\n",
       "like int or None to complex ones like dict. To make it funnier, I\n",
       "will play to change instance data directly using ctypes and do\n",
       "\"really bad things\" like truncating tuples.</p>\n",
       "</p>"
      ],
      "text/plain": [
       "<IPython.core.display.HTML object>"
      ]
     },
     "metadata": {},
     "output_type": "display_data"
    },
    {
     "data": {
      "text/html": [
       "<br/>"
      ],
      "text/plain": [
       "<IPython.core.display.HTML object>"
      ]
     },
     "metadata": {},
     "output_type": "display_data"
    },
    {
     "data": {
      "text/html": [
       "<h2>Plone 5 and how to use machine learning with it.</h2>"
      ],
      "text/plain": [
       "<IPython.core.display.HTML object>"
      ]
     },
     "metadata": {},
     "output_type": "display_data"
    },
    {
     "data": {
      "text/html": [
       "<p>Wednesday, July 22nd at 12:30 in PythonAnywhere Room</p>"
      ],
      "text/plain": [
       "<IPython.core.display.HTML object>"
      ]
     },
     "metadata": {},
     "output_type": "display_data"
    },
    {
     "data": {
      "text/html": [
       "<h3><i>Ramon Navarro Bosch</i></h2>"
      ],
      "text/plain": [
       "<IPython.core.display.HTML object>"
      ]
     },
     "metadata": {},
     "output_type": "display_data"
    },
    {
     "data": {
      "text/html": [
       "<p><p>Plone is a Document Management System and Content Management System that has been in the Python scope for more than 10 years.</p>\n",
       "<p>Plone 5’s features allow us to manage content, define various kinds of content and provide a nice useful UI to work on semantic web technologies. In this talk we are going to explain our approach for using Plone with the Python machine learning toolkit sklearn (<a href=\"http://scikit-learn.org/stable/\">http://scikit-learn.org/stable/</a>) to enable clusterization and classification of content using a scalable content management system. We will also add some sophisticated front-end gloss using the new functionalities on frontend development added on Plone 5 and some real use cases of CMS/DMS with machine learning using sklean and solr.</p>\n",
       "</p>"
      ],
      "text/plain": [
       "<IPython.core.display.HTML object>"
      ]
     },
     "metadata": {},
     "output_type": "display_data"
    },
    {
     "data": {
      "text/html": [
       "<br/>"
      ],
      "text/plain": [
       "<IPython.core.display.HTML object>"
      ]
     },
     "metadata": {},
     "output_type": "display_data"
    },
    {
     "data": {
      "text/html": [
       "<h2>Practical usage of advanced Python constructs</h2>"
      ],
      "text/plain": [
       "<IPython.core.display.HTML object>"
      ]
     },
     "metadata": {},
     "output_type": "display_data"
    },
    {
     "data": {
      "text/html": [
       "<p>Friday, July 24th at 11:45 in Barria1 Room</p>"
      ],
      "text/plain": [
       "<IPython.core.display.HTML object>"
      ]
     },
     "metadata": {},
     "output_type": "display_data"
    },
    {
     "data": {
      "text/html": [
       "<h3><i>Andrey Syschikov</i></h2>"
      ],
      "text/plain": [
       "<IPython.core.display.HTML object>"
      ]
     },
     "metadata": {},
     "output_type": "display_data"
    },
    {
     "data": {
      "text/html": [
       "<p><p>Python is a language of choice for developers with wide range of experience, for some it is a first programming language, others switch to Python after years of experience. Python provides friendly syntax and smooth learning curve. This sometimes leads to developers lacking comprehension of some more advanced constructs.</p>\n",
       "<p>It happens that experienced developers jump into using Python and sometimes miss less known Python language constructs. On the other hands people who purposefully learned Python sometimes lack practical ideas for how to apply those constructs.</p>\n",
       "<p>This talk will be specifically focused on the practical usages of advanced Python constructs like iterators, generators, decorators and context managers. Goal of the talk is to share ideas about how those constructs can be used for practical purposes in real projects. Prior knowledge is not required, there will be a brief introduction to every construct being presented.</p>\n",
       "</p>"
      ],
      "text/plain": [
       "<IPython.core.display.HTML object>"
      ]
     },
     "metadata": {},
     "output_type": "display_data"
    },
    {
     "data": {
      "text/html": [
       "<br/>"
      ],
      "text/plain": [
       "<IPython.core.display.HTML object>"
      ]
     },
     "metadata": {},
     "output_type": "display_data"
    },
    {
     "data": {
      "text/html": [
       "<h2>Preparing Apps for Dynamic Scaling</h2>"
      ],
      "text/plain": [
       "<IPython.core.display.HTML object>"
      ]
     },
     "metadata": {},
     "output_type": "display_data"
    },
    {
     "data": {
      "text/html": [
       "<p>Friday, July 24th at 12:30 in Barria1 Room</p>"
      ],
      "text/plain": [
       "<IPython.core.display.HTML object>"
      ]
     },
     "metadata": {},
     "output_type": "display_data"
    },
    {
     "data": {
      "text/html": [
       "<h3><i>roy simkes</i></h2>"
      ],
      "text/plain": [
       "<IPython.core.display.HTML object>"
      ]
     },
     "metadata": {},
     "output_type": "display_data"
    },
    {
     "data": {
      "text/html": [
       "<p><p>Scalability is a big problem for everyone who wants to grow. In order to handle the demand, appropriate infrastructure both in terms of software and hardware should be met. What if hardware was as dynamic as a service where CPU and RAM could have been acquired when only it's needed. Is there such an environment? How can you work with it? What you should be careful of? How your applications should evolve?</p>\n",
       "</p>"
      ],
      "text/plain": [
       "<IPython.core.display.HTML object>"
      ]
     },
     "metadata": {},
     "output_type": "display_data"
    },
    {
     "data": {
      "text/html": [
       "<br/>"
      ],
      "text/plain": [
       "<IPython.core.display.HTML object>"
      ]
     },
     "metadata": {},
     "output_type": "display_data"
    },
    {
     "data": {
      "text/html": [
       "<h2>PyPy and the future of the Python ecosystem</h2>"
      ],
      "text/plain": [
       "<IPython.core.display.HTML object>"
      ]
     },
     "metadata": {},
     "output_type": "display_data"
    },
    {
     "data": {
      "text/html": [
       "<p>Friday, July 24th at 15:15 in Room A2</p>"
      ],
      "text/plain": [
       "<IPython.core.display.HTML object>"
      ]
     },
     "metadata": {},
     "output_type": "display_data"
    },
    {
     "data": {
      "text/html": [
       "<h3><i>Romain Guillebert</i></h2>"
      ],
      "text/plain": [
       "<IPython.core.display.HTML object>"
      ]
     },
     "metadata": {},
     "output_type": "display_data"
    },
    {
     "data": {
      "text/html": [
       "<p><p>Python has a great versatile ecosystem but the competition is getting better, this talk is about how Python can keep up with these new languages and where PyPy fits into this.</p>\n",
       "<p>Recently we've seen the rise of new technologies like Go, Node.js and Julia, those have the ability to build an ecosystem on a clean slate and thus be better than Python in some aspects. What would it take to be as good as those technologies on those aspects without loosing all the things we love about Python ? This talk will describe my perfect future where Python keeps getting better, gets to keep it's great set of libraries and where PyPy fits in that future.</p>\n",
       "</p>"
      ],
      "text/plain": [
       "<IPython.core.display.HTML object>"
      ]
     },
     "metadata": {},
     "output_type": "display_data"
    },
    {
     "data": {
      "text/html": [
       "<br/>"
      ],
      "text/plain": [
       "<IPython.core.display.HTML object>"
      ]
     },
     "metadata": {},
     "output_type": "display_data"
    },
    {
     "data": {
      "text/html": [
       "<h2>PySpark - Data processing in Python on top of Apache Spark.</h2>"
      ],
      "text/plain": [
       "<IPython.core.display.HTML object>"
      ]
     },
     "metadata": {},
     "output_type": "display_data"
    },
    {
     "data": {
      "text/html": [
       "<p>Wednesday, July 22nd at 16:45 in Google Room</p>"
      ],
      "text/plain": [
       "<IPython.core.display.HTML object>"
      ]
     },
     "metadata": {},
     "output_type": "display_data"
    },
    {
     "data": {
      "text/html": [
       "<h3><i>Peter Hoffmann</i></h2>"
      ],
      "text/plain": [
       "<IPython.core.display.HTML object>"
      ]
     },
     "metadata": {},
     "output_type": "display_data"
    },
    {
     "data": {
      "text/html": [
       "<p><p><a href=\"https://spark.apache.org\">Apache Spark</a> is a computational engine for large-scale data processing. It\n",
       "is responsible for scheduling, distribution and monitoring applications which\n",
       "consist of many computational task across many worker machines on a computing\n",
       "cluster.</p>\n",
       "<p>This Talk will give an overview of PySpark with a focus on Resilient\n",
       "Distributed Datasets and the DataFrame API. While Spark Core itself is written\n",
       "in Scala and runs on the JVM, PySpark exposes the Spark programming model to\n",
       "Python. It defines an API for Resilient Distributed Datasets (RDDs). RDDs are a\n",
       "distributed memory abstraction that lets programmers perform in-memory\n",
       "computations on large clusters in a fault-tolerant manner. RDDs are immutable,\n",
       "partitioned collections of objects. Transformations construct a new RDD from a\n",
       "previous one. Actions compute a result based on an RDD. Multiple computation steps\n",
       "are expressed as directed acyclic graph (DAG). The DAG execution model is \n",
       "a generalization of the Hadoop MapReduce computation model.</p>\n",
       "<p>The Spark DataFrame API was introduced in Spark 1.3. DataFrames envolve Spark's\n",
       "RDD model and are inspired by Pandas and R data frames. The API provides\n",
       "simplified operators for filtering, aggregating, and projecting over large\n",
       "datasets. The DataFrame API supports diffferent data sources like JSON\n",
       "datasources, Parquet files, Hive tables and JDBC database connections.</p>\n",
       "<p>Resources:</p>\n",
       "<ul>\n",
       "<li><a href=\"http://www.eecs.berkeley.edu/Pubs/TechRpts/2014/EECS-2014-12.pdf\">An Architecture for Fast and General Data Processing on Large Clusters</a> Matei Zaharia</li>\n",
       "<li><a href=\"http://www.cs.berkeley.edu/~matei/papers/2010/hotcloud_spark.pdf\">Spark</a> Cluster Computing with Working Sets - Matei Zaharia et al.</li>\n",
       "<li><a href=\"https://www.cs.berkeley.edu/~matei/papers/2012/nsdi_spark.pdf\">Resilient Distributed Datasets</a> A Fault-Tolerant Abstraction for In-Memory Cluster Computing -Matei Zaharia et al.</li>\n",
       "<li><a href=\"http://shop.oreilly.com/product/0636920028512.do\">Learning Spark</a> Lightning Fast Big Data Analysis - Oreilly</li>\n",
       "<li><a href=\"http://shop.oreilly.com/product/0636920035091.do\">Advanced Analytics with Spark</a> Patterns for Learning from Data at Scale - Oreilly</li>\n",
       "</ul>\n",
       "</p>"
      ],
      "text/plain": [
       "<IPython.core.display.HTML object>"
      ]
     },
     "metadata": {},
     "output_type": "display_data"
    },
    {
     "data": {
      "text/html": [
       "<br/>"
      ],
      "text/plain": [
       "<IPython.core.display.HTML object>"
      ]
     },
     "metadata": {},
     "output_type": "display_data"
    },
    {
     "data": {
      "text/html": [
       "<h2>PySpark and Warcraft Data</h2>"
      ],
      "text/plain": [
       "<IPython.core.display.HTML object>"
      ]
     },
     "metadata": {},
     "output_type": "display_data"
    },
    {
     "data": {
      "text/html": [
       "<p>Tuesday, July 21st at 11:00 in Room A2</p>"
      ],
      "text/plain": [
       "<IPython.core.display.HTML object>"
      ]
     },
     "metadata": {},
     "output_type": "display_data"
    },
    {
     "data": {
      "text/html": [
       "<h3><i>vincent warmerdam</i></h2>"
      ],
      "text/plain": [
       "<IPython.core.display.HTML object>"
      ]
     },
     "metadata": {},
     "output_type": "display_data"
    },
    {
     "data": {
      "text/html": [
       "<p><p>In this talk I will describe how to use Apache Spark (PySpark) with some data from the World of Warcraft API from an iPython notebook.  Spark is interesting because it speeds up iterative processes on your hadoop cluster as well as your local machine.</p>\n",
       "<p>I will give basic benchmarks (comparing it to numpy/pandas/scikit), explain the architecture/performance behind the technology and will give a live demo on how I used Spark to analyse an interesting dataset. I'll explain why you might want to use Spark and I'll also go in and explain when you don't want to use it.</p>\n",
       "<p>The dataset I will be using is a 22Gb json blob containing auction house data from all world of warcraft servers over a period of time. The goal of the analysis will be to determine when and if basic economics still applies in a massively online game.</p>\n",
       "<p>I will assume that the everyone knows what the ipython notebook is and I will assume a basic knowledge of numpy/pandas but nothing fancy. The dataset has been chosen such that people who are less interested in Spark can still enjoy the analysis part of the talk. If you know very little about data science but if you love video games then you should like this talk.</p>\n",
       "</p>"
      ],
      "text/plain": [
       "<IPython.core.display.HTML object>"
      ]
     },
     "metadata": {},
     "output_type": "display_data"
    },
    {
     "data": {
      "text/html": [
       "<br/>"
      ],
      "text/plain": [
       "<IPython.core.display.HTML object>"
      ]
     },
     "metadata": {},
     "output_type": "display_data"
    },
    {
     "data": {
      "text/html": [
       "<h2>Pycon - A teacher's perspective</h2>"
      ],
      "text/plain": [
       "<IPython.core.display.HTML object>"
      ]
     },
     "metadata": {},
     "output_type": "display_data"
    },
    {
     "data": {
      "text/html": [
       "<p>Thursday, July 23rd at 11:45 in Barria2 Room (Education Summit)</p>"
      ],
      "text/plain": [
       "<IPython.core.display.HTML object>"
      ]
     },
     "metadata": {},
     "output_type": "display_data"
    },
    {
     "data": {
      "text/html": [
       "<h3><i>James Robinson</i></h2>"
      ],
      "text/plain": [
       "<IPython.core.display.HTML object>"
      ]
     },
     "metadata": {},
     "output_type": "display_data"
    },
    {
     "data": {
      "text/html": [
       "<p><p>A perspective of the impact of the PyconUK education track from the point of view of teachers and educators.</p>\n",
       "<p>Having attended the education track at Pycon UK 2014 as a teacher, my talk will share both my experiences and those of other teachers attending. The  education track bought educators and developers together in a way that allowed the teachers to get support and advice whilst developers   get to support teachers in developing exciting &amp; real applications for teaching computing.</p>\n",
       "<p>The talk will focus on two aspects of the education track. The  workshops delivered for teachers by python developers and how this helps build teachers confidence.  But also the breakout sessions where educators and developers with common interests can work together to develop something. This might be a program / library or a teaching resource, some developers gave a hands on and bespoke training session to a group of teachers.</p>\n",
       "<p>If we are to get more young people programming or at least having  a positive experience of programming then we need to minimize obstacles to that experience. By having educators and developers working together we can identify those obstacles and eliminate them!</p>\n",
       "</p>"
      ],
      "text/plain": [
       "<IPython.core.display.HTML object>"
      ]
     },
     "metadata": {},
     "output_type": "display_data"
    },
    {
     "data": {
      "text/html": [
       "<br/>"
      ],
      "text/plain": [
       "<IPython.core.display.HTML object>"
      ]
     },
     "metadata": {},
     "output_type": "display_data"
    },
    {
     "data": {
      "text/html": [
       "<h2>Python & Internet of Things</h2>"
      ],
      "text/plain": [
       "<IPython.core.display.HTML object>"
      ]
     },
     "metadata": {},
     "output_type": "display_data"
    },
    {
     "data": {
      "text/html": [
       "<p>Monday, July 20th at 15:45 in Room A2</p>"
      ],
      "text/plain": [
       "<IPython.core.display.HTML object>"
      ]
     },
     "metadata": {},
     "output_type": "display_data"
    },
    {
     "data": {
      "text/html": [
       "<h3><i>Ravi Vagadia</i></h2>"
      ],
      "text/plain": [
       "<IPython.core.display.HTML object>"
      ]
     },
     "metadata": {},
     "output_type": "display_data"
    },
    {
     "data": {
      "text/html": [
       "<p><p>There is a lot buzz  about the Internet of things and how it's going to be the next big thing in computing. Python can power \"things\" and is used extensively in network applications, however there isn't much information out there about where Python can be used to build end-to-end IoT products.</p>\n",
       "<p>Goals :\n",
       "To put into perspective the usefulness of Python in building IoT products.\n",
       "Spread awareness on possibilities of using Python on embedded hardware.</p>\n",
       "</p>"
      ],
      "text/plain": [
       "<IPython.core.display.HTML object>"
      ]
     },
     "metadata": {},
     "output_type": "display_data"
    },
    {
     "data": {
      "text/html": [
       "<br/>"
      ],
      "text/plain": [
       "<IPython.core.display.HTML object>"
      ]
     },
     "metadata": {},
     "output_type": "display_data"
    },
    {
     "data": {
      "text/html": [
       "<h2>Python Advanced Basics (Meta Classes)</h2>"
      ],
      "text/plain": [
       "<IPython.core.display.HTML object>"
      ]
     },
     "metadata": {},
     "output_type": "display_data"
    },
    {
     "data": {
      "text/html": [
       "<p>Friday, July 24th at 14:30 in Barria1 Room</p>"
      ],
      "text/plain": [
       "<IPython.core.display.HTML object>"
      ]
     },
     "metadata": {},
     "output_type": "display_data"
    },
    {
     "data": {
      "text/html": [
       "<h3><i>Nimrod Wandera</i></h2>"
      ],
      "text/plain": [
       "<IPython.core.display.HTML object>"
      ]
     },
     "metadata": {},
     "output_type": "display_data"
    },
    {
     "data": {
      "text/html": [
       "<p><p>Meta classes are an advanced feature in python, in this talk i will try to explain what they are, how they work and i will show some code as well. \n",
       "This talk is for anyone who would like to see what happens under the hood when you create a class in Python and how to intercept the class creation process and modify it.</p>\n",
       "</p>"
      ],
      "text/plain": [
       "<IPython.core.display.HTML object>"
      ]
     },
     "metadata": {},
     "output_type": "display_data"
    },
    {
     "data": {
      "text/html": [
       "<br/>"
      ],
      "text/plain": [
       "<IPython.core.display.HTML object>"
      ]
     },
     "metadata": {},
     "output_type": "display_data"
    },
    {
     "data": {
      "text/html": [
       "<h2>Python Gamedev MLG</h2>"
      ],
      "text/plain": [
       "<IPython.core.display.HTML object>"
      ]
     },
     "metadata": {},
     "output_type": "display_data"
    },
    {
     "data": {
      "text/html": [
       "<p>Wednesday, July 22nd at 14:30 in Room A2</p>"
      ],
      "text/plain": [
       "<IPython.core.display.HTML object>"
      ]
     },
     "metadata": {},
     "output_type": "display_data"
    },
    {
     "data": {
      "text/html": [
       "<h3><i>Alejandro Garcia</i></h2>"
      ],
      "text/plain": [
       "<IPython.core.display.HTML object>"
      ]
     },
     "metadata": {},
     "output_type": "display_data"
    },
    {
     "data": {
      "text/html": [
       "<p><p>An overview of the currently available Python game development libraries and frameworks and how is Python currently being used in the videogame industry.</p>\n",
       "<p>Presentation of Kobra, a modern open source Python game development framework with ECS (Entity Component System) architecture and C++ bindings.</p>\n",
       "</p>"
      ],
      "text/plain": [
       "<IPython.core.display.HTML object>"
      ]
     },
     "metadata": {},
     "output_type": "display_data"
    },
    {
     "data": {
      "text/html": [
       "<br/>"
      ],
      "text/plain": [
       "<IPython.core.display.HTML object>"
      ]
     },
     "metadata": {},
     "output_type": "display_data"
    },
    {
     "data": {
      "text/html": [
       "<h2>Python Multithreading and Multiprocessing: Concurrency and Parallelism</h2>"
      ],
      "text/plain": [
       "<IPython.core.display.HTML object>"
      ]
     },
     "metadata": {},
     "output_type": "display_data"
    },
    {
     "data": {
      "text/html": [
       "<p>Monday, July 20th at 16:45 in Barria2 Room</p>"
      ],
      "text/plain": [
       "<IPython.core.display.HTML object>"
      ]
     },
     "metadata": {},
     "output_type": "display_data"
    },
    {
     "data": {
      "text/html": [
       "<h3><i>Hitul Mistry</i></h2>"
      ],
      "text/plain": [
       "<IPython.core.display.HTML object>"
      ]
     },
     "metadata": {},
     "output_type": "display_data"
    },
    {
     "data": {
      "text/html": [
       "<p><p>In this talk, people will get introduced to python threading and multiprocessing packages. This talk will cover multiprocessing/threaded development best practices, problems occurs in development, things to know before multiprocessing/multi-threading. After this talk attendees will be able to develop multiprocessing/threaded applications.</p>\n",
       "<p>This talk will cover threads, global interpreter lock, thread pool, processes, process pool, synchronization locks - Lock &amp; RLock , semaphores, events, condition, timer, pipes, queue, shared memory. This talk will also cover best practices and problems in multiprocessing and threaded application development.</p>\n",
       "</p>"
      ],
      "text/plain": [
       "<IPython.core.display.HTML object>"
      ]
     },
     "metadata": {},
     "output_type": "display_data"
    },
    {
     "data": {
      "text/html": [
       "<br/>"
      ],
      "text/plain": [
       "<IPython.core.display.HTML object>"
      ]
     },
     "metadata": {},
     "output_type": "display_data"
    },
    {
     "data": {
      "text/html": [
       "<h2>Python Not Recommended</h2>"
      ],
      "text/plain": [
       "<IPython.core.display.HTML object>"
      ]
     },
     "metadata": {},
     "output_type": "display_data"
    },
    {
     "data": {
      "text/html": [
       "<p>Tuesday, July 21st at 15:15 in Barria1 Room</p>"
      ],
      "text/plain": [
       "<IPython.core.display.HTML object>"
      ]
     },
     "metadata": {},
     "output_type": "display_data"
    },
    {
     "data": {
      "text/html": [
       "<h3><i>Adam Forsyth</i></h2>"
      ],
      "text/plain": [
       "<IPython.core.display.HTML object>"
      ]
     },
     "metadata": {},
     "output_type": "display_data"
    },
    {
     "data": {
      "text/html": [
       "<p><p>Braintree is a Ruby shop. By default, we use Ruby and Rails for projects. We also use Ruby-based projects for much of our tooling, including puppet, capistrano, and rake. However, we strongly believe in using the right tool for the job. What that means has evolved over ti\n",
       "me, and I'll discuss what solutions we chose in the past as well as our current choices.</p>\n",
       "<p>So what's it like doing Python at a Ruby shop? You get lots of jokes about language features Ruby has but Python lacks and lots of disbelief that Python will survive the 2/3 split. People also tend to apply the best practices and conventions of Ruby to Python code as if t\n",
       "hey were the same. Python's major inroad at Braintree has been, surprisingly enough, as a platform for high-concurrency situations. This is a direct result of the power of Tornado as a platform for asynchronous I/O. It also helps that many Python is very approachable and \n",
       "many developers have at least some experience with it.</p>\n",
       "<p>Braintree has three pieces of our infrastructure using Python and Tornado -- an incoming request proxy; an outgoing request proxy; and a webook delivery service. They've served us well for 3+ years but all suffer from a number of problems. The outdated concurrency feature\n",
       "s of CPython / Python 2 as well as our lack of experience with and commitment to Tornado have always been an issue. As the meat of the talk, I'll speak in depth about the other issues we've encountered with each of the three applications and our short- and long- term solu\n",
       "tions to the problems.</p>\n",
       "<p>The state as of the end of 2014 appeared dire for Python at Braintree. All the old Python code in our stack is on the way out, and Python has been specifically recommended agaist for new projects. Our Python client library is used by some of our largest merchants, and is \n",
       "ready for the future by supporting Python 2.6+ and Python 3.3+ in a single codebase. We also have a vibrant Python community at Venmo, our sister company. Both Braintree and Venmo support Python by attending, hosting, sponsoring, and speaking at meetups, conferences, and \n",
       "other events in Chicago, New York, and elsewhere. At Braintree, our Data Science team uses Python almost exclusively and they're becoming a bigger part of our business every day. We also use Collings and custom tooling written in Python to manage our infrastructure.</p>\n",
       "</p>"
      ],
      "text/plain": [
       "<IPython.core.display.HTML object>"
      ]
     },
     "metadata": {},
     "output_type": "display_data"
    },
    {
     "data": {
      "text/html": [
       "<br/>"
      ],
      "text/plain": [
       "<IPython.core.display.HTML object>"
      ]
     },
     "metadata": {},
     "output_type": "display_data"
    },
    {
     "data": {
      "text/html": [
       "<h2>Python Security & Cryptography</h2>"
      ],
      "text/plain": [
       "<IPython.core.display.HTML object>"
      ]
     },
     "metadata": {},
     "output_type": "display_data"
    },
    {
     "data": {
      "text/html": [
       "<p>Wednesday, July 22nd at 11:00 in Barria1 Room</p>"
      ],
      "text/plain": [
       "<IPython.core.display.HTML object>"
      ]
     },
     "metadata": {},
     "output_type": "display_data"
    },
    {
     "data": {
      "text/html": [
       "<h3><i>Jose Ortega</i></h2>"
      ],
      "text/plain": [
       "<IPython.core.display.HTML object>"
      ]
     },
     "metadata": {},
     "output_type": "display_data"
    },
    {
     "data": {
      "text/html": [
       "<p><p>The talk would aim to introduce cryptography and security from the developer point of view, showing ways to encrypt information with Python scripts and more sensitive information in web applications using django.</p>\n",
       "<p>I will introduce to security in python ,showing some libraries that allow encryption and decryption like PyCrypto or M2Crypto,comparing theses libraries with the cryptography module.At the same time,I will show the main ciphers and hashing  algorithms used in these libraries like AES,DES,RSA and some examples illustrating each case.I wil show other techniques like steganography for hiding information in files(images,documents,programs) with some libraries like Stepic or ezPyCrypto.</p>\n",
       "<p>Finally,I will comment OWASP Python Security Project where we can find some useful practices\n",
       "and secure coding guidelines for detecting  potential security vulnerabilities  in our applications like SQL injection or Cross-site scripting.</p>\n",
       "</p>"
      ],
      "text/plain": [
       "<IPython.core.display.HTML object>"
      ]
     },
     "metadata": {},
     "output_type": "display_data"
    },
    {
     "data": {
      "text/html": [
       "<br/>"
      ],
      "text/plain": [
       "<IPython.core.display.HTML object>"
      ]
     },
     "metadata": {},
     "output_type": "display_data"
    },
    {
     "data": {
      "text/html": [
       "<h2>Python and PostgreSQL, a wonderful wedding</h2>"
      ],
      "text/plain": [
       "<IPython.core.display.HTML object>"
      ]
     },
     "metadata": {},
     "output_type": "display_data"
    },
    {
     "data": {
      "text/html": [
       "<p>Tuesday, July 21st at 15:45 in Room A2</p>"
      ],
      "text/plain": [
       "<IPython.core.display.HTML object>"
      ]
     },
     "metadata": {},
     "output_type": "display_data"
    },
    {
     "data": {
      "text/html": [
       "<h3><i>Stephane Wirtel</i></h2>"
      ],
      "text/plain": [
       "<IPython.core.display.HTML object>"
      ]
     },
     "metadata": {},
     "output_type": "display_data"
    },
    {
     "data": {
      "text/html": [
       "<p><p>Python and PostgreSQL, two tools we like to use for our projects but do you know everything about them?</p>\n",
       "<p>The talk will give an overview of psycopg2, Peewee, SQLAlchemy, Alembic and multicorn, PL/Python, these libraries can be used with PostgreSQL.</p>\n",
       "<ul>\n",
       "<li>psycopg2, the well known connector, this basic component is really useful, well documented and battle-tested and used by the most famous toolkits of the Python ecosystem.</li>\n",
       "<li>Peewee, a minimalist ORM for Python, clear and brief, this ORM can be used if you want create a software with a minimalist ORM.</li>\n",
       "<li>SQLAlchemy, a Python SQL toolkit and Object Relational Mapper, you can use this library to create your models and interact with them.</li>\n",
       "<li>Alembic, a lightweight database migration tool for usage with SQLAlchemy, allows to create some migration scripts for your project.</li>\n",
       "<li>multicorn is a Python wrapper over the Foreign Data Wrapper of PostgreSQL</li>\n",
       "<li>PL/Python, a procedural language for PostgreSQL, allows to write functions in the Python language.</li>\n",
       "</ul>\n",
       "<p>You can find this talk on  <a href=\"https://speakerdeck.com/matrixise/python-and-postgresql-a-wonderful-wedding-english\">https://speakerdeck.com/matrixise/python-and-postgresql-a-wonderful-wedding-english</a></p>\n",
       "</p>"
      ],
      "text/plain": [
       "<IPython.core.display.HTML object>"
      ]
     },
     "metadata": {},
     "output_type": "display_data"
    },
    {
     "data": {
      "text/html": [
       "<br/>"
      ],
      "text/plain": [
       "<IPython.core.display.HTML object>"
      ]
     },
     "metadata": {},
     "output_type": "display_data"
    },
    {
     "data": {
      "text/html": [
       "<h2>Python and PyPy performance (not) for dummies</h2>"
      ],
      "text/plain": [
       "<IPython.core.display.HTML object>"
      ]
     },
     "metadata": {},
     "output_type": "display_data"
    },
    {
     "data": {
      "text/html": [
       "<p>Tuesday, July 21st at 15:15 in PythonAnywhere Room</p>"
      ],
      "text/plain": [
       "<IPython.core.display.HTML object>"
      ]
     },
     "metadata": {},
     "output_type": "display_data"
    },
    {
     "data": {
      "text/html": [
       "<h3><i>Antonio Cuni</i></h2>"
      ],
      "text/plain": [
       "<IPython.core.display.HTML object>"
      ]
     },
     "metadata": {},
     "output_type": "display_data"
    },
    {
     "data": {
      "text/html": [
       "<p><p>In this talk we would like to have a short introduction on how Python\n",
       "programs are compiled and executed, with a special attention towards\n",
       "just in time compilation done by PyPy. PyPy is the most advanced Python\n",
       "interpreter around and while it should generally just speed up your programs\n",
       "there is a wide range of performance that you can get out of PyPy, ranging from\n",
       "slightly faster than CPython to C speeds, depending on how you write your\n",
       "programs.</p>\n",
       "<p>We will split the talk in two parts. In the first part we will explain\n",
       "how things work and what can and what cannot be optimized as well as describe\n",
       "the basic heuristics of JIT compiler and optimizer. In the next part we will\n",
       "do a survey of existing tools for looking at performance of Python programs\n",
       "with specific focus on PyPy.</p>\n",
       "<p>As a result of this talk, an audience member should be better equipped with\n",
       "tools how to write new software and improve existing software with performance\n",
       "in mind.</p>\n",
       "<p>The talk will be given by Antonio Cuni and Maciej Fijalkowski,\n",
       "both long time PyPy core developers and expert in the area of\n",
       "Python performance.</p>\n",
       "</p>"
      ],
      "text/plain": [
       "<IPython.core.display.HTML object>"
      ]
     },
     "metadata": {},
     "output_type": "display_data"
    },
    {
     "data": {
      "text/html": [
       "<br/>"
      ],
      "text/plain": [
       "<IPython.core.display.HTML object>"
      ]
     },
     "metadata": {},
     "output_type": "display_data"
    },
    {
     "data": {
      "text/html": [
       "<h2>Python and elasticsearch 101</h2>"
      ],
      "text/plain": [
       "<IPython.core.display.HTML object>"
      ]
     },
     "metadata": {},
     "output_type": "display_data"
    },
    {
     "data": {
      "text/html": [
       "<p>Monday, July 20th at 16:45 in Room A2</p>"
      ],
      "text/plain": [
       "<IPython.core.display.HTML object>"
      ]
     },
     "metadata": {},
     "output_type": "display_data"
    },
    {
     "data": {
      "text/html": [
       "<h3><i>Benoît Calvez</i></h2>"
      ],
      "text/plain": [
       "<IPython.core.display.HTML object>"
      ]
     },
     "metadata": {},
     "output_type": "display_data"
    },
    {
     "data": {
      "text/html": [
       "<p><p>Before its first major version, Elasticsearch was only used as a \"secondary\" database, and search engine.\n",
       "The releases added a snapshort/restore feature, making it a great full featured database</p>\n",
       "<p>This talk will focus on how we integrate Elasticsearch into our stack, and the multiple usage we make of it: from storing business   events to IOT devices metrics.</p>\n",
       "</p>"
      ],
      "text/plain": [
       "<IPython.core.display.HTML object>"
      ]
     },
     "metadata": {},
     "output_type": "display_data"
    },
    {
     "data": {
      "text/html": [
       "<br/>"
      ],
      "text/plain": [
       "<IPython.core.display.HTML object>"
      ]
     },
     "metadata": {},
     "output_type": "display_data"
    },
    {
     "data": {
      "text/html": [
       "<h2>Python for Cloud Services and Infrastructure Management</h2>"
      ],
      "text/plain": [
       "<IPython.core.display.HTML object>"
      ]
     },
     "metadata": {},
     "output_type": "display_data"
    },
    {
     "data": {
      "text/html": [
       "<p>Friday, July 24th at 15:15 in Barria2 Room</p>"
      ],
      "text/plain": [
       "<IPython.core.display.HTML object>"
      ]
     },
     "metadata": {},
     "output_type": "display_data"
    },
    {
     "data": {
      "text/html": [
       "<h3><i>Bhaumik Shukla</i></h2>"
      ],
      "text/plain": [
       "<IPython.core.display.HTML object>"
      ]
     },
     "metadata": {},
     "output_type": "display_data"
    },
    {
     "data": {
      "text/html": [
       "<p><p>This talk is about how python is used in cloud computing as well as used while configuring cloud infrastructure. It also gives brief about tools and technologies/libraries can be used for number of tasks while cloud development/execution. Developers and all python lovers are the perfect audience for this talk. They will get the brief about reliable stack of python based tools used in cloud development and also will be sharing the experience with python.</p>\n",
       "<p>Summary:\n",
       "Python in cloud. \n",
       "Kind of services can be build with python.\n",
       "Python based tools used in deployment and configuration management for the cloud.\n",
       "For every python lovers - How to create a python friendly cloud infrastructure with great reliable combination of many stable tools.\n",
       "Stability.\n",
       "Experience sharing.</p>\n",
       "</p>"
      ],
      "text/plain": [
       "<IPython.core.display.HTML object>"
      ]
     },
     "metadata": {},
     "output_type": "display_data"
    },
    {
     "data": {
      "text/html": [
       "<br/>"
      ],
      "text/plain": [
       "<IPython.core.display.HTML object>"
      ]
     },
     "metadata": {},
     "output_type": "display_data"
    },
    {
     "data": {
      "text/html": [
       "<h2>Python for IT specialists' tasks automation</h2>"
      ],
      "text/plain": [
       "<IPython.core.display.HTML object>"
      ]
     },
     "metadata": {},
     "output_type": "display_data"
    },
    {
     "data": {
      "text/html": [
       "<p>Monday, July 20th at 11:45 in PythonAnywhere Room</p>"
      ],
      "text/plain": [
       "<IPython.core.display.HTML object>"
      ]
     },
     "metadata": {},
     "output_type": "display_data"
    },
    {
     "data": {
      "text/html": [
       "<h3><i>Gianluca Nieri</i></h2>"
      ],
      "text/plain": [
       "<IPython.core.display.HTML object>"
      ]
     },
     "metadata": {},
     "output_type": "display_data"
    },
    {
     "data": {
      "text/html": [
       "<p><p>This talks is about automation and the use of Python scripts to speed up repetitive tasks.</p>\n",
       "<p>It's for developers, sysops, devops, but also any kind of user that want improve his daily routine.</p>\n",
       "<p>I will talk about the use of Python with different tools for different platforms: Keyboard Maestro/Alfred/Hazel on OsX and Synapse/Kupfer/AutoKey on Linux.</p>\n",
       "<p>There will be presented some sample script to give an idea of the potentiality of Python mixed with great tools, and these are some of the topics that I will cover:</p>\n",
       "<ul>\n",
       "<li>text manipulation;</li>\n",
       "<li>document template management;</li>\n",
       "<li>clipboard management;</li>\n",
       "<li>stuff internet activities (url shortening, web scraping, etc.);</li>\n",
       "<li>list management.</li>\n",
       "<li>etc.</li>\n",
       "</ul>\n",
       "</p>"
      ],
      "text/plain": [
       "<IPython.core.display.HTML object>"
      ]
     },
     "metadata": {},
     "output_type": "display_data"
    },
    {
     "data": {
      "text/html": [
       "<br/>"
      ],
      "text/plain": [
       "<IPython.core.display.HTML object>"
      ]
     },
     "metadata": {},
     "output_type": "display_data"
    },
    {
     "data": {
      "text/html": [
       "<h2>Python gure etxean: (r)eboluzioa atzo, gaur eta bihar</h2>"
      ],
      "text/plain": [
       "<IPython.core.display.HTML object>"
      ]
     },
     "metadata": {},
     "output_type": "display_data"
    },
    {
     "data": {
      "text/html": [
       "<p>Wednesday, July 22nd at 15:15 in Barria2 Room (Local Track)</p>"
      ],
      "text/plain": [
       "<IPython.core.display.HTML object>"
      ]
     },
     "metadata": {},
     "output_type": "display_data"
    },
    {
     "data": {
      "text/html": [
       "<h3><i>Mikel Larreategi</i></h2>"
      ],
      "text/plain": [
       "<IPython.core.display.HTML object>"
      ]
     },
     "metadata": {},
     "output_type": "display_data"
    },
    {
     "data": {
      "text/html": [
       "<p><p>2000 urtean CodeSyntax sortu zenetik Python erabili dugu gure lan ia guztiak egiteko. Lan horiek egitean izandako (r)eboluzioa azalduko dugu hitzaldi honetan: python script arruntetatik, Zope aplikazioen zerbitzarian nabigatzaile baten programatzetik, fitxategi sisteman programatzera pasatu gara, Turbogears ere ikutu dugu eta orain Plone, Django eta Pyramid darabilgu.</p>\n",
       "<p>Since the beginning of our company in year 2000 we have been using Python to do our work. We will explain the (r)evolution we faced working with python during this 15 years: small python scripts, browser-based-development using Zope Application Server, we touched Turbogears and now Plone, Django and Pyramid applications.</p>\n",
       "</p>"
      ],
      "text/plain": [
       "<IPython.core.display.HTML object>"
      ]
     },
     "metadata": {},
     "output_type": "display_data"
    },
    {
     "data": {
      "text/html": [
       "<br/>"
      ],
      "text/plain": [
       "<IPython.core.display.HTML object>"
      ]
     },
     "metadata": {},
     "output_type": "display_data"
    },
    {
     "data": {
      "text/html": [
       "<h2>Python idioms to help you write good code</h2>"
      ],
      "text/plain": [
       "<IPython.core.display.HTML object>"
      ]
     },
     "metadata": {},
     "output_type": "display_data"
    },
    {
     "data": {
      "text/html": [
       "<p>Tuesday, July 21st at 15:15 in Google Room</p>"
      ],
      "text/plain": [
       "<IPython.core.display.HTML object>"
      ]
     },
     "metadata": {},
     "output_type": "display_data"
    },
    {
     "data": {
      "text/html": [
       "<h3><i>Marc-Andre Lemburg</i></h2>"
      ],
      "text/plain": [
       "<IPython.core.display.HTML object>"
      ]
     },
     "metadata": {},
     "output_type": "display_data"
    },
    {
     "data": {
      "text/html": [
       "<p><p>Python focuses a lot on writing readable code and also tries to make solutions obvious, but this doesn't necessarily mean that you cannot write unreadable code or design your code in ways which makes it hard to extend or maintain.</p>\n",
       "<p>This talk will show some useful idioms to use when writing Python code, how to structure your modules and also goes into details on which techniques to use and which to think about twice, based on 20 years of experience writing Python.</p>\n",
       "</p>"
      ],
      "text/plain": [
       "<IPython.core.display.HTML object>"
      ]
     },
     "metadata": {},
     "output_type": "display_data"
    },
    {
     "data": {
      "text/html": [
       "<br/>"
      ],
      "text/plain": [
       "<IPython.core.display.HTML object>"
      ]
     },
     "metadata": {},
     "output_type": "display_data"
    },
    {
     "data": {
      "text/html": [
       "<h2>Python in the Sky: In-Flight Entertainment with Python</h2>"
      ],
      "text/plain": [
       "<IPython.core.display.HTML object>"
      ]
     },
     "metadata": {},
     "output_type": "display_data"
    },
    {
     "data": {
      "text/html": [
       "<p>Monday, July 20th at 11:00 in Room A2</p>"
      ],
      "text/plain": [
       "<IPython.core.display.HTML object>"
      ]
     },
     "metadata": {},
     "output_type": "display_data"
    },
    {
     "data": {
      "text/html": [
       "<h3><i>David Arcos</i></h2>"
      ],
      "text/plain": [
       "<IPython.core.display.HTML object>"
      ]
     },
     "metadata": {},
     "output_type": "display_data"
    },
    {
     "data": {
      "text/html": [
       "<p><p>Case study of an In-Flight Entertainment system, built using Python.</p>\n",
       "<p>This talk will show the basic requirements for the system and the architecture decisions we took.</p>\n",
       "<p>Besides, running software at 10.000 feet implies new unexpected challenges, different from the ones we encounter day-to-day. We'll focus on how we solved them.</p>\n",
       "</p>"
      ],
      "text/plain": [
       "<IPython.core.display.HTML object>"
      ]
     },
     "metadata": {},
     "output_type": "display_data"
    },
    {
     "data": {
      "text/html": [
       "<br/>"
      ],
      "text/plain": [
       "<IPython.core.display.HTML object>"
      ]
     },
     "metadata": {},
     "output_type": "display_data"
    },
    {
     "data": {
      "text/html": [
       "<h2>Python microservices on PaaS done right</h2>"
      ],
      "text/plain": [
       "<IPython.core.display.HTML object>"
      ]
     },
     "metadata": {},
     "output_type": "display_data"
    },
    {
     "data": {
      "text/html": [
       "<p>Thursday, July 23rd at 14:30 in Room A2</p>"
      ],
      "text/plain": [
       "<IPython.core.display.HTML object>"
      ]
     },
     "metadata": {},
     "output_type": "display_data"
    },
    {
     "data": {
      "text/html": [
       "<h3><i>Michał Bultrowicz</i></h2>"
      ],
      "text/plain": [
       "<IPython.core.display.HTML object>"
      ]
     },
     "metadata": {},
     "output_type": "display_data"
    },
    {
     "data": {
      "text/html": [
       "<p><p>Lately, there's a lot of talk about microservices but not enough concrete examples and case studies. I want to change that by showing:</p>\n",
       "<ul>\n",
       "<li><p>how thinking in PaaS terms can lead to robust and scalable designs;</p>\n",
       "</li>\n",
       "<li><p>what infrastructure and automation you need to set up to go along smoothly;</p>\n",
       "</li>\n",
       "<li><p>how to get real time metrics of your apps;</p>\n",
       "</li>\n",
       "<li><p>what makes Python good for microservices;</p>\n",
       "</li>\n",
       "<li><p>what is Python's performance relative to some alternatives.</p>\n",
       "</li>\n",
       "</ul>\n",
       "<p><strong>Prerequisites for the talk:</strong></p>\n",
       "<ul>\n",
       "<li><p>some experience with web development in Python;</p>\n",
       "</li>\n",
       "<li><p>basic knowledge of RESTful web services.</p>\n",
       "</li>\n",
       "</ul>\n",
       "</p>"
      ],
      "text/plain": [
       "<IPython.core.display.HTML object>"
      ]
     },
     "metadata": {},
     "output_type": "display_data"
    },
    {
     "data": {
      "text/html": [
       "<br/>"
      ],
      "text/plain": [
       "<IPython.core.display.HTML object>"
      ]
     },
     "metadata": {},
     "output_type": "display_data"
    },
    {
     "data": {
      "text/html": [
       "<h2>Python's Infamous GIL</h2>"
      ],
      "text/plain": [
       "<IPython.core.display.HTML object>"
      ]
     },
     "metadata": {},
     "output_type": "display_data"
    },
    {
     "data": {
      "text/html": [
       "<p>Thursday, July 23rd at 15:45 in Google Room</p>"
      ],
      "text/plain": [
       "<IPython.core.display.HTML object>"
      ]
     },
     "metadata": {},
     "output_type": "display_data"
    },
    {
     "data": {
      "text/html": [
       "<h3><i>Larry Hastings</i></h2>"
      ],
      "text/plain": [
       "<IPython.core.display.HTML object>"
      ]
     },
     "metadata": {},
     "output_type": "display_data"
    },
    {
     "data": {
      "text/html": [
       "<p><p>You've heard about Python's GIL.  But what is it really?  What does it do, both good and bad?</p>\n",
       "<p>Come learn all about the Python GIL.  You'll learn about its history, all the problems it solves, all the problems it causes (that we know about!), and what it would take to remove the GIL.</p>\n",
       "<p>Attendees should be familiar with the terrors inherent in multithreaded programming, and be comfortable with a little C code in the slides.</p>\n",
       "</p>"
      ],
      "text/plain": [
       "<IPython.core.display.HTML object>"
      ]
     },
     "metadata": {},
     "output_type": "display_data"
    },
    {
     "data": {
      "text/html": [
       "<br/>"
      ],
      "text/plain": [
       "<IPython.core.display.HTML object>"
      ]
     },
     "metadata": {},
     "output_type": "display_data"
    },
    {
     "data": {
      "text/html": [
       "<h2>PythonAnywhere and Education</h2>"
      ],
      "text/plain": [
       "<IPython.core.display.HTML object>"
      ]
     },
     "metadata": {},
     "output_type": "display_data"
    },
    {
     "data": {
      "text/html": [
       "<p>Thursday, July 23rd at 12:30 in Barria2 Room (Education Summit)</p>"
      ],
      "text/plain": [
       "<IPython.core.display.HTML object>"
      ]
     },
     "metadata": {},
     "output_type": "display_data"
    },
    {
     "data": {
      "text/html": [
       "<h3><i>Harry Percival</i></h2>"
      ],
      "text/plain": [
       "<IPython.core.display.HTML object>"
      ]
     },
     "metadata": {},
     "output_type": "display_data"
    },
    {
     "data": {
      "text/html": [
       "<p><p>Python may be the ideal language for teaching because of its simplicity and readability, but actually getting a working and consistent development environment installed on a diverse set of student (or school) computers can be less than straightforward. And then there's pip, numpy, scipy, windows vs unix command lines...</p>\n",
       "<p>As a result, we've had lots of teachers coming to PythonAnywhere over the years, to skip all these problems. We've recently started adding some extra features to help teachers and students which we're keen to share with the EuroPython audience.</p>\n",
       "</p>"
      ],
      "text/plain": [
       "<IPython.core.display.HTML object>"
      ]
     },
     "metadata": {},
     "output_type": "display_data"
    },
    {
     "data": {
      "text/html": [
       "<br/>"
      ],
      "text/plain": [
       "<IPython.core.display.HTML object>"
      ]
     },
     "metadata": {},
     "output_type": "display_data"
    },
    {
     "data": {
      "text/html": [
       "<h2>Raspberry Pi Weather Station</h2>"
      ],
      "text/plain": [
       "<IPython.core.display.HTML object>"
      ]
     },
     "metadata": {},
     "output_type": "display_data"
    },
    {
     "data": {
      "text/html": [
       "<p>Thursday, July 23rd at 15:15 in Barria2 Room (Education Summit)</p>"
      ],
      "text/plain": [
       "<IPython.core.display.HTML object>"
      ]
     },
     "metadata": {},
     "output_type": "display_data"
    },
    {
     "data": {
      "text/html": [
       "<h3><i>James Robinson</i></h2>"
      ],
      "text/plain": [
       "<IPython.core.display.HTML object>"
      ]
     },
     "metadata": {},
     "output_type": "display_data"
    },
    {
     "data": {
      "text/html": [
       "<p><p>The Raspberry Pi weather station project introduces young people to  using python programming to  solve real and technical problems. The weather station consists of a range of sensors including:\n",
       "Anemometer\n",
       "Rain gauge\n",
       "Wind Vane\n",
       "Temperature Probe\n",
       "Barometer\n",
       "Air Quality Sensor\n",
       "Hygrometer</p>\n",
       "<p>1000 kits are being given away to schools to take part in the project by following our schemes of work which will involve.\n",
       "Programming basic interrupt based sensors\n",
       "Advanced Sensors using ADC chips\n",
       "Create a pygame based UI\n",
       "Logging data to MySQL and Oracle Apex\n",
       "Presenting data to a web app\n",
       "Deploying the weather station\n",
       "Integrating Apex database</p>\n",
       "<p>We would love feedback on the project from Python Developers and support in updating some libraries from python 2 to 3.</p>\n",
       "</p>"
      ],
      "text/plain": [
       "<IPython.core.display.HTML object>"
      ]
     },
     "metadata": {},
     "output_type": "display_data"
    },
    {
     "data": {
      "text/html": [
       "<br/>"
      ],
      "text/plain": [
       "<IPython.core.display.HTML object>"
      ]
     },
     "metadata": {},
     "output_type": "display_data"
    },
    {
     "data": {
      "text/html": [
       "<h2>Reahl: The Python-only web framework</h2>"
      ],
      "text/plain": [
       "<IPython.core.display.HTML object>"
      ]
     },
     "metadata": {},
     "output_type": "display_data"
    },
    {
     "data": {
      "text/html": [
       "<p>Thursday, July 23rd at 14:30 in Barria1 Room</p>"
      ],
      "text/plain": [
       "<IPython.core.display.HTML object>"
      ]
     },
     "metadata": {},
     "output_type": "display_data"
    },
    {
     "data": {
      "text/html": [
       "<h3><i>Iwan Vosloo</i></h2>"
      ],
      "text/plain": [
       "<IPython.core.display.HTML object>"
      ]
     },
     "metadata": {},
     "output_type": "display_data"
    },
    {
     "data": {
      "text/html": [
       "<p><p>Reahl is a full-featured web framework with a twist: with Reahl you write a web application purely in Python. HTML, JavaScript, CSS and all those cumbersome web technologies (and a few other lower level concerns) are hidden away from you. As far as web frameworks go this is truly a paradigm shift: away from the cobwebs of all the different web technologies, template languages and low-level details -- towards being able to focus on the goals at hand instead, using a single language.</p>\n",
       "<p>In this talk I will give you a brief idea of what Reahl is all about: why it is worthwhile doing, how it works, where we are and what still needs to be done. I hope to convince you that this is an important direction for web frameworks, and of how unique Reahl is. Developing such an abstract framework is an ambitious goal. I'd like to convey the message that what we have achieved so far, and the strategy lessons learnt along the way demonstrate this goal to be realistic and practical.</p>\n",
       "</p>"
      ],
      "text/plain": [
       "<IPython.core.display.HTML object>"
      ]
     },
     "metadata": {},
     "output_type": "display_data"
    },
    {
     "data": {
      "text/html": [
       "<br/>"
      ],
      "text/plain": [
       "<IPython.core.display.HTML object>"
      ]
     },
     "metadata": {},
     "output_type": "display_data"
    },
    {
     "data": {
      "text/html": [
       "<h2>Release Management with Devpi</h2>"
      ],
      "text/plain": [
       "<IPython.core.display.HTML object>"
      ]
     },
     "metadata": {},
     "output_type": "display_data"
    },
    {
     "data": {
      "text/html": [
       "<p>Wednesday, July 22nd at 12:30 in Barria1 Room</p>"
      ],
      "text/plain": [
       "<IPython.core.display.HTML object>"
      ]
     },
     "metadata": {},
     "output_type": "display_data"
    },
    {
     "data": {
      "text/html": [
       "<h3><i>Stephan Erb</i></h2>"
      ],
      "text/plain": [
       "<IPython.core.display.HTML object>"
      ]
     },
     "metadata": {},
     "output_type": "display_data"
    },
    {
     "data": {
      "text/html": [
       "<p><p>Devpi is an open source PyPi-compatible package server. Its versatile features make it the Swiss Army knife of Python package and release management, enabling anyone to shape a custom release workflow.</p>\n",
       "<p>In this talk, I will detail how we use our company-wide Devpi installation in order to share a large set of packages across teams, deploy binary packages to our application servers, and mix and mash open source packages with our own. With Devpi being a critical part of our release and deployment infrastructure, I will also cover our high-availability setup and how we perform major version updates with minimal downtime.</p>\n",
       "<p>While this talk is not meant to be an exhaustive introduction of all available Devpi features, it can offer insights on how Devpi can be used at a larger scale.</p>\n",
       "</p>"
      ],
      "text/plain": [
       "<IPython.core.display.HTML object>"
      ]
     },
     "metadata": {},
     "output_type": "display_data"
    },
    {
     "data": {
      "text/html": [
       "<br/>"
      ],
      "text/plain": [
       "<IPython.core.display.HTML object>"
      ]
     },
     "metadata": {},
     "output_type": "display_data"
    },
    {
     "data": {
      "text/html": [
       "<h2>RinohType, a document processor inspired by LaTeX</h2>"
      ],
      "text/plain": [
       "<IPython.core.display.HTML object>"
      ]
     },
     "metadata": {},
     "output_type": "display_data"
    },
    {
     "data": {
      "text/html": [
       "<p>Friday, July 24th at 11:00 in Google Room</p>"
      ],
      "text/plain": [
       "<IPython.core.display.HTML object>"
      ]
     },
     "metadata": {},
     "output_type": "display_data"
    },
    {
     "data": {
      "text/html": [
       "<h3><i>Brecht Machiels</i></h2>"
      ],
      "text/plain": [
       "<IPython.core.display.HTML object>"
      ]
     },
     "metadata": {},
     "output_type": "display_data"
    },
    {
     "data": {
      "text/html": [
       "<p><p>RinohType is a document processor inspired by [LaTeX][1] and written in Python. It renders [reStructuredText][2] and [Sphinx][3] documents to PDF based on a document template and a style sheet. RinohType already implements many of the features that make LaTeX so great. Not stopping there, RinohType also tries to fix LaTeX's weaknesses; it should not only be easy to use, but easy to <em>customize</em> and <em>extend</em> as well. To minimize frustration when things go wrong, care is taken to provide descriptive warning and error messages. The powerful layout engine makes it easy to define custom page layouts. And the CSS-inspired stylesheets simplify the styling of document elements. At a lower level, Python makes the writing of extensions much more accessible when compared to TeX's rather arcane macro language.</p>\n",
       "<p>In the talk, I would like to introduce RinohType to the Python community. No special prerequisite knowledge is required. \n",
       "Reference: <a href=\"https://pypi.python.org/pypi/RinohType\">https://pypi.python.org/pypi/RinohType</a></p>\n",
       "</p>"
      ],
      "text/plain": [
       "<IPython.core.display.HTML object>"
      ]
     },
     "metadata": {},
     "output_type": "display_data"
    },
    {
     "data": {
      "text/html": [
       "<br/>"
      ],
      "text/plain": [
       "<IPython.core.display.HTML object>"
      ]
     },
     "metadata": {},
     "output_type": "display_data"
    },
    {
     "data": {
      "text/html": [
       "<h2>Salting things up in the sysadmin's world</h2>"
      ],
      "text/plain": [
       "<IPython.core.display.HTML object>"
      ]
     },
     "metadata": {},
     "output_type": "display_data"
    },
    {
     "data": {
      "text/html": [
       "<p>Tuesday, July 21st at 11:00 in Barria1 Room</p>"
      ],
      "text/plain": [
       "<IPython.core.display.HTML object>"
      ]
     },
     "metadata": {},
     "output_type": "display_data"
    },
    {
     "data": {
      "text/html": [
       "<h3><i>Juan Manuel Santos</i></h2>"
      ],
      "text/plain": [
       "<IPython.core.display.HTML object>"
      ]
     },
     "metadata": {},
     "output_type": "display_data"
    },
    {
     "data": {
      "text/html": [
       "<p><p>SaltStack is a thriving configuration management system written in Python that leverages YAML and Jinja2 which, by now, probably needs no introduction.</p>\n",
       "<p>This talk will cover a brief summary of why we need configuration management tools, followed by a full dive into SaltStack, its features, pros and cons, how to use it and how to extend it. By the end of this talk you will have gone from knowing little or nothing about SaltStack, to being able to deploy your own setup.</p>\n",
       "<p>This talk will be targeted to either seasoned Python developers who are taking their first steps in the system administration world, or established system administrators who secretly love Python and prefer to stay away of configuration management systems based on other languages.\n",
       "Its advisable that attendees have some familiarity with Python as well as with system administration concepts. Also, this presentation will be focused on GNU/Linux systems, so it is expected that attendees are comfortable with some of its concepts.</p>\n",
       "</p>"
      ],
      "text/plain": [
       "<IPython.core.display.HTML object>"
      ]
     },
     "metadata": {},
     "output_type": "display_data"
    },
    {
     "data": {
      "text/html": [
       "<br/>"
      ],
      "text/plain": [
       "<IPython.core.display.HTML object>"
      ]
     },
     "metadata": {},
     "output_type": "display_data"
    },
    {
     "data": {
      "text/html": [
       "<h2>Scale your data, not your process: Welcome to the Blaze ecosystem</h2>"
      ],
      "text/plain": [
       "<IPython.core.display.HTML object>"
      ]
     },
     "metadata": {},
     "output_type": "display_data"
    },
    {
     "data": {
      "text/html": [
       "<p>Tuesday, July 21st at 12:30 in PythonAnywhere Room</p>"
      ],
      "text/plain": [
       "<IPython.core.display.HTML object>"
      ]
     },
     "metadata": {},
     "output_type": "display_data"
    },
    {
     "data": {
      "text/html": [
       "<h3><i>Christine Doig</i></h2>"
      ],
      "text/plain": [
       "<IPython.core.display.HTML object>"
      ]
     },
     "metadata": {},
     "output_type": "display_data"
    },
    {
     "data": {
      "text/html": [
       "<p><p>NumPy and Pandas have revolutionized data processing and munging in the Python ecosystem. As data and systems grow more complex, moving and querying becomes more difficult. Python already has excellent tools for in-memory datasets, but we inevitably want to scale this processing and take advantage of additional hardware. This is where Blaze comes in handy by providing a uniform interface to a variety of technologies and abstractions for migrating and analyzing data. Supported backends include databases like Postgres or MongoDB, disk storage systems like PyTables, BColz, and HDF5, or distributed systems like Hadoop and Spark.</p>\n",
       "<p>This talk will introduce the Blaze ecosystem, which includes: Blaze (data querying), Odo (data migration), Dask (task scheduler), DyND (dynamic, multidimensional arrays) and Datashape (data description).</p>\n",
       "<p>Attendees will get the most out of this talk if they are familiar with NumPy and Pandas, have intermediate Python programming skills, and/or experience with large datasets.</p>\n",
       "</p>"
      ],
      "text/plain": [
       "<IPython.core.display.HTML object>"
      ]
     },
     "metadata": {},
     "output_type": "display_data"
    },
    {
     "data": {
      "text/html": [
       "<br/>"
      ],
      "text/plain": [
       "<IPython.core.display.HTML object>"
      ]
     },
     "metadata": {},
     "output_type": "display_data"
    },
    {
     "data": {
      "text/html": [
       "<h2>Scaling MySQL with Python</h2>"
      ],
      "text/plain": [
       "<IPython.core.display.HTML object>"
      ]
     },
     "metadata": {},
     "output_type": "display_data"
    },
    {
     "data": {
      "text/html": [
       "<p>Monday, July 20th at 11:00 in Barria1 Room</p>"
      ],
      "text/plain": [
       "<IPython.core.display.HTML object>"
      ]
     },
     "metadata": {},
     "output_type": "display_data"
    },
    {
     "data": {
      "text/html": [
       "<h3><i>Roberto Polli</i></h2>"
      ],
      "text/plain": [
       "<IPython.core.display.HTML object>"
      ]
     },
     "metadata": {},
     "output_type": "display_data"
    },
    {
     "data": {
      "text/html": [
       "<p><p>Python is the language of choice for the orchestration part of  MySQL 5.6.</p>\n",
       "<p>After a brief introduction of  MySQL replication architecture, the talk <a href=\"http://www.slideshare.net/ioggstream/scaling-mysql-with-python\">Slides here</a> presents the python utilities released by MySQL: a set of drivers in pure-python, mysql-utilites for replication, management and failover, and fabric, a tool for scaling, sharding and provisioning new servers.</p>\n",
       "<p>You will see how to create resilient configurations in minutes and use mysql-fabric to create high available infrastructures.</p>\n",
       "<p>As a plus, we'll show how we implemented a fabric provider for provisioning new databases via docker</p>\n",
       "<p>Prerequisites: basic database knowledge,  transactions, replication. MySQL specific concepts (eg: binary logs) are briefly introduced in the talk.</p>\n",
       "</p>"
      ],
      "text/plain": [
       "<IPython.core.display.HTML object>"
      ]
     },
     "metadata": {},
     "output_type": "display_data"
    },
    {
     "data": {
      "text/html": [
       "<br/>"
      ],
      "text/plain": [
       "<IPython.core.display.HTML object>"
      ]
     },
     "metadata": {},
     "output_type": "display_data"
    },
    {
     "data": {
      "text/html": [
       "<h2>Solving the web most popular code shortening competition in Python.</h2>"
      ],
      "text/plain": [
       "<IPython.core.display.HTML object>"
      ]
     },
     "metadata": {},
     "output_type": "display_data"
    },
    {
     "data": {
      "text/html": [
       "<p>Friday, July 24th at 11:00 in Barria2 Room</p>"
      ],
      "text/plain": [
       "<IPython.core.display.HTML object>"
      ]
     },
     "metadata": {},
     "output_type": "display_data"
    },
    {
     "data": {
      "text/html": [
       "<h3><i>Alessandro Amici</i></h2>"
      ],
      "text/plain": [
       "<IPython.core.display.HTML object>"
      ]
     },
     "metadata": {},
     "output_type": "display_data"
    },
    {
     "data": {
      "text/html": [
       "<p><p>“Code shortening” is the “sport” where participants strive to achieve the shortest possible source code that solves a programming problem by exploiting all the tricks and quirks of the language.</p>\n",
       "<p>The <a href=\"http://www.spoj.com/problems/SIZECON/\">SIZECON on SPOJ</a> is one of the oldest and most popular code shortening problems on the web with a bizarre twist, only character above ASCII value 32 are counted for the penalty. During the talk we will take a journey into some frightening depths of the Python language in order to write shorter and shorter solutions to SIZECON until, exploiting a number of truly mind-blowing tricks, we will reach the current record solution of 28 characters (above ASCII 32!).</p>\n",
       "<p>I promise I’ll show you the most obfuscated, contrived and sick python code you have ever seen and (hopefully!) will ever see. I invite participants to give <a href=\"http://www.spoj.com/problems/SIZECON/\">SIZECON</a> a try and check their score against the <a href=\"http://www.spoj.com/ranks/SIZECON/lang=PYTH%202.7\">Python2</a> and <a href=\"http://www.spoj.com/ranks/SIZECON/lang=PYTH%203.2.3\">Python3</a> SPOJ rankings.</p>\n",
       "</p>"
      ],
      "text/plain": [
       "<IPython.core.display.HTML object>"
      ]
     },
     "metadata": {},
     "output_type": "display_data"
    },
    {
     "data": {
      "text/html": [
       "<br/>"
      ],
      "text/plain": [
       "<IPython.core.display.HTML object>"
      ]
     },
     "metadata": {},
     "output_type": "display_data"
    },
    {
     "data": {
      "text/html": [
       "<h2>Speeding up search with locality sensitive hashing</h2>"
      ],
      "text/plain": [
       "<IPython.core.display.HTML object>"
      ]
     },
     "metadata": {},
     "output_type": "display_data"
    },
    {
     "data": {
      "text/html": [
       "<p>Friday, July 24th at 15:45 in Barria2 Room</p>"
      ],
      "text/plain": [
       "<IPython.core.display.HTML object>"
      ]
     },
     "metadata": {},
     "output_type": "display_data"
    },
    {
     "data": {
      "text/html": [
       "<h3><i>Maciej Kula</i></h2>"
      ],
      "text/plain": [
       "<IPython.core.display.HTML object>"
      ]
     },
     "metadata": {},
     "output_type": "display_data"
    },
    {
     "data": {
      "text/html": [
       "<p><p>Locality sensitive hashing (LSH) is a technique for reducing complex data down to a simple hash code. If two hash codes are similar than the original data is similar. Typically, they are used for speeding up search and other similarity comparisons.</p>\n",
       "<p>In this presentation I will discuss two ways of implementing LSH in python; the first method is completely stateless but only works on certain forms of data; the second is stateful but does not make any assumptions about the distribution of the underlying data. I will conclude the presentation by describing how we apply LSH to search at Lyst.</p>\n",
       "</p>"
      ],
      "text/plain": [
       "<IPython.core.display.HTML object>"
      ]
     },
     "metadata": {},
     "output_type": "display_data"
    },
    {
     "data": {
      "text/html": [
       "<br/>"
      ],
      "text/plain": [
       "<IPython.core.display.HTML object>"
      ]
     },
     "metadata": {},
     "output_type": "display_data"
    },
    {
     "data": {
      "text/html": [
       "<h2>Sphinx autodoc: automated API documentation</h2>"
      ],
      "text/plain": [
       "<IPython.core.display.HTML object>"
      ]
     },
     "metadata": {},
     "output_type": "display_data"
    },
    {
     "data": {
      "text/html": [
       "<p>Monday, July 20th at 11:45 in Google Room</p>"
      ],
      "text/plain": [
       "<IPython.core.display.HTML object>"
      ]
     },
     "metadata": {},
     "output_type": "display_data"
    },
    {
     "data": {
      "text/html": [
       "<h3><i>Takayuki SHIMIZUKAWA</i></h2>"
      ],
      "text/plain": [
       "<IPython.core.display.HTML object>"
      ]
     },
     "metadata": {},
     "output_type": "display_data"
    },
    {
     "data": {
      "text/html": [
       "<p><p>Using the automated documentation feature of Sphinx, you can make with ease the extensive documentation of Python program.\n",
       "You just write python function documents (docstrings), Sphinx organizes them into the document, can be converted to a variety of formats.\n",
       "In this session, I'll explain a documentation procedure that uses with sphinx autodoc and autosummary extensions.</p>\n",
       "<p>In this session, I'll explain a documentation procedure that uses with sphinx autodoc, autosummary, coverage and doctest extensions.</p>\n",
       "</p>"
      ],
      "text/plain": [
       "<IPython.core.display.HTML object>"
      ]
     },
     "metadata": {},
     "output_type": "display_data"
    },
    {
     "data": {
      "text/html": [
       "<br/>"
      ],
      "text/plain": [
       "<IPython.core.display.HTML object>"
      ]
     },
     "metadata": {},
     "output_type": "display_data"
    },
    {
     "data": {
      "text/html": [
       "<h2>Sponsored massage training, in aid of the Python Software Foundation</h2>"
      ],
      "text/plain": [
       "<IPython.core.display.HTML object>"
      ]
     },
     "metadata": {},
     "output_type": "display_data"
    },
    {
     "data": {
      "text/html": [
       "<p>Tuesday, July 21st at 16:45 in Exhibition Hall / Helpdesk </p>"
      ],
      "text/plain": [
       "<IPython.core.display.HTML object>"
      ]
     },
     "metadata": {},
     "output_type": "display_data"
    },
    {
     "data": {
      "text/html": [
       "<h3><i>Rob Collins</i></h2>"
      ],
      "text/plain": [
       "<IPython.core.display.HTML object>"
      ]
     },
     "metadata": {},
     "output_type": "display_data"
    },
    {
     "data": {
      "text/html": [
       "<p><p>At some previous EuroPythons, I have taken advantage of people, while eating their food at the conference dinner, to extract money. But don't worry, it's all been in a good cause: in aid of the  <a href=\"https://www.python.org/psf/\">Python Software Foundation</a>, which defends the intellectual property of the Python language, and supports Python conferences. We are well represented in the list of the <a href=\"http://legacy.python.org/psf/donations/\">top PSF donors</a>:</p>\n",
       "<ul>\n",
       "<li><ol>\n",
       "<li>EuroPython 2013 Sponsored Massage</li>\n",
       "</ol>\n",
       "</li>\n",
       "<li><ol>\n",
       "<li>EuroPython 2012 Sponsored Massage</li>\n",
       "</ol>\n",
       "</li>\n",
       "<li><ol>\n",
       "<li>EuroPython 2011 Sponsored Massage</li>\n",
       "</ol>\n",
       "</li>\n",
       "<li><ol>\n",
       "<li>EuroPython 2010 Sponsored Massage</li>\n",
       "</ol>\n",
       "</li>\n",
       "<li><ol>\n",
       "<li>EuroPython Conference Dinner (sponsored massage)</li>\n",
       "</ol>\n",
       "</li>\n",
       "</ul>\n",
       "<p>In the early days, I could reasonably visit most tables, offering a shoulder massage in return for a donation. But now, there are too many diners, and not enough hands to do this on my own! <strong><em>I need lots of help</em></strong>:</p>\n",
       "<ul>\n",
       "<li>Doing neck and shoulder massage</li>\n",
       "<li>Collecting money in a wine bucket</li>\n",
       "<li>Counting and bagging the money</li>\n",
       "<li>Exchanging multiple currencies and getting it into the PSF account</li>\n",
       "<li>Feeling good that you're doing something for the Python community</li>\n",
       "</ul>\n",
       "<p><strong>What do you need to join in?</strong> For everything apart from the massage, common sense, honesty and a sense of humour! Given these, I will be running a short massage workshop. Learn how to relax your own neck and shoulders, with fewer headaches, and less stress from hours spent crouching over a laptop. Then find out the essentials of massaging someone else's neck, shoulders and back for three to four minutes. Become a more valuable member of your work team back home. Help others to relax!</p>\n",
       "<h3 id=\"Requirements:\">Requirements:<a class=\"anchor-link\" href=\"#Requirements:\">&#182;</a></h3><ol>\n",
       "<li>Please attend the workshop only if you are actually coming to the conference dinner.</li>\n",
       "<li>You don't need to have particularly strong thumbs and fingers (elbows make a good substitute). But you do need to be not afraid of touching people. Massage is not tickling!</li>\n",
       "<li>Lack of embarrassment about asking for money. More people will pay not to have a massage, than to be massaged -- and that's OK!</li>\n",
       "<li>Join in!</li>\n",
       "</ol>\n",
       "<p>If you'd rather not give a massage to diners/donors, no problem: there are lots of other ways to help. But at least you need to join fully in the workshop, so that you experience something of what we'll be asking money for. <strong>A workshop means no onlookers -- all participants!</strong></p>\n",
       "</p>"
      ],
      "text/plain": [
       "<IPython.core.display.HTML object>"
      ]
     },
     "metadata": {},
     "output_type": "display_data"
    },
    {
     "data": {
      "text/html": [
       "<br/>"
      ],
      "text/plain": [
       "<IPython.core.display.HTML object>"
      ]
     },
     "metadata": {},
     "output_type": "display_data"
    },
    {
     "data": {
      "text/html": [
       "<h2>Standing on the Shoulders of Giants: The Kotti Web Application Framework</h2>"
      ],
      "text/plain": [
       "<IPython.core.display.HTML object>"
      ]
     },
     "metadata": {},
     "output_type": "display_data"
    },
    {
     "data": {
      "text/html": [
       "<p>Monday, July 20th at 15:15 in Barria1 Room</p>"
      ],
      "text/plain": [
       "<IPython.core.display.HTML object>"
      ]
     },
     "metadata": {},
     "output_type": "display_data"
    },
    {
     "data": {
      "text/html": [
       "<h3><i>Andreas Kaiser</i></h2>"
      ],
      "text/plain": [
       "<IPython.core.display.HTML object>"
      ]
     },
     "metadata": {},
     "output_type": "display_data"
    },
    {
     "data": {
      "text/html": [
       "<p><p>Kotti is a high-level, Pythonic web application framework based on Pyramid, SQLAlchemy and Bootstrap 3.  It includes an extensible Content Management System called the Kotti CMS.  Kotti is particularly well suited for building custom applications with object level security.  It comes with complete user and group management and supports the concepts of global and local roles providing management views for each of those.</p>\n",
       "<p>The talk will give an overview on Kotti, its philosophy, history and future. Target audience are people who want to learn what it is and can be used for.  Because Kotti is just a rather small layer on top of its foundations, the talk might also give some interesting insights on how to build a solid (web) framework that suits your personal preferences.</p>\n",
       "<p>References:</p>\n",
       "<ul>\n",
       "<li><a href=\"http://kotti.pylonsproject.org/\">http://kotti.pylonsproject.org/</a></li>\n",
       "<li><a href=\"http://kotti.readthedocs.org/en/latest/\">http://kotti.readthedocs.org/en/latest/</a></li>\n",
       "</ul>\n",
       "</p>"
      ],
      "text/plain": [
       "<IPython.core.display.HTML object>"
      ]
     },
     "metadata": {},
     "output_type": "display_data"
    },
    {
     "data": {
      "text/html": [
       "<br/>"
      ],
      "text/plain": [
       "<IPython.core.display.HTML object>"
      ]
     },
     "metadata": {},
     "output_type": "display_data"
    },
    {
     "data": {
      "text/html": [
       "<h2>Static type-checking is dead, long live static type-checking in Python!</h2>"
      ],
      "text/plain": [
       "<IPython.core.display.HTML object>"
      ]
     },
     "metadata": {},
     "output_type": "display_data"
    },
    {
     "data": {
      "text/html": [
       "<p>Friday, July 24th at 15:45 in Google Room</p>"
      ],
      "text/plain": [
       "<IPython.core.display.HTML object>"
      ]
     },
     "metadata": {},
     "output_type": "display_data"
    },
    {
     "data": {
      "text/html": [
       "<h3><i>Jean-Philippe Caissy</i></h2>"
      ],
      "text/plain": [
       "<IPython.core.display.HTML object>"
      ]
     },
     "metadata": {},
     "output_type": "display_data"
    },
    {
     "data": {
      "text/html": [
       "<p><p>A few months ago, Guido unfolded PEP 484, which was highlighted at PyCon 2015 as a keynote presentation. This proposal would introduce type hints for Python 3.5. While the debate is still roaring and without taking a side, I believe that there is much to learn from static type-checking systems.</p>\n",
       "<p>The purpose of this talk is to introduce ways that could be used to fully take over the amazing power that comes with static types, inside a dynamic type language such as Python. The talk will go over what exactly a static type system is, and what kind of problem it tries to solve. We will also review Guido's proposal of type hinting, and what it could mean to you. Finally, I will present a few libraries that are available, such as Hypothesis  or various QuickCheck-inspired library that tries to build more robust tests, how they achieve it and their limitations. Throughout the talk, a lot of examples will used to fully illustrate the ideas being explained.</p>\n",
       "<p>At the end of this talk, you should have a better understanding of the wonderful world of type systems, and what it really means to you. It should help you decide wether using type hints will be helpful to you and also if an external library trying to fuzz your tests has its place inside your project</p>\n",
       "</p>"
      ],
      "text/plain": [
       "<IPython.core.display.HTML object>"
      ]
     },
     "metadata": {},
     "output_type": "display_data"
    },
    {
     "data": {
      "text/html": [
       "<br/>"
      ],
      "text/plain": [
       "<IPython.core.display.HTML object>"
      ]
     },
     "metadata": {},
     "output_type": "display_data"
    },
    {
     "data": {
      "text/html": [
       "<h2>Stop trying to glue your services together; import lymph</h2>"
      ],
      "text/plain": [
       "<IPython.core.display.HTML object>"
      ]
     },
     "metadata": {},
     "output_type": "display_data"
    },
    {
     "data": {
      "text/html": [
       "<p>Tuesday, July 21st at 14:30 in Google Room</p>"
      ],
      "text/plain": [
       "<IPython.core.display.HTML object>"
      ]
     },
     "metadata": {},
     "output_type": "display_data"
    },
    {
     "data": {
      "text/html": [
       "<h3><i>Max Brauer</i></h2>"
      ],
      "text/plain": [
       "<IPython.core.display.HTML object>"
      ]
     },
     "metadata": {},
     "output_type": "display_data"
    },
    {
     "data": {
      "text/html": [
       "<p><p>What if you could focus on functionality rather than the glue code between services?</p>\n",
       "<p>Lymph is an opinionated framework for writing services in Python.  It features pluggable service discovery, request-reply messaging and pluggable pub-sub messaging.</p>\n",
       "<p>As our development teams are growing, we're moving away from our monolithic architecture. We want to write services and not worry about the infrastructure's needs. We want development to be fast, quick and simply work.</p>\n",
       "<p>In this talk we will show you how easy it is to write and run services with lymph.\n",
       "Go check <a href=\"http://lymph.io\">http://lymph.io</a> - we are accepting pull requests.</p>\n",
       "</p>"
      ],
      "text/plain": [
       "<IPython.core.display.HTML object>"
      ]
     },
     "metadata": {},
     "output_type": "display_data"
    },
    {
     "data": {
      "text/html": [
       "<br/>"
      ],
      "text/plain": [
       "<IPython.core.display.HTML object>"
      ]
     },
     "metadata": {},
     "output_type": "display_data"
    },
    {
     "data": {
      "text/html": [
       "<h2>Sustainable way of testing your code</h2>"
      ],
      "text/plain": [
       "<IPython.core.display.HTML object>"
      ]
     },
     "metadata": {},
     "output_type": "display_data"
    },
    {
     "data": {
      "text/html": [
       "<p>Monday, July 20th at 15:45 in Google Room</p>"
      ],
      "text/plain": [
       "<IPython.core.display.HTML object>"
      ]
     },
     "metadata": {},
     "output_type": "display_data"
    },
    {
     "data": {
      "text/html": [
       "<h3><i>Eugene Amirov</i></h2>"
      ],
      "text/plain": [
       "<IPython.core.display.HTML object>"
      ]
     },
     "metadata": {},
     "output_type": "display_data"
    },
    {
     "data": {
      "text/html": [
       "<p><p>How to write a test so you would remember what it does in a year from now? How to write selective tests with different inputs? What is test? How to subclass tests cases and yet maintain control on which tests would run? How to extend or to filter inputs used in parent classes? Are you a tiny bit intrigued now? :)</p>\n",
       "<p>This is not another talk about how to test, but how to organize your tests so they were maintainable. I will be using nose framework as an example, however main ideas should be applicable to any other framework you choose. Explaining how some parts of code works I would have to briefly touch some advanced python topics, although I will provide need-to-know basics there, so people with any level of python knowledge could enjoy the ride.</p>\n",
       "</p>"
      ],
      "text/plain": [
       "<IPython.core.display.HTML object>"
      ]
     },
     "metadata": {},
     "output_type": "display_data"
    },
    {
     "data": {
      "text/html": [
       "<br/>"
      ],
      "text/plain": [
       "<IPython.core.display.HTML object>"
      ]
     },
     "metadata": {},
     "output_type": "display_data"
    },
    {
     "data": {
      "text/html": [
       "<h2>TDD - the why, the how and the when not</h2>"
      ],
      "text/plain": [
       "<IPython.core.display.HTML object>"
      ]
     },
     "metadata": {},
     "output_type": "display_data"
    },
    {
     "data": {
      "text/html": [
       "<p>Thursday, July 23rd at 11:00 in Google Room</p>"
      ],
      "text/plain": [
       "<IPython.core.display.HTML object>"
      ]
     },
     "metadata": {},
     "output_type": "display_data"
    },
    {
     "data": {
      "text/html": [
       "<h3><i>Fabian Kreutz</i></h2>"
      ],
      "text/plain": [
       "<IPython.core.display.HTML object>"
      ]
     },
     "metadata": {},
     "output_type": "display_data"
    },
    {
     "data": {
      "text/html": [
       "<p><p>TDD is great, we all know that. But why is it so, and under which circumstances is it ineffective or even harmful?</p>\n",
       "<p>In this talk I want to delve into the deeper meaning of testing to derive how to do it best.\n",
       "All of this from the point of view of somebody who has profited but also struggled with testing and TDD.</p>\n",
       "<p>For every experience level from beginner to advanced there is something to learn or ponder.</p>\n",
       "</p>"
      ],
      "text/plain": [
       "<IPython.core.display.HTML object>"
      ]
     },
     "metadata": {},
     "output_type": "display_data"
    },
    {
     "data": {
      "text/html": [
       "<br/>"
      ],
      "text/plain": [
       "<IPython.core.display.HTML object>"
      ]
     },
     "metadata": {},
     "output_type": "display_data"
    },
    {
     "data": {
      "text/html": [
       "<h2>TDD for APIs</h2>"
      ],
      "text/plain": [
       "<IPython.core.display.HTML object>"
      ]
     },
     "metadata": {},
     "output_type": "display_data"
    },
    {
     "data": {
      "text/html": [
       "<p>Wednesday, July 22nd at 11:45 in Barria1 Room</p>"
      ],
      "text/plain": [
       "<IPython.core.display.HTML object>"
      ]
     },
     "metadata": {},
     "output_type": "display_data"
    },
    {
     "data": {
      "text/html": [
       "<h3><i>Michael Kuehne</i></h2>"
      ],
      "text/plain": [
       "<IPython.core.display.HTML object>"
      ]
     },
     "metadata": {},
     "output_type": "display_data"
    },
    {
     "data": {
      "text/html": [
       "<p><p>It is always tough to test a complex API comprehensively. The additional level of complexity brings us to the question \"How can we validate that our API is working as intended?\"</p>\n",
       "<p>In this talk I will explain how to use test driven development for APIs to solve this problem and even further how TDD can drive an API Design towards a more usable design.\n",
       "I will outline my practical approach with an implementation example based on django. And finally I will give you a brief summary of my lessons learned using this approach in customer projects.</p>\n",
       "</p>"
      ],
      "text/plain": [
       "<IPython.core.display.HTML object>"
      ]
     },
     "metadata": {},
     "output_type": "display_data"
    },
    {
     "data": {
      "text/html": [
       "<br/>"
      ],
      "text/plain": [
       "<IPython.core.display.HTML object>"
      ]
     },
     "metadata": {},
     "output_type": "display_data"
    },
    {
     "data": {
      "text/html": [
       "<h2>TDD is not about tests!</h2>"
      ],
      "text/plain": [
       "<IPython.core.display.HTML object>"
      ]
     },
     "metadata": {},
     "output_type": "display_data"
    },
    {
     "data": {
      "text/html": [
       "<p>Friday, July 24th at 14:30 in Room A2</p>"
      ],
      "text/plain": [
       "<IPython.core.display.HTML object>"
      ]
     },
     "metadata": {},
     "output_type": "display_data"
    },
    {
     "data": {
      "text/html": [
       "<h3><i>Fabrizio Romano</i></h2>"
      ],
      "text/plain": [
       "<IPython.core.display.HTML object>"
      ]
     },
     "metadata": {},
     "output_type": "display_data"
    },
    {
     "data": {
      "text/html": [
       "<p><p>TDD is not about tests!\n",
       "Well, actually, it’s not <strong>just</strong> about writing tests, or writing them before the code. This talk will show you how to use tests to really drive development by transforming business requirements into tests, and allowing your code to come as their natural consequence.</p>\n",
       "<p>Too often this key aspect is neglected and the result is that tests and code are somehow “disconnected”. The code is not as short and efficient as it could be, and the tests are not as effective. Refactoring is not always easy, and over time all sorts of issues start to come out of the surface.</p>\n",
       "<p>However, we will show that when TDD is done properly, tests and code merge beautifully into an organic whole that fulfills the business requirements, and provides all sorts of advantages: your code is minimal, easy to amend and extend, readable, clean. Your tests will be effective, short and focused, and allow for light-hearted refactoring and excellent coverage.</p>\n",
       "<p>We will provide enough information and examples to spark the curiosity of the novice, and satisfy the need of a deeper insight for the intermediate, and help you immediately benefit from this transformative technique that is still often underestimated and misunderstood.</p>\n",
       "</p>"
      ],
      "text/plain": [
       "<IPython.core.display.HTML object>"
      ]
     },
     "metadata": {},
     "output_type": "display_data"
    },
    {
     "data": {
      "text/html": [
       "<br/>"
      ],
      "text/plain": [
       "<IPython.core.display.HTML object>"
      ]
     },
     "metadata": {},
     "output_type": "display_data"
    },
    {
     "data": {
      "text/html": [
       "<h2>Taking the pain out of passwords and authentication</h2>"
      ],
      "text/plain": [
       "<IPython.core.display.HTML object>"
      ]
     },
     "metadata": {},
     "output_type": "display_data"
    },
    {
     "data": {
      "text/html": [
       "<p>Thursday, July 23rd at 15:15 in PythonAnywhere Room</p>"
      ],
      "text/plain": [
       "<IPython.core.display.HTML object>"
      ]
     },
     "metadata": {},
     "output_type": "display_data"
    },
    {
     "data": {
      "text/html": [
       "<h3><i>Alex Willmer</i></h2>"
      ],
      "text/plain": [
       "<IPython.core.display.HTML object>"
      ]
     },
     "metadata": {},
     "output_type": "display_data"
    },
    {
     "data": {
      "text/html": [
       "<p><p>Passwords are a pain for us all - programmers, users and admins alike. How can we reduce that pain, or eliminate it entirely?</p>\n",
       "<p>This talk will</p>\n",
       "<ul>\n",
       "<li>Review research into techniques that improve the usability of password systems, and mitigate shortcomings</li>\n",
       "<li>Introduce the new standards Universal Authentication Framework (UAF) &amp; Universal Second Factor (U2F)</li>\n",
       "<li>Describe how they streamline authentication, even eliminate passwords entirely</li>\n",
       "<li>Show how to integrate UAF/U2F in Django and other Python frameworks</li>\n",
       "<li>Summarize the state of support for UAF &amp; U2F in browsers, devices, and the wider world</li>\n",
       "<li>Introduce Sonipass - a project to replace passwords, even on existing websites</li>\n",
       "</ul>\n",
       "</p>"
      ],
      "text/plain": [
       "<IPython.core.display.HTML object>"
      ]
     },
     "metadata": {},
     "output_type": "display_data"
    },
    {
     "data": {
      "text/html": [
       "<br/>"
      ],
      "text/plain": [
       "<IPython.core.display.HTML object>"
      ]
     },
     "metadata": {},
     "output_type": "display_data"
    },
    {
     "data": {
      "text/html": [
       "<h2>Terminal Whispering</h2>"
      ],
      "text/plain": [
       "<IPython.core.display.HTML object>"
      ]
     },
     "metadata": {},
     "output_type": "display_data"
    },
    {
     "data": {
      "text/html": [
       "<p>Thursday, July 23rd at 11:45 in Barria1 Room</p>"
      ],
      "text/plain": [
       "<IPython.core.display.HTML object>"
      ]
     },
     "metadata": {},
     "output_type": "display_data"
    },
    {
     "data": {
      "text/html": [
       "<h3><i>Thomas Ballinger</i></h2>"
      ],
      "text/plain": [
       "<IPython.core.display.HTML object>"
      ]
     },
     "metadata": {},
     "output_type": "display_data"
    },
    {
     "data": {
      "text/html": [
       "<p><p>The terminal emulators we run so many of our programming tools in are more powerful than we remember to give them credit for, and the key to that power is understanding the interface. This talk will cover terminal colors and styles, writing to arbitrary portions of the screen, handling signals from the terminal, determining the terminal's dimensions and scrollback buffer behavior.</p>\n",
       "<p>Terminal programming can get hairy; along the way we'll deal with encoding issues, consider cross platform concerns, acknowledge 4 decades' worth of standards for terminal communication, and consider that humans at interactive terminals may not be the only users of our interfaces. By gaining an understanding of these issues, we'll be able choose from the abstractions over them offered by Python libraries Urwid, Blessings, and Python Prompt Toolkit.</p>\n",
       "<p>This talk requires minimal Python knowledge, but does assume familiarity with command line tools in a unix environment.</p>\n",
       "<p>An abbreviated version of this talk was presented at PyCon 2015 in Montréal: <a href=\"https://www.youtube.com/watch?v=WAitSilLDUA\">https://www.youtube.com/watch?v=WAitSilLDUA</a> With the additional time I'd hope to present more code examples, a more in-depth tour of existing libraries and more practical advice about writing programs that use the terminal, and an additional example of a difficult terminal details: dealing with reflowing of text in modern terminal emulators like GNOME Terminal and iTerm.</p>\n",
       "</p>"
      ],
      "text/plain": [
       "<IPython.core.display.HTML object>"
      ]
     },
     "metadata": {},
     "output_type": "display_data"
    },
    {
     "data": {
      "text/html": [
       "<br/>"
      ],
      "text/plain": [
       "<IPython.core.display.HTML object>"
      ]
     },
     "metadata": {},
     "output_type": "display_data"
    },
    {
     "data": {
      "text/html": [
       "<h2>Testing with two failure seeking missiles: fuzzing and property based testing</h2>"
      ],
      "text/plain": [
       "<IPython.core.display.HTML object>"
      ]
     },
     "metadata": {},
     "output_type": "display_data"
    },
    {
     "data": {
      "text/html": [
       "<p>Thursday, July 23rd at 11:45 in PythonAnywhere Room</p>"
      ],
      "text/plain": [
       "<IPython.core.display.HTML object>"
      ]
     },
     "metadata": {},
     "output_type": "display_data"
    },
    {
     "data": {
      "text/html": [
       "<h3><i>Tom Viner</i></h2>"
      ],
      "text/plain": [
       "<IPython.core.display.HTML object>"
      ]
     },
     "metadata": {},
     "output_type": "display_data"
    },
    {
     "data": {
      "text/html": [
       "<p><p>Testing with purely random data on it's own doesn't get you very far. But\n",
       "two approaches that have been around for a while have new libraries that\n",
       "help you generate random input, that homes in on failing testcases.</p>\n",
       "<p>First <strong><a href=\"https://hypothesis.readthedocs.org/en/latest/\">Hypothesis</a></strong>, a Python implementation and update of the Haskell library\n",
       "QuickCheck. Known as property based testing, you specify a property of your\n",
       "code that must hold, and Hypothesis does its best to find a counterexample.\n",
       "It then shrinks this to find the minimal input that contradicts your\n",
       "property.</p>\n",
       "<p>Second, <strong><a href=\"http://lcamtuf.coredump.cx/afl/\">American fuzzy lop</a></strong> (AFL), is a young fuzzing library that's already\n",
       "achieved an impressive trophy case of bug discoveries. Using\n",
       "instrumentation and genetic algorithms, it generates test input that\n",
       "carefully searches out as many code paths as it can find, seeking greater\n",
       "functional coverage and ultimately locating crashes and hangs that no other\n",
       "method has found. I'll be showing how with <strong><a href=\"http://jwilk.net/software/python-afl\">Python-AFL</a></strong> we can apply this\n",
       "tool to our Python code.</p>\n",
       "</p>"
      ],
      "text/plain": [
       "<IPython.core.display.HTML object>"
      ]
     },
     "metadata": {},
     "output_type": "display_data"
    },
    {
     "data": {
      "text/html": [
       "<br/>"
      ],
      "text/plain": [
       "<IPython.core.display.HTML object>"
      ]
     },
     "metadata": {},
     "output_type": "display_data"
    },
    {
     "data": {
      "text/html": [
       "<h2>The Butler and the Snake - Continuous Integration for Python</h2>"
      ],
      "text/plain": [
       "<IPython.core.display.HTML object>"
      ]
     },
     "metadata": {},
     "output_type": "display_data"
    },
    {
     "data": {
      "text/html": [
       "<p>Monday, July 20th at 15:45 in Barria2 Room</p>"
      ],
      "text/plain": [
       "<IPython.core.display.HTML object>"
      ]
     },
     "metadata": {},
     "output_type": "display_data"
    },
    {
     "data": {
      "text/html": [
       "<h3><i>Timo Stollenwerk</i></h2>"
      ],
      "text/plain": [
       "<IPython.core.display.HTML object>"
      ]
     },
     "metadata": {},
     "output_type": "display_data"
    },
    {
     "data": {
      "text/html": [
       "<p><p>Continuous Integration is a software development practice where members of a team integrate their work frequently, leading to multiple integrations per day. Each integration is verified by an automated process (including tests) to detect integration errors as quickly as possible.</p>\n",
       "<p>This talk will introduce the basic principles for building an effective Continuous Integration system for Python-based projects. It will present the lessons learned from building a Jenkins-based CI system for an Open Source project with a distributed team of more than 340 core developers that ranks  among the top 2% of all open source projects worldwide (Plone).</p>\n",
       "</p>"
      ],
      "text/plain": [
       "<IPython.core.display.HTML object>"
      ]
     },
     "metadata": {},
     "output_type": "display_data"
    },
    {
     "data": {
      "text/html": [
       "<br/>"
      ],
      "text/plain": [
       "<IPython.core.display.HTML object>"
      ]
     },
     "metadata": {},
     "output_type": "display_data"
    },
    {
     "data": {
      "text/html": [
       "<h2>The GIL is dead: PyPy-STM</h2>"
      ],
      "text/plain": [
       "<IPython.core.display.HTML object>"
      ]
     },
     "metadata": {},
     "output_type": "display_data"
    },
    {
     "data": {
      "text/html": [
       "<p>Thursday, July 23rd at 16:45 in Google Room</p>"
      ],
      "text/plain": [
       "<IPython.core.display.HTML object>"
      ]
     },
     "metadata": {},
     "output_type": "display_data"
    },
    {
     "data": {
      "text/html": [
       "<h3><i>Armin Rigo</i></h2>"
      ],
      "text/plain": [
       "<IPython.core.display.HTML object>"
      ]
     },
     "metadata": {},
     "output_type": "display_data"
    },
    {
     "data": {
      "text/html": [
       "<p><p>Take a big, non-multithreaded program, and run in on multiple cores!</p>\n",
       "<p>PyPy, the Python implementation written in Python, experimentally\n",
       "supports Software Transactional Memory (STM).  It runs without the\n",
       "Global Interpreter Lock (GIL).</p>\n",
       "<p>The strength of STM is not only to remove the GIL, but to also enable\n",
       "a novel use of multithreading, inheritently safe, and more useful in\n",
       "the general case than other approaches like OpenMP.  The main news\n",
       "from last year's presentation is that there is now a way to get\n",
       "reports about the \"STM conflicts\", which is essential to go past toy\n",
       "examples.  With it, you can incrementally remove conflicts from large\n",
       "code bases until you see a benefit from PyPy-STM.  The goal of the\n",
       "talk is to give several concrete examples of doing that.</p>\n",
       "</p>"
      ],
      "text/plain": [
       "<IPython.core.display.HTML object>"
      ]
     },
     "metadata": {},
     "output_type": "display_data"
    },
    {
     "data": {
      "text/html": [
       "<br/>"
      ],
      "text/plain": [
       "<IPython.core.display.HTML object>"
      ]
     },
     "metadata": {},
     "output_type": "display_data"
    },
    {
     "data": {
      "text/html": [
       "<h2>The Lightweight Cloud Servers War Begins</h2>"
      ],
      "text/plain": [
       "<IPython.core.display.HTML object>"
      ]
     },
     "metadata": {},
     "output_type": "display_data"
    },
    {
     "data": {
      "text/html": [
       "<p>Monday, July 20th at 11:45 in Barria1 Room</p>"
      ],
      "text/plain": [
       "<IPython.core.display.HTML object>"
      ]
     },
     "metadata": {},
     "output_type": "display_data"
    },
    {
     "data": {
      "text/html": [
       "<h3><i>Haikel Guemar</i></h2>"
      ],
      "text/plain": [
       "<IPython.core.display.HTML object>"
      ]
     },
     "metadata": {},
     "output_type": "display_data"
    },
    {
     "data": {
      "text/html": [
       "<p><p>Docker has introduced a new model of deployment solving the infamous \"Deployment Matrix from Hell\" by using containers.\n",
       "But this also brought the spotlight back on the Operating System side, and following the trails of CoreOS and Atomic Host, a new generation of Cloud Servers are born by using containers instead of traditional RPM/DPKG/tarball/whaterver packages model to deploy services. CoreOS/Atomic Host/Snappy Ubuntu and now VMWare Photon also provides transactional image-based OS focusing on security and built-in cluster management.</p>\n",
       "<p>During this talk, we'll present these next-gen OS, and their components and how they fit in.</p>\n",
       "</p>"
      ],
      "text/plain": [
       "<IPython.core.display.HTML object>"
      ]
     },
     "metadata": {},
     "output_type": "display_data"
    },
    {
     "data": {
      "text/html": [
       "<br/>"
      ],
      "text/plain": [
       "<IPython.core.display.HTML object>"
      ]
     },
     "metadata": {},
     "output_type": "display_data"
    },
    {
     "data": {
      "text/html": [
       "<h2>The Python Compiler</h2>"
      ],
      "text/plain": [
       "<IPython.core.display.HTML object>"
      ]
     },
     "metadata": {},
     "output_type": "display_data"
    },
    {
     "data": {
      "text/html": [
       "<p>Monday, July 20th at 14:30 in PythonAnywhere Room</p>"
      ],
      "text/plain": [
       "<IPython.core.display.HTML object>"
      ]
     },
     "metadata": {},
     "output_type": "display_data"
    },
    {
     "data": {
      "text/html": [
       "<h3><i>Kay Hayen</i></h2>"
      ],
      "text/plain": [
       "<IPython.core.display.HTML object>"
      ]
     },
     "metadata": {},
     "output_type": "display_data"
    },
    {
     "data": {
      "text/html": [
       "<p><p>The Python compiler Nuitka has evolved from an absurdly compatible Python to C++ translator into a <strong>statically optimizing Python compiler</strong>. The mere peephole optimization is now accompanied by full function/module level optimization, with more to come, and only increased compatibility.</p>\n",
       "<p>Witness local and module <strong>variable value propagation</strong>, <strong>function in-lining</strong> with suitable code, and graceful degradation with code that uses the full Python power. (This is considered kind of the break through for Nuitka, to be finished for EP.) No compromises need to be made, full language support, all modules work, including extension modules, e.g. PyQt  just works.</p>\n",
       "<p>Also new is a plugin framework that allows the user to provide workarounds for the standalone mode (create self contained distributions), do his own type hinting to Nuitka based on e.g. coding conventions, provide his own optimization based on specific knowledge.</p>\n",
       "<p>Ultimately, Nuitka is intended to grow the Python base into fields, where performance is an issue, it will need your help. Scientific Python could largely benefit from future Nuitka. Join us now.</p>\n",
       "</p>"
      ],
      "text/plain": [
       "<IPython.core.display.HTML object>"
      ]
     },
     "metadata": {},
     "output_type": "display_data"
    },
    {
     "data": {
      "text/html": [
       "<br/>"
      ],
      "text/plain": [
       "<IPython.core.display.HTML object>"
      ]
     },
     "metadata": {},
     "output_type": "display_data"
    },
    {
     "data": {
      "text/html": [
       "<h2>The Salt Route</h2>"
      ],
      "text/plain": [
       "<IPython.core.display.HTML object>"
      ]
     },
     "metadata": {},
     "output_type": "display_data"
    },
    {
     "data": {
      "text/html": [
       "<p>Wednesday, July 22nd at 11:45 in Room A2</p>"
      ],
      "text/plain": [
       "<IPython.core.display.HTML object>"
      ]
     },
     "metadata": {},
     "output_type": "display_data"
    },
    {
     "data": {
      "text/html": [
       "<h3><i>Pablo SEMINARIO</i></h2>"
      ],
      "text/plain": [
       "<IPython.core.display.HTML object>"
      ]
     },
     "metadata": {},
     "output_type": "display_data"
    },
    {
     "data": {
      "text/html": [
       "<p><p>An introduction to the devops culture by sharing our experience in a successfully French start-up.</p>\n",
       "<p>The salt route talk presents some best practices and common mistakes that arise in everyday teamwork between developers and sysadmins using SaltStack for configuration management, server provisioning, orchestration and Django web applications deployment.</p>\n",
       "<p>As an introductory talk there is no prerequisites required.</p>\n",
       "<p>This talk will be presented by the dynamic duo Natal Ngétal and Pablo Seminario, 2 co-workers at PeopleDoc Inc.</p>\n",
       "</p>"
      ],
      "text/plain": [
       "<IPython.core.display.HTML object>"
      ]
     },
     "metadata": {},
     "output_type": "display_data"
    },
    {
     "data": {
      "text/html": [
       "<br/>"
      ],
      "text/plain": [
       "<IPython.core.display.HTML object>"
      ]
     },
     "metadata": {},
     "output_type": "display_data"
    },
    {
     "data": {
      "text/html": [
       "<h2>The hook-based plugin architecture of py.test</h2>"
      ],
      "text/plain": [
       "<IPython.core.display.HTML object>"
      ]
     },
     "metadata": {},
     "output_type": "display_data"
    },
    {
     "data": {
      "text/html": [
       "<p>Tuesday, July 21st at 16:45 in Room A2</p>"
      ],
      "text/plain": [
       "<IPython.core.display.HTML object>"
      ]
     },
     "metadata": {},
     "output_type": "display_data"
    },
    {
     "data": {
      "text/html": [
       "<h3><i>Floris Bruynooghe</i></h2>"
      ],
      "text/plain": [
       "<IPython.core.display.HTML object>"
      ]
     },
     "metadata": {},
     "output_type": "display_data"
    },
    {
     "data": {
      "text/html": [
       "<p><p>The hook-based plugin system used by py.test and being made available\n",
       "as a stand alone package allows easy extensibility based on defined\n",
       "extension points which can be implemented using hook functions in the\n",
       "plugins.  Plugins can themselves call these hooks as well as define\n",
       "future extension points allowing for a very flexible design.</p>\n",
       "<p>py.test itself uses this plugin system from the ground up with the\n",
       "entire application being implemented by built-in plugins.  This\n",
       "architecture has proven powerful and flexible over the years, on both\n",
       "command line tools as well as long running daemons.  This talks will\n",
       "describe how the plugin system works and how it deals with passing\n",
       "arguments and return values 1:N hook calls. It will also describe how\n",
       "to design an application consisting entirely of plugins.  While not\n",
       "specifically talking about py.test it will also give a solid\n",
       "understanding on how plugins work in py.test.</p>\n",
       "</p>"
      ],
      "text/plain": [
       "<IPython.core.display.HTML object>"
      ]
     },
     "metadata": {},
     "output_type": "display_data"
    },
    {
     "data": {
      "text/html": [
       "<br/>"
      ],
      "text/plain": [
       "<IPython.core.display.HTML object>"
      ]
     },
     "metadata": {},
     "output_type": "display_data"
    },
    {
     "data": {
      "text/html": [
       "<h2>The realities of open source testing: lessons learned from “Adopt pytest month”</h2>"
      ],
      "text/plain": [
       "<IPython.core.display.HTML object>"
      ]
     },
     "metadata": {},
     "output_type": "display_data"
    },
    {
     "data": {
      "text/html": [
       "<p>Wednesday, July 22nd at 16:45 in Barria1 Room</p>"
      ],
      "text/plain": [
       "<IPython.core.display.HTML object>"
      ]
     },
     "metadata": {},
     "output_type": "display_data"
    },
    {
     "data": {
      "text/html": [
       "<h3><i>Brianna Laugher</i></h2>"
      ],
      "text/plain": [
       "<IPython.core.display.HTML object>"
      ]
     },
     "metadata": {},
     "output_type": "display_data"
    },
    {
     "data": {
      "text/html": [
       "<p><p>Ever feel like your open source project could be better tested? Lack of tests holding you back from contributors but you don’t know where to start? You’re not alone.</p>\n",
       "<p><a href=\"http://pytest.org/latest/adopt.html\">“Adopt pytest month”</a> was held in April 2015. <a href=\"http://pytest.org/latest/\">Pytest</a> volunteers were paired with open source software projects, to find a path to better testing with pytest. Projects varied from  libraries/command line utilities, to a browser, to a complex Django app. In some cases converting existing tests was necessary, in others writing the first tests in existence for non-trivial amounts of code. Two projects were open sourced specifically to take part in “adopt pytest month”. What began as an experiment in increasing software audience proved to be an interesting exercise in strengthening community and most valuable of all, provided a newcomer’s perspective to veteran contributors.</p>\n",
       "<p>This talk will discuss what worked well with “adopt pytest month”, what didn’t, what we learned about pytest and what you could take away for your open source project, be it an improved testing environment or an improved contributor community. A basic knowledge of testing and pytest will be useful.</p>\n",
       "</p>"
      ],
      "text/plain": [
       "<IPython.core.display.HTML object>"
      ]
     },
     "metadata": {},
     "output_type": "display_data"
    },
    {
     "data": {
      "text/html": [
       "<br/>"
      ],
      "text/plain": [
       "<IPython.core.display.HTML object>"
      ]
     },
     "metadata": {},
     "output_type": "display_data"
    },
    {
     "data": {
      "text/html": [
       "<h2>The unabridged guide to Domain Specific Languages in Python</h2>"
      ],
      "text/plain": [
       "<IPython.core.display.HTML object>"
      ]
     },
     "metadata": {},
     "output_type": "display_data"
    },
    {
     "data": {
      "text/html": [
       "<p>Friday, July 24th at 15:15 in PythonAnywhere Room</p>"
      ],
      "text/plain": [
       "<IPython.core.display.HTML object>"
      ]
     },
     "metadata": {},
     "output_type": "display_data"
    },
    {
     "data": {
      "text/html": [
       "<h3><i>Daniel Pope</i></h2>"
      ],
      "text/plain": [
       "<IPython.core.display.HTML object>"
      ]
     },
     "metadata": {},
     "output_type": "display_data"
    },
    {
     "data": {
      "text/html": [
       "<p><p>Python is an expressive general purpose programming language. Its syntax provides many ways to represent structure and minimise code repetition and boilerplate.</p>\n",
       "<p>But Python not always expressible enough. Perhaps when you've built a complicated enough system with hard-to-express inter-relationships, the code required to construct or operate on it can become complicated, repetitive and unreadable. Or perhaps you have users unfamiliar with Python who need to understand or edit a system. In cases like these, stepping beyond the syntax and semantics of basic Python can be an advantage.</p>\n",
       "<p>Daniel will describe various ways you can  implement your own Domain Specific Languages, languages perhaps completely unlike Python that can succinctly describe more complicated Python systems.</p>\n",
       "<p>This talk will cover:</p>\n",
       "<ul>\n",
       "<li>What and why of DSLs</li>\n",
       "<li>Metaprogramming tricks</li>\n",
       "<li>Writing simple parsers</li>\n",
       "<li>The libraries PLY and PyParsing</li>\n",
       "<li>Building tooling around your new DSLs</li>\n",
       "</ul>\n",
       "</p>"
      ],
      "text/plain": [
       "<IPython.core.display.HTML object>"
      ]
     },
     "metadata": {},
     "output_type": "display_data"
    },
    {
     "data": {
      "text/html": [
       "<br/>"
      ],
      "text/plain": [
       "<IPython.core.display.HTML object>"
      ]
     },
     "metadata": {},
     "output_type": "display_data"
    },
    {
     "data": {
      "text/html": [
       "<h2>Through the lens of Haskell: exploring new ideas for library design</h2>"
      ],
      "text/plain": [
       "<IPython.core.display.HTML object>"
      ]
     },
     "metadata": {},
     "output_type": "display_data"
    },
    {
     "data": {
      "text/html": [
       "<p>Thursday, July 23rd at 15:45 in Room A2</p>"
      ],
      "text/plain": [
       "<IPython.core.display.HTML object>"
      ]
     },
     "metadata": {},
     "output_type": "display_data"
    },
    {
     "data": {
      "text/html": [
       "<h3><i>Georges Dubus</i></h2>"
      ],
      "text/plain": [
       "<IPython.core.display.HTML object>"
      ]
     },
     "metadata": {},
     "output_type": "display_data"
    },
    {
     "data": {
      "text/html": [
       "<p><p>Haskell is very different from Python, and provide different tools to library and framework designers. As a result, its ecosystem is filled with libraries and frameworks that solve the same problems we try to solve in our favorite programming languages, but with a very different approach.</p>\n",
       "<p>This talk is an exploration of the Haskell ecosystem, from the point of view of a Python developer. \n",
       "We will review various popular Haskell libraries and frameworks, focusing on the library design. The goal is to provide the audience a sneak peak of some different ways to tackle problems, and hopefully to inspire library authors to explore some design space that we don't usually explore in Python.</p>\n",
       "<p>This talk should be interesting to any intermediate Python programmer who is curious about other ways to solve problems. No Haskell knowledge is required from the audience.</p>\n",
       "</p>"
      ],
      "text/plain": [
       "<IPython.core.display.HTML object>"
      ]
     },
     "metadata": {},
     "output_type": "display_data"
    },
    {
     "data": {
      "text/html": [
       "<br/>"
      ],
      "text/plain": [
       "<IPython.core.display.HTML object>"
      ]
     },
     "metadata": {},
     "output_type": "display_data"
    },
    {
     "data": {
      "text/html": [
       "<h2>To the Clouds: Why you should deploy to the cloud even if you don't want to</h2>"
      ],
      "text/plain": [
       "<IPython.core.display.HTML object>"
      ]
     },
     "metadata": {},
     "output_type": "display_data"
    },
    {
     "data": {
      "text/html": [
       "<p>Tuesday, July 21st at 11:45 in Barria1 Room</p>"
      ],
      "text/plain": [
       "<IPython.core.display.HTML object>"
      ]
     },
     "metadata": {},
     "output_type": "display_data"
    },
    {
     "data": {
      "text/html": [
       "<h3><i>Michael Foord</i></h2>"
      ],
      "text/plain": [
       "<IPython.core.display.HTML object>"
      ]
     },
     "metadata": {},
     "output_type": "display_data"
    },
    {
     "data": {
      "text/html": [
       "<p><p>Do you deploy your Python services to Amazon EC2, or to Openstack, or even to HP cloud, joyent or Azure? Do you want to - without being tied into any one of them? What about local full stack deployments with lxc or kvm containers?</p>\n",
       "<p>Even if you're convinced you don't need \"the cloud\" because you manage your own servers, amazing technologies like Private clouds and MaaS, for dynamic server management on bare metal, may change your mind.</p>\n",
       "<p>Fed up with the cloud hype? Let us rehabilitate the buzzword! (A bit anyway.)</p>\n",
       "<p>A fully automated cloud deployment system is essential for rapid scaling, but it's also invaluable for full stack testing on continuous integration systems. Even better, your service deployment and infrastructure can be managed with Python code? (Devops distilled)</p>\n",
       "<p>Treat your servers as cattle not as pets, for service oriented repeatable deployments on your choice of back-end. Learn how service orchestration is a powerful new approach to deployment management, and do it with Python! If any of this sounds interesting then Juju maybe for you!</p>\n",
       "<p>In this talk we'll see a demo deployment for a Django application and related infrastructure. We'll be looking at the key benefits of cloud deployments and how service orchestration is different from the \"machine provisioning\" approach of most existing cloud deployment solutions.</p>\n",
       "</p>"
      ],
      "text/plain": [
       "<IPython.core.display.HTML object>"
      ]
     },
     "metadata": {},
     "output_type": "display_data"
    },
    {
     "data": {
      "text/html": [
       "<br/>"
      ],
      "text/plain": [
       "<IPython.core.display.HTML object>"
      ]
     },
     "metadata": {},
     "output_type": "display_data"
    },
    {
     "data": {
      "text/html": [
       "<h2>Todo es una trampa</h2>"
      ],
      "text/plain": [
       "<IPython.core.display.HTML object>"
      ]
     },
     "metadata": {},
     "output_type": "display_data"
    },
    {
     "data": {
      "text/html": [
       "<p>Wednesday, July 22nd at 11:45 in Barria2 Room (Local Track)</p>"
      ],
      "text/plain": [
       "<IPython.core.display.HTML object>"
      ]
     },
     "metadata": {},
     "output_type": "display_data"
    },
    {
     "data": {
      "text/html": [
       "<h3><i>Jesús Espino</i></h2>"
      ],
      "text/plain": [
       "<IPython.core.display.HTML object>"
      ]
     },
     "metadata": {},
     "output_type": "display_data"
    },
    {
     "data": {
      "text/html": [
       "<p><p>A día de hoy usamos un enorme conjunto de bibliotecas y frameworks, además los usamos con cierta libertad dentro de nuestro código, y pasado el tiempo nos damos cuenta de que esa biblioteca, no cubre mis necesidades, o tiene algún fallo, o no escala bien en proyectos más grandes... en resumen, hemos caído en una trampa. No se puede evitar caer en estas trampas, porque depende de nuestras necesidades y las bibliotecas que utilizamos, por lo tanto, solo podemos estar lo mejor preparados posibles para salir de ellas tan pronto como nos demos cuenta.</p>\n",
       "<p>Como solución a esto, plantearé varias vías (nada innovadoras, pero menos usadas de lo que deberían). Unit testing (TDD idealmente), arquitectura hexagonal, y algunas reglas básicas de clean code.</p>\n",
       "</p>"
      ],
      "text/plain": [
       "<IPython.core.display.HTML object>"
      ]
     },
     "metadata": {},
     "output_type": "display_data"
    },
    {
     "data": {
      "text/html": [
       "<br/>"
      ],
      "text/plain": [
       "<IPython.core.display.HTML object>"
      ]
     },
     "metadata": {},
     "output_type": "display_data"
    },
    {
     "data": {
      "text/html": [
       "<h2>Tuning Python applications can dramatically increase performance</h2>"
      ],
      "text/plain": [
       "<IPython.core.display.HTML object>"
      ]
     },
     "metadata": {},
     "output_type": "display_data"
    },
    {
     "data": {
      "text/html": [
       "<p>Friday, July 24th at 14:30 in PythonAnywhere Room</p>"
      ],
      "text/plain": [
       "<IPython.core.display.HTML object>"
      ]
     },
     "metadata": {},
     "output_type": "display_data"
    },
    {
     "data": {
      "text/html": [
       "<h3><i>Vasilij Litvinov</i></h2>"
      ],
      "text/plain": [
       "<IPython.core.display.HTML object>"
      ]
     },
     "metadata": {},
     "output_type": "display_data"
    },
    {
     "data": {
      "text/html": [
       "<p><p>Traditional Python profiling tools have limitations.  Standard tools like <strong>cProfile</strong> and most all third party tools (like <strong>Python Tools</strong> plugin for Microsoft Visual Studio) suffer from common flaws.  First, the profiling overhead is high (up to 50%).  Second, the  information provided is “function-level” i.e. the  tool shows how much time was spent within a function, but not actionable “line-level” information to show which exact lines are <em>the bottleneck</em> in a function.  Adding “line-level” information to most tools causes the application to run even slower. Third, some tools require modification of the application source code to enable profiling thus disrupting development.</p>\n",
       "<p>This talk presents an experimental Python profiler.  It typically has less than 15% overhead, shows line-level information and does not require modification of application source code.  Experiments using it resulted in performance gains of 2x and more.  Of course results vary by application, but in a typical application there may be quick optimizations easily identified by this type of profiler.</p>\n",
       "<p>The talk will briefly describe the basics of what, why and how to profile.  The profiler‘s use and results will be shown in the presentation with examples based on real-life applications.  Previous experience of working with profilers and trying to optimize an application is a plus, but not required, to gain a better appreciation of the work presented.</p>\n",
       "</p>"
      ],
      "text/plain": [
       "<IPython.core.display.HTML object>"
      ]
     },
     "metadata": {},
     "output_type": "display_data"
    },
    {
     "data": {
      "text/html": [
       "<br/>"
      ],
      "text/plain": [
       "<IPython.core.display.HTML object>"
      ]
     },
     "metadata": {},
     "output_type": "display_data"
    },
    {
     "data": {
      "text/html": [
       "<h2>Type Hints for Python 3.5</h2>"
      ],
      "text/plain": [
       "<IPython.core.display.HTML object>"
      ]
     },
     "metadata": {},
     "output_type": "display_data"
    },
    {
     "data": {
      "text/html": [
       "<p>Wednesday, July 22nd at 11:45 in Google Room</p>"
      ],
      "text/plain": [
       "<IPython.core.display.HTML object>"
      ]
     },
     "metadata": {},
     "output_type": "display_data"
    },
    {
     "data": {
      "text/html": [
       "<h3><i>Guido van Rossum</i></h2>"
      ],
      "text/plain": [
       "<IPython.core.display.HTML object>"
      ]
     },
     "metadata": {},
     "output_type": "display_data"
    },
    {
     "data": {
      "text/html": [
       "<p><p>PEP 484, \"Type Hints\", was accepted in time for inclusion in Python 3.5 beta 1. This introduces an optional standard for specifying types in function signatures. This concept was previously discussed as \"optional static typing\" and I similar to the way TypeScript adds optional type declarations to JavaScript.</p>\n",
       "<p>In this talk I will discuss the motivation for this work and show the key elements of the DSL for describing types (which, by the way is backward compatible with Python 3.2, 3.3 and 3.4). Note: <em>Python will remain a dynamically\n",
       "typed language, and I have no desire to ever make type hints\n",
       "mandatory, even by convention!</em></p>\n",
       "</p>"
      ],
      "text/plain": [
       "<IPython.core.display.HTML object>"
      ]
     },
     "metadata": {},
     "output_type": "display_data"
    },
    {
     "data": {
      "text/html": [
       "<br/>"
      ],
      "text/plain": [
       "<IPython.core.display.HTML object>"
      ]
     },
     "metadata": {},
     "output_type": "display_data"
    },
    {
     "data": {
      "text/html": [
       "<h2>Understanding Non-blocking IO</h2>"
      ],
      "text/plain": [
       "<IPython.core.display.HTML object>"
      ]
     },
     "metadata": {},
     "output_type": "display_data"
    },
    {
     "data": {
      "text/html": [
       "<p>Tuesday, July 21st at 15:45 in Google Room</p>"
      ],
      "text/plain": [
       "<IPython.core.display.HTML object>"
      ]
     },
     "metadata": {},
     "output_type": "display_data"
    },
    {
     "data": {
      "text/html": [
       "<h3><i>Vaidik Kapoor</i></h2>"
      ],
      "text/plain": [
       "<IPython.core.display.HTML object>"
      ]
     },
     "metadata": {},
     "output_type": "display_data"
    },
    {
     "data": {
      "text/html": [
       "<p><p>As an engineer working on any web stack, you may have heard about Blocking and Non-Blocking IO. You may as well have used any framework or library that supports Non-Blocking IO. After all, they are very useful as you don't want to block execution of other tasks while one task is waiting to complete a network call to another service (like HTTP call to an API or may be a TCP call to your database). Non-Blocking IO while doing tasks and not wait for IO. This also helps us handle a lot many connections than we possibly could with Blocking IO. Python supports Non-Blocking IO, but we always use some existing 3rd party library that hides all the gory details and makes it all look like black magic to the uninitiated. But there is nothing like black magic.</p>\n",
       "<p>This presentation will be an introductory talk focused at explaining how Non-Blocking IO works, which is the basis of libraries like Gevent, Tornado and Twisted. We will learn about how Non-Blocking IO can be implemented using the most basic modules that form the base for the above mentioned libraries. Hopefully after this talk, Non-Blocking IO will not be an unsolved mystery for you anymore.</p>\n",
       "</p>"
      ],
      "text/plain": [
       "<IPython.core.display.HTML object>"
      ]
     },
     "metadata": {},
     "output_type": "display_data"
    },
    {
     "data": {
      "text/html": [
       "<br/>"
      ],
      "text/plain": [
       "<IPython.core.display.HTML object>"
      ]
     },
     "metadata": {},
     "output_type": "display_data"
    },
    {
     "data": {
      "text/html": [
       "<h2>Use Python to process 12mil events per minute and still keep it simple (Talk)</h2>"
      ],
      "text/plain": [
       "<IPython.core.display.HTML object>"
      ]
     },
     "metadata": {},
     "output_type": "display_data"
    },
    {
     "data": {
      "text/html": [
       "<p>Tuesday, July 21st at 15:45 in Barria1 Room</p>"
      ],
      "text/plain": [
       "<IPython.core.display.HTML object>"
      ]
     },
     "metadata": {},
     "output_type": "display_data"
    },
    {
     "data": {
      "text/html": [
       "<h3><i>Teodor Dima</i></h2>"
      ],
      "text/plain": [
       "<IPython.core.display.HTML object>"
      ]
     },
     "metadata": {},
     "output_type": "display_data"
    },
    {
     "data": {
      "text/html": [
       "<p><p>Creating a large-scale event processing system can be a daunting task. Especially if you want it “stupid simple” and wrapped around each client’s needs. We built a straightforward solution for this using Python 3 and other open-source tools.</p>\n",
       "<p>Main issues to solve for a system that needs to be both performant and scalable:</p>\n",
       "<ul>\n",
       "<li><p>handling a throughput of 1 million events per minute in a 4 cores AWS instance;</p>\n",
       "</li>\n",
       "<li><p>following the principle of least astonishment;</p>\n",
       "</li>\n",
       "<li><p>data aggregation and how Python's standard libraries and data structures can help;</p>\n",
       "</li>\n",
       "<li><p>failsafe and profiling mechanisms that can be applied to any Linux service in production;</p>\n",
       "</li>\n",
       "<li><p>addressing unexpected behaviors of Python’s Standard Library; like reading from a file while it is written;</p>\n",
       "</li>\n",
       "<li><p>tackling a sudden spectacular cloud instance failure;</p>\n",
       "</li>\n",
       "</ul>\n",
       "<p>The alternative to this system would be to adopt existing technology stacks that might be too general, add more complexity, bloat, costs and which need extensive work to solve your specific problem. Moreover, our approach resulted in over 85% drop on hardware utilisation.</p>\n",
       "<p><a href=\"https://eastvisionsystems.com/production-software-part-ii-good-coding-reduces-clients-bill/\">Context: Production Software – II (where good coding reduces the client’s bill)</a></p>\n",
       "</p>"
      ],
      "text/plain": [
       "<IPython.core.display.HTML object>"
      ]
     },
     "metadata": {},
     "output_type": "display_data"
    },
    {
     "data": {
      "text/html": [
       "<br/>"
      ],
      "text/plain": [
       "<IPython.core.display.HTML object>"
      ]
     },
     "metadata": {},
     "output_type": "display_data"
    },
    {
     "data": {
      "text/html": [
       "<h2>Using Git Hooks to Help Your Engineering Teams Work Autonomously</h2>"
      ],
      "text/plain": [
       "<IPython.core.display.HTML object>"
      ]
     },
     "metadata": {},
     "output_type": "display_data"
    },
    {
     "data": {
      "text/html": [
       "<p>Tuesday, July 21st at 12:30 in Barria2 Room</p>"
      ],
      "text/plain": [
       "<IPython.core.display.HTML object>"
      ]
     },
     "metadata": {},
     "output_type": "display_data"
    },
    {
     "data": {
      "text/html": [
       "<h3><i>João Santos</i></h2>"
      ],
      "text/plain": [
       "<IPython.core.display.HTML object>"
      ]
     },
     "metadata": {},
     "output_type": "display_data"
    },
    {
     "data": {
      "text/html": [
       "<p><p>In this talk, Software Engineer Joao Santos will describe how the engineering team at Zalando has been migrating to local Git hooks to ensure that engineers can work autonomously and flexibly. Zalando---Europe’s leading online fashion platform for men, women and children-- began shifting from SVN to Git in late 2013. Santos and his colleagues used Python to create a Git update hook that enabled the team to reject changes to a branch while still allowing changes to other branches. He’ll explain why his team chose Python for this job instead of a bash script, point out mistakes made during the process (and solutions his team used to fix them), and the benefits generated by this migration. He’ll also talk about turnstile: a set of open-source, configurable, optional local Git hooks, created by the Zalando team, that enables engineers to abide by internal rules for committing code while following their own coding style and workflow preferences.</p>\n",
       "</p>"
      ],
      "text/plain": [
       "<IPython.core.display.HTML object>"
      ]
     },
     "metadata": {},
     "output_type": "display_data"
    },
    {
     "data": {
      "text/html": [
       "<br/>"
      ],
      "text/plain": [
       "<IPython.core.display.HTML object>"
      ]
     },
     "metadata": {},
     "output_type": "display_data"
    },
    {
     "data": {
      "text/html": [
       "<h2>Using Scikit-Learn's interface for turning Spaghetti Data Science into Maintainable Software</h2>"
      ],
      "text/plain": [
       "<IPython.core.display.HTML object>"
      ]
     },
     "metadata": {},
     "output_type": "display_data"
    },
    {
     "data": {
      "text/html": [
       "<p>Tuesday, July 21st at 16:45 in Barria1 Room</p>"
      ],
      "text/plain": [
       "<IPython.core.display.HTML object>"
      ]
     },
     "metadata": {},
     "output_type": "display_data"
    },
    {
     "data": {
      "text/html": [
       "<h3><i>Holger Peters</i></h2>"
      ],
      "text/plain": [
       "<IPython.core.display.HTML object>"
      ]
     },
     "metadata": {},
     "output_type": "display_data"
    },
    {
     "data": {
      "text/html": [
       "<p><p>Finding a good structure for number-crunching code can be a problem, this especially applies to routines preceding the core algorithms: transformations such as data processing and cleanup, as well as feature construction.</p>\n",
       "<p>With such code, the programmer faces the problem, that their code  easily  turns into a sequence of highly interdependent operations, which are hard to separate. It can be challenging to test, maintain and reuse such \"Data Science Spaghetti code\".</p>\n",
       "<p>Scikit-Learn offers a simple yet powerful interface for data science algorithms: the estimator and composite classes (called meta-estimators). By example, I show how clever usage of meta-estimators can encapsulate elaborate machine learning models into a maintainable tree of objects that is both handy to use and simple to test.</p>\n",
       "<p>Looking at examples, I will show how this approach simplifies model development, testing and validation and how this brings together best practices from software engineering as well as data science.</p>\n",
       "<p><em>Knowledge of Scikit-Learn is handy but not necessary to follow this talk.</em></p>\n",
       "</p>"
      ],
      "text/plain": [
       "<IPython.core.display.HTML object>"
      ]
     },
     "metadata": {},
     "output_type": "display_data"
    },
    {
     "data": {
      "text/html": [
       "<br/>"
      ],
      "text/plain": [
       "<IPython.core.display.HTML object>"
      ]
     },
     "metadata": {},
     "output_type": "display_data"
    },
    {
     "data": {
      "text/html": [
       "<h2>What dojos are and how we run these at pyBCN</h2>"
      ],
      "text/plain": [
       "<IPython.core.display.HTML object>"
      ]
     },
     "metadata": {},
     "output_type": "display_data"
    },
    {
     "data": {
      "text/html": [
       "<p>Monday, July 20th at 15:45 in Barria1 Room</p>"
      ],
      "text/plain": [
       "<IPython.core.display.HTML object>"
      ]
     },
     "metadata": {},
     "output_type": "display_data"
    },
    {
     "data": {
      "text/html": [
       "<h3><i>Núria Pujol, Ignasi  Fosch</i></h2>"
      ],
      "text/plain": [
       "<IPython.core.display.HTML object>"
      ]
     },
     "metadata": {},
     "output_type": "display_data"
    },
    {
     "data": {
      "text/html": [
       "<p><p>Coding dojos are a very good way to share coding knowledge among members in a community, and, at the same time, introduce people into the language and community.\n",
       "Sometimes, though, the typical approach to set coding dojos may prevent expert coders to join the session. This is the story of the pyBCN's dojos, so far.</p>\n",
       "</p>"
      ],
      "text/plain": [
       "<IPython.core.display.HTML object>"
      ]
     },
     "metadata": {},
     "output_type": "display_data"
    },
    {
     "data": {
      "text/html": [
       "<br/>"
      ],
      "text/plain": [
       "<IPython.core.display.HTML object>"
      ]
     },
     "metadata": {},
     "output_type": "display_data"
    },
    {
     "data": {
      "text/html": [
       "<h2>What is wrong with API wrappers and how can we do better</h2>"
      ],
      "text/plain": [
       "<IPython.core.display.HTML object>"
      ]
     },
     "metadata": {},
     "output_type": "display_data"
    },
    {
     "data": {
      "text/html": [
       "<p>Monday, July 20th at 12:30 in Room A2</p>"
      ],
      "text/plain": [
       "<IPython.core.display.HTML object>"
      ]
     },
     "metadata": {},
     "output_type": "display_data"
    },
    {
     "data": {
      "text/html": [
       "<h3><i>Filipe Ximenes</i></h2>"
      ],
      "text/plain": [
       "<IPython.core.display.HTML object>"
      ]
     },
     "metadata": {},
     "output_type": "display_data"
    },
    {
     "data": {
      "text/html": [
       "<p><p>Wrappers are an essential tool for interacting with web APIs. They reduce the amount of work needed to make requests and sometimes, only sometimes prevent the developer from dealing with extensive documentations. It’s common to encounter libs that require not only the study of their own documentation, but also the APIs one, duplicating the needed work. This is caused because wrappers do not follow a design pattern, each developer creates it’s own design, coding style and use their preferred tools.</p>\n",
       "<p><a href=\"https://github.com/vintasoftware/tapioca-wrapper\">Tapioca</a> is what can be called: \"a wrapper generator”. Creating API wrappers with Tapioca is extremely easy and fast. For example, it took 1 hour to write the full wrapper for the <a href=\"http://parse.com\">Parse.com</a> REST API. But this is not the more important thing, Tapioca libs have a similar interface so once understood how they work, developers can work with any other without the need to learn a new interface.</p>\n",
       "<p>Tapioca is also thought to comply with REST features and takes HATEOAS (Hypermedia as the engine of application state) seriously, so “following” links and pagination are natively supported. Explorability is also a key concept and developers are encouraged to play with Tapioca packages and find their way through APIs before writing their final code. Although there are some production ready <a href=\"https://github.com/vintasoftware/tapioca-wrapper#tapioca-comes-in-many-flavours\">Tapioca wrappers</a>, it is a work in progress, there are still many features to be explored.</p>\n",
       "</p>"
      ],
      "text/plain": [
       "<IPython.core.display.HTML object>"
      ]
     },
     "metadata": {},
     "output_type": "display_data"
    },
    {
     "data": {
      "text/html": [
       "<br/>"
      ],
      "text/plain": [
       "<IPython.core.display.HTML object>"
      ]
     },
     "metadata": {},
     "output_type": "display_data"
    },
    {
     "data": {
      "text/html": [
       "<h2>What it's really like building RESTful APIs with Django</h2>"
      ],
      "text/plain": [
       "<IPython.core.display.HTML object>"
      ]
     },
     "metadata": {},
     "output_type": "display_data"
    },
    {
     "data": {
      "text/html": [
       "<p>Thursday, July 23rd at 15:15 in Google Room</p>"
      ],
      "text/plain": [
       "<IPython.core.display.HTML object>"
      ]
     },
     "metadata": {},
     "output_type": "display_data"
    },
    {
     "data": {
      "text/html": [
       "<h3><i>Paul Hallett</i></h2>"
      ],
      "text/plain": [
       "<IPython.core.display.HTML object>"
      ]
     },
     "metadata": {},
     "output_type": "display_data"
    },
    {
     "data": {
      "text/html": [
       "<p><p>At the beginning of this year I started working at Lyst and I was tasked with helping to replace their old and outdated web API with a modern RESTful replacement.</p>\n",
       "<p>Along the way we encountered some interesting design decisions and now I’m going to share what we learned about building a real RESTful API with Django and Django REST framework.</p>\n",
       "<p>I've been talking about how to build great RESTful APIs for the past year at various Python and Django conferences in Europe. Now I'd like to take some real world experiences from creating Lyst's new web API and share what I've learned along the way.</p>\n",
       "</p>"
      ],
      "text/plain": [
       "<IPython.core.display.HTML object>"
      ]
     },
     "metadata": {},
     "output_type": "display_data"
    },
    {
     "data": {
      "text/html": [
       "<br/>"
      ],
      "text/plain": [
       "<IPython.core.display.HTML object>"
      ]
     },
     "metadata": {},
     "output_type": "display_data"
    },
    {
     "data": {
      "text/html": [
       "<h2>What's the fuzz all about? Randomized data generation for robust unit testing</h2>"
      ],
      "text/plain": [
       "<IPython.core.display.HTML object>"
      ]
     },
     "metadata": {},
     "output_type": "display_data"
    },
    {
     "data": {
      "text/html": [
       "<p>Thursday, July 23rd at 12:30 in PythonAnywhere Room</p>"
      ],
      "text/plain": [
       "<IPython.core.display.HTML object>"
      ]
     },
     "metadata": {},
     "output_type": "display_data"
    },
    {
     "data": {
      "text/html": [
       "<h3><i>Moritz Gronbach</i></h2>"
      ],
      "text/plain": [
       "<IPython.core.display.HTML object>"
      ]
     },
     "metadata": {},
     "output_type": "display_data"
    },
    {
     "data": {
      "text/html": [
       "<p><p>In static unit testing, the output of a function is compared to a precomputed result. Even though such unit tests may apparently cover all the code in a function, they might cover only a small subset of behaviours of the function. This potentially allows bugs such as heartbleed to stay undetected. Dynamic unit tests using fuzzing, which allows you to specify a data generation template, can make your test suite more robust.</p>\n",
       "<p>In this talk, we demonstrate fuzzing using the hypothesis library.\n",
       "Hypothesis is a Python library to automatically generate test data based on a template.\n",
       "Data is generated using a strategy. A strategy specifies how data is generated, and how falsifying examples can be simplified. Hypothesis provides strategies for Python's built-in data types, and is easily customizable.Since test data is generated automatically, we can not compare against pre-computed results. Instead, tests are usually done on invariants of functions. We give an overview of such invariants.</p>\n",
       "<p>Finally, we demonstrate how we use fuzzing to test machine learning algorithms at Blue Yonder.</p>\n",
       "</p>"
      ],
      "text/plain": [
       "<IPython.core.display.HTML object>"
      ]
     },
     "metadata": {},
     "output_type": "display_data"
    },
    {
     "data": {
      "text/html": [
       "<br/>"
      ],
      "text/plain": [
       "<IPython.core.display.HTML object>"
      ]
     },
     "metadata": {},
     "output_type": "display_data"
    },
    {
     "data": {
      "text/html": [
       "<h2>Why should You consider microservices ?</h2>"
      ],
      "text/plain": [
       "<IPython.core.display.HTML object>"
      ]
     },
     "metadata": {},
     "output_type": "display_data"
    },
    {
     "data": {
      "text/html": [
       "<p>Monday, July 20th at 15:15 in Barria2 Room</p>"
      ],
      "text/plain": [
       "<IPython.core.display.HTML object>"
      ]
     },
     "metadata": {},
     "output_type": "display_data"
    },
    {
     "data": {
      "text/html": [
       "<h3><i>Jacek Nosal</i></h2>"
      ],
      "text/plain": [
       "<IPython.core.display.HTML object>"
      ]
     },
     "metadata": {},
     "output_type": "display_data"
    },
    {
     "data": {
      "text/html": [
       "<p><p>Microservices are a fresh architecture trend. In this talk I will explain what a microservice is. I will answer WHY and HOW to build microservices using tooling from Python ecosystem. We will take a look at components that power microservices: web frameworks, task queues, databases, reporting &amp; monitoring tools and also integration technologies.</p>\n",
       "<p>I will start from design &amp; planning, go through implementation and deployment process and briefly cover internal communcation and MDM (master data management).</p>\n",
       "<p>Finally, I will present a brief overview of patterns and anti-patterns of microservice architectures, as well as cover few use cases and success stories.</p>\n",
       "<p>Prerequisites: be familiarized with at least one python web framework and have a general understanding of web stack.</p>\n",
       "</p>"
      ],
      "text/plain": [
       "<IPython.core.display.HTML object>"
      ]
     },
     "metadata": {},
     "output_type": "display_data"
    },
    {
     "data": {
      "text/html": [
       "<br/>"
      ],
      "text/plain": [
       "<IPython.core.display.HTML object>"
      ]
     },
     "metadata": {},
     "output_type": "display_data"
    },
    {
     "data": {
      "text/html": [
       "<h2>Why storing files for the web is not as straightforward as you might think.</h2>"
      ],
      "text/plain": [
       "<IPython.core.display.HTML object>"
      ]
     },
     "metadata": {},
     "output_type": "display_data"
    },
    {
     "data": {
      "text/html": [
       "<p>Tuesday, July 21st at 11:00 in Barria2 Room</p>"
      ],
      "text/plain": [
       "<IPython.core.display.HTML object>"
      ]
     },
     "metadata": {},
     "output_type": "display_data"
    },
    {
     "data": {
      "text/html": [
       "<h3><i>Alessandro Molina</i></h2>"
      ],
      "text/plain": [
       "<IPython.core.display.HTML object>"
      ]
     },
     "metadata": {},
     "output_type": "display_data"
    },
    {
     "data": {
      "text/html": [
       "<p><p>DEPOT ( <a href=\"http://depot.readthedocs.org/en/latest/\">http://depot.readthedocs.org/en/latest/</a> ) is a file storage framework born from the experience on a project that saved a lot of files on disk, until the day it went online and the customer system engineering team decided to switch to Heroku, which doesn't support storing files on disk.</p>\n",
       "<p>The talk will cover the facets of a feature \"saving files\" which has always been considered straightforward but that can become complex in the era of cloud deployment and when infrastructure migration happens.</p>\n",
       "<p>After exposing the major drawbacks and issues that big projects might face on short and long terms with file storage the talk will introduce DEPOT and how it tried to solve most of the issues while providing a super-easy-to-use interface for developers. We will see how to use DEPOT to provide attachments on SQLAlchemy or MongoDB and how to handle problems like migration to a different storage backend and long term evolution.</p>\n",
       "<p>Like SQLAlchemy makes possible to switch your storage on the fly without touching code, DEPOT aims at making so possible for files and even use multiple different storages together.</p>\n",
       "</p>"
      ],
      "text/plain": [
       "<IPython.core.display.HTML object>"
      ]
     },
     "metadata": {},
     "output_type": "display_data"
    },
    {
     "data": {
      "text/html": [
       "<br/>"
      ],
      "text/plain": [
       "<IPython.core.display.HTML object>"
      ]
     },
     "metadata": {},
     "output_type": "display_data"
    },
    {
     "data": {
      "text/html": [
       "<h2>Writing quality code</h2>"
      ],
      "text/plain": [
       "<IPython.core.display.HTML object>"
      ]
     },
     "metadata": {},
     "output_type": "display_data"
    },
    {
     "data": {
      "text/html": [
       "<p>Monday, July 20th at 16:45 in Google Room</p>"
      ],
      "text/plain": [
       "<IPython.core.display.HTML object>"
      ]
     },
     "metadata": {},
     "output_type": "display_data"
    },
    {
     "data": {
      "text/html": [
       "<h3><i>Radosław Jankiewicz</i></h2>"
      ],
      "text/plain": [
       "<IPython.core.display.HTML object>"
      ]
     },
     "metadata": {},
     "output_type": "display_data"
    },
    {
     "data": {
      "text/html": [
       "<p><p>The quality of written code is an important factor in a final success of a software project.\n",
       "Perhaps there is no universal definition of high quality code, however usually it's characterized as clear and readable, well-designed, well tested and documented, easier to debug, maintain and extend, etc.</p>\n",
       "<p>Python was designed to be a highly readable language that would make it easier to develop high quality code. Nevertheless, programming language is only a tool in a software development process and in the end the quality of code depends mostly on its author's concept and decisions he make.</p>\n",
       "<p>In this talk I would like to present some of ideas, techniques and tools for improving the quality of written code, tried out with a good result in everyday work on developing software in Python.</p>\n",
       "</p>"
      ],
      "text/plain": [
       "<IPython.core.display.HTML object>"
      ]
     },
     "metadata": {},
     "output_type": "display_data"
    },
    {
     "data": {
      "text/html": [
       "<br/>"
      ],
      "text/plain": [
       "<IPython.core.display.HTML object>"
      ]
     },
     "metadata": {},
     "output_type": "display_data"
    },
    {
     "data": {
      "text/html": [
       "<h2>Yak shaving a good place to eat using non negative matrix factorization</h2>"
      ],
      "text/plain": [
       "<IPython.core.display.HTML object>"
      ]
     },
     "metadata": {},
     "output_type": "display_data"
    },
    {
     "data": {
      "text/html": [
       "<p>Thursday, July 23rd at 15:45 in Barria1 Room</p>"
      ],
      "text/plain": [
       "<IPython.core.display.HTML object>"
      ]
     },
     "metadata": {},
     "output_type": "display_data"
    },
    {
     "data": {
      "text/html": [
       "<h3><i>Adriano Petrich</i></h2>"
      ],
      "text/plain": [
       "<IPython.core.display.HTML object>"
      ]
     },
     "metadata": {},
     "output_type": "display_data"
    },
    {
     "data": {
      "text/html": [
       "<p><p>Trying to find a good place to eat has become much easier and democratic with online reviews, but on the other hand, that creates new problems.  Can you trust that 5 star review of fast food chain as much as the 1 star of a fancy restaurant because \"Toast arrived far too early, and too thin\"?</p>\n",
       "<p>We all like enjoy things differently.  Starting of on the assumption that the \"best pizza\" is not the same for everyone.  Can we group users into people that has similar tastes? Can we identify  reviews and restaurants to make sense of it? Can that lead us to a better way to find restaurants that you like?</p>\n",
       "<p>Using some data handling techniques I walk you through my process and results that I've got from that idea.  There are no requisites for this talk except basic python and math knowledge (matrices exist)</p>\n",
       "</p>"
      ],
      "text/plain": [
       "<IPython.core.display.HTML object>"
      ]
     },
     "metadata": {},
     "output_type": "display_data"
    },
    {
     "data": {
      "text/html": [
       "<br/>"
      ],
      "text/plain": [
       "<IPython.core.display.HTML object>"
      ]
     },
     "metadata": {},
     "output_type": "display_data"
    },
    {
     "data": {
      "text/html": [
       "<h2>asyncio community, one year later</h2>"
      ],
      "text/plain": [
       "<IPython.core.display.HTML object>"
      ]
     },
     "metadata": {},
     "output_type": "display_data"
    },
    {
     "data": {
      "text/html": [
       "<p>Wednesday, July 22nd at 15:45 in Room A2</p>"
      ],
      "text/plain": [
       "<IPython.core.display.HTML object>"
      ]
     },
     "metadata": {},
     "output_type": "display_data"
    },
    {
     "data": {
      "text/html": [
       "<h3><i>Victor Stinner</i></h2>"
      ],
      "text/plain": [
       "<IPython.core.display.HTML object>"
      ]
     },
     "metadata": {},
     "output_type": "display_data"
    },
    {
     "data": {
      "text/html": [
       "<p><p>The asyncio project was officially launched with the release of Python 3.4 in March 2014. The project was public before that under the name \"tulip\". asyncio is just a core network library, it requires third party library to be usable for common protocols. One year later, asyncio has a strong community writing libraries on top of it.</p>\n",
       "<p>The most advanced library is aiohttp which includes a complete HTTP client but also a HTTP server. There are also libraries to access asynchronously the file system, resolve names with DNS, have variables local to tasks, read-write locks, etc. There are clients for AMQP, Asterisk, ElasticSearch, IRC, XMPP (Jabber), etc. (and even an IRC server!). There are asynchronous drivers for all common databases, and even for some ORMs. As expected, there are tons of new web frameworks based on asyncio. It's also possible to plug asyncio into Gtk, Qt, gevent, eventlet, gunicorn, tornado, etc.</p>\n",
       "<p>I will also discuss use cases of asyncio in production and benchmarks. Spoiler: asyncio is not slow.</p>\n",
       "<p>The asyncio library also evolved to become more usable: it has a better documentation, is easier to debug and has a few new functions. There is also a port to Python 2: trollius.</p>\n",
       "</p>"
      ],
      "text/plain": [
       "<IPython.core.display.HTML object>"
      ]
     },
     "metadata": {},
     "output_type": "display_data"
    },
    {
     "data": {
      "text/html": [
       "<br/>"
      ],
      "text/plain": [
       "<IPython.core.display.HTML object>"
      ]
     },
     "metadata": {},
     "output_type": "display_data"
    },
    {
     "data": {
      "text/html": [
       "<h2>gitfs - building a filesystem in Python</h2>"
      ],
      "text/plain": [
       "<IPython.core.display.HTML object>"
      ]
     },
     "metadata": {},
     "output_type": "display_data"
    },
    {
     "data": {
      "text/html": [
       "<p>Thursday, July 23rd at 14:30 in Google Room</p>"
      ],
      "text/plain": [
       "<IPython.core.display.HTML object>"
      ]
     },
     "metadata": {},
     "output_type": "display_data"
    },
    {
     "data": {
      "text/html": [
       "<h3><i>Vlad Temian</i></h2>"
      ],
      "text/plain": [
       "<IPython.core.display.HTML object>"
      ]
     },
     "metadata": {},
     "output_type": "display_data"
    },
    {
     "data": {
      "text/html": [
       "<p><p>gitfs is an open-source[1] filesystem which was designed to bring the full powers of Git to everyone, no matter how little they know about versioning. A user can mount any repository and all the his changes will be automatically converted into commits. gitfs will also expose the history of the branch you’re currently working on by simulating snapshots of every commit.</p>\n",
       "<p>gitfs is useful in places where you want to keep track of all your files, but at the same time you don’t have the possibility of organizing everything into commits yourself. A FUSE filesystem for git repositories, with local cache.</p>\n",
       "<p>In this talk we will take a look at some of the crucial aspects involved in building a reliable FUSE filesystem, the steps that we took in building gitfs, especially in handling the git objects (<a href=\"http://git-scm.com/book/en/v2/Git-Internals-Git-Objects\">http://git-scm.com/book/en/v2/Git-Internals-Git-Objects</a>), what testing methods we have used for it and also we will share the most important lessons learned while building it.</p>\n",
       "<p>The prerequisites for this talk are:\n",
       "A good understanding of how Git works\n",
       "Basic understaning of Operating Systems concepts</p>\n",
       "<p>[1] You can get the source here - <a href=\"https://github.com/PressLabs/gitfs\">https://github.com/PressLabs/gitfs</a>; you cand find more details here - <a href=\"http://www.presslabs.com/gitfs/\">http://www.presslabs.com/gitfs/</a>.</p>\n",
       "</p>"
      ],
      "text/plain": [
       "<IPython.core.display.HTML object>"
      ]
     },
     "metadata": {},
     "output_type": "display_data"
    },
    {
     "data": {
      "text/html": [
       "<br/>"
      ],
      "text/plain": [
       "<IPython.core.display.HTML object>"
      ]
     },
     "metadata": {},
     "output_type": "display_data"
    },
    {
     "data": {
      "text/html": [
       "<h2>with modern_peripherals: Python and Flask</h2>"
      ],
      "text/plain": [
       "<IPython.core.display.HTML object>"
      ]
     },
     "metadata": {},
     "output_type": "display_data"
    },
    {
     "data": {
      "text/html": [
       "<p>Monday, July 20th at 14:30 in Room A2</p>"
      ],
      "text/plain": [
       "<IPython.core.display.HTML object>"
      ]
     },
     "metadata": {},
     "output_type": "display_data"
    },
    {
     "data": {
      "text/html": [
       "<h3><i>Piotr Dyba</i></h2>"
      ],
      "text/plain": [
       "<IPython.core.display.HTML object>"
      ]
     },
     "metadata": {},
     "output_type": "display_data"
    },
    {
     "data": {
      "text/html": [
       "<p><p>with modern_peripherals: \n",
       "    Python and Flask</p>\n",
       "<p>Auto-scrolling sites, glance-following ads, and gesture friendly web pages are coming!</p>\n",
       "<p>Over the last few years three products  emerged that enable interaction with computer  in a new way: Myo Armband, Leap Motion Controller and EyeTribe. The Myo Armband is a device that uses the electrical activity in your muscles to wirelessly control your computer, phone, and tablet, which is especially useful when your hands are \"tied\" or dirty.  This device will be used to navigate through the presentation. The Leap Motion Controller tracks both hands in front of the screen.  From a web developer’s perspective, both devices allows us to use gestures, previously  restricted to touch devices, on desktops. EyeTribe is an affordable eye-tracking device.</p>\n",
       "<p>The talk will briefly cover setting up SDKs and python wrappers, and then focus on possible uses in daily life, business and, of course, web app development. Code examples will be included. In addition, the trade-offs between processing this new type of input data in the client versus processing input on the server will be discussed.</p>\n",
       "</p>"
      ],
      "text/plain": [
       "<IPython.core.display.HTML object>"
      ]
     },
     "metadata": {},
     "output_type": "display_data"
    },
    {
     "data": {
      "text/html": [
       "<br/>"
      ],
      "text/plain": [
       "<IPython.core.display.HTML object>"
      ]
     },
     "metadata": {},
     "output_type": "display_data"
    },
    {
     "data": {
      "text/html": [
       "<h1>Trainings</h1>"
      ],
      "text/plain": [
       "<IPython.core.display.HTML object>"
      ]
     },
     "metadata": {},
     "output_type": "display_data"
    },
    {
     "data": {
      "text/html": [
       "<h2>Beginner's Guide to Machine Learning Competitions</h2>"
      ],
      "text/plain": [
       "<IPython.core.display.HTML object>"
      ]
     },
     "metadata": {},
     "output_type": "display_data"
    },
    {
     "data": {
      "text/html": [
       "<p>Monday, July 20th at 14:30 in </p>"
      ],
      "text/plain": [
       "<IPython.core.display.HTML object>"
      ]
     },
     "metadata": {},
     "output_type": "display_data"
    },
    {
     "data": {
      "text/html": [
       "<h3><i>Christine Doig</i></h2>"
      ],
      "text/plain": [
       "<IPython.core.display.HTML object>"
      ]
     },
     "metadata": {},
     "output_type": "display_data"
    },
    {
     "data": {
      "text/html": [
       "<p><p>This tutorial will offer a hands-on introduction to machine learning and the process of applying these concepts in a Kaggle competition. We will introduce attendees to machine learning concepts, examples and flows,  while building up their skills to solve an actual problem. At the end of the tutorial attendees will be familiar with a real data science flow: feature preparation, modeling, optimization and validation.</p>\n",
       "<p>Packages used in the tutorial will include: IPython notebook, scikit-learn, pandas and nltk. We'll use IPython notebook for interactive exploration and visualization, in order to gain a basic understanding of what's in the data. From there, we'll extract features and train a model using scikit-learn. This will bring us to our first submission. We'll then learn how to structure the problem for offline evaluation and use scikit-learn's clean model API to train many models simultaneously and perform feature selection and hyperparameter optimization.</p>\n",
       "<p>At the end of session, attendees will have time to work on their own to improve their models and make multiple submissions to get to the top of the leaderboard, just like in a real competition. Hopefully attendees will not only leave the tutorial having learned the core data science concepts and flow, but also having had a great time doing it.</p>\n",
       "</p>"
      ],
      "text/plain": [
       "<IPython.core.display.HTML object>"
      ]
     },
     "metadata": {},
     "output_type": "display_data"
    },
    {
     "data": {
      "text/html": [
       "<br/>"
      ],
      "text/plain": [
       "<IPython.core.display.HTML object>"
      ]
     },
     "metadata": {},
     "output_type": "display_data"
    },
    {
     "data": {
      "text/html": [
       "<h2>Beginners' Day</h2>"
      ],
      "text/plain": [
       "<IPython.core.display.HTML object>"
      ]
     },
     "metadata": {},
     "output_type": "display_data"
    },
    {
     "data": {
      "text/html": [
       "<p>Monday, July 20th at 11:00 in Room B3</p>"
      ],
      "text/plain": [
       "<IPython.core.display.HTML object>"
      ]
     },
     "metadata": {},
     "output_type": "display_data"
    },
    {
     "data": {
      "text/html": [
       "<h3><i>Harry Percival</i></h2>"
      ],
      "text/plain": [
       "<IPython.core.display.HTML object>"
      ]
     },
     "metadata": {},
     "output_type": "display_data"
    },
    {
     "data": {
      "text/html": [
       "<p><p>New to Python?  Come along to the beginners' day!  It’s designed to give you a crash-course in Python, and the ecosystem around it, to give you the context you need to get the most out of EuroPython.  Suitable for total beginners, as well as people who already know a little programming.  Bring your laptop, as a large part of the day will be devoted to learning Python on your own PC.</p>\n",
       "<p><em>This session will be presented in English (although a few of the coaches do speak basic Spanish, French and Italian).  Note there are also some Spanish-language Beginner sessions scheduled for day 2 of the conference.</em></p>\n",
       "<p><strong>Morning:</strong></p>\n",
       "<ul>\n",
       "<li>11AM-11:30AM  Intro to Python and programming.</li>\n",
       "<li>11:30AM-1PM Self-directed learning with coaches. Tutorials provided for beginner and experienced programmers.</li>\n",
       "<li>1PM-1:30PM Q&amp;A and recap</li>\n",
       "</ul>\n",
       "<p><strong>Afternoon:</strong></p>\n",
       "<ul>\n",
       "<li>3:15PM: Intro to the Python ecosystem: some topics and bits of jargon that are bound to come up this week: open source, free software, github, packages, pip, pypi, scientific computing, scipy, numpy, pandas, ipython notebook, web frameworks, django, flask, asyncio, the BDFL, the Zen of Python, etc etc.  What are the tools, areas of interest, in-jokes, people of note.</li>\n",
       "<li>4:30PM: More self-directed learning with coaches.</li>\n",
       "<li>5PM:  \"How to get the best out of the conference\" session -- suggested talks, tips on asking questions, FAQs like what are open spaces / sprints / birds-of-a-feather sessions, etc.</li>\n",
       "</ul>\n",
       "<p>We need to get an idea of numbers for this session, so if you are interested in attending, please drop a quick email to obeythetestinggoat@gmail.com</p>\n",
       "</p>"
      ],
      "text/plain": [
       "<IPython.core.display.HTML object>"
      ]
     },
     "metadata": {},
     "output_type": "display_data"
    },
    {
     "data": {
      "text/html": [
       "<br/>"
      ],
      "text/plain": [
       "<IPython.core.display.HTML object>"
      ]
     },
     "metadata": {},
     "output_type": "display_data"
    },
    {
     "data": {
      "text/html": [
       "<h2>Building Async Microservices</h2>"
      ],
      "text/plain": [
       "<IPython.core.display.HTML object>"
      ]
     },
     "metadata": {},
     "output_type": "display_data"
    },
    {
     "data": {
      "text/html": [
       "<p>Wednesday, July 22nd at 11:00 in </p>"
      ],
      "text/plain": [
       "<IPython.core.display.HTML object>"
      ]
     },
     "metadata": {},
     "output_type": "display_data"
    },
    {
     "data": {
      "text/html": [
       "<h3><i>Norberto Leite</i></h2>"
      ],
      "text/plain": [
       "<IPython.core.display.HTML object>"
      ]
     },
     "metadata": {},
     "output_type": "display_data"
    },
    {
     "data": {
      "text/html": [
       "<p><p><strong>Description:</strong> Over the course of the 2.5 hours of this workshop you will learn how to leverage both Python and MongoDB to build highly scalable, asynchronous applications based on microservices architecture. We will be building from scratch several different \"exotic\" services, using a variety of datasets, that together we can mashup into a consolidated application using our own laptops.</p>\n",
       "<p>We will start by introducing several  technologies that we will be using (e.g. Python, Flask, MongoDB, AngularJS) and take a ten-thousand foot  overview of micro services architecture.\n",
       "In the second half of the workshop, we will break into teams that will each take charge in implementing a microservice that will comprise our final application.</p>\n",
       "<p>This a fully hands-on workshop.</p>\n",
       "<p><strong>Learning objectives:</strong></p>\n",
       "<ul>\n",
       "<li><p>Benefits of microservice architectures</p>\n",
       "</li>\n",
       "<li><p>MongoDB schema design</p>\n",
       "</li>\n",
       "<li><p>MongoDB query optimization and profiling</p>\n",
       "</li>\n",
       "<li><p>Basic understanding of AngularJS</p>\n",
       "</li>\n",
       "<li><p>Flask as REST API platform</p>\n",
       "</li>\n",
       "</ul>\n",
       "<p><strong>Target Audience:</strong>\n",
       "This workshop is recommended to software developers eager to understand more about MongoDB and how to build async calls. Coding skills and basic understanding of Python is required. Prior experience with AngularJS and Flask is welcomed.</p>\n",
       "<p><strong>Technical Requirement:</strong>\n",
       "The attendee should bring their own laptop with MongoDB and Python (&gt;2.7) installed. One should have administration grants over their system because we will need to expose ports and other communications to the network. The datasets and project instructions will be provided on site.</p>\n",
       "</p>"
      ],
      "text/plain": [
       "<IPython.core.display.HTML object>"
      ]
     },
     "metadata": {},
     "output_type": "display_data"
    },
    {
     "data": {
      "text/html": [
       "<br/>"
      ],
      "text/plain": [
       "<IPython.core.display.HTML object>"
      ]
     },
     "metadata": {},
     "output_type": "display_data"
    },
    {
     "data": {
      "text/html": [
       "<h2>Distributed Programming With Python</h2>"
      ],
      "text/plain": [
       "<IPython.core.display.HTML object>"
      ]
     },
     "metadata": {},
     "output_type": "display_data"
    },
    {
     "data": {
      "text/html": [
       "<p>Thursday, July 23rd at 11:00 in </p>"
      ],
      "text/plain": [
       "<IPython.core.display.HTML object>"
      ]
     },
     "metadata": {},
     "output_type": "display_data"
    },
    {
     "data": {
      "text/html": [
       "<h3><i>Francesco Pierfederici</i></h2>"
      ],
      "text/plain": [
       "<IPython.core.display.HTML object>"
      ]
     },
     "metadata": {},
     "output_type": "display_data"
    },
    {
     "data": {
      "text/html": [
       "<p><p>This tutorial explores some real-world  solutions to make your Python code run on different processes, possibly on different computers.</p>\n",
       "<p>Tools like Pyro, Celery, Python-RQ  will be discussed.  Ways to run your Python code on a supercomputer/cluster using a batch job scheduler and packages for local parallelism such as multiprocessing and concurrent.futures will be  touched upon as well.</p>\n",
       "<p>The emphasis is on practical examples  and lessons learned. The assumption is that the attendee is familiar with Python and basic OOP concepts.</p>\n",
       "</p>"
      ],
      "text/plain": [
       "<IPython.core.display.HTML object>"
      ]
     },
     "metadata": {},
     "output_type": "display_data"
    },
    {
     "data": {
      "text/html": [
       "<br/>"
      ],
      "text/plain": [
       "<IPython.core.display.HTML object>"
      ]
     },
     "metadata": {},
     "output_type": "display_data"
    },
    {
     "data": {
      "text/html": [
       "<h2>Django Girls Workshop</h2>"
      ],
      "text/plain": [
       "<IPython.core.display.HTML object>"
      ]
     },
     "metadata": {},
     "output_type": "display_data"
    },
    {
     "data": {
      "text/html": [
       "<p>Monday, July 20th at 11:00 in Room C1</p>"
      ],
      "text/plain": [
       "<IPython.core.display.HTML object>"
      ]
     },
     "metadata": {},
     "output_type": "display_data"
    },
    {
     "data": {
      "text/html": [
       "<h3><i>Mikey Ariel</i></h2>"
      ],
      "text/plain": [
       "<IPython.core.display.HTML object>"
      ]
     },
     "metadata": {},
     "output_type": "display_data"
    },
    {
     "data": {
      "text/html": [
       "<p><p>Django Girls is a free, one-day workshop for women who are new to programming. During the workshop, our participants will learn how to build their first Web application using Python, Django, HTML, and CSS. Participants were selected in advance for the workshop, and our coaches are all EuroPython attendees who volunteered to mentor the participants through the process.</p>\n",
       "<p>This year's workshop is organized by <a href=\"https://twitter.com/thatdocslady\">Mikey Ariel</a> and <a href=\"https://twitter.com/EnCuKou\">Petr Viktorin</a>, with support from the <a href=\"http://djangogirls.org/\">Django Girls</a> global organization. Since the first Django Girls workshop was held at EuroPython 2014, this workshop also marks our first birthday! After the workshop, we will operate a booth in collaboration with PyLadiesES throughout the conference, so come say hello!</p>\n",
       "<p>Official website: <a href=\"http://djangogirls.org/europython2015/\">http://djangogirls.org/europython2015/</a></p>\n",
       "<p>Twitter: <a href=\"https://twitter.com/DjangoGirlsEP15\">@DjangoGirlsEP15</a></p>\n",
       "</p>"
      ],
      "text/plain": [
       "<IPython.core.display.HTML object>"
      ]
     },
     "metadata": {},
     "output_type": "display_data"
    },
    {
     "data": {
      "text/html": [
       "<br/>"
      ],
      "text/plain": [
       "<IPython.core.display.HTML object>"
      ]
     },
     "metadata": {},
     "output_type": "display_data"
    },
    {
     "data": {
      "text/html": [
       "<h2>Don't be afraid to search</h2>"
      ],
      "text/plain": [
       "<IPython.core.display.HTML object>"
      ]
     },
     "metadata": {},
     "output_type": "display_data"
    },
    {
     "data": {
      "text/html": [
       "<p>Thursday, July 23rd at 14:30 in </p>"
      ],
      "text/plain": [
       "<IPython.core.display.HTML object>"
      ]
     },
     "metadata": {},
     "output_type": "display_data"
    },
    {
     "data": {
      "text/html": [
       "<h3><i>Honza Král</i></h2>"
      ],
      "text/plain": [
       "<IPython.core.display.HTML object>"
      ]
     },
     "metadata": {},
     "output_type": "display_data"
    },
    {
     "data": {
      "text/html": [
       "<p><p>The value that search functionality can add to a website is often underestimated, and many people fear that it is too complex or complicated. At the same time, it’s not clear to many developers what a good search implementation should do.</p>\n",
       "<p>In short, many developers - and the users of their websites - are missing out on important benefits.</p>\n",
       "<p>This workshop will help them over the first hurdles to a solid search implementation using Django and Elasticsearch. It will cover basic steps like syncing the models to a search engine and setting up search views, as well as more advanced functionality such as faceted navigation.</p>\n",
       "<p>Honza will explain how search works and guide people through the process of customising their search and setting up analytics based on the data in their apps.</p>\n",
       "</p>"
      ],
      "text/plain": [
       "<IPython.core.display.HTML object>"
      ]
     },
     "metadata": {},
     "output_type": "display_data"
    },
    {
     "data": {
      "text/html": [
       "<br/>"
      ],
      "text/plain": [
       "<IPython.core.display.HTML object>"
      ]
     },
     "metadata": {},
     "output_type": "display_data"
    },
    {
     "data": {
      "text/html": [
       "<h2>Efficient Memory/Disk Data Containers With Python</h2>"
      ],
      "text/plain": [
       "<IPython.core.display.HTML object>"
      ]
     },
     "metadata": {},
     "output_type": "display_data"
    },
    {
     "data": {
      "text/html": [
       "<p>Wednesday, July 22nd at 11:00 in </p>"
      ],
      "text/plain": [
       "<IPython.core.display.HTML object>"
      ]
     },
     "metadata": {},
     "output_type": "display_data"
    },
    {
     "data": {
      "text/html": [
       "<h3><i>Francesc Alted</i></h2>"
      ],
      "text/plain": [
       "<IPython.core.display.HTML object>"
      ]
     },
     "metadata": {},
     "output_type": "display_data"
    },
    {
     "data": {
      "text/html": [
       "<p><p>Many programming paradigms are reaching us nowadays bringing the promise of being faster by leveraging more cores and more machines (and more system administration headaches, but this is rarely stated).  Reality is that many times these paradigms do not take in account the increasing mismatch between memory speed and CPUs (see <a href=\"http://www.blosc.org/docs/StarvingCPUs-CISE-2010.pdf\">http://www.blosc.org/docs/StarvingCPUs-CISE-2010.pdf</a>), and this is becoming utterly critical so as to get maximum performance out of your data handling applications.</p>\n",
       "<p>During my tutorial, I will introduce different data containers for handling different kind of data and will propose experimenting with them while explaining why some adapts better to the task at hand.  I will start with a quick introduction for Python data containers (lists, dicts, arrays...), continuing with well-known in-memory NumPy and Pandas containers as well as on-disk HDF5/PyTables and ending with bcolz (<a href=\"https://github.com/Blosc/bcolz\">https://github.com/Blosc/bcolz</a>), a novel way to store and quickly retrieve data which uses chunking and compression techniques so as to leverage the memory hierarchy of modern computer architectures.</p>\n",
       "<p>People attending will need a working Python setup with IPython notebook, NumPy, pandas, PyTables and bcolz installed.  Anaconda or Enthought Canopy distributions are recommended, but any other means of installing (e.g. pip) will do.</p>\n",
       "</p>"
      ],
      "text/plain": [
       "<IPython.core.display.HTML object>"
      ]
     },
     "metadata": {},
     "output_type": "display_data"
    },
    {
     "data": {
      "text/html": [
       "<br/>"
      ],
      "text/plain": [
       "<IPython.core.display.HTML object>"
      ]
     },
     "metadata": {},
     "output_type": "display_data"
    },
    {
     "data": {
      "text/html": [
       "<h2>Explore physical computing with Python and Raspberry Pi</h2>"
      ],
      "text/plain": [
       "<IPython.core.display.HTML object>"
      ]
     },
     "metadata": {},
     "output_type": "display_data"
    },
    {
     "data": {
      "text/html": [
       "<p>Thursday, July 23rd at 14:30 in </p>"
      ],
      "text/plain": [
       "<IPython.core.display.HTML object>"
      ]
     },
     "metadata": {},
     "output_type": "display_data"
    },
    {
     "data": {
      "text/html": [
       "<h3><i>Ben Nuttall</i></h2>"
      ],
      "text/plain": [
       "<IPython.core.display.HTML object>"
      ]
     },
     "metadata": {},
     "output_type": "display_data"
    },
    {
     "data": {
      "text/html": [
       "<p><p>A workshop introducing participants to physical computing with Python and Raspberry Pi.</p>\n",
       "<p>Learn how to build applications with Python that interact with the physical world - using the Pi's GPIO (general purpose input &amp; output) pins and its camera module and their respective Python libraries.</p>\n",
       "<p>We'll start simple - flashing LEDs, using push buttons, basic use of the camera module, then introduce sensors such as infra-red motion detectors, temperature sensors and light sensors, then we'll build interactive applications (embedded apps, desktop apps and web apps) using the sensors and camera module for a variety of different purposes.</p>\n",
       "<p>Embedded or physical computing is not just for C programmers or hardcore Linux engineers - I'll show you how to get up and running with your first physical world application and show how easy it is to control GPIOs and the camera module from the language you know and love (and can read). This will prepare you for making your own hardware project idea a reality - build a security system, a robot or a home automation system.</p>\n",
       "<p>This workshop is well suited to beginners with a basic understanding of Python code, but is also suitable for those more experienced with Python but with little or no experience with physical computing.</p>\n",
       "</p>"
      ],
      "text/plain": [
       "<IPython.core.display.HTML object>"
      ]
     },
     "metadata": {},
     "output_type": "display_data"
    },
    {
     "data": {
      "text/html": [
       "<br/>"
      ],
      "text/plain": [
       "<IPython.core.display.HTML object>"
      ]
     },
     "metadata": {},
     "output_type": "display_data"
    },
    {
     "data": {
      "text/html": [
       "<h2>Faster Python Programs - Measure, don't Guess</h2>"
      ],
      "text/plain": [
       "<IPython.core.display.HTML object>"
      ]
     },
     "metadata": {},
     "output_type": "display_data"
    },
    {
     "data": {
      "text/html": [
       "<p>Friday, July 24th at 14:30 in </p>"
      ],
      "text/plain": [
       "<IPython.core.display.HTML object>"
      ]
     },
     "metadata": {},
     "output_type": "display_data"
    },
    {
     "data": {
      "text/html": [
       "<h3><i>Mike Müller</i></h2>"
      ],
      "text/plain": [
       "<IPython.core.display.HTML object>"
      ]
     },
     "metadata": {},
     "output_type": "display_data"
    },
    {
     "data": {
      "text/html": [
       "<p><p>Optimization can often help to make Python programs faster or use less memory.\n",
       "Developing a strategy, establishing solid measuring and visualization techniques\n",
       "as well as knowing about algorithmic basics and datastructures are the foundation\n",
       "for a successful optimization. The tutorial will cover these topics.\n",
       "Examples will give you a hands-on experience on how to approach efficiently.</p>\n",
       "<p><em>Audience</em>: Programmers with good basic Python knowledge. No previous\n",
       "knowledge in the field of optimization is required.</p>\n",
       "<p><em>Objectives</em>: This tutorial will help you to get the most out of your optimization work.\n",
       "You will learn useful techniques for details combined with an overall strategy\n",
       "for the big picture.</p>\n",
       "<p><em>Detailed Abstract</em>: Python is a great language. But it can be slow compared to other languages for certain types of tasks. If applied appropriately, optimization may reduce program runtime or memory consumption considerably. But this often comes at a price. Optimization can be time consuming and the optimized program may be more complicated. This, in turn, means more maintenance effort. How do you find out if it is worthwhile to optimize your program? Where should you start?\n",
       "This tutorial will help you to answer these questions. You will learn how to find  an optimization strategy based on quantitative and objective criteria.\n",
       "You will experience that one's gut feeling what to optimize is often wrong.</p>\n",
       "<p>The solution to this problem is: „Measure, Measure, and Measure!“. You will\n",
       "learn how to measure program run times as well as profile CPU and memory.\n",
       "There are great tools available. You will learn how to use some of them.\n",
       "Measuring is not easy because, by definition, as soon as you start to measure,\n",
       "you influence your system. Keeping this impact as small as possible is\n",
       "important. Therefore, we will cover different measuring techniques.</p>\n",
       "<p>Furthermore, we will look at algorithmic improvements. You will see that the\n",
       "right data structure for the job can make a big difference. Finally, you will\n",
       "learn about different caching techniques.</p>\n",
       "<p><em>More Info</em>: You will need Python 2.7 or 3.4 installed on your laptop. Python 2.6 or 3.3 should also work. Very detailed installation instructions will be given to all participants well before the course.</p>\n",
       "</p>"
      ],
      "text/plain": [
       "<IPython.core.display.HTML object>"
      ]
     },
     "metadata": {},
     "output_type": "display_data"
    },
    {
     "data": {
      "text/html": [
       "<br/>"
      ],
      "text/plain": [
       "<IPython.core.display.HTML object>"
      ]
     },
     "metadata": {},
     "output_type": "display_data"
    },
    {
     "data": {
      "text/html": [
       "<h2>Full Stack + DevOps using Pyramid, Buildout and Docker</h2>"
      ],
      "text/plain": [
       "<IPython.core.display.HTML object>"
      ]
     },
     "metadata": {},
     "output_type": "display_data"
    },
    {
     "data": {
      "text/html": [
       "<p>Wednesday, July 22nd at 14:30 in </p>"
      ],
      "text/plain": [
       "<IPython.core.display.HTML object>"
      ]
     },
     "metadata": {},
     "output_type": "display_data"
    },
    {
     "data": {
      "text/html": [
       "<h3><i>Alvaro Aguirre</i></h2>"
      ],
      "text/plain": [
       "<IPython.core.display.HTML object>"
      ]
     },
     "metadata": {},
     "output_type": "display_data"
    },
    {
     "data": {
      "text/html": [
       "<p><p>This training is about how to keep all your software stack under control using mainly Python technologies.</p>\n",
       "<p>We will run some full stack deployment examples using things like Pyramid, Buildout, Ansible and Docker.</p>\n",
       "<p>We will try to apply the Zen of Python into our DevOps infrastructure in order to make happy all stakeholders in your company/organization.</p>\n",
       "<p>The session is divided in two sections, the first one we will cover full stack development strategies, and we will discuss subjects like design patterns, code organization and web servers, among others. We will compare how other “de facto” or “enterprise” technologies in the industry are doing.</p>\n",
       "<p>In the second part we will see how to prepare your application and power your deployments using Docker containers (www.docker.com) and  Buildout (www.buildout.org).</p>\n",
       "<p>Each part of the training session is accompanied by runnable source code and documentation.</p>\n",
       "</p>"
      ],
      "text/plain": [
       "<IPython.core.display.HTML object>"
      ]
     },
     "metadata": {},
     "output_type": "display_data"
    },
    {
     "data": {
      "text/html": [
       "<br/>"
      ],
      "text/plain": [
       "<IPython.core.display.HTML object>"
      ]
     },
     "metadata": {},
     "output_type": "display_data"
    },
    {
     "data": {
      "text/html": [
       "<h2>Functional Programming with Transducers in Python</h2>"
      ],
      "text/plain": [
       "<IPython.core.display.HTML object>"
      ]
     },
     "metadata": {},
     "output_type": "display_data"
    },
    {
     "data": {
      "text/html": [
       "<p>Thursday, July 23rd at 14:30 in Room A4</p>"
      ],
      "text/plain": [
       "<IPython.core.display.HTML object>"
      ]
     },
     "metadata": {},
     "output_type": "display_data"
    },
    {
     "data": {
      "text/html": [
       "<h3><i>Austin Bingham</i></h2>"
      ],
      "text/plain": [
       "<IPython.core.display.HTML object>"
      ]
     },
     "metadata": {},
     "output_type": "display_data"
    },
    {
     "data": {
      "text/html": [
       "<p><p>Transducers – a portmanteau of ‘transform reducers’ – are a new functional programming concept, which were first introduced into the Clojure programming language.  Although transducers are actually pretty straightforward in retrospect, wrapping your brain around them can be challenging.</p>\n",
       "<p>Transducers allow us to fuse multiple data processing operations together so they can be applied in a single pass over a data series – similar to how Python generator functions allow us to process iterable series.  However, unlike generator functions they are completely decoupled from the data series abstraction and can be used on eager sequences, lazy iterables, coroutine-based push events and events such as those modelled by Reactive Extensions for Python (RxPy).</p>\n",
       "<p>In this workshop, we introduce transducers by implementing them from scratch in Python 3. We’ll start with the familiar staples of functional programming, map(), filter() and reduce(), and derive transducers from first principles. We’ll work towards a set of general tools which works with eager collections, lazy ‘pull’ sequences, and coroutine ‘push’ event streams and RxPy. Along the way we’ll cover stateful transducers and transducer composition, demonstrating that transducers are both more general, and more fundamental, than the functional programming tools baked into Python and many other languages.</p>\n",
       "<p>There are no prerequisites for this workshop as we stick to core Python 3 language features although an enthusiasm for a functional programming style will be sure to help attendees get the most out of this session.</p>\n",
       "</p>"
      ],
      "text/plain": [
       "<IPython.core.display.HTML object>"
      ]
     },
     "metadata": {},
     "output_type": "display_data"
    },
    {
     "data": {
      "text/html": [
       "<br/>"
      ],
      "text/plain": [
       "<IPython.core.display.HTML object>"
      ]
     },
     "metadata": {},
     "output_type": "display_data"
    },
    {
     "data": {
      "text/html": [
       "<h2>Intro to Web Development with Docker</h2>"
      ],
      "text/plain": [
       "<IPython.core.display.HTML object>"
      ]
     },
     "metadata": {},
     "output_type": "display_data"
    },
    {
     "data": {
      "text/html": [
       "<p>Monday, July 20th at 11:00 in </p>"
      ],
      "text/plain": [
       "<IPython.core.display.HTML object>"
      ]
     },
     "metadata": {},
     "output_type": "display_data"
    },
    {
     "data": {
      "text/html": [
       "<h3><i>Nick Lang</i></h2>"
      ],
      "text/plain": [
       "<IPython.core.display.HTML object>"
      ]
     },
     "metadata": {},
     "output_type": "display_data"
    },
    {
     "data": {
      "text/html": [
       "<p><p>Learn how to use docker-compose and docker to create a development environment that you can use to mimic your production environment.</p>\n",
       "<p>Learn how to:</p>\n",
       "<ul>\n",
       "<li>create a Dockerfile<ul>\n",
       "<li>What is a Docker File</li>\n",
       "<li>How to utilize Docker's caching to optimize docker build</li>\n",
       "<li>How to abstract common components to other docker images</li>\n",
       "</ul>\n",
       "</li>\n",
       "<li>use Docker-Hub<ul>\n",
       "<li>create auto builds</li>\n",
       "<li>use web-hooks</li>\n",
       "</ul>\n",
       "</li>\n",
       "<li>use docker-compose<ul>\n",
       "<li>When to use a prebuilt image vs building from scratch</li>\n",
       "</ul>\n",
       "</li>\n",
       "<li>deploy your container to a VM</li>\n",
       "</ul>\n",
       "<p>Class will be mostly informational. BUT you are encouraged to play along.</p>\n",
       "<p>Hardware requirements:</p>\n",
       "<ul>\n",
       "<li>Computer that can run VirtualBox. </li>\n",
       "</ul>\n",
       "<p>Software requirements:</p>\n",
       "<ul>\n",
       "<li>Docker CLI 1.6+</li>\n",
       "<li>Docker Machine (latest)</li>\n",
       "<li>Docker Compose 1.2+</li>\n",
       "</ul>\n",
       "<p>If you plan on playing along, please make sure that you have all these installed already.</p>\n",
       "</p>"
      ],
      "text/plain": [
       "<IPython.core.display.HTML object>"
      ]
     },
     "metadata": {},
     "output_type": "display_data"
    },
    {
     "data": {
      "text/html": [
       "<br/>"
      ],
      "text/plain": [
       "<IPython.core.display.HTML object>"
      ]
     },
     "metadata": {},
     "output_type": "display_data"
    },
    {
     "data": {
      "text/html": [
       "<h2>Introduction to Data Analysis</h2>"
      ],
      "text/plain": [
       "<IPython.core.display.HTML object>"
      ]
     },
     "metadata": {},
     "output_type": "display_data"
    },
    {
     "data": {
      "text/html": [
       "<p>Thursday, July 23rd at 11:00 in </p>"
      ],
      "text/plain": [
       "<IPython.core.display.HTML object>"
      ]
     },
     "metadata": {},
     "output_type": "display_data"
    },
    {
     "data": {
      "text/html": [
       "<h3><i>Katharine Jarmul</i></h2>"
      ],
      "text/plain": [
       "<IPython.core.display.HTML object>"
      ]
     },
     "metadata": {},
     "output_type": "display_data"
    },
    {
     "data": {
      "text/html": [
       "<p><p>Become a data wrangler with Python! This course will introduce you to the core concepts of data analysis with Python. We'll cover libraries that allow you to easily clean and set up your initial dataset, importing data from all different file types and standards. We'll introduce some basic libraries to help with statistics and analysis and then cover how to document and explore your findings.</p>\n",
       "<p>It's assumed you have a working understanding of Python and it's data types and structures, and that you've used and understand Python for basic scripting. It's also assumed you haven't done much in terms of data analysis, and you'd like to learn more. If this is you, welcome!</p>\n",
       "</p>"
      ],
      "text/plain": [
       "<IPython.core.display.HTML object>"
      ]
     },
     "metadata": {},
     "output_type": "display_data"
    },
    {
     "data": {
      "text/html": [
       "<br/>"
      ],
      "text/plain": [
       "<IPython.core.display.HTML object>"
      ]
     },
     "metadata": {},
     "output_type": "display_data"
    },
    {
     "data": {
      "text/html": [
       "<h2>Lego for Scrum</h2>"
      ],
      "text/plain": [
       "<IPython.core.display.HTML object>"
      ]
     },
     "metadata": {},
     "output_type": "display_data"
    },
    {
     "data": {
      "text/html": [
       "<p>Wednesday, July 22nd at 14:30 in </p>"
      ],
      "text/plain": [
       "<IPython.core.display.HTML object>"
      ]
     },
     "metadata": {},
     "output_type": "display_data"
    },
    {
     "data": {
      "text/html": [
       "<h3><i>Anna Kierczyńska</i></h2>"
      ],
      "text/plain": [
       "<IPython.core.display.HTML object>"
      ]
     },
     "metadata": {},
     "output_type": "display_data"
    },
    {
     "data": {
      "text/html": [
       "<p><p>Do you like playing lego? Do you want to know how Scrum works? Why not to combine having fun &amp; learning?</p>\n",
       "<p>During my workshops you will get familiar with Scrum ceremonies by building a Lego city. In your team you will have a Scrum Master who should help you with a demanding Product Owner who will be me.</p>\n",
       "<p>Can you manage my requirements? Can you finish the sprint? Can you build the city I'm dreaming about? Try yourself and get Scrum experience!</p>\n",
       "</p>"
      ],
      "text/plain": [
       "<IPython.core.display.HTML object>"
      ]
     },
     "metadata": {},
     "output_type": "display_data"
    },
    {
     "data": {
      "text/html": [
       "<br/>"
      ],
      "text/plain": [
       "<IPython.core.display.HTML object>"
      ]
     },
     "metadata": {},
     "output_type": "display_data"
    },
    {
     "data": {
      "text/html": [
       "<h2>Manos a la obra con OpenStack: La guía paso a paso para comenzar a contribuir a OpenStack</h2>"
      ],
      "text/plain": [
       "<IPython.core.display.HTML object>"
      ]
     },
     "metadata": {},
     "output_type": "display_data"
    },
    {
     "data": {
      "text/html": [
       "<p>Tuesday, July 21st at 14:30 in </p>"
      ],
      "text/plain": [
       "<IPython.core.display.HTML object>"
      ]
     },
     "metadata": {},
     "output_type": "display_data"
    },
    {
     "data": {
      "text/html": [
       "<h3><i>Victoria Martinez de la Cruz</i></h2>"
      ],
      "text/plain": [
       "<IPython.core.display.HTML object>"
      ]
     },
     "metadata": {},
     "output_type": "display_data"
    },
    {
     "data": {
      "text/html": [
       "<p><p><a href=\"https://www.openstack.org/\">OpenStack</a> es un conjunto de herramientas de software que permiten la construcción y mantenimiento de plataformas de <em>cloud computing</em> para nubes públicas y privadas. Permite a sus usuarios desplegar máquinas virtuales y otras instancias que manejan diferentes tareas para la administración de un entorno de <em>cloud computing</em> <em>on the fly</em>. Considerando la complejidad de la arquitectura del código que hace de esto una realidad, establecer el entorno de desarrollo y comenzar a contribuir puede ser una tarea agobiante.</p>\n",
       "<p>Pero empezar a ser un contribuyente no debería ser un proceso difícil si comienzas con el pie derecho. Hay algunos detalles que, si los pudieras conocer de antemano, harían que dar tus primeros pasos no sea una tarea tan complicada.</p>\n",
       "<p>En esta presentación daremos una explicación breve de cuáles son las herramientas usadas por la comunidad de OpenStack y cómo debes configurarlas para empezar a contribuir. Además cubriremos cómo el proceso de desarrollo funciona, incluyendo cómo encontrar y arreglar un <em>bug</em>, cómo hacer una nueva propuesta de desarrollo, cómo probar tus cambios antes de enviar un parche y cómo funciona el proceso de revisión.</p>\n",
       "<p>Haremos todo esto usando un <em>script</em> que automatiza el despliege del entorno de desarrollo llamado <a href=\"http://docs.openstack.org/developer/devstack/\">DevStack</a>. Mientras que el <em>script</em> es ejecutado y descarga/configura todas las dependencias, explicaremos cada uno de los pasos para empezar a contribuir. Finalmente, con el entorno de desarrollo listo, repasaremos las listas de bugs y empezaremos a analizar el código.</p>\n",
       "<p>Para el final del taller, tendrás todos las herramientas y conocimientos necesarios para poder comenzar a contribuir a un proyecto de OpenStack.</p>\n",
       "<p>Requerimientos mínimos: Procesador de 1 gigahertz (GHz) o más 32-bit (x86) o 64-bit (x64), 4GB RAM, 10GB HD\n",
       "Requerimientos recomendados: Procesador de 1 gigahertz (GHz) o más 32-bit (x86) o 64-bit (x64), 8GB RAM, 20GB HD</p>\n",
       "<p>También aconsejamos que los participantes tengan una herramienta de virtualización preinstalada y, si es posible, que inicien una instancia con Ubuntu 14.04 LTS.</p>\n",
       "</p>"
      ],
      "text/plain": [
       "<IPython.core.display.HTML object>"
      ]
     },
     "metadata": {},
     "output_type": "display_data"
    },
    {
     "data": {
      "text/html": [
       "<br/>"
      ],
      "text/plain": [
       "<IPython.core.display.HTML object>"
      ]
     },
     "metadata": {},
     "output_type": "display_data"
    },
    {
     "data": {
      "text/html": [
       "<h2>Mastering asyncio applications</h2>"
      ],
      "text/plain": [
       "<IPython.core.display.HTML object>"
      ]
     },
     "metadata": {},
     "output_type": "display_data"
    },
    {
     "data": {
      "text/html": [
       "<p>Tuesday, July 21st at 14:30 in </p>"
      ],
      "text/plain": [
       "<IPython.core.display.HTML object>"
      ]
     },
     "metadata": {},
     "output_type": "display_data"
    },
    {
     "data": {
      "text/html": [
       "<h3><i>Andrew Svetlov</i></h2>"
      ],
      "text/plain": [
       "<IPython.core.display.HTML object>"
      ]
     },
     "metadata": {},
     "output_type": "display_data"
    },
    {
     "data": {
      "text/html": [
       "<p><p><a href=\"http://docs.python.org/3/library/asyncio.html\">asyncio</a> is relative new library for asynchronous network programming.</p>\n",
       "<p>On training session newcomers will learn how to:</p>\n",
       "<ul>\n",
       "<li>develop asyncio-based WEB applications with help of aiohttp library and siblings</li>\n",
       "<li>write tests for asynchronous code</li>\n",
       "<li>make tiny but revealing asyncio library which shows all design concepts required for making good product for asyncio code</li>\n",
       "</ul>\n",
       "<p>A lot of tips and tricks will be explained. Development for asyncio is really easy (much easier than <a href=\"http://www.tornadoweb.org/\">Tornado</a> and <a href=\"http://twistedmatrix.com\">Twisted</a> coding) but requires to change you mind a bit.</p>\n",
       "</p>"
      ],
      "text/plain": [
       "<IPython.core.display.HTML object>"
      ]
     },
     "metadata": {},
     "output_type": "display_data"
    },
    {
     "data": {
      "text/html": [
       "<br/>"
      ],
      "text/plain": [
       "<IPython.core.display.HTML object>"
      ]
     },
     "metadata": {},
     "output_type": "display_data"
    },
    {
     "data": {
      "text/html": [
       "<h2>Modern optimization methods in Python</h2>"
      ],
      "text/plain": [
       "<IPython.core.display.HTML object>"
      ]
     },
     "metadata": {},
     "output_type": "display_data"
    },
    {
     "data": {
      "text/html": [
       "<p>Monday, July 20th at 11:00 in </p>"
      ],
      "text/plain": [
       "<IPython.core.display.HTML object>"
      ]
     },
     "metadata": {},
     "output_type": "display_data"
    },
    {
     "data": {
      "text/html": [
       "<h3><i>Michael McKerns</i></h2>"
      ],
      "text/plain": [
       "<IPython.core.display.HTML object>"
      ]
     },
     "metadata": {},
     "output_type": "display_data"
    },
    {
     "data": {
      "text/html": [
       "<p><p>Highly-constrained, large-dimensional, and non-linear optimizations are found at the root of most of today’s forefront problems in statistics, quantitative finance, risk, operations research, materials design, and other predictive sciences. Tools for optimization, however, have not changed much in the past 40 years -- until very recently. The abundance of parallel computing resources has stimulated a shift away from using reduced models to solve statistical and predictive problems, and toward more direct methods for solving high-dimensional nonlinear optimization problems.</p>\n",
       "<p>This tutorial will introduce modern tools for solving optimization problems -- beginning with traditional methods, and extending to solving high-dimensional non-convex optimization problems with highly nonlinear constraints. We will start by introducing the cost function, and it’s use in local and global optimization. We will then address how to monitor and diagnose your optimization convergence and results, tune your optimizer, and utilize compound termination conditions. This tutorial will discuss building and applying box constraints, penalty functions, and symbolic constraints. We will then demonstrate methods to efficiently reduce search space through the use of robust optimization constraints.  Real-world inverse problems can be expensive, thus we will show how to enable your optimization to seamlessly leverage parallel computing. Large-scale optimizations also can greatly benefit from efficient solver restarts and the saving of state. This tutorial will cover using asynchronous computing for results caching and archiving, dynamic real-time optimization, and dimensional reduction. Next we will discuss new optimization methods that leverage parallel computing to perform blazingly-fast global optimizations and n-dimensional global searches. Finally, we will close with applications of global optimization in statistics and quantitative finance.</p>\n",
       "<p>The audience need not be an expert in optimization, but should have interest in solving hard real-world optimization problems.  We will introduce the <a href=\"https://github.com/uqfoundation\"><em>mystic</em></a> optimization framework -- then begin with a walk through some introductory optimizations, learning how to build confidence in understanding your results. By the end of the tutorial, participants will have working knowledge of how to use modern constrained optimization tools, how to enable their solvers to leverage high-performance parallel computing, and how to utilize legacy data and surrogate models in statistical and predictive risk modeling.</p>\n",
       "<p><em>PREREQUISITES</em>: This tutorial will assume attendees have basic knowledge of <em>python</em> and <em>numpy</em>, and is intended for scientific developers who are interested in utilizing optimization to solve real-world problems in statistics, quantitative finance, and predictive sciences. The tutorial will require <em>python</em>, <em>numpy</em>, and <em>mystic</em> to be installed, and optionally installs of <em>matplotlib</em>, <em>scipy</em>, <em>pathos</em>, and <em>klepto</em>. All packages can be installed under <em>Anaconda</em> or <em>Canopy</em>, or with <em>setuptools</em> or <em>pip</em>.</p>\n",
       "</p>"
      ],
      "text/plain": [
       "<IPython.core.display.HTML object>"
      ]
     },
     "metadata": {},
     "output_type": "display_data"
    },
    {
     "data": {
      "text/html": [
       "<br/>"
      ],
      "text/plain": [
       "<IPython.core.display.HTML object>"
      ]
     },
     "metadata": {},
     "output_type": "display_data"
    },
    {
     "data": {
      "text/html": [
       "<h2>Numpy arrays: the weapons of a data scientist</h2>"
      ],
      "text/plain": [
       "<IPython.core.display.HTML object>"
      ]
     },
     "metadata": {},
     "output_type": "display_data"
    },
    {
     "data": {
      "text/html": [
       "<p>Tuesday, July 21st at 11:00 in </p>"
      ],
      "text/plain": [
       "<IPython.core.display.HTML object>"
      ]
     },
     "metadata": {},
     "output_type": "display_data"
    },
    {
     "data": {
      "text/html": [
       "<h3><i>Valerio Maggio</i></h2>"
      ],
      "text/plain": [
       "<IPython.core.display.HTML object>"
      ]
     },
     "metadata": {},
     "output_type": "display_data"
    },
    {
     "data": {
      "text/html": [
       "<p><p>It is very hard to be a scientist without knowing how to write code, \n",
       "and nowadays <strong>Python</strong> is probably the programming language of \n",
       "choice in many research fields.\n",
       "This is mainly because the Python ecosystem includes a lot of tools and libraries \n",
       "for many research tasks:  <code>pandas</code> for <em>data analysis</em> , \n",
       "<code>networkx</code> for <em>social network analysis</em>,  <code>nltk</code> for <em>natural language processing</em>,\n",
       "<code>scikit-learn</code> for <em>machine learning</em>, and so on.</p>\n",
       "<p>Most of these libraries relies (or are built on top of) <code>numpy</code>.\n",
       "Therefore, <code>numpy</code> is a crucial component of the common Python\n",
       "stack used for numerical analysis and data science.</p>\n",
       "<p>On the one hand, NumPy code tends to be much cleaner (and faster) than \n",
       "\"straight\" Python code that tries to accomplish the same task. \n",
       "Moreover, the underlying algorithms have \n",
       "been designed with high performance in mind.</p>\n",
       "<p>This training will be organised in two parts: the first part is \n",
       "intended to provide most of the essential concepts \n",
       "needed to become confident with NumPy data structures and functions.</p>\n",
       "<p>In the second part, some examples of data analysis libraries and code\n",
       "will be presented, where NumPy takes a central role.</p>\n",
       "<p>Here is a list of software used to develop and test the code examples presented\n",
       "during the training:</p>\n",
       "<ul>\n",
       "<li>Python 3.x (2.x would work as well)</li>\n",
       "<li>iPython 2.3+ (with <strong>notebook support</strong>): <code>pip install ipython[notebook]</code></li>\n",
       "<li>numpy 1.9+</li>\n",
       "<li>scipy 0.14+</li>\n",
       "<li>scikit-learn 0.15+</li>\n",
       "<li>pandas 0.8+</li>\n",
       "</ul>\n",
       "<p>The training is meant to be mostly introductory, thus it is perfectly suited\n",
       "for <strong>beginners</strong>. However, a good proficiency in Python programming is (at least)\n",
       "required.</p>\n",
       "</p>"
      ],
      "text/plain": [
       "<IPython.core.display.HTML object>"
      ]
     },
     "metadata": {},
     "output_type": "display_data"
    },
    {
     "data": {
      "text/html": [
       "<br/>"
      ],
      "text/plain": [
       "<IPython.core.display.HTML object>"
      ]
     },
     "metadata": {},
     "output_type": "display_data"
    },
    {
     "data": {
      "text/html": [
       "<h2>Python decorators in detail</h2>"
      ],
      "text/plain": [
       "<IPython.core.display.HTML object>"
      ]
     },
     "metadata": {},
     "output_type": "display_data"
    },
    {
     "data": {
      "text/html": [
       "<p>Friday, July 24th at 11:00 in </p>"
      ],
      "text/plain": [
       "<IPython.core.display.HTML object>"
      ]
     },
     "metadata": {},
     "output_type": "display_data"
    },
    {
     "data": {
      "text/html": [
       "<h3><i>Pablo Enfedaque</i></h2>"
      ],
      "text/plain": [
       "<IPython.core.display.HTML object>"
      ]
     },
     "metadata": {},
     "output_type": "display_data"
    },
    {
     "data": {
      "text/html": [
       "<p><p>Do you know what happens every time you use the <strong>@</strong> symbol in Python? Do you know how to implement a decorator to be customisable at <em>decoration time</em> or to internally store a state?</p>\n",
       "<p>After attending this training you will be able to answer <em>yes</em> to all the previous questions!</p>\n",
       "<p>The content of the session can be split in 3 main blocks:</p>\n",
       "<ul>\n",
       "<li>1/ Some Python basic concepts<ul>\n",
       "<li>Scopes</li>\n",
       "<li>Namespaces</li>\n",
       "<li>Closures</li>\n",
       "</ul>\n",
       "</li>\n",
       "<li>2/ Implement and understand a basic decorator</li>\n",
       "<li>3/ Advanced decorators<ul>\n",
       "<li>Generators of decorators</li>\n",
       "<li>Classes as decorators</li>\n",
       "<li>Decoration of classes</li>\n",
       "</ul>\n",
       "</li>\n",
       "</ul>\n",
       "<p>Requirements:</p>\n",
       "<ul>\n",
       "<li><strong>Intermediate Python level</strong>. Attendees must have previous knowledge of Python and should be somehow familiar with the notation @ to decorate a function or class.</li>\n",
       "<li>Bring <strong>your own laptop</strong> with Python installed and ready to solve some coding exercises.</li>\n",
       "</ul>\n",
       "<p>PS: I also submitted a talk proposal which partially covers the first part of the training: <a href=\"https://ep2015.europython.eu/conference/talks/decorators-demystified\">https://ep2015.europython.eu/conference/talks/decorators-demystified</a></p>\n",
       "</p>"
      ],
      "text/plain": [
       "<IPython.core.display.HTML object>"
      ]
     },
     "metadata": {},
     "output_type": "display_data"
    },
    {
     "data": {
      "text/html": [
       "<br/>"
      ],
      "text/plain": [
       "<IPython.core.display.HTML object>"
      ]
     },
     "metadata": {},
     "output_type": "display_data"
    },
    {
     "data": {
      "text/html": [
       "<h2>Python para Iniciantes (ESPAÑOL)</h2>"
      ],
      "text/plain": [
       "<IPython.core.display.HTML object>"
      ]
     },
     "metadata": {},
     "output_type": "display_data"
    },
    {
     "data": {
      "text/html": [
       "<p>Tuesday, July 21st at 11:00 in </p>"
      ],
      "text/plain": [
       "<IPython.core.display.HTML object>"
      ]
     },
     "metadata": {},
     "output_type": "display_data"
    },
    {
     "data": {
      "text/html": [
       "<h3><i>Fernando Masanori Ashikaga</i></h2>"
      ],
      "text/plain": [
       "<IPython.core.display.HTML object>"
      ]
     },
     "metadata": {},
     "output_type": "display_data"
    },
    {
     "data": {
      "text/html": [
       "<p><p>Tutorial interactivo, en <em>español</em>, y muy divertido para la gente, con los conceptos básicos de programación en alguna otra lenguaje, y que no saben nada de Python. Vamos a hackear fotos de amigos de Facebook y también hackear módulos básicos y clases para obtener la \"respuesta a la última pregunta de la vida, el universo, y todo\". Este tutorial asume que usted tiene algunos pocos conceptos básicos (entrada de dados, salida de dados, operadores booleanos, control de flujo, funciones, repeticiones). Vamos a cubrir, en Python 3.x: 1. El modo interactivo de Python 2. Variaciones en el juego de adivinar un número aleatório 3. Hackear módulos básicos y clases para obtener la \"respuesta a la última pregunta de la vida, el universo, y todo\". 4. Hacking de las fotos de los amigos de Facebook sin OAuth 5. Chuck Norris Nerd chistes y partidos de la Copa Mundial en seis líneas de código. 6. Prueba  selectiva del Hackaton Facebook en una línea de código. Nota importante: No soy un gurú de Python, sólo un maestro apasionado!</p>\n",
       "</p>"
      ],
      "text/plain": [
       "<IPython.core.display.HTML object>"
      ]
     },
     "metadata": {},
     "output_type": "display_data"
    },
    {
     "data": {
      "text/html": [
       "<br/>"
      ],
      "text/plain": [
       "<IPython.core.display.HTML object>"
      ]
     },
     "metadata": {},
     "output_type": "display_data"
    },
    {
     "data": {
      "text/html": [
       "<h2>SRE Classroom</h2>"
      ],
      "text/plain": [
       "<IPython.core.display.HTML object>"
      ]
     },
     "metadata": {},
     "output_type": "display_data"
    },
    {
     "data": {
      "text/html": [
       "<p>Tuesday, July 21st at 14:00 in Room B Terrace</p>"
      ],
      "text/plain": [
       "<IPython.core.display.HTML object>"
      ]
     },
     "metadata": {},
     "output_type": "display_data"
    },
    {
     "data": {
      "text/html": [
       "<h3><i>Sidnei da Silva</i></h2>"
      ],
      "text/plain": [
       "<IPython.core.display.HTML object>"
      ]
     },
     "metadata": {},
     "output_type": "display_data"
    },
    {
     "data": {
      "text/html": [
       "<p><p>Workshop time: 2:00pm - 7:00pm</p>\n",
       "<p>This is a half-day version of the SRE Classroom event that has been run successfully at Google offices and conferences around the world. We expect this event to appeal to senior and experienced engineers.</p>\n",
       "<p>The workshop problem will be a real-world large-scale engineering problem that requires some distributed-systems knowhow to tackle. Attendees will work in groups with Googlers on the problem, trying to come up with:</p>\n",
       "<ul>\n",
       "<li>A high-level design that scales horizontally</li>\n",
       "<li>Initial SLIs, SLOs</li>\n",
       "<li>Estimates for hardware required to run each component</li>\n",
       "<li>If time permits, monitoring design and disaster testing scenarios</li>\n",
       "</ul>\n",
       "<p>Attendees will be provided with a workbook that guides them through tackling a problem like this, with some worked examples, so junior attendees should be able to make progress and learn too.</p>\n",
       "<p>Sign-up here (seats are limited.)</p>\n",
       "</p>"
      ],
      "text/plain": [
       "<IPython.core.display.HTML object>"
      ]
     },
     "metadata": {},
     "output_type": "display_data"
    },
    {
     "data": {
      "text/html": [
       "<br/>"
      ],
      "text/plain": [
       "<IPython.core.display.HTML object>"
      ]
     },
     "metadata": {},
     "output_type": "display_data"
    },
    {
     "data": {
      "text/html": [
       "<h2>Scrapy Workshop</h2>"
      ],
      "text/plain": [
       "<IPython.core.display.HTML object>"
      ]
     },
     "metadata": {},
     "output_type": "display_data"
    },
    {
     "data": {
      "text/html": [
       "<p>Friday, July 24th at 14:30 in </p>"
      ],
      "text/plain": [
       "<IPython.core.display.HTML object>"
      ]
     },
     "metadata": {},
     "output_type": "display_data"
    },
    {
     "data": {
      "text/html": [
       "<h3><i>Juan Riaza</i></h2>"
      ],
      "text/plain": [
       "<IPython.core.display.HTML object>"
      ]
     },
     "metadata": {},
     "output_type": "display_data"
    },
    {
     "data": {
      "text/html": [
       "<p><p>If you want to get data from the web, and there are no APIs available, then you need to use web scraping! Scrapy is the most effective and popular choice for web scraping and is used in many areas such as data science, journalism, business intelligence, web development, etc.</p>\n",
       "<p>This workshop will provide an overview of Scrapy, starting from the fundamentals and working through each new topic with hands-on examples.</p>\n",
       "<p>Participants will come away with a good understanding of Scrapy, the principles behind its design, and how to apply the best practices encouraged by Scrapy to any scraping task.</p>\n",
       "<p>Goals:</p>\n",
       "<ul>\n",
       "<li>Set up a python environment.</li>\n",
       "<li>Learn basic concepts of the Scrapy framework.</li>\n",
       "</ul>\n",
       "</p>"
      ],
      "text/plain": [
       "<IPython.core.display.HTML object>"
      ]
     },
     "metadata": {},
     "output_type": "display_data"
    },
    {
     "data": {
      "text/html": [
       "<br/>"
      ],
      "text/plain": [
       "<IPython.core.display.HTML object>"
      ]
     },
     "metadata": {},
     "output_type": "display_data"
    },
    {
     "data": {
      "text/html": [
       "<h2>TDD for web development, from scratch</h2>"
      ],
      "text/plain": [
       "<IPython.core.display.HTML object>"
      ]
     },
     "metadata": {},
     "output_type": "display_data"
    },
    {
     "data": {
      "text/html": [
       "<p>Friday, July 24th at 11:00 in </p>"
      ],
      "text/plain": [
       "<IPython.core.display.HTML object>"
      ]
     },
     "metadata": {},
     "output_type": "display_data"
    },
    {
     "data": {
      "text/html": [
       "<h3><i>Harry Percival</i></h2>"
      ],
      "text/plain": [
       "<IPython.core.display.HTML object>"
      ]
     },
     "metadata": {},
     "output_type": "display_data"
    },
    {
     "data": {
      "text/html": [
       "<p><p>The aim is to cover the basics of setting up a simple Django site, but using full, rigorous TDD at every step along the way.</p>\n",
       "<p>The tutorial is based on the first few chapters of my book, which is available (for free!) online for you to follow up with after the session, so that you can embed what you've learned. <a href=\"http://www.obeythetestinggoat.com\">www.obeythetestinggoat.com</a></p>\n",
       "<p>We'll learn:</p>\n",
       "<ul>\n",
       "<li>how to set up functional tests with Selenium</li>\n",
       "<li>how to set up Django</li>\n",
       "<li>how to run Django unit tests</li>\n",
       "<li>how TDD actually works in practice: the unit test / code cycle where we re-run the tests after each tiny, incremental change to the code</li>\n",
       "<li>all the basics of Django like views, models and templates.</li>\n",
       "</ul>\n",
       "<p>We'll talk about what to test, what not to test, what the point of all this testing is anyway, you'll get a real hands-on feeling for how it works, and I promise to make it all at least moderately entertaining!</p>\n",
       "<p>And it's all in Python 3 :)</p>\n",
       "<p><strong>Please come prepared!</strong>  you'll need:</p>\n",
       "<ul>\n",
       "<li>Python 3.4</li>\n",
       "<li>Firefox</li>\n",
       "<li>Django 1.8</li>\n",
       "<li>Selenium</li>\n",
       "</ul>\n",
       "<p>You'll find full instructions <a href=\"http://chimera.labs.oreilly.com/books/1234000000754/pr02.html\">here</a> -- do email me if you have any problems, I'm happy to help. obeythetestinggoat@gmail.com</p>\n",
       "</p>"
      ],
      "text/plain": [
       "<IPython.core.display.HTML object>"
      ]
     },
     "metadata": {},
     "output_type": "display_data"
    },
    {
     "data": {
      "text/html": [
       "<br/>"
      ],
      "text/plain": [
       "<IPython.core.display.HTML object>"
      ]
     },
     "metadata": {},
     "output_type": "display_data"
    },
    {
     "data": {
      "text/html": [
       "<h2>pytest - simple, rapid and fun testing with Python</h2>"
      ],
      "text/plain": [
       "<IPython.core.display.HTML object>"
      ]
     },
     "metadata": {},
     "output_type": "display_data"
    },
    {
     "data": {
      "text/html": [
       "<p>Monday, July 20th at 14:30 in </p>"
      ],
      "text/plain": [
       "<IPython.core.display.HTML object>"
      ]
     },
     "metadata": {},
     "output_type": "display_data"
    },
    {
     "data": {
      "text/html": [
       "<h3><i>Florian Bruhin</i></h2>"
      ],
      "text/plain": [
       "<IPython.core.display.HTML object>"
      ]
     },
     "metadata": {},
     "output_type": "display_data"
    },
    {
     "data": {
      "text/html": [
       "<p><p>The py.test tool presents a rapid and simple way to write tests for your Python code.  This training gives a quick introduction with exercises into some distinguishing features. We'll do exercises where we get existing non-pytest test suites to run with pytest and discuss migration strategies.  We'll finish with discussing topics and questions of participants related to their own test suites and usages.</p>\n",
       "<p>This is the planned outline:</p>\n",
       "<ul>\n",
       "<li><p>(30 minutes) pytest feature walkthrough: automatic test discovery, assert\n",
       "statement, modular parametrizable fixtures, 150 plugins</p>\n",
       "</li>\n",
       "<li><p>(60 minutes) pytest fixture mechanism: dependency injection, declaring\n",
       "and using function/module/session scoped fixtures, using fixtures\n",
       "from fixture functions, parametrizing fixtures.  Exercises.</p>\n",
       "</li>\n",
       "<li><p>(30 minutes): running nose/unittest/trial/Django suites with pytest.\n",
       "Discussing advantages and limitations.  Exercise with a select\n",
       "existing real-life open source project.</p>\n",
       "</li>\n",
       "<li><p>(30 minutes): Strategies for a) migrating to pytest  b) using\n",
       "\"autouse\" fixtures in conjunction with XUnit-based\n",
       "setup/tearodwn methods.  Exercise.</p>\n",
       "</li>\n",
       "<li><p>(30 minutes): open space for questions and interactively solving\n",
       "pytest/unittest integration problems on real-life problems\n",
       "as time permits.</p>\n",
       "</li>\n",
       "</ul>\n",
       "</p>"
      ],
      "text/plain": [
       "<IPython.core.display.HTML object>"
      ]
     },
     "metadata": {},
     "output_type": "display_data"
    },
    {
     "data": {
      "text/html": [
       "<br/>"
      ],
      "text/plain": [
       "<IPython.core.display.HTML object>"
      ]
     },
     "metadata": {},
     "output_type": "display_data"
    },
    {
     "data": {
      "text/html": [
       "<h1>Help desks</h1>"
      ],
      "text/plain": [
       "<IPython.core.display.HTML object>"
      ]
     },
     "metadata": {},
     "output_type": "display_data"
    },
    {
     "data": {
      "text/html": [
       "<h2>Ansible helpdesk</h2>"
      ],
      "text/plain": [
       "<IPython.core.display.HTML object>"
      ]
     },
     "metadata": {},
     "output_type": "display_data"
    },
    {
     "data": {
      "text/html": [
       "<p>Thursday, July 23rd at 10:00 in </p>"
      ],
      "text/plain": [
       "<IPython.core.display.HTML object>"
      ]
     },
     "metadata": {},
     "output_type": "display_data"
    },
    {
     "data": {
      "text/html": [
       "<h3><i>Michael Scherer</i></h2>"
      ],
      "text/plain": [
       "<IPython.core.display.HTML object>"
      ]
     },
     "metadata": {},
     "output_type": "display_data"
    },
    {
     "data": {
      "text/html": [
       "<p><p>For this helpdesk session, I will be here to help people on ansible, be it for beginner usage or more advanced use cases ( or even bug reporting/fixing ).</p>\n",
       "<p>Prerequisite are simply to have a computer ( if needed by the question ) and familliarity with command line on a unix system ( but the more, the better ).</p>\n",
       "</p>"
      ],
      "text/plain": [
       "<IPython.core.display.HTML object>"
      ]
     },
     "metadata": {},
     "output_type": "display_data"
    },
    {
     "data": {
      "text/html": [
       "<br/>"
      ],
      "text/plain": [
       "<IPython.core.display.HTML object>"
      ]
     },
     "metadata": {},
     "output_type": "display_data"
    },
    {
     "data": {
      "text/html": [
       "<h2>Plone help desk</h2>"
      ],
      "text/plain": [
       "<IPython.core.display.HTML object>"
      ]
     },
     "metadata": {},
     "output_type": "display_data"
    },
    {
     "data": {
      "text/html": [
       "<p>Tuesday, July 21st at 10:00 in </p>"
      ],
      "text/plain": [
       "<IPython.core.display.HTML object>"
      ]
     },
     "metadata": {},
     "output_type": "display_data"
    },
    {
     "data": {
      "text/html": [
       "<h3><i>Paul Roeland</i></h2>"
      ],
      "text/plain": [
       "<IPython.core.display.HTML object>"
      ]
     },
     "metadata": {},
     "output_type": "display_data"
    },
    {
     "data": {
      "text/html": [
       "<p><p>Plone help desk</p>\n",
       "</p>"
      ],
      "text/plain": [
       "<IPython.core.display.HTML object>"
      ]
     },
     "metadata": {},
     "output_type": "display_data"
    },
    {
     "data": {
      "text/html": [
       "<br/>"
      ],
      "text/plain": [
       "<IPython.core.display.HTML object>"
      ]
     },
     "metadata": {},
     "output_type": "display_data"
    },
    {
     "data": {
      "text/html": [
       "<h2>Scrapy Helpdesk</h2>"
      ],
      "text/plain": [
       "<IPython.core.display.HTML object>"
      ]
     },
     "metadata": {},
     "output_type": "display_data"
    },
    {
     "data": {
      "text/html": [
       "<p>Tuesday, July 21st at 10:00 in </p>"
      ],
      "text/plain": [
       "<IPython.core.display.HTML object>"
      ]
     },
     "metadata": {},
     "output_type": "display_data"
    },
    {
     "data": {
      "text/html": [
       "<h3><i>Juan Riaza</i></h2>"
      ],
      "text/plain": [
       "<IPython.core.display.HTML object>"
      ]
     },
     "metadata": {},
     "output_type": "display_data"
    },
    {
     "data": {
      "text/html": [
       "<p><p>Scrapy is an open source and collaborative framework for extracting the data you need from websites. In a fast, simple, yet extensible way.</p>\n",
       "<p>This helpdesk is run by members of Scrapinghub, where Scrapy was built and designed.</p>\n",
       "</p>"
      ],
      "text/plain": [
       "<IPython.core.display.HTML object>"
      ]
     },
     "metadata": {},
     "output_type": "display_data"
    },
    {
     "data": {
      "text/html": [
       "<br/>"
      ],
      "text/plain": [
       "<IPython.core.display.HTML object>"
      ]
     },
     "metadata": {},
     "output_type": "display_data"
    },
    {
     "data": {
      "text/html": [
       "<h2>The doc(tor)s are in! (Documentation Helpdesk)</h2>"
      ],
      "text/plain": [
       "<IPython.core.display.HTML object>"
      ]
     },
     "metadata": {},
     "output_type": "display_data"
    },
    {
     "data": {
      "text/html": [
       "<p>Wednesday, July 22nd at 10:00 in </p>"
      ],
      "text/plain": [
       "<IPython.core.display.HTML object>"
      ]
     },
     "metadata": {},
     "output_type": "display_data"
    },
    {
     "data": {
      "text/html": [
       "<h3><i>Mikey Ariel</i></h2>"
      ],
      "text/plain": [
       "<IPython.core.display.HTML object>"
      ]
     },
     "metadata": {},
     "output_type": "display_data"
    },
    {
     "data": {
      "text/html": [
       "<p><p>Bring us your broken README files, your cryptic API references, and your disheveled Wiki projects! Or, just come and chat with us about life, the universe, and everything docs.</p>\n",
       "<p>Our doc(tor)s are happy to assist with all things docs: from proofreading and restructuring content, optimizing contribution workflows, to automating API docs and L10N, implementing scalable and testable markup languages, and more!</p>\n",
       "<p>The clinic will be staffed by:</p>\n",
       "<ul>\n",
       "<li><p><a href=\"https://twitter.com/thatdocslady\">Mikey Ariel</a> , senior technical writer at Red Hat, community lead at Write the Docs EU, documentation evangelist, agile coach, has coffee - will travel.</p>\n",
       "</li>\n",
       "<li><p><a href=\"https://twitter.com/icejam_\">Maciej Szlosarczyk</a>, senior technical writer at Symantec, Linux user in rehab, experiments with Django, Swagger, and Ember.js, can talk craft beer for hours.</p>\n",
       "</li>\n",
       "<li><p><a href=\"https://twitter.com/polyester\">Paul Roeland</a> , open source and non-profit activist, fluent in Plone and conversational in Sphinx and Robot-screenshots, mixes a mean Martini.</p>\n",
       "</li>\n",
       "</ul>\n",
       "</p>"
      ],
      "text/plain": [
       "<IPython.core.display.HTML object>"
      ]
     },
     "metadata": {},
     "output_type": "display_data"
    },
    {
     "data": {
      "text/html": [
       "<br/>"
      ],
      "text/plain": [
       "<IPython.core.display.HTML object>"
      ]
     },
     "metadata": {},
     "output_type": "display_data"
    },
    {
     "data": {
      "text/html": [
       "<h1>EuroPython sessions</h1>"
      ],
      "text/plain": [
       "<IPython.core.display.HTML object>"
      ]
     },
     "metadata": {},
     "output_type": "display_data"
    },
    {
     "data": {
      "text/html": [
       "<h2>EPS General Assembly</h2>"
      ],
      "text/plain": [
       "<IPython.core.display.HTML object>"
      ]
     },
     "metadata": {},
     "output_type": "display_data"
    },
    {
     "data": {
      "text/html": [
       "<p>Wednesday, July 22nd at 15:15 in Barria1 Room</p>"
      ],
      "text/plain": [
       "<IPython.core.display.HTML object>"
      ]
     },
     "metadata": {},
     "output_type": "display_data"
    },
    {
     "data": {
      "text/html": [
       "<h3><i>Fabio Pliger, Marc-Andre Lemburg</i></h2>"
      ],
      "text/plain": [
       "<IPython.core.display.HTML object>"
      ]
     },
     "metadata": {},
     "output_type": "display_data"
    },
    {
     "data": {
      "text/html": [
       "<p><p>The EuroPython General Assembly.</p>\n",
       "<p>This is where we give our reports and the EPS members can vote in a new EPS board.</p>\n",
       "</p>"
      ],
      "text/plain": [
       "<IPython.core.display.HTML object>"
      ]
     },
     "metadata": {},
     "output_type": "display_data"
    },
    {
     "data": {
      "text/html": [
       "<br/>"
      ],
      "text/plain": [
       "<IPython.core.display.HTML object>"
      ]
     },
     "metadata": {},
     "output_type": "display_data"
    },
    {
     "data": {
      "text/html": [
       "<h2>EuroPython 2016: Help us build the next edition!</h2>"
      ],
      "text/plain": [
       "<IPython.core.display.HTML object>"
      ]
     },
     "metadata": {},
     "output_type": "display_data"
    },
    {
     "data": {
      "text/html": [
       "<p>Wednesday, July 22nd at 14:30 in Barria1 Room</p>"
      ],
      "text/plain": [
       "<IPython.core.display.HTML object>"
      ]
     },
     "metadata": {},
     "output_type": "display_data"
    },
    {
     "data": {
      "text/html": [
       "<h3><i>Fabio Pliger, Marc-Andre Lemburg</i></h2>"
      ],
      "text/plain": [
       "<IPython.core.display.HTML object>"
      ]
     },
     "metadata": {},
     "output_type": "display_data"
    },
    {
     "data": {
      "text/html": [
       "<p><p>We need help with organizing and running EuroPython 2016.</p>\n",
       "<p>In this session, we will explain how the EuroPython workgroup model works and where you could help.</p>\n",
       "</p>"
      ],
      "text/plain": [
       "<IPython.core.display.HTML object>"
      ]
     },
     "metadata": {},
     "output_type": "display_data"
    },
    {
     "data": {
      "text/html": [
       "<br/>"
      ],
      "text/plain": [
       "<IPython.core.display.HTML object>"
      ]
     },
     "metadata": {},
     "output_type": "display_data"
    },
    {
     "data": {
      "text/html": [
       "<h1>Other sessions</h1>"
      ],
      "text/plain": [
       "<IPython.core.display.HTML object>"
      ]
     },
     "metadata": {},
     "output_type": "display_data"
    },
    {
     "data": {
      "text/html": [
       "<h2>Recruiting sponsors presentation</h2>"
      ],
      "text/plain": [
       "<IPython.core.display.HTML object>"
      ]
     },
     "metadata": {},
     "output_type": "display_data"
    },
    {
     "data": {
      "text/html": [
       "<p>Tuesday, July 21st at 16:45 in Google Room</p>"
      ],
      "text/plain": [
       "<IPython.core.display.HTML object>"
      ]
     },
     "metadata": {},
     "output_type": "display_data"
    },
    {
     "data": {
      "text/html": [
       "<h3><i>To be announced</i></h2>"
      ],
      "text/plain": [
       "<IPython.core.display.HTML object>"
      ]
     },
     "metadata": {},
     "output_type": "display_data"
    },
    {
     "data": {
      "text/html": [
       "<p><p>Recruiting sponsors presentation.</p>\n",
       "</p>"
      ],
      "text/plain": [
       "<IPython.core.display.HTML object>"
      ]
     },
     "metadata": {},
     "output_type": "display_data"
    },
    {
     "data": {
      "text/html": [
       "<br/>"
      ],
      "text/plain": [
       "<IPython.core.display.HTML object>"
      ]
     },
     "metadata": {},
     "output_type": "display_data"
    },
    {
     "data": {
      "text/html": [
       "<h1>Poster sessions</h1>"
      ],
      "text/plain": [
       "<IPython.core.display.HTML object>"
      ]
     },
     "metadata": {},
     "output_type": "display_data"
    },
    {
     "data": {
      "text/html": [
       "<h2>Actionable data analytics in retail marketing analysis</h2>"
      ],
      "text/plain": [
       "<IPython.core.display.HTML object>"
      ]
     },
     "metadata": {},
     "output_type": "display_data"
    },
    {
     "data": {
      "text/html": [
       "<h3><i>Ernesto Arbitrio</i></h2>"
      ],
      "text/plain": [
       "<IPython.core.display.HTML object>"
      ]
     },
     "metadata": {},
     "output_type": "display_data"
    },
    {
     "data": {
      "text/html": [
       "<p><p>We propose a web BI dashboard system developed for companies operating in the big market composed by several point of sales (POS) and providing services as stocking, distribution logistics, commercial support and promotional actions.</p>\n",
       "<p>We have endowed the infrastructure with a set of statistical machine learning tools typical of high throughput bioinformatics, e.g., clustering procedures for time-series. Machine learning functionalities are actionable from on-line graphs, such as biclustering panels in which subset of retails and sales categories can be interactively selected. Currently 250 million entries are managed from the sales stream within the system. Network analysis (detection of community structure and co-occurrence patterns) combined with geospatial and socio-economic data are being developed as strategic tools.</p>\n",
       "<p>The system is implemented as a web-based Django framework deployed on a AWS machine, using Celery and Redis to distribute tasks. This scalable framework can be accessed through a web interface from the strategic marketing and R&amp;D departments and other directive figures; a similar and leaner interface is available for the individual POS owners. The web interface integrates Javascript libraries to obtain interactive displays connecting machine learning and data exploration (D3js, Highcharts, Sigma.js, Heatmap.js, leaflet, InCHlib). In particular we fork the django-highchart repository to improve functionalities available for the Django framework. Actionable dendrogram structures and sunburst plots allow the handling of big taxonomies typical of the category managment reference structures. Internally, the statistical machine learning methods are deployed as stored procedures for a PostgreSQL/PostGIS database, powered by the PL/R and PL/Python extensions.</p>\n",
       "</p>"
      ],
      "text/plain": [
       "<IPython.core.display.HTML object>"
      ]
     },
     "metadata": {},
     "output_type": "display_data"
    },
    {
     "data": {
      "text/html": [
       "<br/>"
      ],
      "text/plain": [
       "<IPython.core.display.HTML object>"
      ]
     },
     "metadata": {},
     "output_type": "display_data"
    },
    {
     "data": {
      "text/html": [
       "<h2>AsyncIO ecosystem</h2>"
      ],
      "text/plain": [
       "<IPython.core.display.HTML object>"
      ]
     },
     "metadata": {},
     "output_type": "display_data"
    },
    {
     "data": {
      "text/html": [
       "<h3><i>Ludovic Gasc</i></h2>"
      ],
      "text/plain": [
       "<IPython.core.display.HTML object>"
      ]
     },
     "metadata": {},
     "output_type": "display_data"
    },
    {
     "data": {
      "text/html": [
       "<p><p>Via several examples, this poster will present you how to handle quickly AsyncIO and how to build applications with <a href=\"https://github.com/python/asyncio/wiki/ThirdParty\">toolbox libraries</a> around AsyncIO.</p>\n",
       "<p>You can create HTTP servers with AsyncIO, but also you can mixin several others server protocols like WebSockets, SSH, IRC, FastAGI or SIP.</p>\n",
       "<p>This poster will show you that it can be easier to do than you think, AsyncIO ecosystem is beginner friendly.</p>\n",
       "</p>"
      ],
      "text/plain": [
       "<IPython.core.display.HTML object>"
      ]
     },
     "metadata": {},
     "output_type": "display_data"
    },
    {
     "data": {
      "text/html": [
       "<br/>"
      ],
      "text/plain": [
       "<IPython.core.display.HTML object>"
      ]
     },
     "metadata": {},
     "output_type": "display_data"
    },
    {
     "data": {
      "text/html": [
       "<h2>DTOcean: Optimal Design Tools for Ocean Energy Arrays</h2>"
      ],
      "text/plain": [
       "<IPython.core.display.HTML object>"
      ]
     },
     "metadata": {},
     "output_type": "display_data"
    },
    {
     "data": {
      "text/html": [
       "<h3><i>Mathew Topper</i></h2>"
      ],
      "text/plain": [
       "<IPython.core.display.HTML object>"
      ]
     },
     "metadata": {},
     "output_type": "display_data"
    },
    {
     "data": {
      "text/html": [
       "<p><p>DTOcean is a European collaborative project funded by the European Commission under the 7th Framework Programme for Research and Development. DTOcean that stands for Optimal Design Tools for Ocean Energy Arrays aims at at accelerating the industrial development of ocean energy power generation knowledge, and providing design tools for deploying the first generation of wave and tidal energy converter arrays. It gathers 18 partners from 11 countries (Ireland, Spain, United Kingdom, Germany, Portugal, France, Norway, Denmark, Sweden, Belgium and United States of America) under the coordination of the University of Edinburgh.</p>\n",
       "<p>DTOcean is developing an open source numerical tool using Python and many of the libraries developed for use with Python. This talk will discuss both the academic challenges of meeting the goals of the project and the technical challenges of organising and structuring a project consisting of many geographically dispersed partners with distinct tasks, but requiring close integration to solve the global optimisation problem.</p>\n",
       "</p>"
      ],
      "text/plain": [
       "<IPython.core.display.HTML object>"
      ]
     },
     "metadata": {},
     "output_type": "display_data"
    },
    {
     "data": {
      "text/html": [
       "<br/>"
      ],
      "text/plain": [
       "<IPython.core.display.HTML object>"
      ]
     },
     "metadata": {},
     "output_type": "display_data"
    },
    {
     "data": {
      "text/html": [
       "<h2>Embedding Visualization Applications with PyGR</h2>"
      ],
      "text/plain": [
       "<IPython.core.display.HTML object>"
      ]
     },
     "metadata": {},
     "output_type": "display_data"
    },
    {
     "data": {
      "text/html": [
       "<h3><i>Christian Felder</i></h2>"
      ],
      "text/plain": [
       "<IPython.core.display.HTML object>"
      ]
     },
     "metadata": {},
     "output_type": "display_data"
    },
    {
     "data": {
      "text/html": [
       "<p><p>GR is an universal framework for cross-platform visualization applications. It offers developers a compact, portable and consistent graphics library for their programs. Its procedural graphics backend allows the presentation of continuous data streams. For object oriented environments such as graphical user interfaces a high level API has been implemented.</p>\n",
       "<p>In this poster session, I will present PyGR, a companion module for GR that provides convenience functions for the interactive handling of real-time data, e.g. by zooming or panning. Using the QtGR module it is possible to easily integrate GR into GUI toolkits like Qt. It provides powerful widgets for 2D plotting and methods for embedding graphics into user interfaces based on PySide or PyQt.</p>\n",
       "<p>However, PyGR is not limited to a specific toolkit. The system’s capabilities will be illustrated using concrete examples, e.g. NICOS, a network-based experiment and instrument control system used for neutron scattering experiments at FRM II in Munich.</p>\n",
       "</p>"
      ],
      "text/plain": [
       "<IPython.core.display.HTML object>"
      ]
     },
     "metadata": {},
     "output_type": "display_data"
    },
    {
     "data": {
      "text/html": [
       "<br/>"
      ],
      "text/plain": [
       "<IPython.core.display.HTML object>"
      ]
     },
     "metadata": {},
     "output_type": "display_data"
    },
    {
     "data": {
      "text/html": [
       "<h2>From Python to Clojure</h2>"
      ],
      "text/plain": [
       "<IPython.core.display.HTML object>"
      ]
     },
     "metadata": {},
     "output_type": "display_data"
    },
    {
     "data": {
      "text/html": [
       "<h3><i>Eleonore Mayola</i></h2>"
      ],
      "text/plain": [
       "<IPython.core.display.HTML object>"
      ]
     },
     "metadata": {},
     "output_type": "display_data"
    },
    {
     "data": {
      "text/html": [
       "<p><p>Python is a popular and widely used programming language but its use is limited in certain cases. Concurrency is one of those cases when people look for an alternative. It's actually what happened at the start-up I work at before I joined. The co-founders looked for a solution in a functional programming language and chose to use Clojure. Functional programming is now implemented in most programming languages and functional languages are getting more and more popular. For a junior developer learning a functional language as her/his second programming language completely make sense and I was up for the challenge! Clojure is not so different from Python in its readability and might be one of the easiest functional languages to learn for a Pythonista. I would like to share my tips and tools I used for learning and contributing to a code base in Clojure.</p>\n",
       "<p>There are several online resources to understand the paradigm of functional programming. The same can be said regarding Clojure but a good way to learn aside from diving into a codebase is to take part in a community. The Clojurians are much fewer than the Pythonistas but they are equally friendly. They are looking forward to grow their community and their meetups and dojos are well suited to beginners. At some point you have to throw yourself into this sea of parentheses so you'd better be well equipped! In that aim Emacs is by far the best suited text editor. After customising it with the right tools you shall fear no orphan parens!\n",
       "This experience will help you progress and focus on writing more concise code with short and clear functions. You will be more comfortable and curious about implementing the functional features of the Python language. Getting always closer to the Zen of Python: \" Beautiful is better than ugly. Explicit is better than implicit. Simple is better than complex. Complex is better than complicated. Flat is better than nested. Sparse is better than dense. Readability counts. .... \"</p>\n",
       "</p>"
      ],
      "text/plain": [
       "<IPython.core.display.HTML object>"
      ]
     },
     "metadata": {},
     "output_type": "display_data"
    },
    {
     "data": {
      "text/html": [
       "<br/>"
      ],
      "text/plain": [
       "<IPython.core.display.HTML object>"
      ]
     },
     "metadata": {},
     "output_type": "display_data"
    },
    {
     "data": {
      "text/html": [
       "<h2>Frontera: open source large-scale web crawling framework</h2>"
      ],
      "text/plain": [
       "<IPython.core.display.HTML object>"
      ]
     },
     "metadata": {},
     "output_type": "display_data"
    },
    {
     "data": {
      "text/html": [
       "<h3><i>Alexander Sibiryakov</i></h2>"
      ],
      "text/plain": [
       "<IPython.core.display.HTML object>"
      ]
     },
     "metadata": {},
     "output_type": "display_data"
    },
    {
     "data": {
      "text/html": [
       "<p><p>In this poster session I'm going to introduce Scrapinghub's new open source framework <a href=\"https://github.com/scrapinghub/frontera\">Frontera</a>.  Frontera allows to build real-time distributed web crawlers and website focused ones.</p>\n",
       "<p>Offering:</p>\n",
       "<ul>\n",
       "<li>customizable URL metadata storage (RDBMS or Key-Value based),</li>\n",
       "<li>crawling strategies management,</li>\n",
       "<li>transport layer abstraction.</li>\n",
       "<li>fetcher abstraction.</li>\n",
       "</ul>\n",
       "<p>Along with framework description I'll demonstrate how to build a distributed crawler using <a href=\"http://scrapy.org/\">Scrapy</a>, Kafka and HBase, and hopefully present some statistics of Spanish internet collected with newly built crawler.  Happy EuroPythoning!</p>\n",
       "</p>"
      ],
      "text/plain": [
       "<IPython.core.display.HTML object>"
      ]
     },
     "metadata": {},
     "output_type": "display_data"
    },
    {
     "data": {
      "text/html": [
       "<br/>"
      ],
      "text/plain": [
       "<IPython.core.display.HTML object>"
      ]
     },
     "metadata": {},
     "output_type": "display_data"
    },
    {
     "data": {
      "text/html": [
       "<h2>MongoBoard - A MongoDB replica set manager</h2>"
      ],
      "text/plain": [
       "<IPython.core.display.HTML object>"
      ]
     },
     "metadata": {},
     "output_type": "display_data"
    },
    {
     "data": {
      "text/html": [
       "<h3><i>Alex Porcescu</i></h2>"
      ],
      "text/plain": [
       "<IPython.core.display.HTML object>"
      ]
     },
     "metadata": {},
     "output_type": "display_data"
    },
    {
     "data": {
      "text/html": [
       "<p><p>Mongo-Board is a project focused on offering/building a graphical user interface to MongoDB replica set management and core-processes operations. The functionality is provided in two forms: a <strong>standalone</strong> core library that provides automation over MongoDB administrative operations and the <strong>Mongo-Board UI</strong>.  A showcase in the form of an educational tool of its underlying library's possible usage where users can interact with a MongoDB cluster to perform various actions and view a log of all commands executed.</p>\n",
       "<p>Core features includes:</p>\n",
       "<p>-<strong>MongoDB Instance Management</strong> - connect to multiple remote servers, start/stop database instances, import/export database data</p>\n",
       "<p>-<strong>Replica Set Management</strong> - deploy, configure and maintain replica sets</p>\n",
       "<p>First, we developed a solution completely in PHP and currently we are in the middle of porting the back-end library into Python. I  want to present our experience with MongoDB and discuss the architecture, challenges, solutions and open questions.</p>\n",
       "<p>The poster will pose an interest to people passionate about client-server architecture, MongoDB management, administration and monitoring of processes, automation, as well as educational tools.</p>\n",
       "<p><a href=\"https://eastvisionsystems.com/mongoboard-replica-set-manager/\">Article detailing some aspects of our initial project</a></p>\n",
       "<p><a href=\"https://eastvisionsystems.com/projects/#player4\">Video showcase</a></p>\n",
       "</p>"
      ],
      "text/plain": [
       "<IPython.core.display.HTML object>"
      ]
     },
     "metadata": {},
     "output_type": "display_data"
    },
    {
     "data": {
      "text/html": [
       "<br/>"
      ],
      "text/plain": [
       "<IPython.core.display.HTML object>"
      ]
     },
     "metadata": {},
     "output_type": "display_data"
    },
    {
     "data": {
      "text/html": [
       "<h2>Parallel Programming Constructs and Techniques Using an Embedded Flexible Language (EFL) for Python</h2>"
      ],
      "text/plain": [
       "<IPython.core.display.HTML object>"
      ]
     },
     "metadata": {},
     "output_type": "display_data"
    },
    {
     "data": {
      "text/html": [
       "<h3><i>Moshe Goldstein</i></h2>"
      ],
      "text/plain": [
       "<IPython.core.display.HTML object>"
      ]
     },
     "metadata": {},
     "output_type": "display_data"
    },
    {
     "data": {
      "text/html": [
       "<p><p>Parallel Programming Constructs and Techniques\n",
       "Using an Embedded Flexible Language (EFL) for Python</p>\n",
       "<p>M. Goldstein ,  D. Dayan, D. Berlowitz, O. Berlowitz, Max Rabin, M. Nagar, D. Soudry, R. B. Yehezkael</p>\n",
       "<p>Multi-core CPUs are abundant and utilizing them effectively requires programmers to parallelize CPU-intensive code. To facilitate this, we have developed EFL, a deterministic parallel programming tool. \n",
       "The parallel parts of a program are written as EFL-blocks, which are embedded into a sequential host language program. The sequential parts of the program are written in the host language, outside the EFL blocks.<br>\n",
       "An EFL pre-compiler translates EFL blocks into parallel Python code.  EFL may be embedded in any host language by writing an appropriate pre-compiler. The EFL pre-compiler is being developed for other host programming languages (C++, Java, C#, Fortran, etc) as well as for other parallel platforms (DTM/MPI4PY, etc. ).\n",
       "Here we present the parallel programming constructs of EFL, such as parallel assignments, parallel for-loops, etc., and some examples of using EFL to implement Parallel Programming Design Patterns.</p>\n",
       "</p>"
      ],
      "text/plain": [
       "<IPython.core.display.HTML object>"
      ]
     },
     "metadata": {},
     "output_type": "display_data"
    },
    {
     "data": {
      "text/html": [
       "<br/>"
      ],
      "text/plain": [
       "<IPython.core.display.HTML object>"
      ]
     },
     "metadata": {},
     "output_type": "display_data"
    },
    {
     "data": {
      "text/html": [
       "<h2>Perceptions of Play: learning Python through games</h2>"
      ],
      "text/plain": [
       "<IPython.core.display.HTML object>"
      ]
     },
     "metadata": {},
     "output_type": "display_data"
    },
    {
     "data": {
      "text/html": [
       "<h3><i>Corinne Welsh</i></h2>"
      ],
      "text/plain": [
       "<IPython.core.display.HTML object>"
      ]
     },
     "metadata": {},
     "output_type": "display_data"
    },
    {
     "data": {
      "text/html": [
       "<p><p>We learn best when we are relaxed, curious and enjoying ourselves. Without knowing a lot of Python, making a fun-to-play game is an achievable goal. Without knowing anything about programming, playing a game can be an accessible way to understand how programs work. The poster will invite people to consider the role of play in adult learning. (Much of it will also be relevent to teachers of younger people.) It will frame success and failure in the context of taking part, winning and losing.</p>\n",
       "<p>The poster will give examples of games that are within the reach of a beginner programmer to design and build. It will explore what makes a well-designed game and how to develop good design elements simply. The goal is for people to identify resources for learning and developing Python skills based around building games. This will include: practice opportunities, Python libraries for game-building, and useful programming concepts.</p>\n",
       "<p>If there are the facilities (small table and access to power) I will demonstrate <strong>one</strong> game during the poster session. The goal will be to illustrate the concepts, of good design and developing learning, introduced in my poster. It will have input and output interaction using a <strong>Raspberry Pi</strong> and basic electronics.</p>\n",
       "</p>"
      ],
      "text/plain": [
       "<IPython.core.display.HTML object>"
      ]
     },
     "metadata": {},
     "output_type": "display_data"
    },
    {
     "data": {
      "text/html": [
       "<br/>"
      ],
      "text/plain": [
       "<IPython.core.display.HTML object>"
      ]
     },
     "metadata": {},
     "output_type": "display_data"
    },
    {
     "data": {
      "text/html": [
       "<h2>Python, Rust, who extend who ?</h2>"
      ],
      "text/plain": [
       "<IPython.core.display.HTML object>"
      ]
     },
     "metadata": {},
     "output_type": "display_data"
    },
    {
     "data": {
      "text/html": [
       "<h3><i>Stephane Wirtel</i></h2>"
      ],
      "text/plain": [
       "<IPython.core.display.HTML object>"
      ]
     },
     "metadata": {},
     "output_type": "display_data"
    },
    {
     "data": {
      "text/html": [
       "<p><p>Rust is a new programming language from Mozilla, it has been announced as the successor of C and C++.</p>\n",
       "<p>In this talk, I will show how to use Rust to extend Python via CFFI or ctypes because you want to optimize your code. But do you know we can integrate Python in Rust.</p>\n",
       "<ul>\n",
       "<li>Brief introduction to Rust</li>\n",
       "<li>Why Rust is a good candidate for the replacement of C</li>\n",
       "<li>How to extend Python with Rust</li>\n",
       "<li>How to interact with Python from Rust.</li>\n",
       "</ul>\n",
       "</p>"
      ],
      "text/plain": [
       "<IPython.core.display.HTML object>"
      ]
     },
     "metadata": {},
     "output_type": "display_data"
    },
    {
     "data": {
      "text/html": [
       "<br/>"
      ],
      "text/plain": [
       "<IPython.core.display.HTML object>"
      ]
     },
     "metadata": {},
     "output_type": "display_data"
    },
    {
     "data": {
      "text/html": [
       "<h2>Sound event recognition using python : application to humanoid robots with limited cpu</h2>"
      ],
      "text/plain": [
       "<IPython.core.display.HTML object>"
      ]
     },
     "metadata": {},
     "output_type": "display_data"
    },
    {
     "data": {
      "text/html": [
       "<h3><i>Laurent George</i></h2>"
      ],
      "text/plain": [
       "<IPython.core.display.HTML object>"
      ]
     },
     "metadata": {},
     "output_type": "display_data"
    },
    {
     "data": {
      "text/html": [
       "<p><p>Inside [Aldebaran][1] company the goal of our team is to explore all the domains required for natural and efficient human-robot interaction. We mainly use python stack (scipy, numpy, scikit-learn) in our daily work as it provides a fast and efficient workflow to create and tune our robot behaviors.</p>\n",
       "<p>In this presentation we will describe and demonstrate how we achieve real time sound event recognition on humanoids robots using python and scikit-learn. This work is funded by european project EARS in which our study case is a groom hotel robot that help customers : Two robots are waiting in a hotel lobby. They welcome people and give them relevant information. The robots detect and recognize sounds type such as: Door bell, phone ring, fire alarm, etc. New sounds could be easily learned by the robots.</p>\n",
       "<p>The talk will be done by two human speakers followed by a live demonstration with NAO robots on the stage. Code and data will be published so everyone can experiments with sound recorded on the robots.</p>\n",
       "</p>"
      ],
      "text/plain": [
       "<IPython.core.display.HTML object>"
      ]
     },
     "metadata": {},
     "output_type": "display_data"
    },
    {
     "data": {
      "text/html": [
       "<br/>"
      ],
      "text/plain": [
       "<IPython.core.display.HTML object>"
      ]
     },
     "metadata": {},
     "output_type": "display_data"
    },
    {
     "data": {
      "text/html": [
       "<h2>The current state & the future of Plone</h2>"
      ],
      "text/plain": [
       "<IPython.core.display.HTML object>"
      ]
     },
     "metadata": {},
     "output_type": "display_data"
    },
    {
     "data": {
      "text/html": [
       "<h3><i>Paul Roeland</i></h2>"
      ],
      "text/plain": [
       "<IPython.core.display.HTML object>"
      ]
     },
     "metadata": {},
     "output_type": "display_data"
    },
    {
     "data": {
      "text/html": [
       "<p><p>Over the last fourteen years, Plone has had a remarkable journey: from just a wild idea by a few people to create a CMS which would combine the best technology with a vision of beauty and power to the reality of today: Plone is actively used by companies, governments, universities, nonprofits and other organizations of all sizes around the world.</p>\n",
       "<p>Yet the vision behind it has stayed consistent. The Plone community chooses technology not for the sake of technology, but because it best solves the problems at hand. We value reliability, security and long-term stability, yet the community is agile enough to adapt where needed.</p>\n",
       "<p>The poster will showcase Plone 5, a major new release which is a solid foundation for the challenges of today, while providing a good upgrade path for earlier versions. It can be used right away for installations of all sizes, but it is also flexible enough to serve as basis for specialized use cases. \n",
       "But we do not stop there; the Plone community is already looking further into the future. In spring 2015, we have developed our roadmap forward into a future where themes like mobile-first play a much more important role. Plone will open up it's core strengths like rock-solid workflows, security, standards-compliance and multilingual support to modern ways of presenting these. And with Mosaic and other advances we put power - and fun! -, firmly into the hands of the users that want to create beautiful sites and applications.</p>\n",
       "</p>"
      ],
      "text/plain": [
       "<IPython.core.display.HTML object>"
      ]
     },
     "metadata": {},
     "output_type": "display_data"
    },
    {
     "data": {
      "text/html": [
       "<br/>"
      ],
      "text/plain": [
       "<IPython.core.display.HTML object>"
      ]
     },
     "metadata": {},
     "output_type": "display_data"
    },
    {
     "data": {
      "text/html": [
       "<h2>Use Python to process 12mil events per minute and still keep it simple (Poster Session)</h2>"
      ],
      "text/plain": [
       "<IPython.core.display.HTML object>"
      ]
     },
     "metadata": {},
     "output_type": "display_data"
    },
    {
     "data": {
      "text/html": [
       "<h3><i>Teodor Dima</i></h2>"
      ],
      "text/plain": [
       "<IPython.core.display.HTML object>"
      ]
     },
     "metadata": {},
     "output_type": "display_data"
    },
    {
     "data": {
      "text/html": [
       "<p><p>Creating a large-scale event processing system can be a daunting task. Especially if you want it “stupid simple” and wrapped around each client’s needs. We built a straightforward solution for this using Python 3 and other open-source tools.</p>\n",
       "<p>Main issues to solve for a system that needs to be both performant and scalable:</p>\n",
       "<ul>\n",
       "<li><p>handling a throughput of 1 million events per minute in a 4 cores AWS instance;</p>\n",
       "</li>\n",
       "<li><p>following the principle of least astonishment;</p>\n",
       "</li>\n",
       "<li><p>data aggregation and how Python's standard libraries and data structures can help;</p>\n",
       "</li>\n",
       "<li><p>failsafe and profiling mechanisms that can be applied to any Linux service in production;</p>\n",
       "</li>\n",
       "<li><p>addressing unexpected behaviors of Python’s Standard Library; like reading from a file while it is written;</p>\n",
       "</li>\n",
       "<li><p>tackling a sudden spectacular cloud instance failure;</p>\n",
       "</li>\n",
       "</ul>\n",
       "<p>The alternative to this system would be to adopt existing technology stacks that might be too general, add more complexity, bloat, costs and which need extensive work to solve your specific problem. Moreover, our approach resulted in over 85% drop on hardware utilisation.</p>\n",
       "<p><a href=\"https://eastvisionsystems.com/production-software-part-ii-good-coding-reduces-clients-bill/\">Context: Production Software – II (where good coding reduces the client’s bill)</a></p>\n",
       "</p>"
      ],
      "text/plain": [
       "<IPython.core.display.HTML object>"
      ]
     },
     "metadata": {},
     "output_type": "display_data"
    },
    {
     "data": {
      "text/html": [
       "<br/>"
      ],
      "text/plain": [
       "<IPython.core.display.HTML object>"
      ]
     },
     "metadata": {},
     "output_type": "display_data"
    }
   ],
   "source": [
    "for session_name in session_names:\n",
    "    show('<h1>{}</h1>'.format(session_name))\n",
    "    \n",
    "    talks = talk_sessions[session_name]\n",
    "    talks = [talks[talk_id] for talk_id in talks]\n",
    "    talks = sorted(talks, key=itemgetter('title'))\n",
    "    for talk in talks:\n",
    "        show_talk(talk, show_duration=False, show_link_to_admin=False)"
   ]
  },
  {
   "cell_type": "code",
   "execution_count": null,
   "metadata": {
    "collapsed": true
   },
   "outputs": [],
   "source": []
  }
 ],
 "metadata": {
  "kernelspec": {
   "display_name": "Python 3",
   "language": "python",
   "name": "python3"
  },
  "language_info": {
   "codemirror_mode": {
    "name": "ipython",
    "version": 3
   },
   "file_extension": ".py",
   "mimetype": "text/x-python",
   "name": "python",
   "nbconvert_exporter": "python",
   "pygments_lexer": "ipython3",
   "version": "3.5.1"
  }
 },
 "nbformat": 4,
 "nbformat_minor": 0
}
