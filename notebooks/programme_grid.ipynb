{
 "cells": [
  {
   "cell_type": "markdown",
   "metadata": {},
   "source": [
    "# EuroPython program grid"
   ]
  },
  {
   "cell_type": "code",
   "execution_count": 1,
   "metadata": {
    "collapsed": false
   },
   "outputs": [
    {
     "data": {
      "text/plain": [
       "<IPython.core.display.Javascript object>"
      ]
     },
     "metadata": {},
     "output_type": "display_data"
    }
   ],
   "source": [
    "%%javascript\n",
    "IPython.OutputArea.auto_scroll_threshold = 99999;\n",
    "//increase max size of output area"
   ]
  },
  {
   "cell_type": "code",
   "execution_count": 2,
   "metadata": {
    "collapsed": false
   },
   "outputs": [],
   "source": [
    "import json\n",
    "import datetime as dt\n",
    "from random import choice, randrange, shuffle\n",
    "from copy import deepcopy\n",
    "\n",
    "from collections import OrderedDict, defaultdict\n",
    "from itertools import product\n",
    "from functools import partial\n",
    "from operator import itemgetter\n",
    "\n",
    "from eptools.dict_query import build_query, run_query\n",
    "\n",
    "from IPython.display import display, HTML\n",
    "show = lambda s: display(HTML(s))"
   ]
  },
  {
   "cell_type": "markdown",
   "metadata": {},
   "source": [
    "## Load the data"
   ]
  },
  {
   "cell_type": "code",
   "execution_count": 3,
   "metadata": {
    "collapsed": false
   },
   "outputs": [],
   "source": [
    "talk_sessions = json.load(open('accepted_talks.json'))"
   ]
  },
  {
   "cell_type": "code",
   "execution_count": 4,
   "metadata": {
    "collapsed": false
   },
   "outputs": [
    {
     "data": {
      "text/plain": [
       "['talk',\n",
       " 'Opening session',\n",
       " 'Closing session',\n",
       " 'training',\n",
       " 'Lightning talk',\n",
       " 'poster',\n",
       " 'EPS session']"
      ]
     },
     "execution_count": 4,
     "metadata": {},
     "output_type": "execute_result"
    }
   ],
   "source": [
    "list(talk_sessions.keys())"
   ]
  },
  {
   "cell_type": "markdown",
   "metadata": {},
   "source": [
    "## Clean up the data\n",
    "\n",
    "Here I pick from `talk_sessions` only the talks with the type that I need for scheduling.\n",
    "\n",
    "I also remove from all these talks the fields that I don't need for scheduling, to maintain the `prints` clean and short enough."
   ]
  },
  {
   "cell_type": "code",
   "execution_count": 5,
   "metadata": {
    "collapsed": false
   },
   "outputs": [],
   "source": [
    "#all talks\n",
    "all_talks = []\n",
    "for s in talk_sessions.values():\n",
    "    all_talks.extend(list(s.values()))\n",
    "\n",
    "#the talks worth for scheduling\n",
    "grid_talks = []\n",
    "sessions = talk_sessions.copy()\n",
    "general_grid_sessions = ['talk', 'training']\n",
    "for session_name in general_grid_sessions:\n",
    "    grid_talks.extend(sessions[session_name].values())\n",
    "\n",
    "fields2pop = ['abstract_extra', \n",
    "              'abstract_long',\n",
    "              'abstract_short',\n",
    "              'twitters',\n",
    "              'emails',\n",
    "              'status',\n",
    "              'url',\n",
    "              'companies',\n",
    "              'have_tickets',\n",
    "             ]\n",
    "for talk in grid_talks:\n",
    "    for f in fields2pop:\n",
    "        talk.pop(f)"
   ]
  },
  {
   "cell_type": "markdown",
   "metadata": {},
   "source": [
    "## Declare the week schedule\n",
    "\n",
    "Declare certain structures to be able to declare and define the conference schedule.\n",
    "\n",
    "The information here will be used in the `dict_query` submodule to filter the talks."
   ]
  },
  {
   "cell_type": "code",
   "execution_count": 58,
   "metadata": {
    "collapsed": false
   },
   "outputs": [
    {
     "ename": "SyntaxError",
     "evalue": "invalid syntax (<ipython-input-58-9a83d7d2367b>, line 35)",
     "output_type": "error",
     "traceback": [
      "\u001b[1;36m  File \u001b[1;32m\"<ipython-input-58-9a83d7d2367b>\"\u001b[1;36m, line \u001b[1;32m35\u001b[0m\n\u001b[1;33m    (('duration', 45)), ),\u001b[0m\n\u001b[1;37m                        ^\u001b[0m\n\u001b[1;31mSyntaxError\u001b[0m\u001b[1;31m:\u001b[0m invalid syntax\n"
     ]
    }
   ],
   "source": [
    "tags_field = 'tag_categories'\n",
    "\n",
    "weekday_names = {0: 'Monday, July 18th', \n",
    "                 1: 'Tuesday, July 19th',\n",
    "                 2: 'Wednesday, July 20th',\n",
    "                 3: 'Thursday, July 21st',\n",
    "                 4: 'Friday, July 22nd'\n",
    "                }\n",
    "\n",
    "room_names = {0: 'A1',\n",
    "              1: 'A3',\n",
    "              2: 'A2',\n",
    "              3: 'Ba1',\n",
    "              4: 'Ba2',\n",
    "              5: 'E' ,\n",
    "              6: 'A4',\n",
    "             } \n",
    "\n",
    "# this is not being used yet\n",
    "durations = {'announcements': 15,\n",
    "             'keynote': 45,\n",
    "             'lts': 60,\n",
    "             'lunch': 60,\n",
    "             'am_coffee': 30,\n",
    "             'pm_coffee': 30,\n",
    "            }\n",
    "\n",
    "# track schedule types, by talk conditions\n",
    "track_schedule1 = [(('duration', 45), ),\n",
    "                   (('duration', 45), ),\n",
    "                   (('duration', (45, 60)), ),\n",
    "                   (('duration', 45), ),\n",
    "                   (('duration', 45), ),\n",
    "                   (('duration', 45), ),\n",
    "                   (('duration', 45)), ),\n",
    "                   #(('admin_type', 'Lightning talk'), ),\n",
    "                  ]\n",
    "\n",
    "track_schedule2 = [(('duration', 45), ),\n",
    "                   (('duration', 45), ),\n",
    "                   (('duration', (45, 30)), ),\n",
    "                   (('duration', (60, 45)), ),\n",
    "                   (('duration', (60, 45)), ),\n",
    "                   (('duration', 45), ),\n",
    "                  ]\n",
    "\n",
    "track_schedule3 = [(('duration', 45), ), \n",
    "                   (('duration', 45), ),\n",
    "                   (('duration', (45, 30)), ),\n",
    "                   (('duration', (45, 60)), ),\n",
    "                   (('duration', (45, 30), ),\n",
    "                   (('duration', (60, 30)), ),\n",
    "                   (('duration', (45, 30)), ),\n",
    "                  ]\n",
    "\n",
    "#tutorials\n",
    "track_schedule4 = [(('type', 'has Training'), ), \n",
    "                   (('type', 'has Training'), ), ]\n",
    "\n",
    "\n",
    "# these are for reference, but not being taken into account (yet)\n",
    "frstday_schedule1 = [(('admin_type', 'Opening session')), \n",
    "                     (('admin_type', 'Keynote')),\n",
    "                    ] + track_schedule1\n",
    "\n",
    "lastday_schedule1 = track_schedule1 + [(('admin_type', 'Closing session')),]\n",
    "\n",
    "# I removed time from here.\n",
    "#daily_timegrid = lambda schedule: OrderedDict([(datetime.time(*slot[0]), slot[1]) for slot in schedule])\n",
    "\n",
    "room1_schedule = track_schedule1 # A1, the google room\n",
    "room2_schedule = track_schedule2 # A3, pythonanywhere room\n",
    "room3_schedule = track_schedule3 # A2\n",
    "room4_schedule = track_schedule3 # Barria1\n",
    "room5_schedule = track_schedule3 # Barria2\n",
    "\n",
    "room6_schedule = track_schedule4 # Room E\n",
    "room7_schedule = track_schedule4 # Room A4\n",
    "\n",
    "daily_schedule   = OrderedDict([(0, room1_schedule), \n",
    "                                (1, room2_schedule),\n",
    "                                (2, room3_schedule),\n",
    "                                (3, room4_schedule),\n",
    "                                (4, room5_schedule),\n",
    "                                (5, room6_schedule),\n",
    "                                (6, room7_schedule)])\n",
    "\n",
    "# week conditions\n",
    "default_condition = (('language', 'English'), ('type', 'has Talk'),)\n",
    "\n",
    "# [day][room] -> talk conditions\n",
    "dayroom_conditions = {0: {},\n",
    "                      1: {4: (('language', 'Spanish'), ), },\n",
    "                      2: {3: (('language', 'Basque' ), ), },\n",
    "                      3: {},    \n",
    "                      4: {},    \n",
    "                     }"
   ]
  },
  {
   "cell_type": "markdown",
   "metadata": {},
   "source": [
    "## Build the schedule conditions table"
   ]
  },
  {
   "cell_type": "code",
   "execution_count": 59,
   "metadata": {
    "collapsed": false
   },
   "outputs": [],
   "source": [
    "# the whole schedule conditions table\n",
    "\n",
    "def join_conds(condset1, condset2):\n",
    "    d = dict(condset1)\n",
    "    if condset2:\n",
    "        d.update(dict(condset2))\n",
    "    return tuple(d.items())\n",
    "\n",
    "\n",
    "week_conditions = defaultdict(dict)\n",
    "for day, room in product(weekday_names, room_names):\n",
    "    track_schedule = daily_schedule[room]\n",
    "    dayroom_conds  = dayroom_conditions[day].get(room, default_condition)\n",
    "    week_conditions[day][room] = []\n",
    "    for slot_conds in track_schedule:\n",
    "        week_conditions[day][room].append(join_conds(dayroom_conds, slot_conds))"
   ]
  },
  {
   "cell_type": "code",
   "execution_count": 60,
   "metadata": {
    "collapsed": false
   },
   "outputs": [
    {
     "data": {
      "text/plain": [
       "[(('language', 'English'), ('type', 'has Training')),\n",
       " (('language', 'English'), ('type', 'has Training'))]"
      ]
     },
     "execution_count": 60,
     "metadata": {},
     "output_type": "execute_result"
    }
   ],
   "source": [
    "week_conditions[0][5]"
   ]
  },
  {
   "cell_type": "markdown",
   "metadata": {},
   "source": [
    "## Group tags and count talks-per-tag"
   ]
  },
  {
   "cell_type": "code",
   "execution_count": 61,
   "metadata": {
    "collapsed": false
   },
   "outputs": [
    {
     "data": {
      "text/plain": [
       "[('Programming', 94),\n",
       " ('Data Science', 88),\n",
       " ('DevOps', 64),\n",
       " ('Best Practice and Use Cases', 48),\n",
       " ('Educational', 29),\n",
       " ('Web', 27),\n",
       " ('Community', 25),\n",
       " ('Testing', 24),\n",
       " ('Open Source', 17),\n",
       " ('Databases', 15),\n",
       " ('Everything Else', 14),\n",
       " ('Hardware', 13),\n",
       " ('Security', 12),\n",
       " ('Other Programming Languages', 11),\n",
       " ('Case Study', 11),\n",
       " ('Sciences', 10),\n",
       " ('Application Frameworks', 8),\n",
       " ('Development Methods', 2),\n",
       " ('Operating Systems', 2),\n",
       " ('Business', 1)]"
      ]
     },
     "execution_count": 61,
     "metadata": {},
     "output_type": "execute_result"
    }
   ],
   "source": [
    "tags2pop = ['>>> Suggested Track', 'Python', '']\n",
    "tags = defaultdict(int)\n",
    "\n",
    "for talk in all_talks:\n",
    "    for t in talk[tags_field]:\n",
    "        if t in tags2pop:\n",
    "            continue            \n",
    "        tags[t] += 1\n",
    "tags_sorted = sorted(tags.items(), key=itemgetter(1), reverse=True)\n",
    "tags_sorted"
   ]
  },
  {
   "cell_type": "markdown",
   "metadata": {},
   "source": [
    "## Filtering functions\n",
    "\n",
    "Here I declare the functions used to filter talks using the `dict_query`-type queries defined above."
   ]
  },
  {
   "cell_type": "code",
   "execution_count": 99,
   "metadata": {
    "collapsed": true
   },
   "outputs": [],
   "source": [
    "def pick_talk(talks, conditions, trialno=1):\n",
    "    if not talks:\n",
    "        raise IndexError('The list of talks is empty!')\n",
    "\n",
    "    query = build_query(conditions)\n",
    "\n",
    "    for tidx, talk in enumerate(talks):\n",
    "        if run_query(talk, query):\n",
    "            return talks.pop(tidx)\n",
    "    \n",
    "    # if no talk fills the query requirements\n",
    "    if trialno == 1:\n",
    "        nuconds = dict(conditions)\n",
    "        del nuconds[tags_field]\n",
    "        nuconds = tuple(nuconds.items())\n",
    "        print('2ND TRY: Looking only for {}.'.format(nuconds))\n",
    "        return pick_talk(talks, nuconds, trialno=2)\n",
    "    if trialno == 2:\n",
    "        oldconds = dict(conditions)\n",
    "        nuconds  = {}\n",
    "        if 'duration' in oldconds:\n",
    "            nuconds['duration'] = oldconds['duration']\n",
    "        if 'type' in oldconds:\n",
    "            nuconds['type'] = oldconds['type']\n",
    "        nuconds = tuple(nuconds.items())\n",
    "        print('3RD TRY: Looking only for {}.'.format(nuconds))\n",
    "        return pick_talk(talks, nuconds, trialno=3)\n",
    "    else:\n",
    "        print('FAILED looking for {}.'.format(conditions))\n",
    "        return {}"
   ]
  },
  {
   "cell_type": "code",
   "execution_count": 100,
   "metadata": {
    "collapsed": false
   },
   "outputs": [],
   "source": [
    "# collections splitting utilities\n",
    "\n",
    "import random\n",
    "\n",
    "def chunks(l, n):\n",
    "    \"\"\"Yield successive `n`-sized chunks from `l`.\"\"\"\n",
    "    for i in range(0, len(l), n):\n",
    "        yield l[i:i+n]\n",
    "        \n",
    "\n",
    "def split(xs, n):\n",
    "    \"\"\" Yield `n` chunks of the sequence `xs`.\"\"\"\n",
    "    ys = list(xs)\n",
    "    random.shuffle(ys)\n",
    "    size = len(ys) // n\n",
    "    leftovers = ys[size*n:]\n",
    "    for c in range(n):\n",
    "        if leftovers:\n",
    "            extra = [ leftovers.pop() ] \n",
    "        else:\n",
    "            extra = []\n",
    "        yield ys[c*size:(c+1)*size] + extra"
   ]
  },
  {
   "cell_type": "markdown",
   "metadata": {},
   "source": [
    "## Distribute the talks along the schedule"
   ]
  },
  {
   "cell_type": "code",
   "execution_count": 101,
   "metadata": {
    "collapsed": false
   },
   "outputs": [
    {
     "name": "stdout",
     "output_type": "stream",
     "text": [
      "2ND TRY: Looking only for (('duration', 45), ('language', 'Spanish'), ('type', 'has Talk')).\n",
      "2ND TRY: Looking only for (('duration', 45), ('language', 'Spanish'), ('type', 'has Talk')).\n",
      "2ND TRY: Looking only for (('duration', (45, 60)), ('language', 'Spanish'), ('type', 'has Talk')).\n",
      "2ND TRY: Looking only for (('duration', 45), ('language', 'Spanish'), ('type', 'has Talk')).\n",
      "2ND TRY: Looking only for (('duration', (60, 30)), ('language', 'Spanish'), ('type', 'has Talk')).\n",
      "2ND TRY: Looking only for (('duration', (45, 30)), ('language', 'Spanish'), ('type', 'has Talk')).\n",
      "2ND TRY: Looking only for (('language', 'English'), ('type', 'has Training')).\n",
      "2ND TRY: Looking only for (('duration', 45), ('language', 'English'), ('type', 'has Talk')).\n",
      "2ND TRY: Looking only for (('duration', 45), ('language', 'English'), ('type', 'has Talk')).\n",
      "2ND TRY: Looking only for (('duration', 45), ('language', 'Basque'), ('type', 'has Talk')).\n",
      "3RD TRY: Looking only for (('duration', 45), ('type', 'has Talk')).\n",
      "2ND TRY: Looking only for (('duration', 45), ('language', 'Basque'), ('type', 'has Talk')).\n",
      "3RD TRY: Looking only for (('duration', 45), ('type', 'has Talk')).\n",
      "2ND TRY: Looking only for (('duration', (45, 60)), ('language', 'Basque'), ('type', 'has Talk')).\n",
      "3RD TRY: Looking only for (('duration', (45, 60)), ('type', 'has Talk')).\n",
      "2ND TRY: Looking only for (('duration', 45), ('language', 'Basque'), ('type', 'has Talk')).\n",
      "3RD TRY: Looking only for (('duration', 45), ('type', 'has Talk')).\n",
      "2ND TRY: Looking only for (('duration', (45, 30)), ('language', 'Basque'), ('type', 'has Talk')).\n",
      "2ND TRY: Looking only for (('duration', 45), ('language', 'English'), ('type', 'has Talk')).\n",
      "2ND TRY: Looking only for (('duration', 45), ('language', 'English'), ('type', 'has Talk')).\n",
      "3RD TRY: Looking only for (('duration', 45), ('type', 'has Talk')).\n",
      "FAILED looking for (('duration', 45), ('type', 'has Talk')).\n",
      "2ND TRY: Looking only for (('duration', (45, 60)), ('language', 'English'), ('type', 'has Talk')).\n",
      "2ND TRY: Looking only for (('duration', 45), ('language', 'English'), ('type', 'has Talk')).\n",
      "3RD TRY: Looking only for (('duration', 45), ('type', 'has Talk')).\n",
      "FAILED looking for (('duration', 45), ('type', 'has Talk')).\n",
      "2ND TRY: Looking only for (('language', 'English'), ('type', 'has Training')).\n",
      "2ND TRY: Looking only for (('duration', 45), ('language', 'English'), ('type', 'has Talk')).\n",
      "3RD TRY: Looking only for (('duration', 45), ('type', 'has Talk')).\n",
      "FAILED looking for (('duration', 45), ('type', 'has Talk')).\n",
      "2ND TRY: Looking only for (('duration', 45), ('language', 'English'), ('type', 'has Talk')).\n",
      "3RD TRY: Looking only for (('duration', 45), ('type', 'has Talk')).\n",
      "FAILED looking for (('duration', 45), ('type', 'has Talk')).\n",
      "2ND TRY: Looking only for (('duration', (45, 60)), ('language', 'English'), ('type', 'has Talk')).\n",
      "3RD TRY: Looking only for (('duration', (45, 60)), ('type', 'has Talk')).\n",
      "FAILED looking for (('duration', (45, 60)), ('type', 'has Talk')).\n",
      "2ND TRY: Looking only for (('duration', 45), ('language', 'English'), ('type', 'has Talk')).\n",
      "3RD TRY: Looking only for (('duration', 45), ('type', 'has Talk')).\n",
      "FAILED looking for (('duration', 45), ('type', 'has Talk')).\n",
      "2ND TRY: Looking only for (('duration', 45), ('language', 'English'), ('type', 'has Talk')).\n",
      "3RD TRY: Looking only for (('duration', 45), ('type', 'has Talk')).\n",
      "FAILED looking for (('duration', 45), ('type', 'has Talk')).\n",
      "2ND TRY: Looking only for (('duration', 45), ('language', 'English'), ('type', 'has Talk')).\n",
      "3RD TRY: Looking only for (('duration', 45), ('type', 'has Talk')).\n",
      "FAILED looking for (('duration', 45), ('type', 'has Talk')).\n",
      "2ND TRY: Looking only for (('duration', 45), ('language', 'English'), ('type', 'has Talk')).\n",
      "3RD TRY: Looking only for (('duration', 45), ('type', 'has Talk')).\n",
      "FAILED looking for (('duration', 45), ('type', 'has Talk')).\n",
      "2ND TRY: Looking only for (('duration', 45), ('language', 'English'), ('type', 'has Talk')).\n",
      "3RD TRY: Looking only for (('duration', 45), ('type', 'has Talk')).\n",
      "FAILED looking for (('duration', 45), ('type', 'has Talk')).\n",
      "2ND TRY: Looking only for (('duration', 45), ('language', 'English'), ('type', 'has Talk')).\n",
      "3RD TRY: Looking only for (('duration', 45), ('type', 'has Talk')).\n",
      "FAILED looking for (('duration', 45), ('type', 'has Talk')).\n",
      "2ND TRY: Looking only for (('duration', 45), ('language', 'English'), ('type', 'has Talk')).\n",
      "3RD TRY: Looking only for (('duration', 45), ('type', 'has Talk')).\n",
      "FAILED looking for (('duration', 45), ('type', 'has Talk')).\n",
      "2ND TRY: Looking only for (('duration', 45), ('language', 'English'), ('type', 'has Talk')).\n",
      "3RD TRY: Looking only for (('duration', 45), ('type', 'has Talk')).\n",
      "FAILED looking for (('duration', 45), ('type', 'has Talk')).\n",
      "2ND TRY: Looking only for (('duration', (45, 60)), ('language', 'English'), ('type', 'has Talk')).\n",
      "3RD TRY: Looking only for (('duration', (45, 60)), ('type', 'has Talk')).\n",
      "FAILED looking for (('duration', (45, 60)), ('type', 'has Talk')).\n",
      "2ND TRY: Looking only for (('duration', 45), ('language', 'English'), ('type', 'has Talk')).\n",
      "3RD TRY: Looking only for (('duration', 45), ('type', 'has Talk')).\n",
      "FAILED looking for (('duration', 45), ('type', 'has Talk')).\n",
      "2ND TRY: Looking only for (('duration', 45), ('language', 'English'), ('type', 'has Talk')).\n",
      "3RD TRY: Looking only for (('duration', 45), ('type', 'has Talk')).\n",
      "FAILED looking for (('duration', 45), ('type', 'has Talk')).\n",
      "2ND TRY: Looking only for (('duration', 45), ('language', 'English'), ('type', 'has Talk')).\n",
      "3RD TRY: Looking only for (('duration', 45), ('type', 'has Talk')).\n",
      "FAILED looking for (('duration', 45), ('type', 'has Talk')).\n",
      "2ND TRY: Looking only for (('duration', (45, 60)), ('language', 'English'), ('type', 'has Talk')).\n",
      "3RD TRY: Looking only for (('duration', (45, 60)), ('type', 'has Talk')).\n",
      "FAILED looking for (('duration', (45, 60)), ('type', 'has Talk')).\n",
      "2ND TRY: Looking only for (('duration', 45), ('language', 'English'), ('type', 'has Talk')).\n",
      "3RD TRY: Looking only for (('duration', 45), ('type', 'has Talk')).\n",
      "FAILED looking for (('duration', 45), ('type', 'has Talk')).\n",
      "2ND TRY: Looking only for (('duration', 45), ('language', 'English'), ('type', 'has Talk')).\n",
      "3RD TRY: Looking only for (('duration', 45), ('type', 'has Talk')).\n",
      "FAILED looking for (('duration', 45), ('type', 'has Talk')).\n",
      "2ND TRY: Looking only for (('duration', 45), ('language', 'English'), ('type', 'has Talk')).\n",
      "3RD TRY: Looking only for (('duration', 45), ('type', 'has Talk')).\n",
      "FAILED looking for (('duration', 45), ('type', 'has Talk')).\n",
      "2ND TRY: Looking only for (('duration', (45, 60)), ('language', 'English'), ('type', 'has Talk')).\n",
      "3RD TRY: Looking only for (('duration', (45, 60)), ('type', 'has Talk')).\n",
      "FAILED looking for (('duration', (45, 60)), ('type', 'has Talk')).\n",
      "2ND TRY: Looking only for (('duration', 45), ('language', 'English'), ('type', 'has Talk')).\n",
      "3RD TRY: Looking only for (('duration', 45), ('type', 'has Talk')).\n",
      "FAILED looking for (('duration', 45), ('type', 'has Talk')).\n",
      "2ND TRY: Looking only for (('language', 'English'), ('type', 'has Training')).\n",
      "2ND TRY: Looking only for (('language', 'English'), ('type', 'has Training')).\n",
      "2ND TRY: Looking only for (('language', 'English'), ('type', 'has Training')).\n",
      "2ND TRY: Looking only for (('duration', 45), ('language', 'English'), ('type', 'has Talk')).\n",
      "3RD TRY: Looking only for (('duration', 45), ('type', 'has Talk')).\n",
      "FAILED looking for (('duration', 45), ('type', 'has Talk')).\n",
      "2ND TRY: Looking only for (('duration', 45), ('language', 'English'), ('type', 'has Talk')).\n",
      "3RD TRY: Looking only for (('duration', 45), ('type', 'has Talk')).\n",
      "FAILED looking for (('duration', 45), ('type', 'has Talk')).\n",
      "2ND TRY: Looking only for (('duration', (45, 60)), ('language', 'English'), ('type', 'has Talk')).\n",
      "3RD TRY: Looking only for (('duration', (45, 60)), ('type', 'has Talk')).\n",
      "FAILED looking for (('duration', (45, 60)), ('type', 'has Talk')).\n",
      "2ND TRY: Looking only for (('duration', 45), ('language', 'English'), ('type', 'has Talk')).\n",
      "3RD TRY: Looking only for (('duration', 45), ('type', 'has Talk')).\n",
      "FAILED looking for (('duration', 45), ('type', 'has Talk')).\n",
      "2ND TRY: Looking only for (('duration', 45), ('language', 'English'), ('type', 'has Talk')).\n",
      "3RD TRY: Looking only for (('duration', 45), ('type', 'has Talk')).\n",
      "FAILED looking for (('duration', 45), ('type', 'has Talk')).\n",
      "2ND TRY: Looking only for (('duration', 45), ('language', 'English'), ('type', 'has Talk')).\n",
      "3RD TRY: Looking only for (('duration', 45), ('type', 'has Talk')).\n",
      "FAILED looking for (('duration', 45), ('type', 'has Talk')).\n",
      "2ND TRY: Looking only for (('duration', 45), ('language', 'English'), ('type', 'has Talk')).\n",
      "3RD TRY: Looking only for (('duration', 45), ('type', 'has Talk')).\n",
      "FAILED looking for (('duration', 45), ('type', 'has Talk')).\n",
      "2ND TRY: Looking only for (('duration', 45), ('language', 'English'), ('type', 'has Talk')).\n",
      "3RD TRY: Looking only for (('duration', 45), ('type', 'has Talk')).\n",
      "FAILED looking for (('duration', 45), ('type', 'has Talk')).\n",
      "2ND TRY: Looking only for (('duration', (45, 30)), ('language', 'English'), ('type', 'has Talk')).\n",
      "2ND TRY: Looking only for (('duration', 45), ('language', 'English'), ('type', 'has Talk')).\n",
      "3RD TRY: Looking only for (('duration', 45), ('type', 'has Talk')).\n",
      "FAILED looking for (('duration', 45), ('type', 'has Talk')).\n",
      "2ND TRY: Looking only for (('duration', (30, 45)), ('language', 'English'), ('type', 'has Talk')).\n",
      "2ND TRY: Looking only for (('duration', 30), ('language', 'English'), ('type', 'has Talk')).\n",
      "2ND TRY: Looking only for (('duration', 30), ('language', 'English'), ('type', 'has Talk')).\n",
      "2ND TRY: Looking only for (('duration', 45), ('language', 'English'), ('type', 'has Talk')).\n",
      "3RD TRY: Looking only for (('duration', 45), ('type', 'has Talk')).\n",
      "FAILED looking for (('duration', 45), ('type', 'has Talk')).\n",
      "2ND TRY: Looking only for (('duration', 45), ('language', 'English'), ('type', 'has Talk')).\n",
      "3RD TRY: Looking only for (('duration', 45), ('type', 'has Talk')).\n",
      "FAILED looking for (('duration', 45), ('type', 'has Talk')).\n",
      "2ND TRY: Looking only for (('duration', (45, 60)), ('language', 'English'), ('type', 'has Talk')).\n",
      "3RD TRY: Looking only for (('duration', (45, 60)), ('type', 'has Talk')).\n",
      "FAILED looking for (('duration', (45, 60)), ('type', 'has Talk')).\n",
      "2ND TRY: Looking only for (('duration', 45), ('language', 'English'), ('type', 'has Talk')).\n",
      "3RD TRY: Looking only for (('duration', 45), ('type', 'has Talk')).\n",
      "FAILED looking for (('duration', 45), ('type', 'has Talk')).\n",
      "2ND TRY: Looking only for (('duration', 45), ('language', 'English'), ('type', 'has Talk')).\n",
      "3RD TRY: Looking only for (('duration', 45), ('type', 'has Talk')).\n",
      "FAILED looking for (('duration', 45), ('type', 'has Talk')).\n",
      "2ND TRY: Looking only for (('duration', 45), ('language', 'English'), ('type', 'has Talk')).\n",
      "3RD TRY: Looking only for (('duration', 45), ('type', 'has Talk')).\n",
      "FAILED looking for (('duration', 45), ('type', 'has Talk')).\n",
      "2ND TRY: Looking only for (('duration', (45, 60)), ('language', 'English'), ('type', 'has Talk')).\n",
      "3RD TRY: Looking only for (('duration', (45, 60)), ('type', 'has Talk')).\n",
      "FAILED looking for (('duration', (45, 60)), ('type', 'has Talk')).\n",
      "2ND TRY: Looking only for (('duration', 45), ('language', 'English'), ('type', 'has Talk')).\n",
      "3RD TRY: Looking only for (('duration', 45), ('type', 'has Talk')).\n",
      "FAILED looking for (('duration', 45), ('type', 'has Talk')).\n",
      "2ND TRY: Looking only for (('duration', 45), ('language', 'English'), ('type', 'has Talk')).\n",
      "3RD TRY: Looking only for (('duration', 45), ('type', 'has Talk')).\n",
      "FAILED looking for (('duration', 45), ('type', 'has Talk')).\n",
      "2ND TRY: Looking only for (('duration', 45), ('language', 'English'), ('type', 'has Talk')).\n",
      "3RD TRY: Looking only for (('duration', 45), ('type', 'has Talk')).\n",
      "FAILED looking for (('duration', 45), ('type', 'has Talk')).\n",
      "2ND TRY: Looking only for (('duration', (45, 60)), ('language', 'English'), ('type', 'has Talk')).\n",
      "3RD TRY: Looking only for (('duration', (45, 60)), ('type', 'has Talk')).\n",
      "FAILED looking for (('duration', (45, 60)), ('type', 'has Talk')).\n",
      "2ND TRY: Looking only for (('duration', 45), ('language', 'English'), ('type', 'has Talk')).\n",
      "3RD TRY: Looking only for (('duration', 45), ('type', 'has Talk')).\n",
      "FAILED looking for (('duration', 45), ('type', 'has Talk')).\n",
      "2ND TRY: Looking only for (('duration', (45, 30)), ('language', 'English'), ('type', 'has Talk')).\n",
      "2ND TRY: Looking only for (('language', 'English'), ('type', 'has Training')).\n",
      "2ND TRY: Looking only for (('language', 'English'), ('type', 'has Training')).\n",
      "2ND TRY: Looking only for (('language', 'English'), ('type', 'has Training')).\n"
     ]
    }
   ],
   "source": [
    "from eptools.dict_query import or_condition\n",
    "\n",
    "talks = grid_talks.copy()\n",
    "shuffle(talks)\n",
    "\n",
    "\n",
    "def condition_set(slot_conditions, default_conditions, topic_conditions):\n",
    "    conds = join_conds(default_conditions, slot_conditions)\n",
    "    if 'admin_type' not in dict(conds):\n",
    "        conds = join_conds(conds, topic_conditions)\n",
    "    return conds\n",
    "\n",
    "# random pick talks\n",
    "week_slots = defaultdict(dict)\n",
    "for day in weekday_names:\n",
    "    shuffle(tags_sorted)\n",
    "    tags_chunks  = list(split([t[0] for t in tags_sorted], len(room_names)))\n",
    "    rooms_topics = {room: or_condition(tags_field, 'has', tags) \n",
    "                   for room, tags in zip(room_names.keys(), tags_chunks)}  \n",
    "    \n",
    "    for room in room_names:\n",
    "        slots_conds = week_conditions[day][room]\n",
    "        room_topics = rooms_topics[room]\n",
    "        week_slots[day][room] = []\n",
    "        #print(len(talks))\n",
    "        for slot_cond in slots_conds:\n",
    "            conds = condition_set(slot_cond, default_condition, room_topics)\n",
    "            try:\n",
    "                week_slots[day][room].append(pick_talk(talks, conds))\n",
    "            except IndexError:\n",
    "                print('No talks left for {}.'.format(conditions))\n",
    "            except:\n",
    "                raise"
   ]
  },
  {
   "cell_type": "markdown",
   "metadata": {},
   "source": [
    "### Remaining talks\n",
    "\n",
    "Print the remaining talks that have been left out of the schedule (by accident?)."
   ]
  },
  {
   "cell_type": "code",
   "execution_count": 102,
   "metadata": {
    "collapsed": false
   },
   "outputs": [
    {
     "data": {
      "text/plain": [
       "False"
      ]
     },
     "execution_count": 102,
     "metadata": {},
     "output_type": "execute_result"
    }
   ],
   "source": [
    "q = build_query((('type', 'has Training'),))\n",
    "run_query(talks[0], q)"
   ]
  },
  {
   "cell_type": "code",
   "execution_count": 103,
   "metadata": {
    "collapsed": false
   },
   "outputs": [
    {
     "data": {
      "text/html": [
       "<h1>Not scheduled talks</h1>"
      ],
      "text/plain": [
       "<IPython.core.display.HTML object>"
      ]
     },
     "metadata": {},
     "output_type": "execute_result"
    },
    {
     "name": "stdout",
     "output_type": "stream",
     "text": [
      "{'sub_community': '', 'admin_type': '', 'tags': ['Web', 'General'], 'sub_title': '', 'language': 'Basque', 'track_title': '', 'level': 'Beginner', 'tag_categories': ['', ''], 'title': 'Datu bistaratze soluzioen garapena Smartcity proiektuetan', 'id': 693, 'timerange': '', 'duration': 30, 'type': 'Talk (30 mins)', 'speakers': 'Iker Martinez de Agirre Mendia'}\n",
      "{'sub_community': '', 'admin_type': '', 'tags': ['Python general', 'Packaging', 'Cross-Platform-Development'], 'sub_title': 'A better solution to the packing problem!?', 'language': 'English', 'track_title': '', 'level': 'Beginner', 'tag_categories': ['Python', 'Python', 'Python'], 'title': 'Conda - Easier Installs and Simpler Builds', 'id': 597, 'timerange': '', 'duration': 30, 'type': 'Talk (30 mins)', 'speakers': 'Mike Müller'}\n",
      "{'sub_community': '', 'admin_type': '', 'tags': ['python'], 'sub_title': '', 'language': 'English', 'track_title': '', 'level': 'Beginner', 'tag_categories': [''], 'title': 'Sponsored Talk', 'id': 701, 'timerange': '', 'duration': 30, 'type': 'Talk (30 mins)', 'speakers': 'To be announced'}\n",
      "{'sub_community': '', 'admin_type': '', 'tags': ['Python 3', 'CPython', 'Compiler and Interpreters'], 'sub_title': '', 'language': 'English', 'track_title': '', 'level': 'Intermediate', 'tag_categories': ['Python', 'Python', 'Python'], 'title': 'Exploring our Python Interpreter', 'id': 652, 'timerange': '', 'duration': 30, 'type': 'Talk (30 mins)', 'speakers': 'Stephane Wirtel'}\n",
      "{'sub_community': '', 'admin_type': '', 'tags': ['Programming', 'C-Languages', 'Testing'], 'sub_title': '', 'language': 'English', 'track_title': '', 'level': 'Intermediate', 'tag_categories': ['Programming', 'Other Programming Languages', 'Testing'], 'title': 'Writing unit tests for C code in Python', 'id': 656, 'timerange': '', 'duration': 30, 'type': 'Talk (30 mins)', 'speakers': 'Alexander Steffen'}\n",
      "{'sub_community': '', 'admin_type': '', 'tags': ['Python general', 'Data Structures', 'Programming', 'Go-Lang'], 'sub_title': 'A side-by-side walkthrough of basic Go syntax and semantics compared to Python', 'language': 'English', 'track_title': '', 'level': 'Beginner', 'tag_categories': ['Python', 'Programming', 'Programming', 'Other Programming Languages'], 'title': 'Go for Python Programmers', 'id': 672, 'timerange': '', 'duration': 30, 'type': 'Talk (30 mins)', 'speakers': 'Shahriar Tajbakhsh'}\n",
      "{'sub_community': '', 'admin_type': '', 'tags': ['Python general', 'CPython'], 'sub_title': 'A look at the inner workings of the `re` module.', 'language': 'English', 'track_title': '', 'level': 'Intermediate', 'tag_categories': ['Python', 'Python'], 'title': \"re-Discovering Python's Regular Expressions\", 'id': 640, 'timerange': '', 'duration': 30, 'type': 'Talk (30 mins)', 'speakers': 'Ilia Kurenkov'}\n"
     ]
    }
   ],
   "source": [
    "if talks:\n",
    "    show('<h1>Not scheduled talks</h1>')\n",
    "\n",
    "    for talk in talks:\n",
    "        print(talk)"
   ]
  },
  {
   "cell_type": "markdown",
   "metadata": {},
   "source": [
    "## Print the schedule"
   ]
  },
  {
   "cell_type": "markdown",
   "metadata": {},
   "source": [
    "Declare functions needed to orederly access the talks in the filled schedule and print the tables nicely in this notebook."
   ]
  },
  {
   "cell_type": "code",
   "execution_count": 104,
   "metadata": {
    "collapsed": true
   },
   "outputs": [],
   "source": [
    "class ListTable(list):\n",
    "    \"\"\" Overridden list class which takes a 2-dimensional list of \n",
    "        the form [[1,2,3],[4,5,6]], and renders an HTML Table in \n",
    "        IPython Notebook. \"\"\"\n",
    "    \n",
    "    def _repr_html_(self):\n",
    "        html = [\"<table>\"]\n",
    "        for row in self:\n",
    "            html.append(\"<tr>\")\n",
    "            \n",
    "            for col in row:\n",
    "                html.append(\"<td>{0}</td>\".format(col))\n",
    "            \n",
    "            html.append(\"</tr>\")\n",
    "        html.append(\"</table>\")\n",
    "        return ''.join(html)\n",
    "\n",
    "\n",
    "def tabulate(time_list, header=''):\n",
    "    table = ListTable()\n",
    "    table.append(header)\n",
    "    for slot in time_list:\n",
    "        table.append([slot] + time_list[slot])\n",
    "    return table\n",
    "\n",
    "\n",
    "def get_room_schedule(weekly_schedule, room_name, field='title'):\n",
    "    slots = list(daily_schedule[room_name].keys())\n",
    "    daily_slots = []\n",
    "    for slot in slots:\n",
    "        talks = [weekly_schedule[d][room_name][slot].get(field, '-') for d in range(n_days)]\n",
    "        daily_slots.append((slot, talks))\n",
    "    room_schedule = OrderedDict(daily_slots)\n",
    "    return room_schedule\n",
    "\n",
    "\n",
    "from itertools import zip_longest\n",
    "def get_day_schedule(weekly_schedule, day_num, field='title'):\n",
    "    day_schedule = weekly_schedule[day_num]\n",
    "    nslots = max([len(slots) for room, slots in day_schedule.items()])\n",
    "    room_slots = []\n",
    "    for room, talk_slots in day_schedule.items():\n",
    "        room_talks = [talk.get(field, '-') for slot, talk in enumerate(talk_slots)]\n",
    "        room_slots.append(room_talks)\n",
    "    schedule = OrderedDict(list(enumerate(list(map(list, zip_longest(*room_slots))))))\n",
    "    return schedule"
   ]
  },
  {
   "cell_type": "markdown",
   "metadata": {},
   "source": [
    "## Schedule"
   ]
  },
  {
   "cell_type": "code",
   "execution_count": 105,
   "metadata": {
    "collapsed": false
   },
   "outputs": [
    {
     "data": {
      "text/html": [
       "<h3>Monday, July 18th</h3>"
      ],
      "text/plain": [
       "<IPython.core.display.HTML object>"
      ]
     },
     "metadata": {},
     "output_type": "execute_result"
    },
    {
     "data": {
      "text/html": [
       "<table><tr><td>Slot</td><td>A1</td><td>A3</td><td>A2</td><td>Ba1</td><td>Ba2</td><td>E</td><td>A4</td></tr><tr><td>0</td><td>Implementing Parallel Programming Design Patterns using EFL for Python</td><td>Jupyter for everything else</td><td>SQLAlchemy as the backbone of a Data Science company</td><td>Handling GPS Data with Python</td><td>Build your first OpenStack application with OpenStack PythonSDK</td><td>The Stupid Python Workshop</td><td>Property-based testing with Hypothesis</td></tr><tr><td>1</td><td>Against the silos: usable encrypted email & the quest for privacy-aware services</td><td>Get Instrumented!</td><td>TDD of Python microservices</td><td>CloudABI: Capability based security on Linux/UNIX</td><td>How to improve your diet and save money with Python</td><td>Blender: much visual, very 3d, many python.</td><td>OpenStack Cloud Native Deployment for Application Developers</td></tr><tr><td>2</td><td>The Report Of Twisted’s Death</td><td>AFP: secure cloud authentication for machines and humans.</td><td>Real virtual environments without virtualenv</td><td>Developing a real-time automated trading platform with Python</td><td>Is that spam in my ham?</td><td>None</td><td>None</td></tr><tr><td>3</td><td>Scaling Microservices with Crossbar.io</td><td>Introduction to aiohttp</td><td>Operating on Encrypted Data with ZeroDB</td><td>How OpenStack makes Python better (and vice-versa)</td><td>Kung Fu at Dawn with Itertools</td><td>None</td><td>None</td></tr><tr><td>4</td><td>Things I wish I knew before starting using Python for Data Processing</td><td>Ingesting 35 million hotel images with python in the cloud.</td><td>What is the best full text search engine for Python?</td><td>Brainwaves for hackers 3</td><td>The Joy of Simulation: for Fun and Profit</td><td>None</td><td>None</td></tr><tr><td>5</td><td>Automate, contribute, repeat.</td><td>Game Theory to the Rescue When Hard Decisions Are to Be Made</td><td>Building a mBaaS framework using Django</td><td>Making robots walk with Python</td><td>Pure Data and a Clean Architecture</td><td>None</td><td>None</td></tr><tr><td>6</td><td>Implementing a Sound Identifier in Python</td><td>System Testing with pytest and docker-py</td><td>AWS lambda & Python</td><td>Clean code in Python</td><td>Testing the untestable: a beginner’s guide to mock objects</td><td>None</td><td>None</td></tr></table>"
      ],
      "text/plain": [
       "<IPython.core.display.HTML object>"
      ]
     },
     "metadata": {},
     "output_type": "execute_result"
    },
    {
     "data": {
      "text/html": [
       "<h3>Tuesday, July 19th</h3>"
      ],
      "text/plain": [
       "<IPython.core.display.HTML object>"
      ]
     },
     "metadata": {},
     "output_type": "execute_result"
    },
    {
     "data": {
      "text/html": [
       "<table><tr><td>Slot</td><td>A1</td><td>A3</td><td>A2</td><td>Ba1</td><td>Ba2</td><td>E</td><td>A4</td></tr><tr><td>0</td><td>Python in Astronomy</td><td>Building your own AI</td><td>I Hate You, NLP... ;)</td><td>Do I need to switch to Go(lang) ?</td><td>Hacking ético con herramientas Python</td><td>Guide to make a real contribution to an open source project for novice</td><td>So, what's all the fuss about Docker?</td></tr><tr><td>1</td><td>High Performance Networking in Python</td><td>What's the point of Object Orientation?</td><td>Analyzing Data with Python & Docker</td><td>Towards More Secure Emailing</td><td>Kung Fu al amanecer con itertools</td><td>pytest - simple, rapid and fun testing with Python</td><td>Faster Python Programs - Measure, don't Guess</td></tr><tr><td>2</td><td>Nipy on functional brain MRI</td><td>Python Descriptors for Better Data Structures</td><td>Wrestling Python into LLVM Intermediate Representation</td><td>Python and Async programming</td><td>Implementación de un Identificador de Sonido en Python</td><td>None</td><td>None</td></tr><tr><td>3</td><td>Data Formats for Data Science</td><td>Profiling the unprofilable</td><td>An Introduction to Deep Learning</td><td>Ethical hacking with Python tools</td><td>APIs and Microservices With Go</td><td>None</td><td>None</td></tr><tr><td>4</td><td>Beyond scraping, getting data from dynamic, heavily javascript driven, websites</td><td>Effectively test your webapp with Python and Selenium</td><td>Effective Code Review</td><td>Moving away from NodeJS to a pure python solution for assets</td><td>Un vector por tu palabra</td><td>None</td><td>None</td></tr><tr><td>5</td><td>Fast Async Code with Cython and AsyncIO</td><td>Pygame Zero</td><td>NetworkX Visualization Powered by Bokeh</td><td>Behind Closed Doors: Managing Passwords in a Dangerous World</td><td>Entendiendo Unicode</td><td>None</td><td>None</td></tr><tr><td>6</td><td>Optimize Thyself</td><td>Keeping the Lights on with Python</td><td>Predicting Oscar Winners & Box Office Hits with Scikit Learn</td><td>Monkey-patching: a magic trick or a powerful tool?</td><td>Pytest desde las trincheras</td><td>None</td><td>None</td></tr></table>"
      ],
      "text/plain": [
       "<IPython.core.display.HTML object>"
      ]
     },
     "metadata": {},
     "output_type": "execute_result"
    },
    {
     "data": {
      "text/html": [
       "<h3>Wednesday, July 20th</h3>"
      ],
      "text/plain": [
       "<IPython.core.display.HTML object>"
      ]
     },
     "metadata": {},
     "output_type": "execute_result"
    },
    {
     "data": {
      "text/html": [
       "<table><tr><td>Slot</td><td>A1</td><td>A3</td><td>A2</td><td>Ba1</td><td>Ba2</td><td>E</td><td>A4</td></tr><tr><td>0</td><td>Deep Learning with Python & TensorFlow</td><td>Using Service Discovery to build dynamic python applications</td><td>Performant Python</td><td>FAT Python: a new static optimizer for Python 3.6</td><td>Efficient Django</td><td>Manage your Python packages professionally with devpi</td><td>Efficient Python for High-Performance Parallel Computing</td></tr><tr><td>1</td><td>A Gentle Introduction to Neural Networks (with Python)</td><td>What Python can learn from Haskell packaging</td><td>Asynchronous network requests in a web application</td><td>Metaclasses for fun and profit: Making a declarative GUI implementation</td><td>-</td><td>Test-driven code search and the art of writing implementation-agnostic tests</td><td>(Machine-)Learning Chinese, with Python!</td></tr><tr><td>2</td><td>OMG, Bokeh is better than ever!</td><td>Protect your users with Circuit Breakers</td><td>Iteration, iteration, iteration</td><td>Buildout Django eta Fabric. Kasu praktikoa euskarazko tokiko hedabideetan</td><td>import community</td><td>None</td><td>None</td></tr><tr><td>3</td><td>Unveiling the Universe with python</td><td>Infrastructure as Code: \"pip install\" your environment</td><td>Raspberry Pi GPIO Zero</td><td>Modern OpenGL with Python</td><td>A deep dive into the Pymongo MongoDB driver</td><td>None</td><td>None</td></tr><tr><td>4</td><td>Python in Gravitational Waves Research Communities</td><td>MicroPython on the BBC micro:bit</td><td>Designing a Pythonic Interface</td><td>Building Service interfaces with OpenAPI / Swagger</td><td>-</td><td>None</td><td>None</td></tr><tr><td>5</td><td>It's not magic: descriptors exposed</td><td>Grocker, a Python build chain for Docker</td><td>Writing faster Python</td><td>EITB Nahieran: askatu bideoak API honen bidez</td><td>The Journey from Python Developer to Python Company Owner</td><td>None</td><td>None</td></tr><tr><td>6</td><td>Music transcription with Python</td><td>MiniBrew: Brewing beer with Python</td><td>Building beautiful RESTful APIs using Flask</td><td>Endor, ipuinak kontatzen zituen Nao robota.</td><td>Server for IoT devices and Mobile devices using Wifi Network,</td><td>None</td><td>None</td></tr></table>"
      ],
      "text/plain": [
       "<IPython.core.display.HTML object>"
      ]
     },
     "metadata": {},
     "output_type": "execute_result"
    },
    {
     "data": {
      "text/html": [
       "<h3>Thursday, July 21st</h3>"
      ],
      "text/plain": [
       "<IPython.core.display.HTML object>"
      ]
     },
     "metadata": {},
     "output_type": "execute_result"
    },
    {
     "data": {
      "text/html": [
       "<table><tr><td>Slot</td><td>A1</td><td>A3</td><td>A2</td><td>Ba1</td><td>Ba2</td><td>E</td><td>A4</td></tr><tr><td>0</td><td>-</td><td>-</td><td>-</td><td>-</td><td>-</td><td>Python for System Administrators</td><td>uWSGI: the full stack application server</td></tr><tr><td>1</td><td>-</td><td>-</td><td>-</td><td>-</td><td>-</td><td>Introduction to Deep Learning for Natural Language Processing</td><td>NumPy with Cython</td></tr><tr><td>2</td><td>-</td><td>Writing Redis in Python with asyncio</td><td>Create secure production environment using Docker</td><td>Machine Learning for dummies with Python</td><td>The right way to write documentation</td><td>None</td><td>None</td></tr><tr><td>3</td><td>-</td><td>-</td><td>-</td><td>-</td><td>-</td><td>None</td><td>None</td></tr><tr><td>4</td><td>-</td><td>So you think your Python startup is worth $10 million...</td><td>-</td><td>-</td><td>-</td><td>None</td><td>None</td></tr><tr><td>5</td><td>-</td><td>Building a reasonably popular web application for the first time.</td><td>Dynamic Class Generation in Python</td><td>Machine Learning: Power of Ensembles</td><td>Writing Python Native Extensions in Rust</td><td>None</td><td>None</td></tr><tr><td>6</td><td>Peeking into Python’s C API</td><td>Python, Data & Rock'n'Roll</td><td>Managing Mocks</td><td>Simplifying Computer Art in Python</td><td>CFFI: calling C from Python</td><td>None</td><td>None</td></tr></table>"
      ],
      "text/plain": [
       "<IPython.core.display.HTML object>"
      ]
     },
     "metadata": {},
     "output_type": "execute_result"
    },
    {
     "data": {
      "text/html": [
       "<h3>Friday, July 22nd</h3>"
      ],
      "text/plain": [
       "<IPython.core.display.HTML object>"
      ]
     },
     "metadata": {},
     "output_type": "execute_result"
    },
    {
     "data": {
      "text/html": [
       "<table><tr><td>Slot</td><td>A1</td><td>A3</td><td>A2</td><td>Ba1</td><td>Ba2</td><td>E</td><td>A4</td></tr><tr><td>0</td><td>-</td><td>-</td><td>-</td><td>-</td><td>-</td><td>Introduction to Data Wrangling</td><td>IPython in Depth</td></tr><tr><td>1</td><td>-</td><td>-</td><td>-</td><td>-</td><td>-</td><td>Productive Coding with PyCharm</td><td>Present-day Async Web development training: from Twisted to Tornado and AsyncIO</td></tr><tr><td>2</td><td>-</td><td>How to use Metaclasses to improve your Software Design</td><td>Build your Microservices with ZeroMQ</td><td>RESTful API - Best Practises.</td><td>Learn Python The Fun Way</td><td>None</td><td>None</td></tr><tr><td>3</td><td>-</td><td>-</td><td>-</td><td>-</td><td>-</td><td>None</td><td>None</td></tr><tr><td>4</td><td>-</td><td>The value of mindfulness and how it has arrived at Google</td><td>-</td><td>-</td><td>-</td><td>None</td><td>None</td></tr><tr><td>5</td><td>-</td><td>Using and abusing Python’s double-underscore methods and attributes</td><td>async/await in Python 3.5 and why it is awesome</td><td>Another pair of eyes: Reviewing code well</td><td>Hands-on with nilearn for Neuroimaging</td><td>None</td><td>None</td></tr><tr><td>6</td><td>Python as the keystone of building and testing C++ applications</td><td>Exploring Python Bytecode</td><td>Get in control of your workflows with Airflow</td><td>Test Driven Deployment with Ansible 2.0</td><td>Sponsored Talk</td><td>None</td><td>None</td></tr></table>"
      ],
      "text/plain": [
       "<IPython.core.display.HTML object>"
      ]
     },
     "metadata": {},
     "output_type": "execute_result"
    }
   ],
   "source": [
    "sched_field = 'title'\n",
    "\n",
    "for day, _ in enumerate(weekday_names):\n",
    "    show('<h3>{}</h3>'.format(weekday_names[day]))\n",
    "    show(tabulate(get_day_schedule(week_slots, day), \n",
    "                  header=['Slot'] + list(room_names.values()))._repr_html_())"
   ]
  },
  {
   "cell_type": "markdown",
   "metadata": {},
   "source": [
    "## Snippets"
   ]
  },
  {
   "cell_type": "code",
   "execution_count": null,
   "metadata": {
    "collapsed": true
   },
   "outputs": [],
   "source": [
    "get_room_schedule(weekly_schedule, 'A1')"
   ]
  },
  {
   "cell_type": "code",
   "execution_count": null,
   "metadata": {
    "collapsed": true
   },
   "outputs": [],
   "source": [
    "## schedules by room\n",
    "# tabulate(get_room_schedule(weekly_schedule, 'A1'),  header=['A1'] + weekday_names)\n",
    "# tabulate(get_room_schedule(weekly_schedule, 'A2'),  header=['A2'] + weekday_names)\n",
    "# tabulate(get_room_schedule(weekly_schedule, 'A3'),  header=['A3'] + weekday_names)\n",
    "# tabulate(get_room_schedule(weekly_schedule, 'Ba1'), header=['Barria 1'] + weekday_names)\n",
    "# tabulate(get_room_schedule(weekly_schedule, 'Ba2'), header=['Barria 2'] + weekday_names)\n",
    "# tabulate(get_room_schedule(weekly_schedule, 'E'), header=[room_names[6]] + weekday_names)\n",
    "# tabulate(get_room_schedule(weekly_schedule, room_names[7]]), header=[room_names[7]]] + weekday_names)"
   ]
  },
  {
   "cell_type": "code",
   "execution_count": null,
   "metadata": {
    "collapsed": true
   },
   "outputs": [],
   "source": [
    "def find_talk(talk_title):\n",
    "    return [talk for talk in all_talks if talk_title in talk['title']]\n",
    "\n",
    "find_talk(\"So, what's all the fuss about Docker?\")"
   ]
  }
 ],
 "metadata": {
  "kernelspec": {
   "display_name": "Python 3",
   "language": "python",
   "name": "python3"
  },
  "language_info": {
   "codemirror_mode": {
    "name": "ipython",
    "version": 3
   },
   "file_extension": ".py",
   "mimetype": "text/x-python",
   "name": "python",
   "nbconvert_exporter": "python",
   "pygments_lexer": "ipython3",
   "version": "3.5.1"
  },
  "latex_envs": {
   "bibliofile": "biblio.bib",
   "cite_by": "apalike",
   "current_citInitial": 1,
   "eqLabelWithNumbers": true,
   "eqNumInitial": 0
  },
  "widgets": {
   "state": {},
   "version": "1.1.2"
  }
 },
 "nbformat": 4,
 "nbformat_minor": 0
}
