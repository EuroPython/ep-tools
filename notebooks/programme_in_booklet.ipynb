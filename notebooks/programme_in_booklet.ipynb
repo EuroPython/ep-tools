{
 "cells": [
  {
   "cell_type": "markdown",
   "metadata": {},
   "source": [
    "\n",
    "# EuroPython 2016 booklet program listing"
   ]
  },
  {
   "cell_type": "code",
   "execution_count": 1,
   "metadata": {
    "ExecuteTime": {
     "end_time": "2016-06-29T18:25:34.318313",
     "start_time": "2016-06-29T18:25:34.303228"
    },
    "collapsed": false
   },
   "outputs": [
    {
     "data": {
      "application/javascript": [
       "IPython.OutputArea.auto_scroll_threshold = 99999;\n",
       "//increase max size of output area"
      ],
      "text/plain": [
       "<IPython.core.display.Javascript object>"
      ]
     },
     "metadata": {},
     "output_type": "display_data"
    }
   ],
   "source": [
    "%%javascript\n",
    "IPython.OutputArea.auto_scroll_threshold = 99999;\n",
    "//increase max size of output area"
   ]
  },
  {
   "cell_type": "code",
   "execution_count": 2,
   "metadata": {
    "ExecuteTime": {
     "end_time": "2016-06-29T18:25:35.158801",
     "start_time": "2016-06-29T18:25:34.952232"
    },
    "collapsed": false
   },
   "outputs": [],
   "source": [
    "import json\n",
    "import datetime as dt\n",
    "from   operator import itemgetter\n",
    "from   collections import OrderedDict\n",
    "from   datetime import datetime\n",
    "\n",
    "from IPython.display import display, HTML\n",
    "from nbconvert.filters.markdown import markdown2html"
   ]
  },
  {
   "cell_type": "code",
   "execution_count": 5,
   "metadata": {
    "ExecuteTime": {
     "end_time": "2016-06-29T18:28:09.041759",
     "start_time": "2016-06-29T18:28:09.027513"
    },
    "collapsed": false
   },
   "outputs": [],
   "source": [
    "talk_sessions = json.load(open('accepted_talks.json'))\n",
    "talks_admin_url = 'https://ep2016.europython.eu/admin/conference/talk'"
   ]
  },
  {
   "cell_type": "code",
   "execution_count": 6,
   "metadata": {
    "ExecuteTime": {
     "end_time": "2016-06-29T18:28:09.620885",
     "start_time": "2016-06-29T18:28:09.600286"
    },
    "collapsed": false
   },
   "outputs": [],
   "source": [
    "sessions_talks = OrderedDict()\n",
    "\n",
    "# remove the IDs from the talks\n",
    "for name, sess in talk_sessions.items():\n",
    "    sessions_talks[name] = [talk for tid, talk in sess.items()]\n",
    "\n",
    "\n",
    "# add 'start' time for each talk\n",
    "for name, talks in sessions_talks.items():\n",
    "    for talk in talks:\n",
    "        tr = talk['timerange']\n",
    "        if not tr:\n",
    "            talk['start'] = datetime.now()\n",
    "        else:\n",
    "            talk['start'] = datetime.strptime(tr.split(',')[0].strip(), \"%Y-%m-%d %H:%M:%S\")\n",
    "\n",
    "\n",
    "from operator import itemgetter\n",
    "for sess, talks in sessions_talks.items():\n",
    "    sessions_talks[sess] = sorted(talks, key=itemgetter('start', 'track_title'))"
   ]
  },
  {
   "cell_type": "code",
   "execution_count": 11,
   "metadata": {
    "ExecuteTime": {
     "end_time": "2016-06-29T18:47:06.290112",
     "start_time": "2016-06-29T18:47:06.232831"
    },
    "collapsed": false
   },
   "outputs": [],
   "source": [
    "show = lambda s: display(HTML(s))\n",
    "\n",
    "def ordinal(n):\n",
    "    if 10 <= n % 100 < 20:\n",
    "        return str(n) + 'th'\n",
    "    else:\n",
    "        return  str(n) + {1 : 'st', 2 : 'nd', 3 : 'rd'}.get(n % 10, \"th\")\n",
    "\n",
    "def talk_schedule(start, end):\n",
    "\n",
    "    input_format  = \"%Y-%m-%d %H:%M:%S\"\n",
    "    output_format_day = \"%A, %B\"\n",
    "    output_format_time = \"%H:%M\"\n",
    "    \n",
    "    output_date = lambda d: \"{} {} at {}\".format(d.strftime(output_format_day), \n",
    "                                                 ordinal(int(d.strftime('%d'))),\n",
    "                                                 d.strftime(output_format_time))\n",
    "    \n",
    "    start_date = dt.datetime.strptime(start, input_format)\n",
    "    end_date   = dt.datetime.strptime(end  , input_format)\n",
    "\n",
    "    return output_date(start_date), output_date(end_date)\n",
    "\n",
    "\n",
    "def show_talk(talk, show_duration=True, show_link_to_admin=True):\n",
    "    \n",
    "    speakers  = talk['speakers']\n",
    "    title     = talk['title']\n",
    "    abstract  = talk['abstract_long'][0]\n",
    "    room      = talk.get('track_title', '').split(', ')[0]\n",
    "    timerange = talk.get('timerange', '').split(';')[0]\n",
    "    \n",
    "    show('<h2>{}</h2>'.format(title))\n",
    "    \n",
    "    if show_link_to_admin:\n",
    "        talk_admin_url = talks_admin_url + '/{}'.format(talk['id'])\n",
    "        show('<a href={0}>{0}</a>'.format(talk_admin_url))\n",
    "    \n",
    "    if show_duration:\n",
    "        duration = '{} mins.'.format(talk['duration'])\n",
    "    else:\n",
    "        duration = ''\n",
    "\n",
    "    timerange = talk['timerange'].split(';')[0]\n",
    "    try:\n",
    "        start, end = talk_schedule(*timerange.split(', '))\n",
    "    except:\n",
    "        start, end = ('', '')\n",
    "\n",
    "    if start:\n",
    "        schedule  = '<p>'\n",
    "        schedule += '{} in {}'.format(start, room)\n",
    "        if show_duration:\n",
    "            schedule += ' ({})'.format(duration)\n",
    "        schedule += '</p>'\n",
    "\n",
    "        show(schedule)\n",
    "    \n",
    "    show('<h3><i>{}</i></h2>'.format(speakers))\n",
    "    #show('<p>{}</p>'.format(markdown2html(abstract)))\n",
    "    show('<br/>')"
   ]
  },
  {
   "cell_type": "code",
   "execution_count": 14,
   "metadata": {
    "ExecuteTime": {
     "end_time": "2016-06-29T18:51:28.725893",
     "start_time": "2016-06-29T18:51:28.714114"
    },
    "collapsed": false
   },
   "outputs": [],
   "source": [
    "#session_names = ['Keynotes', 'Talks', 'Trainings', 'Help desks',\n",
    "#                 'EuroPython sessions', 'Other sessions', 'Poster sessions']\n",
    "\n",
    "from collections import OrderedDict\n",
    "\n",
    "# session_names = [('Keynote',            'Keynotes'),\n",
    "#                  ('talk',               'Talks'),\n",
    "#                  ('training',           'Tutorials'), \n",
    "#                  ('poster',             'Posters'),\n",
    "#                  ('helpdesk',           'Helpdesks'),\n",
    "#                  ('EPS session',        'EuroPython Society Sessions'),\n",
    "#                  ('Recruiting session', 'Recruiting'),\n",
    "#                  ('interactive',        'Interactive sessions'),\n",
    "#                  ('Reserved slot',      'TALKS'),\n",
    "#                  ('Lightning talk',     'TALKS'),\n",
    "#                  ('Closing session',    'Closing session'),                 \n",
    "#                 ]\n",
    "\n",
    "session_names = [('Keynote',            'Keynotes'),\n",
    "                ]\n",
    "\n",
    "session_names = OrderedDict(session_names)"
   ]
  },
  {
   "cell_type": "code",
   "execution_count": 15,
   "metadata": {
    "ExecuteTime": {
     "end_time": "2016-06-29T18:51:29.538595",
     "start_time": "2016-06-29T18:51:29.498816"
    },
    "collapsed": false
   },
   "outputs": [
    {
     "data": {
      "text/html": [
       "<h1>Keynotes</h1>"
      ],
      "text/plain": [
       "<IPython.core.display.HTML object>"
      ]
     },
     "metadata": {},
     "output_type": "display_data"
    },
    {
     "data": {
      "text/html": [
       "<h2>20 years without a 'proper job'</h2>"
      ],
      "text/plain": [
       "<IPython.core.display.HTML object>"
      ]
     },
     "metadata": {},
     "output_type": "display_data"
    },
    {
     "data": {
      "text/html": [
       "<p>Monday, July 18th at 09:15 in A1</p>"
      ],
      "text/plain": [
       "<IPython.core.display.HTML object>"
      ]
     },
     "metadata": {},
     "output_type": "display_data"
    },
    {
     "data": {
      "text/html": [
       "<h3><i>Rachel Willmer</i></h2>"
      ],
      "text/plain": [
       "<IPython.core.display.HTML object>"
      ]
     },
     "metadata": {},
     "output_type": "display_data"
    },
    {
     "data": {
      "text/html": [
       "<br/>"
      ],
      "text/plain": [
       "<IPython.core.display.HTML object>"
      ]
     },
     "metadata": {},
     "output_type": "display_data"
    },
    {
     "data": {
      "text/html": [
       "<h2>A Million Children (and MicroPython)</h2>"
      ],
      "text/plain": [
       "<IPython.core.display.HTML object>"
      ]
     },
     "metadata": {},
     "output_type": "display_data"
    },
    {
     "data": {
      "text/html": [
       "<p>Monday, July 18th at 13:45 in A1</p>"
      ],
      "text/plain": [
       "<IPython.core.display.HTML object>"
      ]
     },
     "metadata": {},
     "output_type": "display_data"
    },
    {
     "data": {
      "text/html": [
       "<h3><i>Nicholas Tollervey</i></h2>"
      ],
      "text/plain": [
       "<IPython.core.display.HTML object>"
      ]
     },
     "metadata": {},
     "output_type": "display_data"
    },
    {
     "data": {
      "text/html": [
       "<br/>"
      ],
      "text/plain": [
       "<IPython.core.display.HTML object>"
      ]
     },
     "metadata": {},
     "output_type": "display_data"
    },
    {
     "data": {
      "text/html": [
       "<h2>Inside the Hat: Python @ Walt Disney Animation Studios</h2>"
      ],
      "text/plain": [
       "<IPython.core.display.HTML object>"
      ]
     },
     "metadata": {},
     "output_type": "display_data"
    },
    {
     "data": {
      "text/html": [
       "<p>Tuesday, July 19th at 09:15 in A1</p>"
      ],
      "text/plain": [
       "<IPython.core.display.HTML object>"
      ]
     },
     "metadata": {},
     "output_type": "display_data"
    },
    {
     "data": {
      "text/html": [
       "<h3><i>Paul Hildebrandt</i></h2>"
      ],
      "text/plain": [
       "<IPython.core.display.HTML object>"
      ]
     },
     "metadata": {},
     "output_type": "display_data"
    },
    {
     "data": {
      "text/html": [
       "<br/>"
      ],
      "text/plain": [
       "<IPython.core.display.HTML object>"
      ]
     },
     "metadata": {},
     "output_type": "display_data"
    },
    {
     "data": {
      "text/html": [
       "<h2>LIGO: The Dawn of Gravitational Wave Astronomy</h2>"
      ],
      "text/plain": [
       "<IPython.core.display.HTML object>"
      ]
     },
     "metadata": {},
     "output_type": "display_data"
    },
    {
     "data": {
      "text/html": [
       "<p>Wednesday, July 20th at 09:15 in A1</p>"
      ],
      "text/plain": [
       "<IPython.core.display.HTML object>"
      ]
     },
     "metadata": {},
     "output_type": "display_data"
    },
    {
     "data": {
      "text/html": [
       "<h3><i>Jameson Rollins</i></h2>"
      ],
      "text/plain": [
       "<IPython.core.display.HTML object>"
      ]
     },
     "metadata": {},
     "output_type": "display_data"
    },
    {
     "data": {
      "text/html": [
       "<br/>"
      ],
      "text/plain": [
       "<IPython.core.display.HTML object>"
      ]
     },
     "metadata": {},
     "output_type": "display_data"
    },
    {
     "data": {
      "text/html": [
       "<h2>Come for the Language, Stay for the Community</h2>"
      ],
      "text/plain": [
       "<IPython.core.display.HTML object>"
      ]
     },
     "metadata": {},
     "output_type": "display_data"
    },
    {
     "data": {
      "text/html": [
       "<p>Thursday, July 21st at 09:15 in A1</p>"
      ],
      "text/plain": [
       "<IPython.core.display.HTML object>"
      ]
     },
     "metadata": {},
     "output_type": "display_data"
    },
    {
     "data": {
      "text/html": [
       "<h3><i>Naomi Ceder</i></h2>"
      ],
      "text/plain": [
       "<IPython.core.display.HTML object>"
      ]
     },
     "metadata": {},
     "output_type": "display_data"
    },
    {
     "data": {
      "text/html": [
       "<br/>"
      ],
      "text/plain": [
       "<IPython.core.display.HTML object>"
      ]
     },
     "metadata": {},
     "output_type": "display_data"
    },
    {
     "data": {
      "text/html": [
       "<h2>Scientist meets web dev: how Python became the language of data</h2>"
      ],
      "text/plain": [
       "<IPython.core.display.HTML object>"
      ]
     },
     "metadata": {},
     "output_type": "display_data"
    },
    {
     "data": {
      "text/html": [
       "<p>Friday, July 22nd at 09:15 in A1 [PyData Track]</p>"
      ],
      "text/plain": [
       "<IPython.core.display.HTML object>"
      ]
     },
     "metadata": {},
     "output_type": "display_data"
    },
    {
     "data": {
      "text/html": [
       "<h3><i>Gaël Varoquaux</i></h2>"
      ],
      "text/plain": [
       "<IPython.core.display.HTML object>"
      ]
     },
     "metadata": {},
     "output_type": "display_data"
    },
    {
     "data": {
      "text/html": [
       "<br/>"
      ],
      "text/plain": [
       "<IPython.core.display.HTML object>"
      ]
     },
     "metadata": {},
     "output_type": "display_data"
    }
   ],
   "source": [
    "for name, title in session_names.items():\n",
    "    show('<h1>{}</h1>'.format(title))\n",
    "    \n",
    "    talks = sessions_talks[name]\n",
    "    for talk in talks:\n",
    "        show_talk(talk, show_duration=False, show_link_to_admin=False)"
   ]
  },
  {
   "cell_type": "code",
   "execution_count": null,
   "metadata": {
    "collapsed": true
   },
   "outputs": [],
   "source": []
  }
 ],
 "metadata": {
  "kernelspec": {
   "display_name": "Python 3",
   "language": "python",
   "name": "python3"
  },
  "language_info": {
   "codemirror_mode": {
    "name": "ipython",
    "version": 3
   },
   "file_extension": ".py",
   "mimetype": "text/x-python",
   "name": "python",
   "nbconvert_exporter": "python",
   "pygments_lexer": "ipython3",
   "version": "3.5.1"
  },
  "latex_envs": {
   "bibliofile": "biblio.bib",
   "cite_by": "apalike",
   "current_citInitial": 1,
   "eqLabelWithNumbers": true,
   "eqNumInitial": 0
  },
  "widgets": {
   "state": {},
   "version": "1.1.2"
  }
 },
 "nbformat": 4,
 "nbformat_minor": 0
}
