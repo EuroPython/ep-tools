{
 "cells": [
  {
   "cell_type": "markdown",
   "metadata": {},
   "source": [
    "\n",
    "# EuroPython 2016 session instructions to PDF"
   ]
  },
  {
   "cell_type": "markdown",
   "metadata": {},
   "source": [
    "# Session Chair Information\n",
    "\n",
    "## Before your session\n",
    "\n",
    "1. Plan to be in the talk room at least **10 minutes** before your session.\n",
    "2. **Double check** that you have the **schedule** with you.\n",
    "3. Walk to your room.\n",
    "4. **Check** if there is spare water bottles for the speakers and video adaptors. If something is missing kindly ask the room manager to pick it.\n",
    "5. Reach for the next speaker.\n",
    "\n",
    "## For Each Talk\n",
    "\n",
    "1. Ask the speaker how they would like to be introduced, and double check that you know how to pronounce their name.\n",
    "2. Ask the speaker about their Q&A preference (see options below) and how they want to be announced of the last 10 or 5 minutes of talk.\n",
    "3. **Make sure the talk starts on time!** At the talk's scheduled start time, get up on stage, get the microphone, make eye contact with the A/V crew to get their go-ahead, the introduce the speaker.\n",
    "4. **Watch the clock.** Announce the speaker that their talk is about to finish, they way you agreed.\n",
    "5. **Two minutes before the talk's scheduled end time**, if it doesn't seem like the speaker is going to stop on their own, quietly get up and stand to the side of the stage. Be ready to interrupt them if they do not finish on time: \"I'm very sorry but our time is almost up.\", \"Can I suggest continuing in an open space?\", or \"Let's move on to Q&A.\".\n",
    "6. If the speaker requested **Q&A, stand beside the microphone to help moderate** (see section below).\n",
    "7. When the speaker is finished: start the applause, then stand up and thank them.\n",
    "\n",
    "## After Your Session\n",
    "\n",
    "1. Go tell the coordinator or anyone in the reception desk that you finished your session.\n",
    "\n",
    "\n",
    "## Q&A\n",
    "\n",
    "Speakers might have different preferences on how they want to Q&A session to be. Please ask them. Here go 3 examples:\n",
    "1. No questions; they will speak for the duration of their talk then leave.\n",
    "2. Take a session-chair-moderated questions for the last 5 minutes of the timeslot.\n",
    "\n",
    "\n",
    "## If You Have Any Problems\n",
    "\n",
    "If you have any problems, concerns, or questions, try to contact someone on the `europython-volunteers` Telegram channel (http://bit.ly/28QF0FM).\n",
    "\n",
    "Otherwise you can contact:\n",
    "1. Christian Barra: barrachris@gmail.com / @christianbarra\n",
    "2. Alexandre Savio: +34630555357 / alexsavio@gmail.com / @alexsavio\n",
    "3. TODO Add someone else with a phone number\n",
    "4. Any conference staff member.\n",
    "\n",
    "\n",
    "## Moderating Q&A\n",
    "\n",
    "To moderate a Q&A section, please:\n",
    "\n",
    "1. Step up to the audience mic and say (something to the effect of): \"Thank you {speaker}! We've got a few minutes for questions now\".\n",
    "2. Kindly ask the speaker to repeat the question once they heard it.\n",
    "3. Questions should be kept short. If the discussion is taking too long (2 minutes), kindly ask to discuss after the talk and reach for the following question, if any."
   ]
  },
  {
   "cell_type": "code",
   "execution_count": 16,
   "metadata": {
    "ExecuteTime": {
     "end_time": "2016-07-08T17:27:56.026298",
     "start_time": "2016-07-08T17:27:56.021784"
    },
    "collapsed": false
   },
   "outputs": [
    {
     "data": {
      "application/javascript": [
       "IPython.OutputArea.auto_scroll_threshold = 99999;\n",
       "//increase max size of output area"
      ],
      "text/plain": [
       "<IPython.core.display.Javascript object>"
      ]
     },
     "metadata": {},
     "output_type": "display_data"
    }
   ],
   "source": [
    "%%javascript\n",
    "IPython.OutputArea.auto_scroll_threshold = 99999;\n",
    "//increase max size of output area"
   ]
  },
  {
   "cell_type": "code",
   "execution_count": 17,
   "metadata": {
    "ExecuteTime": {
     "end_time": "2016-07-08T17:27:56.099200",
     "start_time": "2016-07-08T17:27:56.028716"
    },
    "collapsed": false
   },
   "outputs": [],
   "source": [
    "import json\n",
    "import datetime as dt\n",
    "from   operator import itemgetter\n",
    "from collections import OrderedDict\n",
    "from operator import itemgetter\n",
    "\n",
    "from IPython.display import display, HTML\n",
    "from nbconvert.filters.markdown import markdown2html\n",
    "\n",
    "from eptools._utils import DefaultOrderedDict"
   ]
  },
  {
   "cell_type": "code",
   "execution_count": 18,
   "metadata": {
    "ExecuteTime": {
     "end_time": "2016-07-08T17:27:56.202400",
     "start_time": "2016-07-08T17:27:56.100763"
    },
    "collapsed": false
   },
   "outputs": [],
   "source": [
    "talk_sessions = json.load(open('accepted_talks.json'), encoding='utf-8')\n",
    "talks_admin_url = 'https://ep2016.europython.eu/admin/conference/talk'"
   ]
  },
  {
   "cell_type": "code",
   "execution_count": 19,
   "metadata": {
    "ExecuteTime": {
     "end_time": "2016-07-08T17:27:56.277307",
     "start_time": "2016-07-08T17:27:56.203935"
    },
    "collapsed": false
   },
   "outputs": [],
   "source": [
    "show = lambda s: display(HTML(s))\n",
    "\n",
    "def ordinal(n):\n",
    "    if 10 <= n % 100 < 20:\n",
    "        return str(n) + 'th'\n",
    "    else:\n",
    "        return  str(n) + {1 : 'st', 2 : 'nd', 3 : 'rd'}.get(n % 10, \"th\")\n",
    "\n",
    "\n",
    "def talk_schedule(start, end):\n",
    "    input_format  = \"%Y-%m-%d %H:%M:%S\"\n",
    "    output_format_day = \"%A, %B\"\n",
    "    output_format_time = \"%H:%M\"\n",
    "    \n",
    "    output_date = lambda d: \"{} {} at {}\".format(d.strftime(output_format_day), \n",
    "                                                 ordinal(int(d.strftime('%d'))),\n",
    "                                                 d.strftime(output_format_time))\n",
    "    start_date = dt.datetime.strptime(start, input_format)\n",
    "    end_date   = dt.datetime.strptime(end  , input_format)\n",
    "\n",
    "    return output_date(start_date), output_date(end_date)\n",
    "\n",
    "\n",
    "def show_talk(talk, show_duration=True, show_link_to_admin=True):\n",
    "    \n",
    "    speakers  = talk['speakers']\n",
    "    title     = talk['title']\n",
    "    abstract  = talk['abstract_long'][0]\n",
    "    room      = talk.get('track_title', '').split(', ')[0]\n",
    "    timerange = talk.get('timerange', '').split(';')[0]\n",
    "    \n",
    "    pdf = ''\n",
    "    pdf += '<h2>- {}</h2>\\n'.format(title)\n",
    "    \n",
    "    if show_link_to_admin:\n",
    "        pdf += talks_admin_url + '/{}'.format(talk['id'])\n",
    "        pdf += '<a href={0}>{0}</a>\\n'.format(talk_admin_url)\n",
    "    \n",
    "    if show_duration:\n",
    "        pdf += '{} mins.'.format(talk['duration'])\n",
    "    else:\n",
    "        pdf += ''\n",
    "\n",
    "    timerange = talk['timerange'].split(';')[0]\n",
    "    try:\n",
    "        start, end = talk_schedule(*timerange.split(', '))\n",
    "    except:\n",
    "        start, end = ('', '')\n",
    "\n",
    "    if start:\n",
    "        pdf += '<p>'\n",
    "        pdf += '{} in {}'.format(start, room)\n",
    "        if show_duration:\n",
    "            pdf += ' ({})'.format(duration)\n",
    "        pdf += '</p>\\n'\n",
    "\n",
    "        #show(schedule)\n",
    "    \n",
    "    pdf += '<h3><i>{}</i></h2>\\n'.format(speakers)\n",
    "    pdf += '<p>{}</p>\\n'.format(markdown2html(abstract))\n",
    "    pdf += '<br/>\\n'\n",
    "    return pdf"
   ]
  },
  {
   "cell_type": "markdown",
   "metadata": {},
   "source": [
    "## Filter talks"
   ]
  },
  {
   "cell_type": "code",
   "execution_count": 20,
   "metadata": {
    "ExecuteTime": {
     "end_time": "2016-07-08T17:27:56.365070",
     "start_time": "2016-07-08T17:27:56.312233"
    },
    "collapsed": false
   },
   "outputs": [],
   "source": [
    "sessions_talks = OrderedDict()\n",
    "\n",
    "# remove the IDs from the talks\n",
    "for name, sess in talk_sessions.items():\n",
    "    sessions_talks[name] = [talk for tid, talk in sess.items()]\n",
    "\n",
    "talks = sessions_talks['talk']"
   ]
  },
  {
   "cell_type": "markdown",
   "metadata": {},
   "source": [
    "## Create start time and session fields in each talk"
   ]
  },
  {
   "cell_type": "code",
   "execution_count": 21,
   "metadata": {
    "ExecuteTime": {
     "end_time": "2016-07-08T17:27:56.567962",
     "start_time": "2016-07-08T17:27:56.543748"
    },
    "collapsed": false
   },
   "outputs": [],
   "source": [
    "# add 'start' time for each talk\n",
    "for idx, talk in enumerate(talks):\n",
    "    tr = talk['timerange']\n",
    "    if not tr:\n",
    "        talk['start'] = dt.datetime.now()\n",
    "    else:\n",
    "        talk['start'] = dt.datetime.strptime(tr.split(',')[0].strip(), \"%Y-%m-%d %H:%M:%S\")\n",
    "    talks[idx] = talk\n",
    "\n",
    "    \n",
    "# add 'session_code' for each talk\n",
    "conference_start   = dt.date(2016, 7, 17)\n",
    "first_coffee_start = dt.time(10,  0)\n",
    "lunch_start        = dt.time(12, 45)\n",
    "secnd_coffee_start = dt.time(15, 30)\n",
    "close_start        = dt.time(18,  0)\n",
    "\n",
    "journee_start_times = [first_coffee_start,\n",
    "                       lunch_start,\n",
    "                       secnd_coffee_start,\n",
    "                       close_start]\n",
    "\n",
    "\n",
    "def get_journee_number(talk_start_time, journee_start_times):\n",
    "    for idx, start in enumerate(journee_start_times):\n",
    "        if talk_start_time < start:\n",
    "            return idx\n",
    "    return -1\n",
    "        \n",
    "tracks = ['A1',\n",
    "          'A2',\n",
    "          'Barria 1',\n",
    "          'Barria 2',\n",
    "          'PyCharm Room',\n",
    "          ]\n",
    "\n",
    "for idx, talk in enumerate(talks):\n",
    "    talk_start = talk['start'].time()\n",
    "    talk_room  = talk['track_title'].split('[')[0].strip().replace(' ', '_')\n",
    "    \n",
    "    day_num     = (talk['start'].date() - conference_start).days\n",
    "    journee_num = get_journee_number(talk['start'].time(), journee_start_times)\n",
    "    talk['session'] = str(talk_room) + '_' + str(int(day_num)) + '.' + str(journee_num)\n",
    "    talks[idx] = talk\n"
   ]
  },
  {
   "cell_type": "markdown",
   "metadata": {},
   "source": [
    "## Group talks by session code"
   ]
  },
  {
   "cell_type": "code",
   "execution_count": 22,
   "metadata": {
    "ExecuteTime": {
     "end_time": "2016-07-08T17:27:56.803081",
     "start_time": "2016-07-08T17:27:56.797058"
    },
    "collapsed": false
   },
   "outputs": [],
   "source": [
    "# sort by and group by session\n",
    "keys = ('start', 'session')\n",
    "sorted_talks = sorted(talks, key=itemgetter(*keys))\n",
    "\n",
    "talk_sessions = DefaultOrderedDict(list)\n",
    "for talk in sorted_talks:\n",
    "    talk_sessions[talk['session']].append(talk)"
   ]
  },
  {
   "cell_type": "markdown",
   "metadata": {},
   "source": [
    "## Create the HTML texts for each session"
   ]
  },
  {
   "cell_type": "code",
   "execution_count": 23,
   "metadata": {
    "ExecuteTime": {
     "end_time": "2016-07-08T17:27:57.100390",
     "start_time": "2016-07-08T17:27:57.022391"
    },
    "collapsed": false
   },
   "outputs": [],
   "source": [
    "session_texts = OrderedDict()\n",
    "\n",
    "for session, talks in talk_sessions.items():\n",
    "    text = ['<h1>' + session + '</h1>']\n",
    "   \n",
    "    for talk in talks:      \n",
    "        text += [show_talk(talk, show_duration=False, show_link_to_admin=False)]\n",
    "        \n",
    "    session_texts[session] = '\\n'.join(text)"
   ]
  },
  {
   "cell_type": "markdown",
   "metadata": {},
   "source": [
    "## Export to PDF\n",
    "\n",
    "You need to have `pandoc`, `wkhtmltopdf` and `xelatex` installed in your computer."
   ]
  },
  {
   "cell_type": "code",
   "execution_count": 25,
   "metadata": {
    "ExecuteTime": {
     "end_time": "2016-07-08T17:30:36.794056",
     "start_time": "2016-07-08T17:28:04.796551"
    },
    "collapsed": false
   },
   "outputs": [
    {
     "name": "stdout",
     "output_type": "stream",
     "text": [
      "pandoc -V geometry:paperwidth=210mm -V geometry:paperheight=297mm -V geometry:left=2cm -V geometry:top=2cm -V geometry:bottom=2cm -V geometry:right=2cm --latex-engine=xelatex session_pdfs/A1_1.1.html -o session_pdfs/A1_1.1.pdf\n",
      "pandoc -V geometry:paperwidth=210mm -V geometry:paperheight=297mm -V geometry:left=2cm -V geometry:top=2cm -V geometry:bottom=2cm -V geometry:right=2cm --latex-engine=xelatex session_pdfs/A2_1.1.html -o session_pdfs/A2_1.1.pdf\n",
      "pandoc -V geometry:paperwidth=210mm -V geometry:paperheight=297mm -V geometry:left=2cm -V geometry:top=2cm -V geometry:bottom=2cm -V geometry:right=2cm --latex-engine=xelatex session_pdfs/Barria_1_1.1.html -o session_pdfs/Barria_1_1.1.pdf\n",
      "pandoc -V geometry:paperwidth=210mm -V geometry:paperheight=297mm -V geometry:left=2cm -V geometry:top=2cm -V geometry:bottom=2cm -V geometry:right=2cm --latex-engine=xelatex session_pdfs/Barria_2_1.1.html -o session_pdfs/Barria_2_1.1.pdf\n",
      "pandoc -V geometry:paperwidth=210mm -V geometry:paperheight=297mm -V geometry:left=2cm -V geometry:top=2cm -V geometry:bottom=2cm -V geometry:right=2cm --latex-engine=xelatex session_pdfs/PyCharm_Room_1.1.html -o session_pdfs/PyCharm_Room_1.1.pdf\n",
      "pandoc -V geometry:paperwidth=210mm -V geometry:paperheight=297mm -V geometry:left=2cm -V geometry:top=2cm -V geometry:bottom=2cm -V geometry:right=2cm --latex-engine=xelatex session_pdfs/A1_1.2.html -o session_pdfs/A1_1.2.pdf\n",
      "pandoc -V geometry:paperwidth=210mm -V geometry:paperheight=297mm -V geometry:left=2cm -V geometry:top=2cm -V geometry:bottom=2cm -V geometry:right=2cm --latex-engine=xelatex session_pdfs/A2_1.2.html -o session_pdfs/A2_1.2.pdf\n",
      "pandoc -V geometry:paperwidth=210mm -V geometry:paperheight=297mm -V geometry:left=2cm -V geometry:top=2cm -V geometry:bottom=2cm -V geometry:right=2cm --latex-engine=xelatex session_pdfs/Barria_2_1.2.html -o session_pdfs/Barria_2_1.2.pdf\n",
      "pandoc -V geometry:paperwidth=210mm -V geometry:paperheight=297mm -V geometry:left=2cm -V geometry:top=2cm -V geometry:bottom=2cm -V geometry:right=2cm --latex-engine=xelatex session_pdfs/PyCharm_Room_1.2.html -o session_pdfs/PyCharm_Room_1.2.pdf\n",
      "pandoc -V geometry:paperwidth=210mm -V geometry:paperheight=297mm -V geometry:left=2cm -V geometry:top=2cm -V geometry:bottom=2cm -V geometry:right=2cm --latex-engine=xelatex session_pdfs/A1_1.3.html -o session_pdfs/A1_1.3.pdf\n",
      "pandoc -V geometry:paperwidth=210mm -V geometry:paperheight=297mm -V geometry:left=2cm -V geometry:top=2cm -V geometry:bottom=2cm -V geometry:right=2cm --latex-engine=xelatex session_pdfs/A2_1.3.html -o session_pdfs/A2_1.3.pdf\n",
      "pandoc -V geometry:paperwidth=210mm -V geometry:paperheight=297mm -V geometry:left=2cm -V geometry:top=2cm -V geometry:bottom=2cm -V geometry:right=2cm --latex-engine=xelatex session_pdfs/Barria_1_1.3.html -o session_pdfs/Barria_1_1.3.pdf\n",
      "pandoc -V geometry:paperwidth=210mm -V geometry:paperheight=297mm -V geometry:left=2cm -V geometry:top=2cm -V geometry:bottom=2cm -V geometry:right=2cm --latex-engine=xelatex session_pdfs/PyCharm_Room_1.3.html -o session_pdfs/PyCharm_Room_1.3.pdf\n",
      "pandoc -V geometry:paperwidth=210mm -V geometry:paperheight=297mm -V geometry:left=2cm -V geometry:top=2cm -V geometry:bottom=2cm -V geometry:right=2cm --latex-engine=xelatex session_pdfs/A1_2.1.html -o session_pdfs/A1_2.1.pdf\n",
      "pandoc -V geometry:paperwidth=210mm -V geometry:paperheight=297mm -V geometry:left=2cm -V geometry:top=2cm -V geometry:bottom=2cm -V geometry:right=2cm --latex-engine=xelatex session_pdfs/A2_2.1.html -o session_pdfs/A2_2.1.pdf\n",
      "pandoc -V geometry:paperwidth=210mm -V geometry:paperheight=297mm -V geometry:left=2cm -V geometry:top=2cm -V geometry:bottom=2cm -V geometry:right=2cm --latex-engine=xelatex session_pdfs/Barria_1_2.1.html -o session_pdfs/Barria_1_2.1.pdf\n",
      "pandoc -V geometry:paperwidth=210mm -V geometry:paperheight=297mm -V geometry:left=2cm -V geometry:top=2cm -V geometry:bottom=2cm -V geometry:right=2cm --latex-engine=xelatex session_pdfs/Barria_2_2.1.html -o session_pdfs/Barria_2_2.1.pdf\n",
      "pandoc -V geometry:paperwidth=210mm -V geometry:paperheight=297mm -V geometry:left=2cm -V geometry:top=2cm -V geometry:bottom=2cm -V geometry:right=2cm --latex-engine=xelatex session_pdfs/PyCharm_Room_2.1.html -o session_pdfs/PyCharm_Room_2.1.pdf\n",
      "pandoc -V geometry:paperwidth=210mm -V geometry:paperheight=297mm -V geometry:left=2cm -V geometry:top=2cm -V geometry:bottom=2cm -V geometry:right=2cm --latex-engine=xelatex session_pdfs/A1_2.2.html -o session_pdfs/A1_2.2.pdf\n",
      "pandoc -V geometry:paperwidth=210mm -V geometry:paperheight=297mm -V geometry:left=2cm -V geometry:top=2cm -V geometry:bottom=2cm -V geometry:right=2cm --latex-engine=xelatex session_pdfs/A2_2.2.html -o session_pdfs/A2_2.2.pdf\n",
      "pandoc -V geometry:paperwidth=210mm -V geometry:paperheight=297mm -V geometry:left=2cm -V geometry:top=2cm -V geometry:bottom=2cm -V geometry:right=2cm --latex-engine=xelatex session_pdfs/Barria_1_2.2.html -o session_pdfs/Barria_1_2.2.pdf\n",
      "pandoc -V geometry:paperwidth=210mm -V geometry:paperheight=297mm -V geometry:left=2cm -V geometry:top=2cm -V geometry:bottom=2cm -V geometry:right=2cm --latex-engine=xelatex session_pdfs/PyCharm_Room_2.2.html -o session_pdfs/PyCharm_Room_2.2.pdf\n",
      "pandoc -V geometry:paperwidth=210mm -V geometry:paperheight=297mm -V geometry:left=2cm -V geometry:top=2cm -V geometry:bottom=2cm -V geometry:right=2cm --latex-engine=xelatex session_pdfs/A2_2.3.html -o session_pdfs/A2_2.3.pdf\n",
      "pandoc -V geometry:paperwidth=210mm -V geometry:paperheight=297mm -V geometry:left=2cm -V geometry:top=2cm -V geometry:bottom=2cm -V geometry:right=2cm --latex-engine=xelatex session_pdfs/Barria_1_2.3.html -o session_pdfs/Barria_1_2.3.pdf\n",
      "pandoc -V geometry:paperwidth=210mm -V geometry:paperheight=297mm -V geometry:left=2cm -V geometry:top=2cm -V geometry:bottom=2cm -V geometry:right=2cm --latex-engine=xelatex session_pdfs/Barria_2_2.3.html -o session_pdfs/Barria_2_2.3.pdf\n",
      "pandoc -V geometry:paperwidth=210mm -V geometry:paperheight=297mm -V geometry:left=2cm -V geometry:top=2cm -V geometry:bottom=2cm -V geometry:right=2cm --latex-engine=xelatex session_pdfs/PyCharm_Room_2.3.html -o session_pdfs/PyCharm_Room_2.3.pdf\n",
      "pandoc -V geometry:paperwidth=210mm -V geometry:paperheight=297mm -V geometry:left=2cm -V geometry:top=2cm -V geometry:bottom=2cm -V geometry:right=2cm --latex-engine=xelatex session_pdfs/A1_3.1.html -o session_pdfs/A1_3.1.pdf\n",
      "pandoc -V geometry:paperwidth=210mm -V geometry:paperheight=297mm -V geometry:left=2cm -V geometry:top=2cm -V geometry:bottom=2cm -V geometry:right=2cm --latex-engine=xelatex session_pdfs/A2_3.1.html -o session_pdfs/A2_3.1.pdf\n",
      "pandoc -V geometry:paperwidth=210mm -V geometry:paperheight=297mm -V geometry:left=2cm -V geometry:top=2cm -V geometry:bottom=2cm -V geometry:right=2cm --latex-engine=xelatex session_pdfs/Barria_1_3.1.html -o session_pdfs/Barria_1_3.1.pdf\n",
      "pandoc -V geometry:paperwidth=210mm -V geometry:paperheight=297mm -V geometry:left=2cm -V geometry:top=2cm -V geometry:bottom=2cm -V geometry:right=2cm --latex-engine=xelatex session_pdfs/Barria_2_3.1.html -o session_pdfs/Barria_2_3.1.pdf\n",
      "pandoc -V geometry:paperwidth=210mm -V geometry:paperheight=297mm -V geometry:left=2cm -V geometry:top=2cm -V geometry:bottom=2cm -V geometry:right=2cm --latex-engine=xelatex session_pdfs/PyCharm_Room_3.1.html -o session_pdfs/PyCharm_Room_3.1.pdf\n",
      "pandoc -V geometry:paperwidth=210mm -V geometry:paperheight=297mm -V geometry:left=2cm -V geometry:top=2cm -V geometry:bottom=2cm -V geometry:right=2cm --latex-engine=xelatex session_pdfs/A1_3.2.html -o session_pdfs/A1_3.2.pdf\n",
      "pandoc -V geometry:paperwidth=210mm -V geometry:paperheight=297mm -V geometry:left=2cm -V geometry:top=2cm -V geometry:bottom=2cm -V geometry:right=2cm --latex-engine=xelatex session_pdfs/A2_3.2.html -o session_pdfs/A2_3.2.pdf\n",
      "pandoc -V geometry:paperwidth=210mm -V geometry:paperheight=297mm -V geometry:left=2cm -V geometry:top=2cm -V geometry:bottom=2cm -V geometry:right=2cm --latex-engine=xelatex session_pdfs/Barria_1_3.2.html -o session_pdfs/Barria_1_3.2.pdf\n",
      "pandoc -V geometry:paperwidth=210mm -V geometry:paperheight=297mm -V geometry:left=2cm -V geometry:top=2cm -V geometry:bottom=2cm -V geometry:right=2cm --latex-engine=xelatex session_pdfs/Barria_2_3.2.html -o session_pdfs/Barria_2_3.2.pdf\n",
      "pandoc -V geometry:paperwidth=210mm -V geometry:paperheight=297mm -V geometry:left=2cm -V geometry:top=2cm -V geometry:bottom=2cm -V geometry:right=2cm --latex-engine=xelatex session_pdfs/PyCharm_Room_3.2.html -o session_pdfs/PyCharm_Room_3.2.pdf\n",
      "pandoc -V geometry:paperwidth=210mm -V geometry:paperheight=297mm -V geometry:left=2cm -V geometry:top=2cm -V geometry:bottom=2cm -V geometry:right=2cm --latex-engine=xelatex session_pdfs/Barria_1_3.3.html -o session_pdfs/Barria_1_3.3.pdf\n",
      "pandoc -V geometry:paperwidth=210mm -V geometry:paperheight=297mm -V geometry:left=2cm -V geometry:top=2cm -V geometry:bottom=2cm -V geometry:right=2cm --latex-engine=xelatex session_pdfs/Barria_2_3.3.html -o session_pdfs/Barria_2_3.3.pdf\n",
      "pandoc -V geometry:paperwidth=210mm -V geometry:paperheight=297mm -V geometry:left=2cm -V geometry:top=2cm -V geometry:bottom=2cm -V geometry:right=2cm --latex-engine=xelatex session_pdfs/PyCharm_Room_3.3.html -o session_pdfs/PyCharm_Room_3.3.pdf\n",
      "pandoc -V geometry:paperwidth=210mm -V geometry:paperheight=297mm -V geometry:left=2cm -V geometry:top=2cm -V geometry:bottom=2cm -V geometry:right=2cm --latex-engine=xelatex session_pdfs/A1_4.1.html -o session_pdfs/A1_4.1.pdf\n",
      "pandoc -V geometry:paperwidth=210mm -V geometry:paperheight=297mm -V geometry:left=2cm -V geometry:top=2cm -V geometry:bottom=2cm -V geometry:right=2cm --latex-engine=xelatex session_pdfs/A2_4.1.html -o session_pdfs/A2_4.1.pdf\n",
      "pandoc -V geometry:paperwidth=210mm -V geometry:paperheight=297mm -V geometry:left=2cm -V geometry:top=2cm -V geometry:bottom=2cm -V geometry:right=2cm --latex-engine=xelatex session_pdfs/Barria_1_4.1.html -o session_pdfs/Barria_1_4.1.pdf\n",
      "pandoc -V geometry:paperwidth=210mm -V geometry:paperheight=297mm -V geometry:left=2cm -V geometry:top=2cm -V geometry:bottom=2cm -V geometry:right=2cm --latex-engine=xelatex session_pdfs/Barria_2_4.1.html -o session_pdfs/Barria_2_4.1.pdf\n",
      "pandoc -V geometry:paperwidth=210mm -V geometry:paperheight=297mm -V geometry:left=2cm -V geometry:top=2cm -V geometry:bottom=2cm -V geometry:right=2cm --latex-engine=xelatex session_pdfs/PyCharm_Room_4.1.html -o session_pdfs/PyCharm_Room_4.1.pdf\n",
      "pandoc -V geometry:paperwidth=210mm -V geometry:paperheight=297mm -V geometry:left=2cm -V geometry:top=2cm -V geometry:bottom=2cm -V geometry:right=2cm --latex-engine=xelatex session_pdfs/A1_4.2.html -o session_pdfs/A1_4.2.pdf\n",
      "pandoc -V geometry:paperwidth=210mm -V geometry:paperheight=297mm -V geometry:left=2cm -V geometry:top=2cm -V geometry:bottom=2cm -V geometry:right=2cm --latex-engine=xelatex session_pdfs/Barria_1_4.2.html -o session_pdfs/Barria_1_4.2.pdf\n",
      "pandoc -V geometry:paperwidth=210mm -V geometry:paperheight=297mm -V geometry:left=2cm -V geometry:top=2cm -V geometry:bottom=2cm -V geometry:right=2cm --latex-engine=xelatex session_pdfs/Barria_2_4.2.html -o session_pdfs/Barria_2_4.2.pdf\n",
      "pandoc -V geometry:paperwidth=210mm -V geometry:paperheight=297mm -V geometry:left=2cm -V geometry:top=2cm -V geometry:bottom=2cm -V geometry:right=2cm --latex-engine=xelatex session_pdfs/PyCharm_Room_4.2.html -o session_pdfs/PyCharm_Room_4.2.pdf\n",
      "pandoc -V geometry:paperwidth=210mm -V geometry:paperheight=297mm -V geometry:left=2cm -V geometry:top=2cm -V geometry:bottom=2cm -V geometry:right=2cm --latex-engine=xelatex session_pdfs/A1_4.3.html -o session_pdfs/A1_4.3.pdf\n",
      "pandoc -V geometry:paperwidth=210mm -V geometry:paperheight=297mm -V geometry:left=2cm -V geometry:top=2cm -V geometry:bottom=2cm -V geometry:right=2cm --latex-engine=xelatex session_pdfs/A2_4.3.html -o session_pdfs/A2_4.3.pdf\n",
      "pandoc -V geometry:paperwidth=210mm -V geometry:paperheight=297mm -V geometry:left=2cm -V geometry:top=2cm -V geometry:bottom=2cm -V geometry:right=2cm --latex-engine=xelatex session_pdfs/Barria_2_4.3.html -o session_pdfs/Barria_2_4.3.pdf\n",
      "pandoc -V geometry:paperwidth=210mm -V geometry:paperheight=297mm -V geometry:left=2cm -V geometry:top=2cm -V geometry:bottom=2cm -V geometry:right=2cm --latex-engine=xelatex session_pdfs/PyCharm_Room_4.3.html -o session_pdfs/PyCharm_Room_4.3.pdf\n",
      "pandoc -V geometry:paperwidth=210mm -V geometry:paperheight=297mm -V geometry:left=2cm -V geometry:top=2cm -V geometry:bottom=2cm -V geometry:right=2cm --latex-engine=xelatex session_pdfs/A1_5.1.html -o session_pdfs/A1_5.1.pdf\n",
      "pandoc -V geometry:paperwidth=210mm -V geometry:paperheight=297mm -V geometry:left=2cm -V geometry:top=2cm -V geometry:bottom=2cm -V geometry:right=2cm --latex-engine=xelatex session_pdfs/A2_5.1.html -o session_pdfs/A2_5.1.pdf\n",
      "pandoc -V geometry:paperwidth=210mm -V geometry:paperheight=297mm -V geometry:left=2cm -V geometry:top=2cm -V geometry:bottom=2cm -V geometry:right=2cm --latex-engine=xelatex session_pdfs/Barria_1_5.1.html -o session_pdfs/Barria_1_5.1.pdf\n",
      "pandoc -V geometry:paperwidth=210mm -V geometry:paperheight=297mm -V geometry:left=2cm -V geometry:top=2cm -V geometry:bottom=2cm -V geometry:right=2cm --latex-engine=xelatex session_pdfs/Barria_2_5.1.html -o session_pdfs/Barria_2_5.1.pdf\n",
      "pandoc -V geometry:paperwidth=210mm -V geometry:paperheight=297mm -V geometry:left=2cm -V geometry:top=2cm -V geometry:bottom=2cm -V geometry:right=2cm --latex-engine=xelatex session_pdfs/PyCharm_Room_5.1.html -o session_pdfs/PyCharm_Room_5.1.pdf\n",
      "pandoc -V geometry:paperwidth=210mm -V geometry:paperheight=297mm -V geometry:left=2cm -V geometry:top=2cm -V geometry:bottom=2cm -V geometry:right=2cm --latex-engine=xelatex session_pdfs/A1_5.2.html -o session_pdfs/A1_5.2.pdf\n",
      "pandoc -V geometry:paperwidth=210mm -V geometry:paperheight=297mm -V geometry:left=2cm -V geometry:top=2cm -V geometry:bottom=2cm -V geometry:right=2cm --latex-engine=xelatex session_pdfs/A2_5.2.html -o session_pdfs/A2_5.2.pdf\n",
      "pandoc -V geometry:paperwidth=210mm -V geometry:paperheight=297mm -V geometry:left=2cm -V geometry:top=2cm -V geometry:bottom=2cm -V geometry:right=2cm --latex-engine=xelatex session_pdfs/Barria_1_5.2.html -o session_pdfs/Barria_1_5.2.pdf\n",
      "pandoc -V geometry:paperwidth=210mm -V geometry:paperheight=297mm -V geometry:left=2cm -V geometry:top=2cm -V geometry:bottom=2cm -V geometry:right=2cm --latex-engine=xelatex session_pdfs/Barria_2_5.2.html -o session_pdfs/Barria_2_5.2.pdf\n",
      "pandoc -V geometry:paperwidth=210mm -V geometry:paperheight=297mm -V geometry:left=2cm -V geometry:top=2cm -V geometry:bottom=2cm -V geometry:right=2cm --latex-engine=xelatex session_pdfs/PyCharm_Room_5.2.html -o session_pdfs/PyCharm_Room_5.2.pdf\n",
      "pandoc -V geometry:paperwidth=210mm -V geometry:paperheight=297mm -V geometry:left=2cm -V geometry:top=2cm -V geometry:bottom=2cm -V geometry:right=2cm --latex-engine=xelatex session_pdfs/A2_5.3.html -o session_pdfs/A2_5.3.pdf\n",
      "pandoc -V geometry:paperwidth=210mm -V geometry:paperheight=297mm -V geometry:left=2cm -V geometry:top=2cm -V geometry:bottom=2cm -V geometry:right=2cm --latex-engine=xelatex session_pdfs/Barria_1_5.3.html -o session_pdfs/Barria_1_5.3.pdf\n",
      "pandoc -V geometry:paperwidth=210mm -V geometry:paperheight=297mm -V geometry:left=2cm -V geometry:top=2cm -V geometry:bottom=2cm -V geometry:right=2cm --latex-engine=xelatex session_pdfs/Barria_2_5.3.html -o session_pdfs/Barria_2_5.3.pdf\n",
      "pandoc -V geometry:paperwidth=210mm -V geometry:paperheight=297mm -V geometry:left=2cm -V geometry:top=2cm -V geometry:bottom=2cm -V geometry:right=2cm --latex-engine=xelatex session_pdfs/PyCharm_Room_5.3.html -o session_pdfs/PyCharm_Room_5.3.pdf\n"
     ]
    }
   ],
   "source": [
    "import os\n",
    "import os.path as op\n",
    "import subprocess\n",
    "\n",
    "os.makedirs('session_pdfs', exist_ok=True)\n",
    "\n",
    "def pandoc_html_to_pdf(html_file, out_file, options):  \n",
    "    cmd = 'pandoc {} {} -o {}'.format(options, html_file, out_file)\n",
    "    print(cmd)\n",
    "    subprocess.check_call(cmd, shell=True)\n",
    "\n",
    "\n",
    "# pandoc options DIN-A6\n",
    "# options = ' -V '.join(['-V geometry:paperwidth=6cm',\n",
    "#                        'geometry:paperheight=8cm',\n",
    "#                        'geometry:width=5.5cm',\n",
    "#                        'geometry:height=7.5cm',\n",
    "#                        'geometry:left=.25cm',\n",
    "#                        ])\n",
    "\n",
    "# pandoc options DIN-A4\n",
    "options = ' -V '.join(['-V geometry:paperwidth=210mm',\n",
    "                       'geometry:paperheight=297mm',\n",
    "                       'geometry:left=2cm',\n",
    "                       'geometry:top=2cm',\n",
    "                       'geometry:bottom=2cm',\n",
    "                       'geometry:right=2cm',\n",
    "                       ])\n",
    "options += ' --latex-engine=xelatex'\n",
    "\n",
    "for session, text in session_texts.items():  \n",
    "    html_file = op.join('session_pdfs', '{}.html'.format(session))\n",
    "    out_file  = html_file.replace('.html', '.pdf')\n",
    "\n",
    "    ops = open(html_file, mode='w')\n",
    "    ops.write(text)\n",
    "    ops.close()\n",
    "    \n",
    "    pandoc_html_to_pdf(html_file, out_file, options)\n",
    "    \n",
    "    os.remove(html_file)"
   ]
  },
  {
   "cell_type": "code",
   "execution_count": null,
   "metadata": {
    "collapsed": true
   },
   "outputs": [],
   "source": []
  }
 ],
 "metadata": {
  "kernelspec": {
   "display_name": "Python 3",
   "language": "python",
   "name": "python3"
  },
  "language_info": {
   "codemirror_mode": {
    "name": "ipython",
    "version": 3
   },
   "file_extension": ".py",
   "mimetype": "text/x-python",
   "name": "python",
   "nbconvert_exporter": "python",
   "pygments_lexer": "ipython3",
   "version": "3.5.1+"
  },
  "latex_envs": {
   "bibliofile": "biblio.bib",
   "cite_by": "apalike",
   "current_citInitial": 1,
   "eqLabelWithNumbers": true,
   "eqNumInitial": 0
  },
  "toc": {
   "toc_cell": false,
   "toc_number_sections": true,
   "toc_threshold": 6,
   "toc_window_display": false
  },
  "widgets": {
   "state": {},
   "version": "1.1.2"
  }
 },
 "nbformat": 4,
 "nbformat_minor": 0
}
