{
 "cells": [
  {
   "cell_type": "markdown",
   "metadata": {},
   "source": [
    "## Introduction\n",
    "\n",
    "This notebook was built to create a spreadsheet with the talks for comment/collaboration within the Program WG."
   ]
  },
  {
   "cell_type": "code",
   "execution_count": 1,
   "metadata": {
    "collapsed": false
   },
   "outputs": [],
   "source": [
    "import json\n",
    "import tempfile\n",
    "import pandas as pd\n",
    "from cachetools import cached\n",
    "\n",
    "from eptools.talks.fetch import fetch_talks_json\n",
    "from eptools.people.fetch import genderize"
   ]
  },
  {
   "cell_type": "code",
   "execution_count": 2,
   "metadata": {
    "collapsed": false
   },
   "outputs": [],
   "source": [
    "output_csv = 'talks_spreadsheet.csv'\n",
    "\n",
    "talks = fetch_talks_json(status='proposed', conf='ep2016')"
   ]
  },
  {
   "cell_type": "code",
   "execution_count": 3,
   "metadata": {
    "collapsed": true
   },
   "outputs": [],
   "source": [
    "def loop_talks(talks):\n",
    "    for type, session in talks.items():\n",
    "        for id, talk in session.items():\n",
    "            yield type, talk\n",
    "            \n",
    "\n",
    "def get_keys(adict, key_names):\n",
    "    return {k: adict.get(k, '') for k in key_names}\n",
    "\n",
    "\n",
    "def set_first_columns(df, first_columns):\n",
    "    \"\"\" Return a `df` with the `first_columns` as first columns and the\n",
    "    rest of columns in any order after these.\"\"\"\n",
    "    rest_cols  = tuple(set(df.columns) - set(first_columns))\n",
    "    col_names  = tuple(first_columns) + rest_cols\n",
    "    return df.reindex_axis(col_names, axis=1)\n",
    "\n",
    "\n",
    "@cached(cache={})\n",
    "def cached_gender(first_name):\n",
    "    return genderize(first_name)"
   ]
  },
  {
   "cell_type": "code",
   "execution_count": 12,
   "metadata": {
    "collapsed": false
   },
   "outputs": [],
   "source": [
    "# fields of interest\n",
    "foi = ('id', 'title', 'speakers', 'emails', 'adm_type', 'url', 'type')\n",
    "\n",
    "sheet_data = {talk['id']: get_keys(talk, foi) for _, talk in loop_talks(talks)}\n",
    "\n",
    "first_name = lambda x: x['speakers'].split(' ')[0]\n",
    "\n",
    "_ = [talk.__setitem__('gender', cached_gender(first_name(talk))['gender'])\n",
    "     for _, talk in sheet_data.items()]\n",
    "\n",
    "df = pd.DataFrame.from_records(sheet_data).T\n",
    "\n",
    "df = set_first_columns(df, foi)\n",
    "\n",
    "df = df.sort_values(['type', 'id'], axis=0)"
   ]
  },
  {
   "cell_type": "code",
   "execution_count": 13,
   "metadata": {
    "collapsed": true
   },
   "outputs": [],
   "source": [
    "df.to_csv(output_csv)"
   ]
  }
 ],
 "metadata": {
  "kernelspec": {
   "display_name": "Python 3",
   "language": "python",
   "name": "python3"
  },
  "language_info": {
   "codemirror_mode": {
    "name": "ipython",
    "version": 3
   },
   "file_extension": ".py",
   "mimetype": "text/x-python",
   "name": "python",
   "nbconvert_exporter": "python",
   "pygments_lexer": "ipython3",
   "version": "3.5.1"
  }
 },
 "nbformat": 4,
 "nbformat_minor": 0
}
